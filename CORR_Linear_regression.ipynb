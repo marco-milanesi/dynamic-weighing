{
  "nbformat": 4,
  "nbformat_minor": 0,
  "metadata": {
    "colab": {
      "name": "CORR_Linear_regression.ipynb",
      "provenance": [],
      "collapsed_sections": [],
      "include_colab_link": true
    },
    "kernelspec": {
      "name": "python3",
      "display_name": "Python 3"
    },
    "language_info": {
      "name": "python"
    }
  },
  "cells": [
    {
      "cell_type": "markdown",
      "metadata": {
        "id": "view-in-github",
        "colab_type": "text"
      },
      "source": [
        "<a href=\"https://colab.research.google.com/github/marco-milanesi/dynamic-weighing/blob/main/CORR_Linear_regression.ipynb\" target=\"_parent\"><img src=\"https://colab.research.google.com/assets/colab-badge.svg\" alt=\"Open In Colab\"/></a>"
      ]
    },
    {
      "cell_type": "markdown",
      "metadata": {
        "id": "4ke6yZxGD8E0"
      },
      "source": [
        "# Pesatura Dinamica"
      ]
    },
    {
      "cell_type": "code",
      "metadata": {
        "colab": {
          "base_uri": "https://localhost:8080/"
        },
        "id": "7141jGUO_BGy",
        "outputId": "7daf8c5f-0796-47ae-faf2-70f53befe19c"
      },
      "source": [
        "!wget https://raw.githubusercontent.com/EdoGitMira/Gruppo_H_pesatura_dinamica/main/dataset/velocit%C3%A0%20separate%20numeri%20cartelle%20e%20frequenza/dataset_interval_30_num_v1v4_f.csv"
      ],
      "execution_count": null,
      "outputs": [
        {
          "output_type": "stream",
          "name": "stdout",
          "text": [
            "--2022-02-15 19:51:04--  https://raw.githubusercontent.com/EdoGitMira/Gruppo_H_pesatura_dinamica/main/dataset/velocit%C3%A0%20separate%20numeri%20cartelle%20e%20frequenza/dataset_interval_30_num_v1v4_f.csv\n",
            "Resolving raw.githubusercontent.com (raw.githubusercontent.com)... 185.199.111.133, 185.199.108.133, 185.199.109.133, ...\n",
            "Connecting to raw.githubusercontent.com (raw.githubusercontent.com)|185.199.111.133|:443... connected.\n",
            "HTTP request sent, awaiting response... 200 OK\n",
            "Length: 616087 (602K) [text/plain]\n",
            "Saving to: ‘dataset_interval_30_num_v1v4_f.csv.1’\n",
            "\n",
            "\r          dataset_i   0%[                    ]       0  --.-KB/s               \rdataset_interval_30 100%[===================>] 601.65K  --.-KB/s    in 0.007s  \n",
            "\n",
            "2022-02-15 19:51:04 (80.6 MB/s) - ‘dataset_interval_30_num_v1v4_f.csv.1’ saved [616087/616087]\n",
            "\n"
          ]
        }
      ]
    },
    {
      "cell_type": "markdown",
      "source": [
        ""
      ],
      "metadata": {
        "id": "OtHx5zbAPTHe"
      }
    },
    {
      "cell_type": "markdown",
      "metadata": {
        "id": "yDaRDf0eLGBM"
      },
      "source": [
        "# Linear Regression"
      ]
    },
    {
      "cell_type": "markdown",
      "metadata": {
        "id": "p1kIJclLWkz1"
      },
      "source": [
        "## Import packages\n"
      ]
    },
    {
      "cell_type": "code",
      "metadata": {
        "id": "wS6cBeUZT43H"
      },
      "source": [
        "import pandas as pd\n",
        "import sklearn\n",
        "import numpy as np\n",
        "from sklearn.neighbors import KNeighborsClassifier\n",
        "import matplotlib.pyplot as plt"
      ],
      "execution_count": null,
      "outputs": []
    },
    {
      "cell_type": "markdown",
      "metadata": {
        "id": "FHsgVBbpXVe9"
      },
      "source": [
        "## Loading Data"
      ]
    },
    {
      "cell_type": "code",
      "metadata": {
        "id": "ZlORoNZEXc5g",
        "colab": {
          "base_uri": "https://localhost:8080/",
          "height": 522
        },
        "outputId": "2fac21ca-9dc6-4f94-812d-8bc9a0c57604"
      },
      "source": [
        "data = pd.read_csv('dataset_interval_30_num_v1v4_f.csv',sep=';')\n",
        "print(\"Loaded: \",len(data))\n",
        "y = data.values[:,2]\n",
        "x = data.values[:,3:]\n",
        "data"
      ],
      "execution_count": null,
      "outputs": [
        {
          "output_type": "stream",
          "name": "stdout",
          "text": [
            "Loaded:  1171\n"
          ]
        },
        {
          "output_type": "execute_result",
          "data": {
            "text/html": [
              "\n",
              "  <div id=\"df-ff06a24a-4b87-48a3-93f0-ae5da8979a22\">\n",
              "    <div class=\"colab-df-container\">\n",
              "      <div>\n",
              "<style scoped>\n",
              "    .dataframe tbody tr th:only-of-type {\n",
              "        vertical-align: middle;\n",
              "    }\n",
              "\n",
              "    .dataframe tbody tr th {\n",
              "        vertical-align: top;\n",
              "    }\n",
              "\n",
              "    .dataframe thead th {\n",
              "        text-align: right;\n",
              "    }\n",
              "</style>\n",
              "<table border=\"1\" class=\"dataframe\">\n",
              "  <thead>\n",
              "    <tr style=\"text-align: right;\">\n",
              "      <th></th>\n",
              "      <th>Unnamed: 0</th>\n",
              "      <th>0</th>\n",
              "      <th>1</th>\n",
              "      <th>2</th>\n",
              "      <th>3</th>\n",
              "      <th>4</th>\n",
              "      <th>5</th>\n",
              "      <th>6</th>\n",
              "      <th>7</th>\n",
              "      <th>8</th>\n",
              "      <th>9</th>\n",
              "      <th>10</th>\n",
              "      <th>11</th>\n",
              "      <th>12</th>\n",
              "      <th>13</th>\n",
              "      <th>14</th>\n",
              "      <th>15</th>\n",
              "      <th>16</th>\n",
              "      <th>17</th>\n",
              "      <th>18</th>\n",
              "      <th>19</th>\n",
              "      <th>20</th>\n",
              "      <th>21</th>\n",
              "      <th>22</th>\n",
              "      <th>23</th>\n",
              "      <th>24</th>\n",
              "      <th>25</th>\n",
              "      <th>26</th>\n",
              "      <th>27</th>\n",
              "      <th>28</th>\n",
              "      <th>29</th>\n",
              "      <th>30</th>\n",
              "      <th>31</th>\n",
              "      <th>32</th>\n",
              "      <th>33</th>\n",
              "    </tr>\n",
              "  </thead>\n",
              "  <tbody>\n",
              "    <tr>\n",
              "      <th>0</th>\n",
              "      <td>0</td>\n",
              "      <td>0</td>\n",
              "      <td>0.940722</td>\n",
              "      <td>80</td>\n",
              "      <td>0.934951</td>\n",
              "      <td>0.947281</td>\n",
              "      <td>0.936817</td>\n",
              "      <td>0.932422</td>\n",
              "      <td>0.954280</td>\n",
              "      <td>0.927340</td>\n",
              "      <td>0.951903</td>\n",
              "      <td>0.940075</td>\n",
              "      <td>0.927342</td>\n",
              "      <td>0.949495</td>\n",
              "      <td>0.942487</td>\n",
              "      <td>0.938125</td>\n",
              "      <td>0.937906</td>\n",
              "      <td>0.943300</td>\n",
              "      <td>0.937605</td>\n",
              "      <td>0.939984</td>\n",
              "      <td>0.949625</td>\n",
              "      <td>0.929557</td>\n",
              "      <td>0.941465</td>\n",
              "      <td>0.944454</td>\n",
              "      <td>0.932541</td>\n",
              "      <td>0.952658</td>\n",
              "      <td>0.938290</td>\n",
              "      <td>0.932600</td>\n",
              "      <td>0.940095</td>\n",
              "      <td>0.939908</td>\n",
              "      <td>0.952020</td>\n",
              "      <td>0.933572</td>\n",
              "      <td>0.938390</td>\n",
              "      <td>0.937746</td>\n",
              "      <td>64.516129</td>\n",
              "    </tr>\n",
              "    <tr>\n",
              "      <th>1</th>\n",
              "      <td>1</td>\n",
              "      <td>0</td>\n",
              "      <td>0.940724</td>\n",
              "      <td>80</td>\n",
              "      <td>0.938596</td>\n",
              "      <td>0.942626</td>\n",
              "      <td>0.943911</td>\n",
              "      <td>0.943105</td>\n",
              "      <td>0.935278</td>\n",
              "      <td>0.935451</td>\n",
              "      <td>0.945233</td>\n",
              "      <td>0.943818</td>\n",
              "      <td>0.937045</td>\n",
              "      <td>0.940146</td>\n",
              "      <td>0.942884</td>\n",
              "      <td>0.936940</td>\n",
              "      <td>0.944368</td>\n",
              "      <td>0.936872</td>\n",
              "      <td>0.937180</td>\n",
              "      <td>0.951417</td>\n",
              "      <td>0.933969</td>\n",
              "      <td>0.931622</td>\n",
              "      <td>0.949438</td>\n",
              "      <td>0.939222</td>\n",
              "      <td>0.942081</td>\n",
              "      <td>0.943459</td>\n",
              "      <td>0.923086</td>\n",
              "      <td>0.949457</td>\n",
              "      <td>0.950090</td>\n",
              "      <td>0.930559</td>\n",
              "      <td>0.940304</td>\n",
              "      <td>0.933787</td>\n",
              "      <td>0.951602</td>\n",
              "      <td>0.946262</td>\n",
              "      <td>67.204301</td>\n",
              "    </tr>\n",
              "    <tr>\n",
              "      <th>2</th>\n",
              "      <td>2</td>\n",
              "      <td>0</td>\n",
              "      <td>0.940726</td>\n",
              "      <td>80</td>\n",
              "      <td>0.940269</td>\n",
              "      <td>0.942997</td>\n",
              "      <td>0.953196</td>\n",
              "      <td>0.924297</td>\n",
              "      <td>0.939642</td>\n",
              "      <td>0.944299</td>\n",
              "      <td>0.937261</td>\n",
              "      <td>0.950583</td>\n",
              "      <td>0.932082</td>\n",
              "      <td>0.938554</td>\n",
              "      <td>0.940867</td>\n",
              "      <td>0.939336</td>\n",
              "      <td>0.951431</td>\n",
              "      <td>0.931277</td>\n",
              "      <td>0.931509</td>\n",
              "      <td>0.948825</td>\n",
              "      <td>0.938511</td>\n",
              "      <td>0.946775</td>\n",
              "      <td>0.939753</td>\n",
              "      <td>0.932211</td>\n",
              "      <td>0.936624</td>\n",
              "      <td>0.950314</td>\n",
              "      <td>0.940698</td>\n",
              "      <td>0.935162</td>\n",
              "      <td>0.946349</td>\n",
              "      <td>0.931447</td>\n",
              "      <td>0.943334</td>\n",
              "      <td>0.950664</td>\n",
              "      <td>0.928925</td>\n",
              "      <td>0.944014</td>\n",
              "      <td>64.516129</td>\n",
              "    </tr>\n",
              "    <tr>\n",
              "      <th>3</th>\n",
              "      <td>3</td>\n",
              "      <td>0</td>\n",
              "      <td>0.940727</td>\n",
              "      <td>80</td>\n",
              "      <td>0.938743</td>\n",
              "      <td>0.930717</td>\n",
              "      <td>0.954186</td>\n",
              "      <td>0.942035</td>\n",
              "      <td>0.927624</td>\n",
              "      <td>0.954751</td>\n",
              "      <td>0.930242</td>\n",
              "      <td>0.945948</td>\n",
              "      <td>0.937048</td>\n",
              "      <td>0.935810</td>\n",
              "      <td>0.957821</td>\n",
              "      <td>0.925649</td>\n",
              "      <td>0.931443</td>\n",
              "      <td>0.956546</td>\n",
              "      <td>0.935066</td>\n",
              "      <td>0.943690</td>\n",
              "      <td>0.931537</td>\n",
              "      <td>0.943100</td>\n",
              "      <td>0.946100</td>\n",
              "      <td>0.938140</td>\n",
              "      <td>0.936352</td>\n",
              "      <td>0.947721</td>\n",
              "      <td>0.935794</td>\n",
              "      <td>0.934707</td>\n",
              "      <td>0.944975</td>\n",
              "      <td>0.943624</td>\n",
              "      <td>0.943394</td>\n",
              "      <td>0.930804</td>\n",
              "      <td>0.932044</td>\n",
              "      <td>0.957321</td>\n",
              "      <td>70.126227</td>\n",
              "    </tr>\n",
              "    <tr>\n",
              "      <th>4</th>\n",
              "      <td>4</td>\n",
              "      <td>0</td>\n",
              "      <td>0.940729</td>\n",
              "      <td>80</td>\n",
              "      <td>0.943738</td>\n",
              "      <td>0.935670</td>\n",
              "      <td>0.942372</td>\n",
              "      <td>0.935055</td>\n",
              "      <td>0.943922</td>\n",
              "      <td>0.945025</td>\n",
              "      <td>0.935949</td>\n",
              "      <td>0.938375</td>\n",
              "      <td>0.940968</td>\n",
              "      <td>0.934284</td>\n",
              "      <td>0.957309</td>\n",
              "      <td>0.931287</td>\n",
              "      <td>0.935642</td>\n",
              "      <td>0.943470</td>\n",
              "      <td>0.934745</td>\n",
              "      <td>0.951892</td>\n",
              "      <td>0.938486</td>\n",
              "      <td>0.934905</td>\n",
              "      <td>0.939017</td>\n",
              "      <td>0.940318</td>\n",
              "      <td>0.949918</td>\n",
              "      <td>0.937227</td>\n",
              "      <td>0.935852</td>\n",
              "      <td>0.938706</td>\n",
              "      <td>0.932690</td>\n",
              "      <td>0.956961</td>\n",
              "      <td>0.939349</td>\n",
              "      <td>0.935572</td>\n",
              "      <td>0.936658</td>\n",
              "      <td>0.937070</td>\n",
              "      <td>64.516129</td>\n",
              "    </tr>\n",
              "    <tr>\n",
              "      <th>...</th>\n",
              "      <td>...</td>\n",
              "      <td>...</td>\n",
              "      <td>...</td>\n",
              "      <td>...</td>\n",
              "      <td>...</td>\n",
              "      <td>...</td>\n",
              "      <td>...</td>\n",
              "      <td>...</td>\n",
              "      <td>...</td>\n",
              "      <td>...</td>\n",
              "      <td>...</td>\n",
              "      <td>...</td>\n",
              "      <td>...</td>\n",
              "      <td>...</td>\n",
              "      <td>...</td>\n",
              "      <td>...</td>\n",
              "      <td>...</td>\n",
              "      <td>...</td>\n",
              "      <td>...</td>\n",
              "      <td>...</td>\n",
              "      <td>...</td>\n",
              "      <td>...</td>\n",
              "      <td>...</td>\n",
              "      <td>...</td>\n",
              "      <td>...</td>\n",
              "      <td>...</td>\n",
              "      <td>...</td>\n",
              "      <td>...</td>\n",
              "      <td>...</td>\n",
              "      <td>...</td>\n",
              "      <td>...</td>\n",
              "      <td>...</td>\n",
              "      <td>...</td>\n",
              "      <td>...</td>\n",
              "      <td>...</td>\n",
              "    </tr>\n",
              "    <tr>\n",
              "      <th>1166</th>\n",
              "      <td>1166</td>\n",
              "      <td>39</td>\n",
              "      <td>1.229075</td>\n",
              "      <td>45</td>\n",
              "      <td>1.217727</td>\n",
              "      <td>1.235705</td>\n",
              "      <td>1.226294</td>\n",
              "      <td>1.218774</td>\n",
              "      <td>1.225785</td>\n",
              "      <td>1.241371</td>\n",
              "      <td>1.229099</td>\n",
              "      <td>1.222145</td>\n",
              "      <td>1.229575</td>\n",
              "      <td>1.230317</td>\n",
              "      <td>1.230659</td>\n",
              "      <td>1.229026</td>\n",
              "      <td>1.231028</td>\n",
              "      <td>1.225655</td>\n",
              "      <td>1.225566</td>\n",
              "      <td>1.231901</td>\n",
              "      <td>1.225413</td>\n",
              "      <td>1.227375</td>\n",
              "      <td>1.231228</td>\n",
              "      <td>1.227000</td>\n",
              "      <td>1.228045</td>\n",
              "      <td>1.228111</td>\n",
              "      <td>1.227106</td>\n",
              "      <td>1.230068</td>\n",
              "      <td>1.231776</td>\n",
              "      <td>1.227336</td>\n",
              "      <td>1.227609</td>\n",
              "      <td>1.225994</td>\n",
              "      <td>1.229263</td>\n",
              "      <td>1.228275</td>\n",
              "      <td>161.290323</td>\n",
              "    </tr>\n",
              "    <tr>\n",
              "      <th>1167</th>\n",
              "      <td>1167</td>\n",
              "      <td>39</td>\n",
              "      <td>1.229070</td>\n",
              "      <td>45</td>\n",
              "      <td>1.218316</td>\n",
              "      <td>1.215099</td>\n",
              "      <td>1.229399</td>\n",
              "      <td>1.242434</td>\n",
              "      <td>1.226785</td>\n",
              "      <td>1.214957</td>\n",
              "      <td>1.228456</td>\n",
              "      <td>1.247464</td>\n",
              "      <td>1.221519</td>\n",
              "      <td>1.211177</td>\n",
              "      <td>1.229318</td>\n",
              "      <td>1.241302</td>\n",
              "      <td>1.226757</td>\n",
              "      <td>1.221543</td>\n",
              "      <td>1.230687</td>\n",
              "      <td>1.224745</td>\n",
              "      <td>1.232681</td>\n",
              "      <td>1.227166</td>\n",
              "      <td>1.228128</td>\n",
              "      <td>1.234416</td>\n",
              "      <td>1.227077</td>\n",
              "      <td>1.226244</td>\n",
              "      <td>1.229899</td>\n",
              "      <td>1.231391</td>\n",
              "      <td>1.226588</td>\n",
              "      <td>1.224919</td>\n",
              "      <td>1.229247</td>\n",
              "      <td>1.231570</td>\n",
              "      <td>1.230654</td>\n",
              "      <td>1.226415</td>\n",
              "      <td>161.290323</td>\n",
              "    </tr>\n",
              "    <tr>\n",
              "      <th>1168</th>\n",
              "      <td>1168</td>\n",
              "      <td>39</td>\n",
              "      <td>1.229066</td>\n",
              "      <td>45</td>\n",
              "      <td>1.229784</td>\n",
              "      <td>1.238363</td>\n",
              "      <td>1.219251</td>\n",
              "      <td>1.220227</td>\n",
              "      <td>1.237564</td>\n",
              "      <td>1.231634</td>\n",
              "      <td>1.216369</td>\n",
              "      <td>1.225508</td>\n",
              "      <td>1.226653</td>\n",
              "      <td>1.234252</td>\n",
              "      <td>1.219950</td>\n",
              "      <td>1.231496</td>\n",
              "      <td>1.232726</td>\n",
              "      <td>1.223196</td>\n",
              "      <td>1.228346</td>\n",
              "      <td>1.230721</td>\n",
              "      <td>1.228440</td>\n",
              "      <td>1.227460</td>\n",
              "      <td>1.231507</td>\n",
              "      <td>1.226421</td>\n",
              "      <td>1.227097</td>\n",
              "      <td>1.232536</td>\n",
              "      <td>1.226271</td>\n",
              "      <td>1.230036</td>\n",
              "      <td>1.225462</td>\n",
              "      <td>1.229923</td>\n",
              "      <td>1.228635</td>\n",
              "      <td>1.225653</td>\n",
              "      <td>1.231556</td>\n",
              "      <td>1.228514</td>\n",
              "      <td>124.069479</td>\n",
              "    </tr>\n",
              "    <tr>\n",
              "      <th>1169</th>\n",
              "      <td>1169</td>\n",
              "      <td>39</td>\n",
              "      <td>1.229061</td>\n",
              "      <td>45</td>\n",
              "      <td>1.222123</td>\n",
              "      <td>1.219087</td>\n",
              "      <td>1.232538</td>\n",
              "      <td>1.236437</td>\n",
              "      <td>1.221407</td>\n",
              "      <td>1.226296</td>\n",
              "      <td>1.227515</td>\n",
              "      <td>1.224354</td>\n",
              "      <td>1.234428</td>\n",
              "      <td>1.227694</td>\n",
              "      <td>1.226861</td>\n",
              "      <td>1.233709</td>\n",
              "      <td>1.224843</td>\n",
              "      <td>1.224282</td>\n",
              "      <td>1.225720</td>\n",
              "      <td>1.229173</td>\n",
              "      <td>1.231316</td>\n",
              "      <td>1.227182</td>\n",
              "      <td>1.227463</td>\n",
              "      <td>1.227934</td>\n",
              "      <td>1.228823</td>\n",
              "      <td>1.226408</td>\n",
              "      <td>1.229304</td>\n",
              "      <td>1.227939</td>\n",
              "      <td>1.228957</td>\n",
              "      <td>1.229100</td>\n",
              "      <td>1.227032</td>\n",
              "      <td>1.227019</td>\n",
              "      <td>1.228386</td>\n",
              "      <td>1.227531</td>\n",
              "      <td>134.408602</td>\n",
              "    </tr>\n",
              "    <tr>\n",
              "      <th>1170</th>\n",
              "      <td>1170</td>\n",
              "      <td>39</td>\n",
              "      <td>1.229057</td>\n",
              "      <td>45</td>\n",
              "      <td>1.218964</td>\n",
              "      <td>1.236527</td>\n",
              "      <td>1.223599</td>\n",
              "      <td>1.230481</td>\n",
              "      <td>1.223369</td>\n",
              "      <td>1.228434</td>\n",
              "      <td>1.225476</td>\n",
              "      <td>1.246513</td>\n",
              "      <td>1.225897</td>\n",
              "      <td>1.223580</td>\n",
              "      <td>1.229916</td>\n",
              "      <td>1.232526</td>\n",
              "      <td>1.223788</td>\n",
              "      <td>1.223438</td>\n",
              "      <td>1.236663</td>\n",
              "      <td>1.225392</td>\n",
              "      <td>1.220870</td>\n",
              "      <td>1.232046</td>\n",
              "      <td>1.229944</td>\n",
              "      <td>1.219793</td>\n",
              "      <td>1.233958</td>\n",
              "      <td>1.236553</td>\n",
              "      <td>1.221981</td>\n",
              "      <td>1.225670</td>\n",
              "      <td>1.235777</td>\n",
              "      <td>1.227780</td>\n",
              "      <td>1.227053</td>\n",
              "      <td>1.230475</td>\n",
              "      <td>1.225211</td>\n",
              "      <td>1.225945</td>\n",
              "      <td>134.408602</td>\n",
              "    </tr>\n",
              "  </tbody>\n",
              "</table>\n",
              "<p>1171 rows × 35 columns</p>\n",
              "</div>\n",
              "      <button class=\"colab-df-convert\" onclick=\"convertToInteractive('df-ff06a24a-4b87-48a3-93f0-ae5da8979a22')\"\n",
              "              title=\"Convert this dataframe to an interactive table.\"\n",
              "              style=\"display:none;\">\n",
              "        \n",
              "  <svg xmlns=\"http://www.w3.org/2000/svg\" height=\"24px\"viewBox=\"0 0 24 24\"\n",
              "       width=\"24px\">\n",
              "    <path d=\"M0 0h24v24H0V0z\" fill=\"none\"/>\n",
              "    <path d=\"M18.56 5.44l.94 2.06.94-2.06 2.06-.94-2.06-.94-.94-2.06-.94 2.06-2.06.94zm-11 1L8.5 8.5l.94-2.06 2.06-.94-2.06-.94L8.5 2.5l-.94 2.06-2.06.94zm10 10l.94 2.06.94-2.06 2.06-.94-2.06-.94-.94-2.06-.94 2.06-2.06.94z\"/><path d=\"M17.41 7.96l-1.37-1.37c-.4-.4-.92-.59-1.43-.59-.52 0-1.04.2-1.43.59L10.3 9.45l-7.72 7.72c-.78.78-.78 2.05 0 2.83L4 21.41c.39.39.9.59 1.41.59.51 0 1.02-.2 1.41-.59l7.78-7.78 2.81-2.81c.8-.78.8-2.07 0-2.86zM5.41 20L4 18.59l7.72-7.72 1.47 1.35L5.41 20z\"/>\n",
              "  </svg>\n",
              "      </button>\n",
              "      \n",
              "  <style>\n",
              "    .colab-df-container {\n",
              "      display:flex;\n",
              "      flex-wrap:wrap;\n",
              "      gap: 12px;\n",
              "    }\n",
              "\n",
              "    .colab-df-convert {\n",
              "      background-color: #E8F0FE;\n",
              "      border: none;\n",
              "      border-radius: 50%;\n",
              "      cursor: pointer;\n",
              "      display: none;\n",
              "      fill: #1967D2;\n",
              "      height: 32px;\n",
              "      padding: 0 0 0 0;\n",
              "      width: 32px;\n",
              "    }\n",
              "\n",
              "    .colab-df-convert:hover {\n",
              "      background-color: #E2EBFA;\n",
              "      box-shadow: 0px 1px 2px rgba(60, 64, 67, 0.3), 0px 1px 3px 1px rgba(60, 64, 67, 0.15);\n",
              "      fill: #174EA6;\n",
              "    }\n",
              "\n",
              "    [theme=dark] .colab-df-convert {\n",
              "      background-color: #3B4455;\n",
              "      fill: #D2E3FC;\n",
              "    }\n",
              "\n",
              "    [theme=dark] .colab-df-convert:hover {\n",
              "      background-color: #434B5C;\n",
              "      box-shadow: 0px 1px 3px 1px rgba(0, 0, 0, 0.15);\n",
              "      filter: drop-shadow(0px 1px 2px rgba(0, 0, 0, 0.3));\n",
              "      fill: #FFFFFF;\n",
              "    }\n",
              "  </style>\n",
              "\n",
              "      <script>\n",
              "        const buttonEl =\n",
              "          document.querySelector('#df-ff06a24a-4b87-48a3-93f0-ae5da8979a22 button.colab-df-convert');\n",
              "        buttonEl.style.display =\n",
              "          google.colab.kernel.accessAllowed ? 'block' : 'none';\n",
              "\n",
              "        async function convertToInteractive(key) {\n",
              "          const element = document.querySelector('#df-ff06a24a-4b87-48a3-93f0-ae5da8979a22');\n",
              "          const dataTable =\n",
              "            await google.colab.kernel.invokeFunction('convertToInteractive',\n",
              "                                                     [key], {});\n",
              "          if (!dataTable) return;\n",
              "\n",
              "          const docLinkHtml = 'Like what you see? Visit the ' +\n",
              "            '<a target=\"_blank\" href=https://colab.research.google.com/notebooks/data_table.ipynb>data table notebook</a>'\n",
              "            + ' to learn more about interactive tables.';\n",
              "          element.innerHTML = '';\n",
              "          dataTable['output_type'] = 'display_data';\n",
              "          await google.colab.output.renderOutput(dataTable, element);\n",
              "          const docLink = document.createElement('div');\n",
              "          docLink.innerHTML = docLinkHtml;\n",
              "          element.appendChild(docLink);\n",
              "        }\n",
              "      </script>\n",
              "    </div>\n",
              "  </div>\n",
              "  "
            ],
            "text/plain": [
              "      Unnamed: 0   0         1   2  ...        30        31        32          33\n",
              "0              0   0  0.940722  80  ...  0.933572  0.938390  0.937746   64.516129\n",
              "1              1   0  0.940724  80  ...  0.933787  0.951602  0.946262   67.204301\n",
              "2              2   0  0.940726  80  ...  0.950664  0.928925  0.944014   64.516129\n",
              "3              3   0  0.940727  80  ...  0.930804  0.932044  0.957321   70.126227\n",
              "4              4   0  0.940729  80  ...  0.935572  0.936658  0.937070   64.516129\n",
              "...          ...  ..       ...  ..  ...       ...       ...       ...         ...\n",
              "1166        1166  39  1.229075  45  ...  1.225994  1.229263  1.228275  161.290323\n",
              "1167        1167  39  1.229070  45  ...  1.231570  1.230654  1.226415  161.290323\n",
              "1168        1168  39  1.229066  45  ...  1.225653  1.231556  1.228514  124.069479\n",
              "1169        1169  39  1.229061  45  ...  1.227019  1.228386  1.227531  134.408602\n",
              "1170        1170  39  1.229057  45  ...  1.230475  1.225211  1.225945  134.408602\n",
              "\n",
              "[1171 rows x 35 columns]"
            ]
          },
          "metadata": {},
          "execution_count": 34
        }
      ]
    },
    {
      "cell_type": "markdown",
      "metadata": {
        "id": "_482C50pLJHL"
      },
      "source": [
        "# PCA"
      ]
    },
    {
      "cell_type": "code",
      "metadata": {
        "colab": {
          "base_uri": "https://localhost:8080/",
          "height": 661
        },
        "id": "QxgORpC-LIsj",
        "outputId": "78558307-fa7e-4222-cc6c-4de8c76f6f30"
      },
      "source": [
        "from sklearn.decomposition import PCA\n",
        "from sklearn.discriminant_analysis import LinearDiscriminantAnalysis\n",
        "\n",
        "n_components = x.shape[1]\n",
        "\n",
        "pca = PCA(n_components=n_components, random_state=453)\n",
        "x_r = pca.fit(x).transform(x)\n",
        "\n",
        "total_variance = sum(pca.explained_variance_)\n",
        "print(\"Total Variance in our dataset is: \",total_variance)\n",
        "var_95 = total_variance*0.95\n",
        "print(\"The 95% variance we want to have is: \", var_95)\n",
        "print(\"\")\n",
        "\n",
        "a = zip(range(0,n_components),pca.explained_variance_)\n",
        "a = pd.DataFrame(a,columns=[\"PCA Comp\", \"Explained Variance\"])\n",
        "\n",
        "# Trying to hit 95 %\n",
        "print(\"Variance explain with 2 components: \", sum(a[\"Explained Variance\"][0:2]))\n",
        "print(\"Variance explain with 5 components: \", sum(a[\"Explained Variance\"][0:5]))\n",
        "print(\"Variance explain with 10 components: \", sum(a[\"Explained Variance\"][0:10]))\n",
        "print(\"Variance explain with 12 components: \", sum(a[\"Explained Variance\"][0:12]))\n",
        "print(\"Variance explain with 18 components: \", sum(a[\"Explained Variance\"][0:18]))\n",
        "print(\"Variance explain with 20 components: \", sum(a[\"Explained Variance\"][0:20]))\n",
        "\n",
        "\n",
        "\n",
        "# Plotting the data\n",
        "plt.figure(1, figsize=(14,8))\n",
        "plt.plot(pca.explained_variance_ratio_,linewidth=2, c='r')\n",
        "plt.xlabel('n_components')\n",
        "plt.ylabel('explained_ratio_')\n",
        "\n",
        "# Plotting line with 95 %\n",
        "plt.axvline(3,linestyle=':', label='n_components - 95% variance',c = 'blue')\n",
        "plt.legend(prop=dict(size=12))\n",
        "plt.show()            \n",
        "            \n",
        "            "
      ],
      "execution_count": null,
      "outputs": [
        {
          "output_type": "stream",
          "name": "stdout",
          "text": [
            "Total Variance in our dataset is:  2928.602523133187\n",
            "The 95% variance we want to have is:  2782.1723969765276\n",
            "\n",
            "Variance explain with 2 components:  2928.354499058427\n",
            "Variance explain with 5 components:  2928.595865117849\n",
            "Variance explain with 10 components:  2928.5987990205927\n",
            "Variance explain with 12 components:  2928.5995360356865\n",
            "Variance explain with 18 components:  2928.601154343627\n",
            "Variance explain with 20 components:  2928.6015189988616\n"
          ]
        },
        {
          "output_type": "display_data",
          "data": {
            "image/png": "[encoded data removed]",
            "text/plain": [
              "<Figure size 1008x576 with 1 Axes>"
            ]
          },
          "metadata": {
            "needs_background": "light"
          }
        }
      ]
    },
    {
      "cell_type": "markdown",
      "source": [
        "## Running PCA again"
      ],
      "metadata": {
        "id": "J28WchoR7J2S"
      }
    },
    {
      "cell_type": "code",
      "metadata": {
        "id": "33op7MxsUbje"
      },
      "source": [
        "pca_new = PCA(n_components=5, random_state=453)\n",
        "x_r = pca_new.fit(x).transform(x)\n"
      ],
      "execution_count": null,
      "outputs": []
    },
    {
      "cell_type": "markdown",
      "source": [
        "## Scree plot"
      ],
      "metadata": {
        "id": "Fef1pytWq-px"
      }
    },
    {
      "cell_type": "code",
      "source": [
        "explained_variance = pca_new.explained_variance_ratio_\n",
        "\n",
        "import numpy as np\n",
        "import plotly.express as px\n",
        "\n",
        "explained_variance = np.insert(explained_variance, 0, 0)\n",
        "cumulative_variance = np.cumsum(np.round(explained_variance, decimals=3))\n",
        "pc_df = pd.DataFrame(['','PC1', 'PC2', 'PC3','PC4', 'PC5'], columns=['PC'])\n",
        "explained_variance_df = pd.DataFrame(explained_variance, columns=['Explained Variance'])\n",
        "cumulative_variance_df = pd.DataFrame(cumulative_variance, columns=['Cumulative Variance'])\n",
        "\n",
        "df_explained_variance = pd.concat([pc_df, explained_variance_df, cumulative_variance_df], axis=1)\n",
        "df_explained_variance"
      ],
      "metadata": {
        "id": "doeCEUvQrRr0",
        "outputId": "f5d9ca3b-5498-4ddb-c26c-ecfa02c16731",
        "colab": {
          "base_uri": "https://localhost:8080/",
          "height": 238
        }
      },
      "execution_count": null,
      "outputs": [
        {
          "output_type": "execute_result",
          "data": {
            "text/html": [
              "\n",
              "  <div id=\"df-06075ef0-2b84-4ee3-a6eb-63e70a599beb\">\n",
              "    <div class=\"colab-df-container\">\n",
              "      <div>\n",
              "<style scoped>\n",
              "    .dataframe tbody tr th:only-of-type {\n",
              "        vertical-align: middle;\n",
              "    }\n",
              "\n",
              "    .dataframe tbody tr th {\n",
              "        vertical-align: top;\n",
              "    }\n",
              "\n",
              "    .dataframe thead th {\n",
              "        text-align: right;\n",
              "    }\n",
              "</style>\n",
              "<table border=\"1\" class=\"dataframe\">\n",
              "  <thead>\n",
              "    <tr style=\"text-align: right;\">\n",
              "      <th></th>\n",
              "      <th>PC</th>\n",
              "      <th>Explained Variance</th>\n",
              "      <th>Cumulative Variance</th>\n",
              "    </tr>\n",
              "  </thead>\n",
              "  <tbody>\n",
              "    <tr>\n",
              "      <th>0</th>\n",
              "      <td></td>\n",
              "      <td>0.000000e+00</td>\n",
              "      <td>0.000</td>\n",
              "    </tr>\n",
              "    <tr>\n",
              "      <th>1</th>\n",
              "      <td>PC1</td>\n",
              "      <td>9.026569e-01</td>\n",
              "      <td>0.903</td>\n",
              "    </tr>\n",
              "    <tr>\n",
              "      <th>2</th>\n",
              "      <td>PC2</td>\n",
              "      <td>9.725844e-02</td>\n",
              "      <td>1.000</td>\n",
              "    </tr>\n",
              "    <tr>\n",
              "      <th>3</th>\n",
              "      <td>PC3</td>\n",
              "      <td>8.165833e-05</td>\n",
              "      <td>1.000</td>\n",
              "    </tr>\n",
              "    <tr>\n",
              "      <th>4</th>\n",
              "      <td>PC4</td>\n",
              "      <td>4.156820e-07</td>\n",
              "      <td>1.000</td>\n",
              "    </tr>\n",
              "    <tr>\n",
              "      <th>5</th>\n",
              "      <td>PC5</td>\n",
              "      <td>3.427803e-07</td>\n",
              "      <td>1.000</td>\n",
              "    </tr>\n",
              "  </tbody>\n",
              "</table>\n",
              "</div>\n",
              "      <button class=\"colab-df-convert\" onclick=\"convertToInteractive('df-06075ef0-2b84-4ee3-a6eb-63e70a599beb')\"\n",
              "              title=\"Convert this dataframe to an interactive table.\"\n",
              "              style=\"display:none;\">\n",
              "        \n",
              "  <svg xmlns=\"http://www.w3.org/2000/svg\" height=\"24px\"viewBox=\"0 0 24 24\"\n",
              "       width=\"24px\">\n",
              "    <path d=\"M0 0h24v24H0V0z\" fill=\"none\"/>\n",
              "    <path d=\"M18.56 5.44l.94 2.06.94-2.06 2.06-.94-2.06-.94-.94-2.06-.94 2.06-2.06.94zm-11 1L8.5 8.5l.94-2.06 2.06-.94-2.06-.94L8.5 2.5l-.94 2.06-2.06.94zm10 10l.94 2.06.94-2.06 2.06-.94-2.06-.94-.94-2.06-.94 2.06-2.06.94z\"/><path d=\"M17.41 7.96l-1.37-1.37c-.4-.4-.92-.59-1.43-.59-.52 0-1.04.2-1.43.59L10.3 9.45l-7.72 7.72c-.78.78-.78 2.05 0 2.83L4 21.41c.39.39.9.59 1.41.59.51 0 1.02-.2 1.41-.59l7.78-7.78 2.81-2.81c.8-.78.8-2.07 0-2.86zM5.41 20L4 18.59l7.72-7.72 1.47 1.35L5.41 20z\"/>\n",
              "  </svg>\n",
              "      </button>\n",
              "      \n",
              "  <style>\n",
              "    .colab-df-container {\n",
              "      display:flex;\n",
              "      flex-wrap:wrap;\n",
              "      gap: 12px;\n",
              "    }\n",
              "\n",
              "    .colab-df-convert {\n",
              "      background-color: #E8F0FE;\n",
              "      border: none;\n",
              "      border-radius: 50%;\n",
              "      cursor: pointer;\n",
              "      display: none;\n",
              "      fill: #1967D2;\n",
              "      height: 32px;\n",
              "      padding: 0 0 0 0;\n",
              "      width: 32px;\n",
              "    }\n",
              "\n",
              "    .colab-df-convert:hover {\n",
              "      background-color: #E2EBFA;\n",
              "      box-shadow: 0px 1px 2px rgba(60, 64, 67, 0.3), 0px 1px 3px 1px rgba(60, 64, 67, 0.15);\n",
              "      fill: #174EA6;\n",
              "    }\n",
              "\n",
              "    [theme=dark] .colab-df-convert {\n",
              "      background-color: #3B4455;\n",
              "      fill: #D2E3FC;\n",
              "    }\n",
              "\n",
              "    [theme=dark] .colab-df-convert:hover {\n",
              "      background-color: #434B5C;\n",
              "      box-shadow: 0px 1px 3px 1px rgba(0, 0, 0, 0.15);\n",
              "      filter: drop-shadow(0px 1px 2px rgba(0, 0, 0, 0.3));\n",
              "      fill: #FFFFFF;\n",
              "    }\n",
              "  </style>\n",
              "\n",
              "      <script>\n",
              "        const buttonEl =\n",
              "          document.querySelector('#df-06075ef0-2b84-4ee3-a6eb-63e70a599beb button.colab-df-convert');\n",
              "        buttonEl.style.display =\n",
              "          google.colab.kernel.accessAllowed ? 'block' : 'none';\n",
              "\n",
              "        async function convertToInteractive(key) {\n",
              "          const element = document.querySelector('#df-06075ef0-2b84-4ee3-a6eb-63e70a599beb');\n",
              "          const dataTable =\n",
              "            await google.colab.kernel.invokeFunction('convertToInteractive',\n",
              "                                                     [key], {});\n",
              "          if (!dataTable) return;\n",
              "\n",
              "          const docLinkHtml = 'Like what you see? Visit the ' +\n",
              "            '<a target=\"_blank\" href=https://colab.research.google.com/notebooks/data_table.ipynb>data table notebook</a>'\n",
              "            + ' to learn more about interactive tables.';\n",
              "          element.innerHTML = '';\n",
              "          dataTable['output_type'] = 'display_data';\n",
              "          await google.colab.output.renderOutput(dataTable, element);\n",
              "          const docLink = document.createElement('div');\n",
              "          docLink.innerHTML = docLinkHtml;\n",
              "          element.appendChild(docLink);\n",
              "        }\n",
              "      </script>\n",
              "    </div>\n",
              "  </div>\n",
              "  "
            ],
            "text/plain": [
              "    PC  Explained Variance  Cumulative Variance\n",
              "0             0.000000e+00                0.000\n",
              "1  PC1        9.026569e-01                0.903\n",
              "2  PC2        9.725844e-02                1.000\n",
              "3  PC3        8.165833e-05                1.000\n",
              "4  PC4        4.156820e-07                1.000\n",
              "5  PC5        3.427803e-07                1.000"
            ]
          },
          "metadata": {},
          "execution_count": 37
        }
      ]
    },
    {
      "cell_type": "code",
      "source": [
        "import plotly.graph_objects as go\n",
        "\n",
        "fig = go.Figure()\n",
        "\n",
        "fig.add_trace(\n",
        "    go.Scatter(\n",
        "        x=df_explained_variance['PC'],\n",
        "        y=df_explained_variance['Cumulative Variance'],\n",
        "        marker=dict(size=15, color=\"LightSeaGreen\")\n",
        "    ))\n",
        "\n",
        "fig.add_trace(\n",
        "    go.Bar(\n",
        "        x=df_explained_variance['PC'],\n",
        "        y=df_explained_variance['Explained Variance'],\n",
        "        marker=dict(color=\"RoyalBlue\")\n",
        "    ))\n",
        "\n",
        "fig.show()"
      ],
      "metadata": {
        "id": "PvqQotu3r33i",
        "outputId": "279653ac-4a34-49ae-c86f-8f1eb28eb99b",
        "colab": {
          "base_uri": "https://localhost:8080/",
          "height": 542
        }
      },
      "execution_count": null,
      "outputs": [
        {
          "output_type": "display_data",
          "data": {
            "text/html": [
              "<html>\n",
              "<head><meta charset=\"utf-8\" /></head>\n",
              "<body>\n",
              "    <div>            <script src=\"https://cdnjs.cloudflare.com/ajax/libs/mathjax/2.7.5/MathJax.js?config=TeX-AMS-MML_SVG\"></script><script type=\"text/javascript\">if (window.MathJax) {MathJax.Hub.Config({SVG: {font: \"STIX-Web\"}});}</script>                <script type=\"text/javascript\">window.PlotlyConfig = {MathJaxConfig: 'local'};</script>\n",
              "        <script src=\"https://cdn.plot.ly/plotly-2.8.3.min.js\"></script>                <div id=\"b7aa9e0b-4998-4ec8-b709-80cc9ea98abf\" class=\"plotly-graph-div\" style=\"height:525px; width:100%;\"></div>            <script type=\"text/javascript\">                                    window.PLOTLYENV=window.PLOTLYENV || {};                                    if (document.getElementById(\"b7aa9e0b-4998-4ec8-b709-80cc9ea98abf\")) {                    Plotly.newPlot(                        \"b7aa9e0b-4998-4ec8-b709-80cc9ea98abf\",                        [{\"marker\":{\"color\":\"LightSeaGreen\",\"size\":15},\"x\":[\"\",\"PC1\",\"PC2\",\"PC3\",\"PC4\",\"PC5\"],\"y\":[0.0,0.903,1.0,1.0,1.0,1.0],\"type\":\"scatter\"},{\"marker\":{\"color\":\"RoyalBlue\"},\"x\":[\"\",\"PC1\",\"PC2\",\"PC3\",\"PC4\",\"PC5\"],\"y\":[0.0,0.9026568699384576,0.0972584398132747,8.165833435365781e-05,4.1568201068955725e-07,3.4278029316300636e-07],\"type\":\"bar\"}],                        {\"template\":{\"data\":{\"bar\":[{\"error_x\":{\"color\":\"#2a3f5f\"},\"error_y\":{\"color\":\"#2a3f5f\"},\"marker\":{\"line\":{\"color\":\"#E5ECF6\",\"width\":0.5},\"pattern\":{\"fillmode\":\"overlay\",\"size\":10,\"solidity\":0.2}},\"type\":\"bar\"}],\"barpolar\":[{\"marker\":{\"line\":{\"color\":\"#E5ECF6\",\"width\":0.5},\"pattern\":{\"fillmode\":\"overlay\",\"size\":10,\"solidity\":0.2}},\"type\":\"barpolar\"}],\"carpet\":[{\"aaxis\":{\"endlinecolor\":\"#2a3f5f\",\"gridcolor\":\"white\",\"linecolor\":\"white\",\"minorgridcolor\":\"white\",\"startlinecolor\":\"#2a3f5f\"},\"baxis\":{\"endlinecolor\":\"#2a3f5f\",\"gridcolor\":\"white\",\"linecolor\":\"white\",\"minorgridcolor\":\"white\",\"startlinecolor\":\"#2a3f5f\"},\"type\":\"carpet\"}],\"choropleth\":[{\"colorbar\":{\"outlinewidth\":0,\"ticks\":\"\"},\"type\":\"choropleth\"}],\"contour\":[{\"colorbar\":{\"outlinewidth\":0,\"ticks\":\"\"},\"colorscale\":[[0.0,\"#0d0887\"],[0.1111111111111111,\"#46039f\"],[0.2222222222222222,\"#7201a8\"],[0.3333333333333333,\"#9c179e\"],[0.4444444444444444,\"#bd3786\"],[0.5555555555555556,\"#d8576b\"],[0.6666666666666666,\"#ed7953\"],[0.7777777777777778,\"#fb9f3a\"],[0.8888888888888888,\"#fdca26\"],[1.0,\"#f0f921\"]],\"type\":\"contour\"}],\"contourcarpet\":[{\"colorbar\":{\"outlinewidth\":0,\"ticks\":\"\"},\"type\":\"contourcarpet\"}],\"heatmap\":[{\"colorbar\":{\"outlinewidth\":0,\"ticks\":\"\"},\"colorscale\":[[0.0,\"#0d0887\"],[0.1111111111111111,\"#46039f\"],[0.2222222222222222,\"#7201a8\"],[0.3333333333333333,\"#9c179e\"],[0.4444444444444444,\"#bd3786\"],[0.5555555555555556,\"#d8576b\"],[0.6666666666666666,\"#ed7953\"],[0.7777777777777778,\"#fb9f3a\"],[0.8888888888888888,\"#fdca26\"],[1.0,\"#f0f921\"]],\"type\":\"heatmap\"}],\"heatmapgl\":[{\"colorbar\":{\"outlinewidth\":0,\"ticks\":\"\"},\"colorscale\":[[0.0,\"#0d0887\"],[0.1111111111111111,\"#46039f\"],[0.2222222222222222,\"#7201a8\"],[0.3333333333333333,\"#9c179e\"],[0.4444444444444444,\"#bd3786\"],[0.5555555555555556,\"#d8576b\"],[0.6666666666666666,\"#ed7953\"],[0.7777777777777778,\"#fb9f3a\"],[0.8888888888888888,\"#fdca26\"],[1.0,\"#f0f921\"]],\"type\":\"heatmapgl\"}],\"histogram\":[{\"marker\":{\"pattern\":{\"fillmode\":\"overlay\",\"size\":10,\"solidity\":0.2}},\"type\":\"histogram\"}],\"histogram2d\":[{\"colorbar\":{\"outlinewidth\":0,\"ticks\":\"\"},\"colorscale\":[[0.0,\"#0d0887\"],[0.1111111111111111,\"#46039f\"],[0.2222222222222222,\"#7201a8\"],[0.3333333333333333,\"#9c179e\"],[0.4444444444444444,\"#bd3786\"],[0.5555555555555556,\"#d8576b\"],[0.6666666666666666,\"#ed7953\"],[0.7777777777777778,\"#fb9f3a\"],[0.8888888888888888,\"#fdca26\"],[1.0,\"#f0f921\"]],\"type\":\"histogram2d\"}],\"histogram2dcontour\":[{\"colorbar\":{\"outlinewidth\":0,\"ticks\":\"\"},\"colorscale\":[[0.0,\"#0d0887\"],[0.1111111111111111,\"#46039f\"],[0.2222222222222222,\"#7201a8\"],[0.3333333333333333,\"#9c179e\"],[0.4444444444444444,\"#bd3786\"],[0.5555555555555556,\"#d8576b\"],[0.6666666666666666,\"#ed7953\"],[0.7777777777777778,\"#fb9f3a\"],[0.8888888888888888,\"#fdca26\"],[1.0,\"#f0f921\"]],\"type\":\"histogram2dcontour\"}],\"mesh3d\":[{\"colorbar\":{\"outlinewidth\":0,\"ticks\":\"\"},\"type\":\"mesh3d\"}],\"parcoords\":[{\"line\":{\"colorbar\":{\"outlinewidth\":0,\"ticks\":\"\"}},\"type\":\"parcoords\"}],\"pie\":[{\"automargin\":true,\"type\":\"pie\"}],\"scatter\":[{\"marker\":{\"colorbar\":{\"outlinewidth\":0,\"ticks\":\"\"}},\"type\":\"scatter\"}],\"scatter3d\":[{\"line\":{\"colorbar\":{\"outlinewidth\":0,\"ticks\":\"\"}},\"marker\":{\"colorbar\":{\"outlinewidth\":0,\"ticks\":\"\"}},\"type\":\"scatter3d\"}],\"scattercarpet\":[{\"marker\":{\"colorbar\":{\"outlinewidth\":0,\"ticks\":\"\"}},\"type\":\"scattercarpet\"}],\"scattergeo\":[{\"marker\":{\"colorbar\":{\"outlinewidth\":0,\"ticks\":\"\"}},\"type\":\"scattergeo\"}],\"scattergl\":[{\"marker\":{\"colorbar\":{\"outlinewidth\":0,\"ticks\":\"\"}},\"type\":\"scattergl\"}],\"scattermapbox\":[{\"marker\":{\"colorbar\":{\"outlinewidth\":0,\"ticks\":\"\"}},\"type\":\"scattermapbox\"}],\"scatterpolar\":[{\"marker\":{\"colorbar\":{\"outlinewidth\":0,\"ticks\":\"\"}},\"type\":\"scatterpolar\"}],\"scatterpolargl\":[{\"marker\":{\"colorbar\":{\"outlinewidth\":0,\"ticks\":\"\"}},\"type\":\"scatterpolargl\"}],\"scatterternary\":[{\"marker\":{\"colorbar\":{\"outlinewidth\":0,\"ticks\":\"\"}},\"type\":\"scatterternary\"}],\"surface\":[{\"colorbar\":{\"outlinewidth\":0,\"ticks\":\"\"},\"colorscale\":[[0.0,\"#0d0887\"],[0.1111111111111111,\"#46039f\"],[0.2222222222222222,\"#7201a8\"],[0.3333333333333333,\"#9c179e\"],[0.4444444444444444,\"#bd3786\"],[0.5555555555555556,\"#d8576b\"],[0.6666666666666666,\"#ed7953\"],[0.7777777777777778,\"#fb9f3a\"],[0.8888888888888888,\"#fdca26\"],[1.0,\"#f0f921\"]],\"type\":\"surface\"}],\"table\":[{\"cells\":{\"fill\":{\"color\":\"#EBF0F8\"},\"line\":{\"color\":\"white\"}},\"header\":{\"fill\":{\"color\":\"#C8D4E3\"},\"line\":{\"color\":\"white\"}},\"type\":\"table\"}]},\"layout\":{\"annotationdefaults\":{\"arrowcolor\":\"#2a3f5f\",\"arrowhead\":0,\"arrowwidth\":1},\"autotypenumbers\":\"strict\",\"coloraxis\":{\"colorbar\":{\"outlinewidth\":0,\"ticks\":\"\"}},\"colorscale\":{\"diverging\":[[0,\"#8e0152\"],[0.1,\"#c51b7d\"],[0.2,\"#de77ae\"],[0.3,\"#f1b6da\"],[0.4,\"#fde0ef\"],[0.5,\"#f7f7f7\"],[0.6,\"#e6f5d0\"],[0.7,\"#b8e186\"],[0.8,\"#7fbc41\"],[0.9,\"#4d9221\"],[1,\"#276419\"]],\"sequential\":[[0.0,\"#0d0887\"],[0.1111111111111111,\"#46039f\"],[0.2222222222222222,\"#7201a8\"],[0.3333333333333333,\"#9c179e\"],[0.4444444444444444,\"#bd3786\"],[0.5555555555555556,\"#d8576b\"],[0.6666666666666666,\"#ed7953\"],[0.7777777777777778,\"#fb9f3a\"],[0.8888888888888888,\"#fdca26\"],[1.0,\"#f0f921\"]],\"sequentialminus\":[[0.0,\"#0d0887\"],[0.1111111111111111,\"#46039f\"],[0.2222222222222222,\"#7201a8\"],[0.3333333333333333,\"#9c179e\"],[0.4444444444444444,\"#bd3786\"],[0.5555555555555556,\"#d8576b\"],[0.6666666666666666,\"#ed7953\"],[0.7777777777777778,\"#fb9f3a\"],[0.8888888888888888,\"#fdca26\"],[1.0,\"#f0f921\"]]},\"colorway\":[\"#636efa\",\"#EF553B\",\"#00cc96\",\"#ab63fa\",\"#FFA15A\",\"#19d3f3\",\"#FF6692\",\"#B6E880\",\"#FF97FF\",\"#FECB52\"],\"font\":{\"color\":\"#2a3f5f\"},\"geo\":{\"bgcolor\":\"white\",\"lakecolor\":\"white\",\"landcolor\":\"#E5ECF6\",\"showlakes\":true,\"showland\":true,\"subunitcolor\":\"white\"},\"hoverlabel\":{\"align\":\"left\"},\"hovermode\":\"closest\",\"mapbox\":{\"style\":\"light\"},\"paper_bgcolor\":\"white\",\"plot_bgcolor\":\"#E5ECF6\",\"polar\":{\"angularaxis\":{\"gridcolor\":\"white\",\"linecolor\":\"white\",\"ticks\":\"\"},\"bgcolor\":\"#E5ECF6\",\"radialaxis\":{\"gridcolor\":\"white\",\"linecolor\":\"white\",\"ticks\":\"\"}},\"scene\":{\"xaxis\":{\"backgroundcolor\":\"#E5ECF6\",\"gridcolor\":\"white\",\"gridwidth\":2,\"linecolor\":\"white\",\"showbackground\":true,\"ticks\":\"\",\"zerolinecolor\":\"white\"},\"yaxis\":{\"backgroundcolor\":\"#E5ECF6\",\"gridcolor\":\"white\",\"gridwidth\":2,\"linecolor\":\"white\",\"showbackground\":true,\"ticks\":\"\",\"zerolinecolor\":\"white\"},\"zaxis\":{\"backgroundcolor\":\"#E5ECF6\",\"gridcolor\":\"white\",\"gridwidth\":2,\"linecolor\":\"white\",\"showbackground\":true,\"ticks\":\"\",\"zerolinecolor\":\"white\"}},\"shapedefaults\":{\"line\":{\"color\":\"#2a3f5f\"}},\"ternary\":{\"aaxis\":{\"gridcolor\":\"white\",\"linecolor\":\"white\",\"ticks\":\"\"},\"baxis\":{\"gridcolor\":\"white\",\"linecolor\":\"white\",\"ticks\":\"\"},\"bgcolor\":\"#E5ECF6\",\"caxis\":{\"gridcolor\":\"white\",\"linecolor\":\"white\",\"ticks\":\"\"}},\"title\":{\"x\":0.05},\"xaxis\":{\"automargin\":true,\"gridcolor\":\"white\",\"linecolor\":\"white\",\"ticks\":\"\",\"title\":{\"standoff\":15},\"zerolinecolor\":\"white\",\"zerolinewidth\":2},\"yaxis\":{\"automargin\":true,\"gridcolor\":\"white\",\"linecolor\":\"white\",\"ticks\":\"\",\"title\":{\"standoff\":15},\"zerolinecolor\":\"white\",\"zerolinewidth\":2}}}},                        {\"responsive\": true}                    ).then(function(){\n",
              "                            \n",
              "var gd = document.getElementById('b7aa9e0b-4998-4ec8-b709-80cc9ea98abf');\n",
              "var x = new MutationObserver(function (mutations, observer) {{\n",
              "        var display = window.getComputedStyle(gd).display;\n",
              "        if (!display || display === 'none') {{\n",
              "            console.log([gd, 'removed!']);\n",
              "            Plotly.purge(gd);\n",
              "            observer.disconnect();\n",
              "        }}\n",
              "}});\n",
              "\n",
              "// Listen for the removal of the full notebook cells\n",
              "var notebookContainer = gd.closest('#notebook-container');\n",
              "if (notebookContainer) {{\n",
              "    x.observe(notebookContainer, {childList: true});\n",
              "}}\n",
              "\n",
              "// Listen for the clearing of the current output cell\n",
              "var outputEl = gd.closest('.output');\n",
              "if (outputEl) {{\n",
              "    x.observe(outputEl, {childList: true});\n",
              "}}\n",
              "\n",
              "                        })                };                            </script>        </div>\n",
              "</body>\n",
              "</html>"
            ]
          },
          "metadata": {}
        }
      ]
    },
    {
      "cell_type": "markdown",
      "source": [
        "### Save the figure"
      ],
      "metadata": {
        "id": "lB-u5qCE7Auj"
      }
    },
    {
      "cell_type": "code",
      "source": [
        "%%capture\n",
        "!pip install kaleido\n",
        "!pip install plotly>=4.0.0\n",
        "!wget https://github.com/plotly/orca/releases/download/v1.2.1/orca-1.2.1-x86_64.AppImage -O /usr/local/bin/orca\n",
        "!chmod +x /usr/local/bin/orca\n",
        "!apt-get install xvfb libgtk2.0-0 libgconf-2-4\n",
        "\n",
        "import os\n",
        "\n",
        "if not os.path.exists(\"images\"):\n",
        "    os.mkdir(\"images\")\n",
        "\n",
        "fig.write_image(\"images/fig1.svg\")"
      ],
      "metadata": {
        "id": "_gtw_Xq8WZZQ"
      },
      "execution_count": null,
      "outputs": []
    },
    {
      "cell_type": "markdown",
      "source": [
        "\n",
        "\n",
        "\n",
        "\n",
        "# Train test e split manuale"
      ],
      "metadata": {
        "id": "w2dI6MyjkRIl"
      }
    },
    {
      "cell_type": "markdown",
      "source": [
        "### Senza PCA"
      ],
      "metadata": {
        "id": "ZYRi8jyNSnNo"
      }
    },
    {
      "cell_type": "code",
      "source": [
        "data_train=data.loc[(data['0']%2==0) | (data['0']%3==0)]\n",
        "data_test=data.loc[(data['0']%2==1) & (data['0']%3==1)]\n",
        "y_train = data_train.values[:,2]\n",
        "y_test = data_test.values[:,2]\n",
        "x_train = data_train.values[:,3:]\n",
        "x_test = data_test.values[:,3:]"
      ],
      "metadata": {
        "id": "kLnaTxJFkPo7"
      },
      "execution_count": null,
      "outputs": []
    },
    {
      "cell_type": "markdown",
      "source": [
        "## Con PCA"
      ],
      "metadata": {
        "id": "aLZYZwPASqMu"
      }
    },
    {
      "cell_type": "code",
      "source": [
        "x_train=[]\n",
        "for el in data_train['Unnamed: 0']:\n",
        "  x_train.append(x_r[el,:].tolist())\n",
        "x_test=[]\n",
        "for el in data_test['Unnamed: 0']:\n",
        "  x_test.append(x_r[el,:].tolist())\n",
        "  \n",
        "data_train=data.loc[(data['0']%2==0) | (data['0']%3==0)]\n",
        "data_test=data.loc[(data['0']%2==1) & (data['0']%3==1)]\n",
        "y_train = data_train.values[:,2]\n",
        "y_test = data_test.values[:,2]\n",
        "x_train = data_train.values[:,4:4+10].tolist()\n",
        "x_test = data_test.values[:,4:4+10].tolist()\n",
        "f_train=data_train.values[:,3+21].tolist()\n",
        "f_test=data_test.values[:,3+21].tolist()\n",
        "#x_train=np.append(x_train,data_train.values[:,3+21].tolist(),axis=1)\n",
        "for i in range(len(x_train)):\n",
        "  x_train[i].append(f_train[i])\n",
        "for i in range(len(x_test)):\n",
        "  x_test[i].append(f_test[i])\n",
        "#x_train['f']=data_train.values[:,3+21].tolist()"
      ],
      "metadata": {
        "id": "ZypwkwMUqNL3"
      },
      "execution_count": null,
      "outputs": []
    },
    {
      "cell_type": "markdown",
      "metadata": {
        "id": "iMYeMfBumaye"
      },
      "source": [
        "# Train test and split automatico"
      ]
    },
    {
      "cell_type": "code",
      "metadata": {
        "id": "PZeolu4WmTzn"
      },
      "source": [
        "from collections import Counter\n",
        "print(\"Labels distribution:\",Counter(y))\n",
        "\n",
        "# train-test split\n",
        "\n",
        "# In case of PCA is used change x to x_r\n",
        "x_train, x_test, y_train, y_test = sklearn.model_selection.train_test_split(x, y, random_state=10,train_size=0.5)\n",
        "print(\"Train labels distribution:\", Counter(y_train))\n",
        "print(\"Test labels distribution:\",Counter(y_test))\n"
      ],
      "execution_count": null,
      "outputs": []
    },
    {
      "cell_type": "code",
      "metadata": {
        "colab": {
          "base_uri": "https://localhost:8080/"
        },
        "id": "MFvzt1jaIO4E",
        "outputId": "a365507a-40e6-45ee-cd2a-7188eef899a3"
      },
      "source": [
        "print(x_train.shape)\n",
        "print(x_test.shape)\n",
        "print(y_train.shape)\n",
        "print(y_test.shape)"
      ],
      "execution_count": null,
      "outputs": [
        {
          "output_type": "stream",
          "name": "stdout",
          "text": [
            "(585, 22)\n",
            "(586, 22)\n",
            "(585,)\n",
            "(586,)\n"
          ]
        }
      ]
    },
    {
      "cell_type": "markdown",
      "metadata": {
        "id": "wS4aSbVSH0q0"
      },
      "source": [
        "## Train the model"
      ]
    },
    {
      "cell_type": "code",
      "metadata": {
        "colab": {
          "base_uri": "https://localhost:8080/"
        },
        "id": "o4dhcgg3HxNz",
        "outputId": "c08f2a5a-87a7-40df-e240-a121e3b8175c"
      },
      "source": [
        "from sklearn.linear_model import LinearRegression\n",
        "ml = LinearRegression()\n",
        "ml.fit(x_train,y_train)"
      ],
      "execution_count": null,
      "outputs": [
        {
          "output_type": "execute_result",
          "data": {
            "text/plain": [
              "LinearRegression()"
            ]
          },
          "metadata": {},
          "execution_count": 20
        }
      ]
    },
    {
      "cell_type": "markdown",
      "metadata": {
        "id": "Kd_jWhZAIFCJ"
      },
      "source": [
        "## Predict test results"
      ]
    },
    {
      "cell_type": "code",
      "metadata": {
        "id": "gC-mZudFIHmx"
      },
      "source": [
        "y_pred = ml.predict(x_test)"
      ],
      "execution_count": null,
      "outputs": []
    },
    {
      "cell_type": "markdown",
      "metadata": {
        "id": "rWCQgFraax2P"
      },
      "source": [
        "y = β0 + β1 · x1 +  β2 · x2 + ... + βn · xn"
      ]
    },
    {
      "cell_type": "markdown",
      "source": [
        "## Change units to have the weight in grams"
      ],
      "metadata": {
        "id": "_hwLyp-q-qBI"
      }
    },
    {
      "cell_type": "code",
      "source": [
        "m = 5191420.51\n",
        "std_m = 639.702\n",
        "q = -4874.38\n",
        "std_q = 0.3818\n",
        "\n",
        "std_tot = 0.3818\n",
        "MSE_statica = 0.1458\n",
        "\n",
        "y_pred_g = m*(y_pred/1000) + q\n",
        "y_test_g = m*(y_test/1000) + q\n"
      ],
      "metadata": {
        "id": "1MTA1Dvd-wWS"
      },
      "execution_count": null,
      "outputs": []
    },
    {
      "cell_type": "markdown",
      "metadata": {
        "id": "-vuoCl-GIkG6"
      },
      "source": [
        "## Evaluate the model"
      ]
    },
    {
      "cell_type": "code",
      "source": [
        "from sklearn.metrics import r2_score\n",
        "r2_score = r2_score(y_test,y_pred)\n",
        "\n",
        "from sklearn.metrics import mean_squared_error\n",
        "import math\n",
        "\n",
        "MSE_regressor = (mean_squared_error(y_test_g, y_pred_g)*y_test_g.shape[0])/(y_test_g.shape[0] -2)\n",
        "RMSE_regressor = math.sqrt(MSE_regressor)\n",
        "\n",
        "RMSE_tot = math.sqrt(MSE_regressor + MSE_statica)\n",
        "print(\"RMSE Regressore: \" + str(round(RMSE_regressor,4)) + \"\\t \\t\" + \"RMSE totale: \" + str(round(RMSE_tot,4)) + \"\\t \\t\" + \"R^2 :\" + str(r2_score))"
      ],
      "metadata": {
        "colab": {
          "base_uri": "https://localhost:8080/"
        },
        "id": "owG_NhU5GmZQ",
        "outputId": "271a8620-27a1-4376-8554-4e3ecf1d919a"
      },
      "execution_count": null,
      "outputs": [
        {
          "output_type": "stream",
          "name": "stdout",
          "text": [
            "RMSE Regressore: 3.6499\t \tRMSE totale: 3.6699\t \tR^2 :0.9999436664677442\n"
          ]
        }
      ]
    },
    {
      "cell_type": "markdown",
      "metadata": {
        "id": "4sOkB98RI6w0"
      },
      "source": [
        "## Plot the results"
      ]
    },
    {
      "cell_type": "markdown",
      "source": [
        "### Reproduce scikit-learn results with linear algebra"
      ],
      "metadata": {
        "id": "cShCSSxNTuVc"
      }
    },
    {
      "cell_type": "code",
      "source": [
        "N = len(x_test)\n",
        "p = len(x_test[0]) + 1\n"
      ],
      "metadata": {
        "id": "6Xnm5rK9Ttdy"
      },
      "execution_count": null,
      "outputs": []
    },
    {
      "cell_type": "code",
      "source": [
        "X_with_intercept = np.empty(shape=(N, p), dtype=np.float)\n",
        "X_with_intercept[:, 0] = 1\n",
        "X_with_intercept[:, 1:p] = x_test"
      ],
      "metadata": {
        "id": "E-lvGBxyTSED",
        "colab": {
          "base_uri": "https://localhost:8080/"
        },
        "outputId": "d61dd0ca-c408-4191-9d98-1899e618d910"
      },
      "execution_count": null,
      "outputs": [
        {
          "output_type": "stream",
          "name": "stderr",
          "text": [
            "/usr/local/lib/python3.7/dist-packages/ipykernel_launcher.py:1: DeprecationWarning:\n",
            "\n",
            "`np.float` is a deprecated alias for the builtin `float`. To silence this warning, use `float` by itself. Doing this will not modify any behavior and is safe. If you specifically wanted the numpy scalar type, use `np.float64` here.\n",
            "Deprecated in NumPy 1.20; for more details and guidance: https://numpy.org/devdocs/release/1.20.0-notes.html#deprecations\n",
            "\n"
          ]
        }
      ]
    },
    {
      "cell_type": "code",
      "source": [
        "beta_hat = np.linalg.inv(X_with_intercept.T @ X_with_intercept) @ X_with_intercept.T @ y_test\n"
      ],
      "metadata": {
        "id": "-2JaWPwNVaQT"
      },
      "execution_count": null,
      "outputs": []
    },
    {
      "cell_type": "code",
      "source": [
        "import statsmodels.api as sm\n",
        "ols = sm.OLS(y_test, X_with_intercept)\n",
        "ols_result = ols.fit()\n",
        "\n",
        "std = ols_result.bse\n",
        "coefficient = print(ols_result.params)\n",
        "norm=0\n",
        "for el in std:\n",
        "  norm+=math.pow(el,2)\n",
        "print(math.sqrt(norm))\n",
        "print(std)"
      ],
      "metadata": {
        "colab": {
          "base_uri": "https://localhost:8080/"
        },
        "id": "pGEYN1APVpjb",
        "outputId": "2d1bb1bf-98cc-4556-956d-8fe07025db46"
      },
      "execution_count": null,
      "outputs": [
        {
          "output_type": "stream",
          "name": "stderr",
          "text": [
            "/usr/local/lib/python3.7/dist-packages/statsmodels/tools/_testing.py:19: FutureWarning:\n",
            "\n",
            "pandas.util.testing is deprecated. Use the functions in the public API at pandas.testing instead.\n",
            "\n"
          ]
        },
        {
          "output_type": "stream",
          "name": "stdout",
          "text": [
            "[-2.80630249e-04 -3.95381765e-06  3.30858888e-03  1.01706311e-03\n",
            "  1.87908757e-03  7.62561904e-03  1.56969720e-02  2.25433813e-02\n",
            "  2.96626781e-02  3.86560268e-02  4.73497389e-02  6.27089255e-02\n",
            "  7.30193735e-02  7.60110858e-02  8.93333303e-02  9.41947243e-02\n",
            "  9.21521109e-02  8.69274861e-02  7.75149291e-02  6.28409899e-02\n",
            "  4.96778497e-02  4.00302120e-02  2.87692899e-02]\n",
            "0.011199597748534237\n",
            "[3.35763851e-04 1.59744703e-06 1.25003268e-03 1.90380765e-03\n",
            " 2.20714268e-03 2.19465706e-03 2.14464296e-03 2.31350169e-03\n",
            " 2.36875947e-03 2.49729977e-03 2.31501245e-03 2.25757467e-03\n",
            " 2.32120225e-03 2.19411824e-03 2.28818080e-03 2.46915899e-03\n",
            " 2.76574500e-03 2.72416377e-03 2.84323941e-03 2.90711560e-03\n",
            " 2.88776969e-03 2.99433283e-03 2.78250045e-03]\n"
          ]
        }
      ]
    },
    {
      "cell_type": "code",
      "source": [
        "print(ols_result.summary())"
      ],
      "metadata": {
        "colab": {
          "base_uri": "https://localhost:8080/"
        },
        "id": "1WRTzzc2vAyy",
        "outputId": "c5c615c2-c5cf-447b-8bc5-1a08612ff3a8"
      },
      "execution_count": null,
      "outputs": [
        {
          "output_type": "stream",
          "name": "stdout",
          "text": [
            "                            OLS Regression Results                            \n",
            "==============================================================================\n",
            "Dep. Variable:                      y   R-squared:                       1.000\n",
            "Model:                            OLS   Adj. R-squared:                  1.000\n",
            "Method:                 Least Squares   F-statistic:                 5.411e+05\n",
            "Date:                Tue, 15 Feb 2022   Prob (F-statistic):               0.00\n",
            "Time:                        19:51:18   Log-Likelihood:                 3475.2\n",
            "No. Observations:                 586   AIC:                            -6904.\n",
            "Df Residuals:                     563   BIC:                            -6804.\n",
            "Df Model:                          22                                         \n",
            "Covariance Type:            nonrobust                                         \n",
            "==============================================================================\n",
            "                 coef    std err          t      P>|t|      [0.025      0.975]\n",
            "------------------------------------------------------------------------------\n",
            "const         -0.0003      0.000     -0.836      0.404      -0.001       0.000\n",
            "x1         -3.954e-06    1.6e-06     -2.475      0.014   -7.09e-06   -8.16e-07\n",
            "x2             0.0033      0.001      2.647      0.008       0.001       0.006\n",
            "x3             0.0010      0.002      0.534      0.593      -0.003       0.005\n",
            "x4             0.0019      0.002      0.851      0.395      -0.002       0.006\n",
            "x5             0.0076      0.002      3.475      0.001       0.003       0.012\n",
            "x6             0.0157      0.002      7.319      0.000       0.011       0.020\n",
            "x7             0.0225      0.002      9.744      0.000       0.018       0.027\n",
            "x8             0.0297      0.002     12.522      0.000       0.025       0.034\n",
            "x9             0.0387      0.002     15.479      0.000       0.034       0.044\n",
            "x10            0.0473      0.002     20.453      0.000       0.043       0.052\n",
            "x11            0.0627      0.002     27.777      0.000       0.058       0.067\n",
            "x12            0.0730      0.002     31.458      0.000       0.068       0.078\n",
            "x13            0.0760      0.002     34.643      0.000       0.072       0.080\n",
            "x14            0.0893      0.002     39.041      0.000       0.085       0.094\n",
            "x15            0.0942      0.002     38.149      0.000       0.089       0.099\n",
            "x16            0.0922      0.003     33.319      0.000       0.087       0.098\n",
            "x17            0.0869      0.003     31.910      0.000       0.082       0.092\n",
            "x18            0.0775      0.003     27.263      0.000       0.072       0.083\n",
            "x19            0.0628      0.003     21.616      0.000       0.057       0.069\n",
            "x20            0.0497      0.003     17.203      0.000       0.044       0.055\n",
            "x21            0.0400      0.003     13.369      0.000       0.034       0.046\n",
            "x22            0.0288      0.003     10.339      0.000       0.023       0.034\n",
            "==============================================================================\n",
            "Omnibus:                      145.933   Durbin-Watson:                   2.004\n",
            "Prob(Omnibus):                  0.000   Jarque-Bera (JB):             5510.816\n",
            "Skew:                          -0.217   Prob(JB):                         0.00\n",
            "Kurtosis:                      18.017   Cond. No.                     1.75e+04\n",
            "==============================================================================\n",
            "\n",
            "Warnings:\n",
            "[1] Standard Errors assume that the covariance matrix of the errors is correctly specified.\n",
            "[2] The condition number is large, 1.75e+04. This might indicate that there are\n",
            "strong multicollinearity or other numerical problems.\n"
          ]
        }
      ]
    },
    {
      "cell_type": "code",
      "source": [
        "plt.scatter(y_test,y_pred)\n",
        "plt.rcParams.update({'font.size': 14})\n",
        "plt.xlim(0.92,1.25)\n",
        "plt.ylim(0.92,1.25)\n",
        "plt.xlabel('Peso predetto [mV/V]')\n",
        "plt.ylabel('Peso reale [mV/V]')\n",
        "\n",
        "# Save the figure\n",
        "plt.savefig(\"reale-predetto.pdf\")"
      ],
      "metadata": {
        "colab": {
          "base_uri": "https://localhost:8080/",
          "height": 293
        },
        "id": "ZIb8BJ7xpvvF",
        "outputId": "f0ea45bf-6b0a-4544-e7ba-3429bce14c94"
      },
      "execution_count": 40,
      "outputs": [
        {
          "output_type": "display_data",
          "data": {
            "image/png": "[encoded data removed]",
            "text/plain": [
              "<Figure size 432x288 with 1 Axes>"
            ]
          },
          "metadata": {
            "needs_background": "light"
          }
        }
      ]
    }
  ]
}