{
  "nbformat": 4,
  "nbformat_minor": 0,
  "metadata": {
    "colab": {
      "name": "CORR_Linear_regression.ipynb",
      "provenance": [],
      "collapsed_sections": [],
      "include_colab_link": true
    },
    "kernelspec": {
      "name": "python3",
      "display_name": "Python 3"
    },
    "language_info": {
      "name": "python"
    }
  },
  "cells": [
    {
      "cell_type": "markdown",
      "metadata": {
        "id": "view-in-github",
        "colab_type": "text"
      },
      "source": [
        "<a href=\"https://colab.research.google.com/github/marco-milanesi/dynamic-weighing/blob/main/CORR_Linear_regression.ipynb\" target=\"_parent\"><img src=\"https://colab.research.google.com/assets/colab-badge.svg\" alt=\"Open In Colab\"/></a>"
      ]
    },
    {
      "cell_type": "markdown",
      "metadata": {
        "id": "4ke6yZxGD8E0"
      },
      "source": [
        "# Pesatura Dinamica"
      ]
    },
    {
      "cell_type": "code",
      "metadata": {
        "colab": {
          "base_uri": "https://localhost:8080/"
        },
        "id": "7141jGUO_BGy",
        "outputId": "1ad87549-3d0e-404e-99e8-16f0f0682611"
      },
      "source": [
        "!wget https://raw.githubusercontent.com/EdoGitMira/Gruppo_H_pesatura_dinamica/main/dataset/velocit%C3%A0%20separate%20numeri%20cartelle%20e%20frequenza/dataset_interval_35_num_v1v4_f.csv"
      ],
      "execution_count": 54,
      "outputs": [
        {
          "output_type": "stream",
          "name": "stdout",
          "text": [
            "--2022-02-12 17:19:39--  https://raw.githubusercontent.com/EdoGitMira/Gruppo_H_pesatura_dinamica/main/dataset/velocit%C3%A0%20separate%20numeri%20cartelle%20e%20frequenza/dataset_interval_35_num_v1v4_f.csv\n",
            "Resolving raw.githubusercontent.com (raw.githubusercontent.com)... 185.199.108.133, 185.199.109.133, 185.199.110.133, ...\n",
            "Connecting to raw.githubusercontent.com (raw.githubusercontent.com)|185.199.108.133|:443... connected.\n",
            "HTTP request sent, awaiting response... 200 OK\n",
            "Length: 695190 (679K) [text/plain]\n",
            "Saving to: ‘dataset_interval_35_num_v1v4_f.csv.3’\n",
            "\n",
            "\r          dataset_i   0%[                    ]       0  --.-KB/s               \rdataset_interval_35 100%[===================>] 678.90K  --.-KB/s    in 0.04s   \n",
            "\n",
            "2022-02-12 17:19:39 (15.1 MB/s) - ‘dataset_interval_35_num_v1v4_f.csv.3’ saved [695190/695190]\n",
            "\n"
          ]
        }
      ]
    },
    {
      "cell_type": "markdown",
      "metadata": {
        "id": "yDaRDf0eLGBM"
      },
      "source": [
        "# Linear Regression"
      ]
    },
    {
      "cell_type": "markdown",
      "metadata": {
        "id": "p1kIJclLWkz1"
      },
      "source": [
        "## Import packages\n"
      ]
    },
    {
      "cell_type": "code",
      "metadata": {
        "id": "wS6cBeUZT43H"
      },
      "source": [
        "import pandas as pd\n",
        "import sklearn\n",
        "import numpy as np\n",
        "from sklearn.neighbors import KNeighborsClassifier\n",
        "import matplotlib.pyplot as plt"
      ],
      "execution_count": 55,
      "outputs": []
    },
    {
      "cell_type": "markdown",
      "metadata": {
        "id": "FHsgVBbpXVe9"
      },
      "source": [
        "## Loading Data"
      ]
    },
    {
      "cell_type": "code",
      "metadata": {
        "id": "ZlORoNZEXc5g",
        "colab": {
          "base_uri": "https://localhost:8080/",
          "height": 522
        },
        "outputId": "09ba8119-be69-4341-eb46-175af8f78f60"
      },
      "source": [
        "data = pd.read_csv('dataset_interval_35_num_v1v4_f.csv',sep=';')\n",
        "print(\"Loaded: \",len(data))\n",
        "y = data.values[:,2]\n",
        "x = data.values[:,4:]\n",
        "data"
      ],
      "execution_count": 56,
      "outputs": [
        {
          "output_type": "stream",
          "name": "stdout",
          "text": [
            "Loaded:  1171\n"
          ]
        },
        {
          "output_type": "execute_result",
          "data": {
            "text/html": [
              "\n",
              "  <div id=\"df-eecc7038-b850-489e-92e7-0eeb2c6e0fa7\">\n",
              "    <div class=\"colab-df-container\">\n",
              "      <div>\n",
              "<style scoped>\n",
              "    .dataframe tbody tr th:only-of-type {\n",
              "        vertical-align: middle;\n",
              "    }\n",
              "\n",
              "    .dataframe tbody tr th {\n",
              "        vertical-align: top;\n",
              "    }\n",
              "\n",
              "    .dataframe thead th {\n",
              "        text-align: right;\n",
              "    }\n",
              "</style>\n",
              "<table border=\"1\" class=\"dataframe\">\n",
              "  <thead>\n",
              "    <tr style=\"text-align: right;\">\n",
              "      <th></th>\n",
              "      <th>Unnamed: 0</th>\n",
              "      <th>0</th>\n",
              "      <th>1</th>\n",
              "      <th>2</th>\n",
              "      <th>3</th>\n",
              "      <th>4</th>\n",
              "      <th>5</th>\n",
              "      <th>6</th>\n",
              "      <th>7</th>\n",
              "      <th>8</th>\n",
              "      <th>9</th>\n",
              "      <th>10</th>\n",
              "      <th>11</th>\n",
              "      <th>12</th>\n",
              "      <th>13</th>\n",
              "      <th>14</th>\n",
              "      <th>15</th>\n",
              "      <th>16</th>\n",
              "      <th>17</th>\n",
              "      <th>18</th>\n",
              "      <th>19</th>\n",
              "      <th>20</th>\n",
              "      <th>21</th>\n",
              "      <th>22</th>\n",
              "      <th>23</th>\n",
              "      <th>24</th>\n",
              "      <th>25</th>\n",
              "      <th>26</th>\n",
              "      <th>27</th>\n",
              "      <th>28</th>\n",
              "      <th>29</th>\n",
              "      <th>30</th>\n",
              "      <th>31</th>\n",
              "      <th>32</th>\n",
              "      <th>33</th>\n",
              "      <th>34</th>\n",
              "      <th>35</th>\n",
              "      <th>36</th>\n",
              "      <th>37</th>\n",
              "      <th>38</th>\n",
              "    </tr>\n",
              "  </thead>\n",
              "  <tbody>\n",
              "    <tr>\n",
              "      <th>0</th>\n",
              "      <td>0</td>\n",
              "      <td>0</td>\n",
              "      <td>0.940722</td>\n",
              "      <td>80</td>\n",
              "      <td>0.935596</td>\n",
              "      <td>0.936663</td>\n",
              "      <td>0.944824</td>\n",
              "      <td>0.952803</td>\n",
              "      <td>0.920184</td>\n",
              "      <td>0.957204</td>\n",
              "      <td>0.926925</td>\n",
              "      <td>0.952237</td>\n",
              "      <td>0.933084</td>\n",
              "      <td>0.946302</td>\n",
              "      <td>0.934464</td>\n",
              "      <td>0.938687</td>\n",
              "      <td>0.947775</td>\n",
              "      <td>0.931093</td>\n",
              "      <td>0.950892</td>\n",
              "      <td>0.932845</td>\n",
              "      <td>0.949390</td>\n",
              "      <td>0.931644</td>\n",
              "      <td>0.941824</td>\n",
              "      <td>0.941287</td>\n",
              "      <td>0.935917</td>\n",
              "      <td>0.949336</td>\n",
              "      <td>0.938422</td>\n",
              "      <td>0.934511</td>\n",
              "      <td>0.935075</td>\n",
              "      <td>0.951714</td>\n",
              "      <td>0.932789</td>\n",
              "      <td>0.944772</td>\n",
              "      <td>0.944424</td>\n",
              "      <td>0.924509</td>\n",
              "      <td>0.942482</td>\n",
              "      <td>0.953559</td>\n",
              "      <td>0.933597</td>\n",
              "      <td>0.940206</td>\n",
              "      <td>0.946579</td>\n",
              "      <td>76.804916</td>\n",
              "    </tr>\n",
              "    <tr>\n",
              "      <th>1</th>\n",
              "      <td>1</td>\n",
              "      <td>0</td>\n",
              "      <td>0.940724</td>\n",
              "      <td>80</td>\n",
              "      <td>0.943803</td>\n",
              "      <td>0.935807</td>\n",
              "      <td>0.943463</td>\n",
              "      <td>0.941202</td>\n",
              "      <td>0.938887</td>\n",
              "      <td>0.950505</td>\n",
              "      <td>0.922220</td>\n",
              "      <td>0.949632</td>\n",
              "      <td>0.940743</td>\n",
              "      <td>0.941312</td>\n",
              "      <td>0.940029</td>\n",
              "      <td>0.942932</td>\n",
              "      <td>0.933756</td>\n",
              "      <td>0.935631</td>\n",
              "      <td>0.952529</td>\n",
              "      <td>0.933573</td>\n",
              "      <td>0.937700</td>\n",
              "      <td>0.954188</td>\n",
              "      <td>0.920210</td>\n",
              "      <td>0.943983</td>\n",
              "      <td>0.951280</td>\n",
              "      <td>0.932553</td>\n",
              "      <td>0.944624</td>\n",
              "      <td>0.941179</td>\n",
              "      <td>0.941266</td>\n",
              "      <td>0.918881</td>\n",
              "      <td>0.969909</td>\n",
              "      <td>0.922298</td>\n",
              "      <td>0.945433</td>\n",
              "      <td>0.947682</td>\n",
              "      <td>0.929625</td>\n",
              "      <td>0.934897</td>\n",
              "      <td>0.956945</td>\n",
              "      <td>0.934661</td>\n",
              "      <td>0.930068</td>\n",
              "      <td>76.804916</td>\n",
              "    </tr>\n",
              "    <tr>\n",
              "      <th>2</th>\n",
              "      <td>2</td>\n",
              "      <td>0</td>\n",
              "      <td>0.940726</td>\n",
              "      <td>80</td>\n",
              "      <td>0.942182</td>\n",
              "      <td>0.951523</td>\n",
              "      <td>0.924894</td>\n",
              "      <td>0.950180</td>\n",
              "      <td>0.936838</td>\n",
              "      <td>0.938504</td>\n",
              "      <td>0.947151</td>\n",
              "      <td>0.939942</td>\n",
              "      <td>0.938525</td>\n",
              "      <td>0.939031</td>\n",
              "      <td>0.943978</td>\n",
              "      <td>0.939202</td>\n",
              "      <td>0.939511</td>\n",
              "      <td>0.941848</td>\n",
              "      <td>0.941714</td>\n",
              "      <td>0.930200</td>\n",
              "      <td>0.949316</td>\n",
              "      <td>0.932576</td>\n",
              "      <td>0.946623</td>\n",
              "      <td>0.935926</td>\n",
              "      <td>0.949646</td>\n",
              "      <td>0.928487</td>\n",
              "      <td>0.940488</td>\n",
              "      <td>0.950085</td>\n",
              "      <td>0.927980</td>\n",
              "      <td>0.954548</td>\n",
              "      <td>0.934965</td>\n",
              "      <td>0.938117</td>\n",
              "      <td>0.929083</td>\n",
              "      <td>0.961541</td>\n",
              "      <td>0.926316</td>\n",
              "      <td>0.946656</td>\n",
              "      <td>0.943754</td>\n",
              "      <td>0.929469</td>\n",
              "      <td>0.938328</td>\n",
              "      <td>76.804916</td>\n",
              "    </tr>\n",
              "    <tr>\n",
              "      <th>3</th>\n",
              "      <td>3</td>\n",
              "      <td>0</td>\n",
              "      <td>0.940727</td>\n",
              "      <td>80</td>\n",
              "      <td>0.938316</td>\n",
              "      <td>0.932169</td>\n",
              "      <td>0.953388</td>\n",
              "      <td>0.930458</td>\n",
              "      <td>0.950491</td>\n",
              "      <td>0.932246</td>\n",
              "      <td>0.949842</td>\n",
              "      <td>0.932153</td>\n",
              "      <td>0.943395</td>\n",
              "      <td>0.939614</td>\n",
              "      <td>0.944757</td>\n",
              "      <td>0.932863</td>\n",
              "      <td>0.944976</td>\n",
              "      <td>0.939592</td>\n",
              "      <td>0.927416</td>\n",
              "      <td>0.960383</td>\n",
              "      <td>0.931306</td>\n",
              "      <td>0.942980</td>\n",
              "      <td>0.942225</td>\n",
              "      <td>0.937094</td>\n",
              "      <td>0.930790</td>\n",
              "      <td>0.953658</td>\n",
              "      <td>0.936131</td>\n",
              "      <td>0.937237</td>\n",
              "      <td>0.948611</td>\n",
              "      <td>0.931054</td>\n",
              "      <td>0.932941</td>\n",
              "      <td>0.957936</td>\n",
              "      <td>0.928216</td>\n",
              "      <td>0.946474</td>\n",
              "      <td>0.943470</td>\n",
              "      <td>0.931229</td>\n",
              "      <td>0.937927</td>\n",
              "      <td>0.951027</td>\n",
              "      <td>0.930477</td>\n",
              "      <td>80.645161</td>\n",
              "    </tr>\n",
              "    <tr>\n",
              "      <th>4</th>\n",
              "      <td>4</td>\n",
              "      <td>0</td>\n",
              "      <td>0.940729</td>\n",
              "      <td>80</td>\n",
              "      <td>0.939312</td>\n",
              "      <td>0.942221</td>\n",
              "      <td>0.938552</td>\n",
              "      <td>0.948945</td>\n",
              "      <td>0.924629</td>\n",
              "      <td>0.945271</td>\n",
              "      <td>0.943566</td>\n",
              "      <td>0.936438</td>\n",
              "      <td>0.943977</td>\n",
              "      <td>0.942199</td>\n",
              "      <td>0.935912</td>\n",
              "      <td>0.930746</td>\n",
              "      <td>0.961569</td>\n",
              "      <td>0.926340</td>\n",
              "      <td>0.944125</td>\n",
              "      <td>0.947488</td>\n",
              "      <td>0.928150</td>\n",
              "      <td>0.935517</td>\n",
              "      <td>0.954217</td>\n",
              "      <td>0.933627</td>\n",
              "      <td>0.936955</td>\n",
              "      <td>0.953147</td>\n",
              "      <td>0.926843</td>\n",
              "      <td>0.935584</td>\n",
              "      <td>0.955061</td>\n",
              "      <td>0.934359</td>\n",
              "      <td>0.934930</td>\n",
              "      <td>0.952408</td>\n",
              "      <td>0.931290</td>\n",
              "      <td>0.927174</td>\n",
              "      <td>0.959360</td>\n",
              "      <td>0.937519</td>\n",
              "      <td>0.933861</td>\n",
              "      <td>0.953529</td>\n",
              "      <td>0.930874</td>\n",
              "      <td>76.804916</td>\n",
              "    </tr>\n",
              "    <tr>\n",
              "      <th>...</th>\n",
              "      <td>...</td>\n",
              "      <td>...</td>\n",
              "      <td>...</td>\n",
              "      <td>...</td>\n",
              "      <td>...</td>\n",
              "      <td>...</td>\n",
              "      <td>...</td>\n",
              "      <td>...</td>\n",
              "      <td>...</td>\n",
              "      <td>...</td>\n",
              "      <td>...</td>\n",
              "      <td>...</td>\n",
              "      <td>...</td>\n",
              "      <td>...</td>\n",
              "      <td>...</td>\n",
              "      <td>...</td>\n",
              "      <td>...</td>\n",
              "      <td>...</td>\n",
              "      <td>...</td>\n",
              "      <td>...</td>\n",
              "      <td>...</td>\n",
              "      <td>...</td>\n",
              "      <td>...</td>\n",
              "      <td>...</td>\n",
              "      <td>...</td>\n",
              "      <td>...</td>\n",
              "      <td>...</td>\n",
              "      <td>...</td>\n",
              "      <td>...</td>\n",
              "      <td>...</td>\n",
              "      <td>...</td>\n",
              "      <td>...</td>\n",
              "      <td>...</td>\n",
              "      <td>...</td>\n",
              "      <td>...</td>\n",
              "      <td>...</td>\n",
              "      <td>...</td>\n",
              "      <td>...</td>\n",
              "      <td>...</td>\n",
              "      <td>...</td>\n",
              "    </tr>\n",
              "    <tr>\n",
              "      <th>1166</th>\n",
              "      <td>1166</td>\n",
              "      <td>39</td>\n",
              "      <td>1.229075</td>\n",
              "      <td>45</td>\n",
              "      <td>1.214898</td>\n",
              "      <td>1.233261</td>\n",
              "      <td>1.235676</td>\n",
              "      <td>1.220389</td>\n",
              "      <td>1.219226</td>\n",
              "      <td>1.224368</td>\n",
              "      <td>1.237462</td>\n",
              "      <td>1.240882</td>\n",
              "      <td>1.222111</td>\n",
              "      <td>1.223108</td>\n",
              "      <td>1.229316</td>\n",
              "      <td>1.230003</td>\n",
              "      <td>1.231844</td>\n",
              "      <td>1.229466</td>\n",
              "      <td>1.228932</td>\n",
              "      <td>1.231176</td>\n",
              "      <td>1.227190</td>\n",
              "      <td>1.224987</td>\n",
              "      <td>1.226895</td>\n",
              "      <td>1.232313</td>\n",
              "      <td>1.225629</td>\n",
              "      <td>1.225676</td>\n",
              "      <td>1.231018</td>\n",
              "      <td>1.229643</td>\n",
              "      <td>1.226912</td>\n",
              "      <td>1.227919</td>\n",
              "      <td>1.227881</td>\n",
              "      <td>1.227890</td>\n",
              "      <td>1.227454</td>\n",
              "      <td>1.230531</td>\n",
              "      <td>1.232347</td>\n",
              "      <td>1.228330</td>\n",
              "      <td>1.225901</td>\n",
              "      <td>1.228977</td>\n",
              "      <td>1.225322</td>\n",
              "      <td>201.612903</td>\n",
              "    </tr>\n",
              "    <tr>\n",
              "      <th>1167</th>\n",
              "      <td>1167</td>\n",
              "      <td>39</td>\n",
              "      <td>1.229070</td>\n",
              "      <td>45</td>\n",
              "      <td>1.217845</td>\n",
              "      <td>1.215770</td>\n",
              "      <td>1.224287</td>\n",
              "      <td>1.240585</td>\n",
              "      <td>1.237143</td>\n",
              "      <td>1.217745</td>\n",
              "      <td>1.216251</td>\n",
              "      <td>1.236290</td>\n",
              "      <td>1.245570</td>\n",
              "      <td>1.220256</td>\n",
              "      <td>1.210690</td>\n",
              "      <td>1.226403</td>\n",
              "      <td>1.240276</td>\n",
              "      <td>1.234145</td>\n",
              "      <td>1.219908</td>\n",
              "      <td>1.226427</td>\n",
              "      <td>1.229864</td>\n",
              "      <td>1.225057</td>\n",
              "      <td>1.233428</td>\n",
              "      <td>1.226672</td>\n",
              "      <td>1.227467</td>\n",
              "      <td>1.234853</td>\n",
              "      <td>1.228993</td>\n",
              "      <td>1.224669</td>\n",
              "      <td>1.229589</td>\n",
              "      <td>1.230410</td>\n",
              "      <td>1.230114</td>\n",
              "      <td>1.225770</td>\n",
              "      <td>1.225528</td>\n",
              "      <td>1.229197</td>\n",
              "      <td>1.231355</td>\n",
              "      <td>1.231428</td>\n",
              "      <td>1.226891</td>\n",
              "      <td>1.227386</td>\n",
              "      <td>1.226202</td>\n",
              "      <td>179.211470</td>\n",
              "    </tr>\n",
              "    <tr>\n",
              "      <th>1168</th>\n",
              "      <td>1168</td>\n",
              "      <td>39</td>\n",
              "      <td>1.229066</td>\n",
              "      <td>45</td>\n",
              "      <td>1.228456</td>\n",
              "      <td>1.237786</td>\n",
              "      <td>1.228470</td>\n",
              "      <td>1.215433</td>\n",
              "      <td>1.227330</td>\n",
              "      <td>1.236764</td>\n",
              "      <td>1.231966</td>\n",
              "      <td>1.218055</td>\n",
              "      <td>1.220533</td>\n",
              "      <td>1.226176</td>\n",
              "      <td>1.231416</td>\n",
              "      <td>1.232191</td>\n",
              "      <td>1.219014</td>\n",
              "      <td>1.230131</td>\n",
              "      <td>1.234779</td>\n",
              "      <td>1.225727</td>\n",
              "      <td>1.224967</td>\n",
              "      <td>1.229415</td>\n",
              "      <td>1.230513</td>\n",
              "      <td>1.228652</td>\n",
              "      <td>1.227112</td>\n",
              "      <td>1.230353</td>\n",
              "      <td>1.229491</td>\n",
              "      <td>1.224740</td>\n",
              "      <td>1.229199</td>\n",
              "      <td>1.232686</td>\n",
              "      <td>1.225906</td>\n",
              "      <td>1.230158</td>\n",
              "      <td>1.226204</td>\n",
              "      <td>1.227411</td>\n",
              "      <td>1.230920</td>\n",
              "      <td>1.227649</td>\n",
              "      <td>1.225386</td>\n",
              "      <td>1.231262</td>\n",
              "      <td>1.231019</td>\n",
              "      <td>146.627566</td>\n",
              "    </tr>\n",
              "    <tr>\n",
              "      <th>1169</th>\n",
              "      <td>1169</td>\n",
              "      <td>39</td>\n",
              "      <td>1.229061</td>\n",
              "      <td>45</td>\n",
              "      <td>1.223910</td>\n",
              "      <td>1.217249</td>\n",
              "      <td>1.223312</td>\n",
              "      <td>1.240660</td>\n",
              "      <td>1.232546</td>\n",
              "      <td>1.219996</td>\n",
              "      <td>1.224494</td>\n",
              "      <td>1.230946</td>\n",
              "      <td>1.224140</td>\n",
              "      <td>1.226375</td>\n",
              "      <td>1.235887</td>\n",
              "      <td>1.226541</td>\n",
              "      <td>1.225827</td>\n",
              "      <td>1.233740</td>\n",
              "      <td>1.228980</td>\n",
              "      <td>1.222373</td>\n",
              "      <td>1.227088</td>\n",
              "      <td>1.224740</td>\n",
              "      <td>1.228821</td>\n",
              "      <td>1.231144</td>\n",
              "      <td>1.228977</td>\n",
              "      <td>1.226420</td>\n",
              "      <td>1.228080</td>\n",
              "      <td>1.228080</td>\n",
              "      <td>1.229349</td>\n",
              "      <td>1.225522</td>\n",
              "      <td>1.229616</td>\n",
              "      <td>1.227886</td>\n",
              "      <td>1.228088</td>\n",
              "      <td>1.229251</td>\n",
              "      <td>1.228744</td>\n",
              "      <td>1.228432</td>\n",
              "      <td>1.226365</td>\n",
              "      <td>1.227357</td>\n",
              "      <td>1.228413</td>\n",
              "      <td>161.290323</td>\n",
              "    </tr>\n",
              "    <tr>\n",
              "      <th>1170</th>\n",
              "      <td>1170</td>\n",
              "      <td>39</td>\n",
              "      <td>1.229057</td>\n",
              "      <td>45</td>\n",
              "      <td>1.218411</td>\n",
              "      <td>1.236400</td>\n",
              "      <td>1.223761</td>\n",
              "      <td>1.229108</td>\n",
              "      <td>1.229610</td>\n",
              "      <td>1.221119</td>\n",
              "      <td>1.228611</td>\n",
              "      <td>1.234176</td>\n",
              "      <td>1.241714</td>\n",
              "      <td>1.224697</td>\n",
              "      <td>1.223390</td>\n",
              "      <td>1.230362</td>\n",
              "      <td>1.232759</td>\n",
              "      <td>1.225107</td>\n",
              "      <td>1.221585</td>\n",
              "      <td>1.233820</td>\n",
              "      <td>1.232040</td>\n",
              "      <td>1.219452</td>\n",
              "      <td>1.225824</td>\n",
              "      <td>1.234223</td>\n",
              "      <td>1.226043</td>\n",
              "      <td>1.220669</td>\n",
              "      <td>1.236104</td>\n",
              "      <td>1.236048</td>\n",
              "      <td>1.222162</td>\n",
              "      <td>1.224374</td>\n",
              "      <td>1.234649</td>\n",
              "      <td>1.230544</td>\n",
              "      <td>1.226585</td>\n",
              "      <td>1.230016</td>\n",
              "      <td>1.227442</td>\n",
              "      <td>1.223617</td>\n",
              "      <td>1.228765</td>\n",
              "      <td>1.230474</td>\n",
              "      <td>1.228867</td>\n",
              "      <td>146.627566</td>\n",
              "    </tr>\n",
              "  </tbody>\n",
              "</table>\n",
              "<p>1171 rows × 40 columns</p>\n",
              "</div>\n",
              "      <button class=\"colab-df-convert\" onclick=\"convertToInteractive('df-eecc7038-b850-489e-92e7-0eeb2c6e0fa7')\"\n",
              "              title=\"Convert this dataframe to an interactive table.\"\n",
              "              style=\"display:none;\">\n",
              "        \n",
              "  <svg xmlns=\"http://www.w3.org/2000/svg\" height=\"24px\"viewBox=\"0 0 24 24\"\n",
              "       width=\"24px\">\n",
              "    <path d=\"M0 0h24v24H0V0z\" fill=\"none\"/>\n",
              "    <path d=\"M18.56 5.44l.94 2.06.94-2.06 2.06-.94-2.06-.94-.94-2.06-.94 2.06-2.06.94zm-11 1L8.5 8.5l.94-2.06 2.06-.94-2.06-.94L8.5 2.5l-.94 2.06-2.06.94zm10 10l.94 2.06.94-2.06 2.06-.94-2.06-.94-.94-2.06-.94 2.06-2.06.94z\"/><path d=\"M17.41 7.96l-1.37-1.37c-.4-.4-.92-.59-1.43-.59-.52 0-1.04.2-1.43.59L10.3 9.45l-7.72 7.72c-.78.78-.78 2.05 0 2.83L4 21.41c.39.39.9.59 1.41.59.51 0 1.02-.2 1.41-.59l7.78-7.78 2.81-2.81c.8-.78.8-2.07 0-2.86zM5.41 20L4 18.59l7.72-7.72 1.47 1.35L5.41 20z\"/>\n",
              "  </svg>\n",
              "      </button>\n",
              "      \n",
              "  <style>\n",
              "    .colab-df-container {\n",
              "      display:flex;\n",
              "      flex-wrap:wrap;\n",
              "      gap: 12px;\n",
              "    }\n",
              "\n",
              "    .colab-df-convert {\n",
              "      background-color: #E8F0FE;\n",
              "      border: none;\n",
              "      border-radius: 50%;\n",
              "      cursor: pointer;\n",
              "      display: none;\n",
              "      fill: #1967D2;\n",
              "      height: 32px;\n",
              "      padding: 0 0 0 0;\n",
              "      width: 32px;\n",
              "    }\n",
              "\n",
              "    .colab-df-convert:hover {\n",
              "      background-color: #E2EBFA;\n",
              "      box-shadow: 0px 1px 2px rgba(60, 64, 67, 0.3), 0px 1px 3px 1px rgba(60, 64, 67, 0.15);\n",
              "      fill: #174EA6;\n",
              "    }\n",
              "\n",
              "    [theme=dark] .colab-df-convert {\n",
              "      background-color: #3B4455;\n",
              "      fill: #D2E3FC;\n",
              "    }\n",
              "\n",
              "    [theme=dark] .colab-df-convert:hover {\n",
              "      background-color: #434B5C;\n",
              "      box-shadow: 0px 1px 3px 1px rgba(0, 0, 0, 0.15);\n",
              "      filter: drop-shadow(0px 1px 2px rgba(0, 0, 0, 0.3));\n",
              "      fill: #FFFFFF;\n",
              "    }\n",
              "  </style>\n",
              "\n",
              "      <script>\n",
              "        const buttonEl =\n",
              "          document.querySelector('#df-eecc7038-b850-489e-92e7-0eeb2c6e0fa7 button.colab-df-convert');\n",
              "        buttonEl.style.display =\n",
              "          google.colab.kernel.accessAllowed ? 'block' : 'none';\n",
              "\n",
              "        async function convertToInteractive(key) {\n",
              "          const element = document.querySelector('#df-eecc7038-b850-489e-92e7-0eeb2c6e0fa7');\n",
              "          const dataTable =\n",
              "            await google.colab.kernel.invokeFunction('convertToInteractive',\n",
              "                                                     [key], {});\n",
              "          if (!dataTable) return;\n",
              "\n",
              "          const docLinkHtml = 'Like what you see? Visit the ' +\n",
              "            '<a target=\"_blank\" href=https://colab.research.google.com/notebooks/data_table.ipynb>data table notebook</a>'\n",
              "            + ' to learn more about interactive tables.';\n",
              "          element.innerHTML = '';\n",
              "          dataTable['output_type'] = 'display_data';\n",
              "          await google.colab.output.renderOutput(dataTable, element);\n",
              "          const docLink = document.createElement('div');\n",
              "          docLink.innerHTML = docLinkHtml;\n",
              "          element.appendChild(docLink);\n",
              "        }\n",
              "      </script>\n",
              "    </div>\n",
              "  </div>\n",
              "  "
            ],
            "text/plain": [
              "      Unnamed: 0   0         1   2  ...        35        36        37          38\n",
              "0              0   0  0.940722  80  ...  0.933597  0.940206  0.946579   76.804916\n",
              "1              1   0  0.940724  80  ...  0.956945  0.934661  0.930068   76.804916\n",
              "2              2   0  0.940726  80  ...  0.943754  0.929469  0.938328   76.804916\n",
              "3              3   0  0.940727  80  ...  0.937927  0.951027  0.930477   80.645161\n",
              "4              4   0  0.940729  80  ...  0.933861  0.953529  0.930874   76.804916\n",
              "...          ...  ..       ...  ..  ...       ...       ...       ...         ...\n",
              "1166        1166  39  1.229075  45  ...  1.225901  1.228977  1.225322  201.612903\n",
              "1167        1167  39  1.229070  45  ...  1.226891  1.227386  1.226202  179.211470\n",
              "1168        1168  39  1.229066  45  ...  1.225386  1.231262  1.231019  146.627566\n",
              "1169        1169  39  1.229061  45  ...  1.226365  1.227357  1.228413  161.290323\n",
              "1170        1170  39  1.229057  45  ...  1.228765  1.230474  1.228867  146.627566\n",
              "\n",
              "[1171 rows x 40 columns]"
            ]
          },
          "metadata": {},
          "execution_count": 56
        }
      ]
    },
    {
      "cell_type": "markdown",
      "metadata": {
        "id": "_482C50pLJHL"
      },
      "source": [
        "# PCA"
      ]
    },
    {
      "cell_type": "code",
      "metadata": {
        "colab": {
          "base_uri": "https://localhost:8080/",
          "height": 661
        },
        "id": "QxgORpC-LIsj",
        "outputId": "1d3a71c5-4e28-44a2-fc51-16bb74f9b683"
      },
      "source": [
        "from sklearn.decomposition import PCA\n",
        "from sklearn.discriminant_analysis import LinearDiscriminantAnalysis\n",
        "\n",
        "n_components = x.shape[1]\n",
        "\n",
        "pca = PCA(n_components=n_components, random_state=453)\n",
        "x_r = pca.fit(x).transform(x)\n",
        "\n",
        "total_variance = sum(pca.explained_variance_)\n",
        "print(\"Total Variance in our dataset is: \",total_variance)\n",
        "var_95 = total_variance*0.95\n",
        "print(\"The 95% variance we want to have is: \", var_95)\n",
        "print(\"\")\n",
        "\n",
        "a = zip(range(0,n_components),pca.explained_variance_)\n",
        "a = pd.DataFrame(a,columns=[\"PCA Comp\", \"Explained Variance\"])\n",
        "\n",
        "# Trying to hit 95 %\n",
        "print(\"Variance explain with 2 components: \", sum(a[\"Explained Variance\"][0:2]))\n",
        "print(\"Variance explain with 5 components: \", sum(a[\"Explained Variance\"][0:5]))\n",
        "print(\"Variance explain with 10 components: \", sum(a[\"Explained Variance\"][0:10]))\n",
        "print(\"Variance explain with 12 components: \", sum(a[\"Explained Variance\"][0:12]))\n",
        "print(\"Variance explain with 18 components: \", sum(a[\"Explained Variance\"][0:18]))\n",
        "print(\"Variance explain with 20 components: \", sum(a[\"Explained Variance\"][0:20]))\n",
        "\n",
        "\n",
        "\n",
        "# Plotting the data\n",
        "plt.figure(1, figsize=(14,8))\n",
        "plt.plot(pca.explained_variance_ratio_,linewidth=2, c='r')\n",
        "plt.xlabel('n_components')\n",
        "plt.ylabel('explained_ratio_')\n",
        "\n",
        "# Plotting line with 95 %\n",
        "plt.axvline(3,linestyle=':', label='n_components - 95% variance',c = 'blue')\n",
        "plt.legend(prop=dict(size=12))\n",
        "plt.show()            \n",
        "            \n",
        "            "
      ],
      "execution_count": 57,
      "outputs": [
        {
          "output_type": "stream",
          "name": "stdout",
          "text": [
            "Total Variance in our dataset is:  3777.6332977281327\n",
            "The 95% variance we want to have is:  3588.751632841726\n",
            "\n",
            "Variance explain with 2 components:  3777.6209632393357\n",
            "Variance explain with 5 components:  3777.6248804384163\n",
            "Variance explain with 10 components:  3777.6280817116585\n",
            "Variance explain with 12 components:  3777.628986960299\n",
            "Variance explain with 18 components:  3777.6310195497554\n",
            "Variance explain with 20 components:  3777.631545520871\n"
          ]
        },
        {
          "output_type": "display_data",
          "data": {
            "image/png": "[encoded data removed]",
            "text/plain": [
              "<Figure size 1008x576 with 1 Axes>"
            ]
          },
          "metadata": {
            "needs_background": "light"
          }
        }
      ]
    },
    {
      "cell_type": "markdown",
      "source": [
        "## Running PCA again"
      ],
      "metadata": {
        "id": "J28WchoR7J2S"
      }
    },
    {
      "cell_type": "code",
      "metadata": {
        "id": "33op7MxsUbje"
      },
      "source": [
        "pca_new = PCA(n_components=6, random_state=453)\n",
        "x_r = pca_new.fit(x).transform(x)\n"
      ],
      "execution_count": 58,
      "outputs": []
    },
    {
      "cell_type": "markdown",
      "source": [
        "## Scree plot"
      ],
      "metadata": {
        "id": "Fef1pytWq-px"
      }
    },
    {
      "cell_type": "code",
      "source": [
        "explained_variance = pca_new.explained_variance_ratio_\n",
        "\n",
        "import numpy as np\n",
        "import plotly.express as px\n",
        "\n",
        "explained_variance = np.insert(explained_variance, 0, 0)\n",
        "cumulative_variance = np.cumsum(np.round(explained_variance, decimals=3))\n",
        "pc_df = pd.DataFrame(['','PC1', 'PC2', 'PC3','PC4', 'PC5', 'PC6'], columns=['PC'])\n",
        "explained_variance_df = pd.DataFrame(explained_variance, columns=['Explained Variance'])\n",
        "cumulative_variance_df = pd.DataFrame(cumulative_variance, columns=['Cumulative Variance'])\n",
        "\n",
        "df_explained_variance = pd.concat([pc_df, explained_variance_df, cumulative_variance_df], axis=1)\n",
        "df_explained_variance"
      ],
      "metadata": {
        "id": "doeCEUvQrRr0",
        "outputId": "73cbd45f-f171-468d-dcaa-52dc78b5c551",
        "colab": {
          "base_uri": "https://localhost:8080/",
          "height": 269
        }
      },
      "execution_count": 59,
      "outputs": [
        {
          "output_type": "execute_result",
          "data": {
            "text/html": [
              "\n",
              "  <div id=\"df-6dc0f416-c520-4607-84b2-2dd142db929e\">\n",
              "    <div class=\"colab-df-container\">\n",
              "      <div>\n",
              "<style scoped>\n",
              "    .dataframe tbody tr th:only-of-type {\n",
              "        vertical-align: middle;\n",
              "    }\n",
              "\n",
              "    .dataframe tbody tr th {\n",
              "        vertical-align: top;\n",
              "    }\n",
              "\n",
              "    .dataframe thead th {\n",
              "        text-align: right;\n",
              "    }\n",
              "</style>\n",
              "<table border=\"1\" class=\"dataframe\">\n",
              "  <thead>\n",
              "    <tr style=\"text-align: right;\">\n",
              "      <th></th>\n",
              "      <th>PC</th>\n",
              "      <th>Explained Variance</th>\n",
              "      <th>Cumulative Variance</th>\n",
              "    </tr>\n",
              "  </thead>\n",
              "  <tbody>\n",
              "    <tr>\n",
              "      <th>0</th>\n",
              "      <td></td>\n",
              "      <td>0.000000e+00</td>\n",
              "      <td>0.0</td>\n",
              "    </tr>\n",
              "    <tr>\n",
              "      <th>1</th>\n",
              "      <td>PC1</td>\n",
              "      <td>9.999221e-01</td>\n",
              "      <td>1.0</td>\n",
              "    </tr>\n",
              "    <tr>\n",
              "      <th>2</th>\n",
              "      <td>PC2</td>\n",
              "      <td>7.466087e-05</td>\n",
              "      <td>1.0</td>\n",
              "    </tr>\n",
              "    <tr>\n",
              "      <th>3</th>\n",
              "      <td>PC3</td>\n",
              "      <td>3.965389e-07</td>\n",
              "      <td>1.0</td>\n",
              "    </tr>\n",
              "    <tr>\n",
              "      <th>4</th>\n",
              "      <td>PC4</td>\n",
              "      <td>3.505010e-07</td>\n",
              "      <td>1.0</td>\n",
              "    </tr>\n",
              "    <tr>\n",
              "      <th>5</th>\n",
              "      <td>PC5</td>\n",
              "      <td>2.899011e-07</td>\n",
              "      <td>1.0</td>\n",
              "    </tr>\n",
              "    <tr>\n",
              "      <th>6</th>\n",
              "      <td>PC6</td>\n",
              "      <td>2.202212e-07</td>\n",
              "      <td>1.0</td>\n",
              "    </tr>\n",
              "  </tbody>\n",
              "</table>\n",
              "</div>\n",
              "      <button class=\"colab-df-convert\" onclick=\"convertToInteractive('df-6dc0f416-c520-4607-84b2-2dd142db929e')\"\n",
              "              title=\"Convert this dataframe to an interactive table.\"\n",
              "              style=\"display:none;\">\n",
              "        \n",
              "  <svg xmlns=\"http://www.w3.org/2000/svg\" height=\"24px\"viewBox=\"0 0 24 24\"\n",
              "       width=\"24px\">\n",
              "    <path d=\"M0 0h24v24H0V0z\" fill=\"none\"/>\n",
              "    <path d=\"M18.56 5.44l.94 2.06.94-2.06 2.06-.94-2.06-.94-.94-2.06-.94 2.06-2.06.94zm-11 1L8.5 8.5l.94-2.06 2.06-.94-2.06-.94L8.5 2.5l-.94 2.06-2.06.94zm10 10l.94 2.06.94-2.06 2.06-.94-2.06-.94-.94-2.06-.94 2.06-2.06.94z\"/><path d=\"M17.41 7.96l-1.37-1.37c-.4-.4-.92-.59-1.43-.59-.52 0-1.04.2-1.43.59L10.3 9.45l-7.72 7.72c-.78.78-.78 2.05 0 2.83L4 21.41c.39.39.9.59 1.41.59.51 0 1.02-.2 1.41-.59l7.78-7.78 2.81-2.81c.8-.78.8-2.07 0-2.86zM5.41 20L4 18.59l7.72-7.72 1.47 1.35L5.41 20z\"/>\n",
              "  </svg>\n",
              "      </button>\n",
              "      \n",
              "  <style>\n",
              "    .colab-df-container {\n",
              "      display:flex;\n",
              "      flex-wrap:wrap;\n",
              "      gap: 12px;\n",
              "    }\n",
              "\n",
              "    .colab-df-convert {\n",
              "      background-color: #E8F0FE;\n",
              "      border: none;\n",
              "      border-radius: 50%;\n",
              "      cursor: pointer;\n",
              "      display: none;\n",
              "      fill: #1967D2;\n",
              "      height: 32px;\n",
              "      padding: 0 0 0 0;\n",
              "      width: 32px;\n",
              "    }\n",
              "\n",
              "    .colab-df-convert:hover {\n",
              "      background-color: #E2EBFA;\n",
              "      box-shadow: 0px 1px 2px rgba(60, 64, 67, 0.3), 0px 1px 3px 1px rgba(60, 64, 67, 0.15);\n",
              "      fill: #174EA6;\n",
              "    }\n",
              "\n",
              "    [theme=dark] .colab-df-convert {\n",
              "      background-color: #3B4455;\n",
              "      fill: #D2E3FC;\n",
              "    }\n",
              "\n",
              "    [theme=dark] .colab-df-convert:hover {\n",
              "      background-color: #434B5C;\n",
              "      box-shadow: 0px 1px 3px 1px rgba(0, 0, 0, 0.15);\n",
              "      filter: drop-shadow(0px 1px 2px rgba(0, 0, 0, 0.3));\n",
              "      fill: #FFFFFF;\n",
              "    }\n",
              "  </style>\n",
              "\n",
              "      <script>\n",
              "        const buttonEl =\n",
              "          document.querySelector('#df-6dc0f416-c520-4607-84b2-2dd142db929e button.colab-df-convert');\n",
              "        buttonEl.style.display =\n",
              "          google.colab.kernel.accessAllowed ? 'block' : 'none';\n",
              "\n",
              "        async function convertToInteractive(key) {\n",
              "          const element = document.querySelector('#df-6dc0f416-c520-4607-84b2-2dd142db929e');\n",
              "          const dataTable =\n",
              "            await google.colab.kernel.invokeFunction('convertToInteractive',\n",
              "                                                     [key], {});\n",
              "          if (!dataTable) return;\n",
              "\n",
              "          const docLinkHtml = 'Like what you see? Visit the ' +\n",
              "            '<a target=\"_blank\" href=https://colab.research.google.com/notebooks/data_table.ipynb>data table notebook</a>'\n",
              "            + ' to learn more about interactive tables.';\n",
              "          element.innerHTML = '';\n",
              "          dataTable['output_type'] = 'display_data';\n",
              "          await google.colab.output.renderOutput(dataTable, element);\n",
              "          const docLink = document.createElement('div');\n",
              "          docLink.innerHTML = docLinkHtml;\n",
              "          element.appendChild(docLink);\n",
              "        }\n",
              "      </script>\n",
              "    </div>\n",
              "  </div>\n",
              "  "
            ],
            "text/plain": [
              "    PC  Explained Variance  Cumulative Variance\n",
              "0             0.000000e+00                  0.0\n",
              "1  PC1        9.999221e-01                  1.0\n",
              "2  PC2        7.466087e-05                  1.0\n",
              "3  PC3        3.965389e-07                  1.0\n",
              "4  PC4        3.505010e-07                  1.0\n",
              "5  PC5        2.899011e-07                  1.0\n",
              "6  PC6        2.202212e-07                  1.0"
            ]
          },
          "metadata": {},
          "execution_count": 59
        }
      ]
    },
    {
      "cell_type": "code",
      "source": [
        "import plotly.graph_objects as go\n",
        "\n",
        "fig = go.Figure()\n",
        "\n",
        "fig.add_trace(\n",
        "    go.Scatter(\n",
        "        x=df_explained_variance['PC'],\n",
        "        y=df_explained_variance['Cumulative Variance'],\n",
        "        marker=dict(size=15, color=\"LightSeaGreen\")\n",
        "    ))\n",
        "\n",
        "fig.add_trace(\n",
        "    go.Bar(\n",
        "        x=df_explained_variance['PC'],\n",
        "        y=df_explained_variance['Explained Variance'],\n",
        "        marker=dict(color=\"RoyalBlue\")\n",
        "    ))\n",
        "\n",
        "fig.show()"
      ],
      "metadata": {
        "id": "PvqQotu3r33i",
        "outputId": "6ecffe3b-9fef-42fe-acf4-1942bd6f552c",
        "colab": {
          "base_uri": "https://localhost:8080/",
          "height": 542
        }
      },
      "execution_count": 60,
      "outputs": [
        {
          "output_type": "display_data",
          "data": {
            "text/html": [
              "<html>\n",
              "<head><meta charset=\"utf-8\" /></head>\n",
              "<body>\n",
              "    <div>            <script src=\"https://cdnjs.cloudflare.com/ajax/libs/mathjax/2.7.5/MathJax.js?config=TeX-AMS-MML_SVG\"></script><script type=\"text/javascript\">if (window.MathJax) {MathJax.Hub.Config({SVG: {font: \"STIX-Web\"}});}</script>                <script type=\"text/javascript\">window.PlotlyConfig = {MathJaxConfig: 'local'};</script>\n",
              "        <script src=\"https://cdn.plot.ly/plotly-2.8.3.min.js\"></script>                <div id=\"5f1defbc-7c62-4da4-9ac5-bc6ba8ad7c64\" class=\"plotly-graph-div\" style=\"height:525px; width:100%;\"></div>            <script type=\"text/javascript\">                                    window.PLOTLYENV=window.PLOTLYENV || {};                                    if (document.getElementById(\"5f1defbc-7c62-4da4-9ac5-bc6ba8ad7c64\")) {                    Plotly.newPlot(                        \"5f1defbc-7c62-4da4-9ac5-bc6ba8ad7c64\",                        [{\"marker\":{\"color\":\"LightSeaGreen\",\"size\":15},\"x\":[\"\",\"PC1\",\"PC2\",\"PC3\",\"PC4\",\"PC5\",\"PC6\"],\"y\":[0.0,1.0,1.0,1.0,1.0,1.0,1.0],\"type\":\"scatter\"},{\"marker\":{\"color\":\"RoyalBlue\"},\"x\":[\"\",\"PC1\",\"PC2\",\"PC3\",\"PC4\",\"PC5\",\"PC6\"],\"y\":[0.0,0.9999220739888056,7.466087458040114e-05,3.9653886204923975e-07,3.5050099289347774e-07,2.8990107307507983e-07,2.202212188661962e-07],\"type\":\"bar\"}],                        {\"template\":{\"data\":{\"bar\":[{\"error_x\":{\"color\":\"#2a3f5f\"},\"error_y\":{\"color\":\"#2a3f5f\"},\"marker\":{\"line\":{\"color\":\"#E5ECF6\",\"width\":0.5},\"pattern\":{\"fillmode\":\"overlay\",\"size\":10,\"solidity\":0.2}},\"type\":\"bar\"}],\"barpolar\":[{\"marker\":{\"line\":{\"color\":\"#E5ECF6\",\"width\":0.5},\"pattern\":{\"fillmode\":\"overlay\",\"size\":10,\"solidity\":0.2}},\"type\":\"barpolar\"}],\"carpet\":[{\"aaxis\":{\"endlinecolor\":\"#2a3f5f\",\"gridcolor\":\"white\",\"linecolor\":\"white\",\"minorgridcolor\":\"white\",\"startlinecolor\":\"#2a3f5f\"},\"baxis\":{\"endlinecolor\":\"#2a3f5f\",\"gridcolor\":\"white\",\"linecolor\":\"white\",\"minorgridcolor\":\"white\",\"startlinecolor\":\"#2a3f5f\"},\"type\":\"carpet\"}],\"choropleth\":[{\"colorbar\":{\"outlinewidth\":0,\"ticks\":\"\"},\"type\":\"choropleth\"}],\"contour\":[{\"colorbar\":{\"outlinewidth\":0,\"ticks\":\"\"},\"colorscale\":[[0.0,\"#0d0887\"],[0.1111111111111111,\"#46039f\"],[0.2222222222222222,\"#7201a8\"],[0.3333333333333333,\"#9c179e\"],[0.4444444444444444,\"#bd3786\"],[0.5555555555555556,\"#d8576b\"],[0.6666666666666666,\"#ed7953\"],[0.7777777777777778,\"#fb9f3a\"],[0.8888888888888888,\"#fdca26\"],[1.0,\"#f0f921\"]],\"type\":\"contour\"}],\"contourcarpet\":[{\"colorbar\":{\"outlinewidth\":0,\"ticks\":\"\"},\"type\":\"contourcarpet\"}],\"heatmap\":[{\"colorbar\":{\"outlinewidth\":0,\"ticks\":\"\"},\"colorscale\":[[0.0,\"#0d0887\"],[0.1111111111111111,\"#46039f\"],[0.2222222222222222,\"#7201a8\"],[0.3333333333333333,\"#9c179e\"],[0.4444444444444444,\"#bd3786\"],[0.5555555555555556,\"#d8576b\"],[0.6666666666666666,\"#ed7953\"],[0.7777777777777778,\"#fb9f3a\"],[0.8888888888888888,\"#fdca26\"],[1.0,\"#f0f921\"]],\"type\":\"heatmap\"}],\"heatmapgl\":[{\"colorbar\":{\"outlinewidth\":0,\"ticks\":\"\"},\"colorscale\":[[0.0,\"#0d0887\"],[0.1111111111111111,\"#46039f\"],[0.2222222222222222,\"#7201a8\"],[0.3333333333333333,\"#9c179e\"],[0.4444444444444444,\"#bd3786\"],[0.5555555555555556,\"#d8576b\"],[0.6666666666666666,\"#ed7953\"],[0.7777777777777778,\"#fb9f3a\"],[0.8888888888888888,\"#fdca26\"],[1.0,\"#f0f921\"]],\"type\":\"heatmapgl\"}],\"histogram\":[{\"marker\":{\"pattern\":{\"fillmode\":\"overlay\",\"size\":10,\"solidity\":0.2}},\"type\":\"histogram\"}],\"histogram2d\":[{\"colorbar\":{\"outlinewidth\":0,\"ticks\":\"\"},\"colorscale\":[[0.0,\"#0d0887\"],[0.1111111111111111,\"#46039f\"],[0.2222222222222222,\"#7201a8\"],[0.3333333333333333,\"#9c179e\"],[0.4444444444444444,\"#bd3786\"],[0.5555555555555556,\"#d8576b\"],[0.6666666666666666,\"#ed7953\"],[0.7777777777777778,\"#fb9f3a\"],[0.8888888888888888,\"#fdca26\"],[1.0,\"#f0f921\"]],\"type\":\"histogram2d\"}],\"histogram2dcontour\":[{\"colorbar\":{\"outlinewidth\":0,\"ticks\":\"\"},\"colorscale\":[[0.0,\"#0d0887\"],[0.1111111111111111,\"#46039f\"],[0.2222222222222222,\"#7201a8\"],[0.3333333333333333,\"#9c179e\"],[0.4444444444444444,\"#bd3786\"],[0.5555555555555556,\"#d8576b\"],[0.6666666666666666,\"#ed7953\"],[0.7777777777777778,\"#fb9f3a\"],[0.8888888888888888,\"#fdca26\"],[1.0,\"#f0f921\"]],\"type\":\"histogram2dcontour\"}],\"mesh3d\":[{\"colorbar\":{\"outlinewidth\":0,\"ticks\":\"\"},\"type\":\"mesh3d\"}],\"parcoords\":[{\"line\":{\"colorbar\":{\"outlinewidth\":0,\"ticks\":\"\"}},\"type\":\"parcoords\"}],\"pie\":[{\"automargin\":true,\"type\":\"pie\"}],\"scatter\":[{\"marker\":{\"colorbar\":{\"outlinewidth\":0,\"ticks\":\"\"}},\"type\":\"scatter\"}],\"scatter3d\":[{\"line\":{\"colorbar\":{\"outlinewidth\":0,\"ticks\":\"\"}},\"marker\":{\"colorbar\":{\"outlinewidth\":0,\"ticks\":\"\"}},\"type\":\"scatter3d\"}],\"scattercarpet\":[{\"marker\":{\"colorbar\":{\"outlinewidth\":0,\"ticks\":\"\"}},\"type\":\"scattercarpet\"}],\"scattergeo\":[{\"marker\":{\"colorbar\":{\"outlinewidth\":0,\"ticks\":\"\"}},\"type\":\"scattergeo\"}],\"scattergl\":[{\"marker\":{\"colorbar\":{\"outlinewidth\":0,\"ticks\":\"\"}},\"type\":\"scattergl\"}],\"scattermapbox\":[{\"marker\":{\"colorbar\":{\"outlinewidth\":0,\"ticks\":\"\"}},\"type\":\"scattermapbox\"}],\"scatterpolar\":[{\"marker\":{\"colorbar\":{\"outlinewidth\":0,\"ticks\":\"\"}},\"type\":\"scatterpolar\"}],\"scatterpolargl\":[{\"marker\":{\"colorbar\":{\"outlinewidth\":0,\"ticks\":\"\"}},\"type\":\"scatterpolargl\"}],\"scatterternary\":[{\"marker\":{\"colorbar\":{\"outlinewidth\":0,\"ticks\":\"\"}},\"type\":\"scatterternary\"}],\"surface\":[{\"colorbar\":{\"outlinewidth\":0,\"ticks\":\"\"},\"colorscale\":[[0.0,\"#0d0887\"],[0.1111111111111111,\"#46039f\"],[0.2222222222222222,\"#7201a8\"],[0.3333333333333333,\"#9c179e\"],[0.4444444444444444,\"#bd3786\"],[0.5555555555555556,\"#d8576b\"],[0.6666666666666666,\"#ed7953\"],[0.7777777777777778,\"#fb9f3a\"],[0.8888888888888888,\"#fdca26\"],[1.0,\"#f0f921\"]],\"type\":\"surface\"}],\"table\":[{\"cells\":{\"fill\":{\"color\":\"#EBF0F8\"},\"line\":{\"color\":\"white\"}},\"header\":{\"fill\":{\"color\":\"#C8D4E3\"},\"line\":{\"color\":\"white\"}},\"type\":\"table\"}]},\"layout\":{\"annotationdefaults\":{\"arrowcolor\":\"#2a3f5f\",\"arrowhead\":0,\"arrowwidth\":1},\"autotypenumbers\":\"strict\",\"coloraxis\":{\"colorbar\":{\"outlinewidth\":0,\"ticks\":\"\"}},\"colorscale\":{\"diverging\":[[0,\"#8e0152\"],[0.1,\"#c51b7d\"],[0.2,\"#de77ae\"],[0.3,\"#f1b6da\"],[0.4,\"#fde0ef\"],[0.5,\"#f7f7f7\"],[0.6,\"#e6f5d0\"],[0.7,\"#b8e186\"],[0.8,\"#7fbc41\"],[0.9,\"#4d9221\"],[1,\"#276419\"]],\"sequential\":[[0.0,\"#0d0887\"],[0.1111111111111111,\"#46039f\"],[0.2222222222222222,\"#7201a8\"],[0.3333333333333333,\"#9c179e\"],[0.4444444444444444,\"#bd3786\"],[0.5555555555555556,\"#d8576b\"],[0.6666666666666666,\"#ed7953\"],[0.7777777777777778,\"#fb9f3a\"],[0.8888888888888888,\"#fdca26\"],[1.0,\"#f0f921\"]],\"sequentialminus\":[[0.0,\"#0d0887\"],[0.1111111111111111,\"#46039f\"],[0.2222222222222222,\"#7201a8\"],[0.3333333333333333,\"#9c179e\"],[0.4444444444444444,\"#bd3786\"],[0.5555555555555556,\"#d8576b\"],[0.6666666666666666,\"#ed7953\"],[0.7777777777777778,\"#fb9f3a\"],[0.8888888888888888,\"#fdca26\"],[1.0,\"#f0f921\"]]},\"colorway\":[\"#636efa\",\"#EF553B\",\"#00cc96\",\"#ab63fa\",\"#FFA15A\",\"#19d3f3\",\"#FF6692\",\"#B6E880\",\"#FF97FF\",\"#FECB52\"],\"font\":{\"color\":\"#2a3f5f\"},\"geo\":{\"bgcolor\":\"white\",\"lakecolor\":\"white\",\"landcolor\":\"#E5ECF6\",\"showlakes\":true,\"showland\":true,\"subunitcolor\":\"white\"},\"hoverlabel\":{\"align\":\"left\"},\"hovermode\":\"closest\",\"mapbox\":{\"style\":\"light\"},\"paper_bgcolor\":\"white\",\"plot_bgcolor\":\"#E5ECF6\",\"polar\":{\"angularaxis\":{\"gridcolor\":\"white\",\"linecolor\":\"white\",\"ticks\":\"\"},\"bgcolor\":\"#E5ECF6\",\"radialaxis\":{\"gridcolor\":\"white\",\"linecolor\":\"white\",\"ticks\":\"\"}},\"scene\":{\"xaxis\":{\"backgroundcolor\":\"#E5ECF6\",\"gridcolor\":\"white\",\"gridwidth\":2,\"linecolor\":\"white\",\"showbackground\":true,\"ticks\":\"\",\"zerolinecolor\":\"white\"},\"yaxis\":{\"backgroundcolor\":\"#E5ECF6\",\"gridcolor\":\"white\",\"gridwidth\":2,\"linecolor\":\"white\",\"showbackground\":true,\"ticks\":\"\",\"zerolinecolor\":\"white\"},\"zaxis\":{\"backgroundcolor\":\"#E5ECF6\",\"gridcolor\":\"white\",\"gridwidth\":2,\"linecolor\":\"white\",\"showbackground\":true,\"ticks\":\"\",\"zerolinecolor\":\"white\"}},\"shapedefaults\":{\"line\":{\"color\":\"#2a3f5f\"}},\"ternary\":{\"aaxis\":{\"gridcolor\":\"white\",\"linecolor\":\"white\",\"ticks\":\"\"},\"baxis\":{\"gridcolor\":\"white\",\"linecolor\":\"white\",\"ticks\":\"\"},\"bgcolor\":\"#E5ECF6\",\"caxis\":{\"gridcolor\":\"white\",\"linecolor\":\"white\",\"ticks\":\"\"}},\"title\":{\"x\":0.05},\"xaxis\":{\"automargin\":true,\"gridcolor\":\"white\",\"linecolor\":\"white\",\"ticks\":\"\",\"title\":{\"standoff\":15},\"zerolinecolor\":\"white\",\"zerolinewidth\":2},\"yaxis\":{\"automargin\":true,\"gridcolor\":\"white\",\"linecolor\":\"white\",\"ticks\":\"\",\"title\":{\"standoff\":15},\"zerolinecolor\":\"white\",\"zerolinewidth\":2}}}},                        {\"responsive\": true}                    ).then(function(){\n",
              "                            \n",
              "var gd = document.getElementById('5f1defbc-7c62-4da4-9ac5-bc6ba8ad7c64');\n",
              "var x = new MutationObserver(function (mutations, observer) {{\n",
              "        var display = window.getComputedStyle(gd).display;\n",
              "        if (!display || display === 'none') {{\n",
              "            console.log([gd, 'removed!']);\n",
              "            Plotly.purge(gd);\n",
              "            observer.disconnect();\n",
              "        }}\n",
              "}});\n",
              "\n",
              "// Listen for the removal of the full notebook cells\n",
              "var notebookContainer = gd.closest('#notebook-container');\n",
              "if (notebookContainer) {{\n",
              "    x.observe(notebookContainer, {childList: true});\n",
              "}}\n",
              "\n",
              "// Listen for the clearing of the current output cell\n",
              "var outputEl = gd.closest('.output');\n",
              "if (outputEl) {{\n",
              "    x.observe(outputEl, {childList: true});\n",
              "}}\n",
              "\n",
              "                        })                };                            </script>        </div>\n",
              "</body>\n",
              "</html>"
            ]
          },
          "metadata": {}
        }
      ]
    },
    {
      "cell_type": "markdown",
      "source": [
        "### Save the figure"
      ],
      "metadata": {
        "id": "lB-u5qCE7Auj"
      }
    },
    {
      "cell_type": "code",
      "source": [
        "#%%capture\n",
        "#!pip install kaleido\n",
        "#!pip install plotly>=4.0.0\n",
        "#!wget https://github.com/plotly/orca/releases/download/v1.2.1/orca-1.2.1-x86_64.AppImage -O /usr/local/bin/orca\n",
        "#!chmod +x /usr/local/bin/orca\n",
        "#!apt-get install xvfb libgtk2.0-0 libgconf-2-4\n",
        "\n",
        "#import os\n",
        "\n",
        "#if not os.path.exists(\"images\"):\n",
        "#    os.mkdir(\"images\")\n",
        "\n",
        "#fig.write_image(\"images/fig1.svg\")"
      ],
      "metadata": {
        "id": "_gtw_Xq8WZZQ"
      },
      "execution_count": 61,
      "outputs": []
    },
    {
      "cell_type": "markdown",
      "metadata": {
        "id": "iMYeMfBumaye"
      },
      "source": [
        "## Train test and split"
      ]
    },
    {
      "cell_type": "code",
      "metadata": {
        "id": "PZeolu4WmTzn"
      },
      "source": [
        "from collections import Counter\n",
        "print(\"Labels distribution:\",Counter(y))\n",
        "\n",
        "# train-test split\n",
        "\n",
        "# In case of PCA is used change x to x_r\n",
        "x_train, x_test, y_train, y_test = sklearn.model_selection.train_test_split(x, y, random_state=10,train_size=0.5)\n",
        "print(\"Train labels distribution:\", Counter(y_train))\n",
        "print(\"Test labels distribution:\",Counter(y_test))\n"
      ],
      "execution_count": null,
      "outputs": []
    },
    {
      "cell_type": "code",
      "metadata": {
        "colab": {
          "base_uri": "https://localhost:8080/"
        },
        "id": "MFvzt1jaIO4E",
        "outputId": "847fb86c-594c-4c92-d515-5922190d6ac9"
      },
      "source": [
        "print(x_train.shape)\n",
        "print(x_test.shape)\n",
        "print(y_train.shape)\n",
        "print(y_test.shape)"
      ],
      "execution_count": 63,
      "outputs": [
        {
          "output_type": "stream",
          "name": "stdout",
          "text": [
            "(585, 36)\n",
            "(586, 36)\n",
            "(585,)\n",
            "(586,)\n"
          ]
        }
      ]
    },
    {
      "cell_type": "markdown",
      "metadata": {
        "id": "wS4aSbVSH0q0"
      },
      "source": [
        "## Train the model"
      ]
    },
    {
      "cell_type": "code",
      "metadata": {
        "colab": {
          "base_uri": "https://localhost:8080/"
        },
        "id": "o4dhcgg3HxNz",
        "outputId": "be2fd84e-9e41-4cbb-a44e-c4439083d258"
      },
      "source": [
        "from sklearn.linear_model import LinearRegression\n",
        "ml = LinearRegression()\n",
        "ml.fit(x_train,y_train)"
      ],
      "execution_count": 64,
      "outputs": [
        {
          "output_type": "execute_result",
          "data": {
            "text/plain": [
              "LinearRegression()"
            ]
          },
          "metadata": {},
          "execution_count": 64
        }
      ]
    },
    {
      "cell_type": "markdown",
      "metadata": {
        "id": "Kd_jWhZAIFCJ"
      },
      "source": [
        "## Predict test results"
      ]
    },
    {
      "cell_type": "code",
      "metadata": {
        "id": "gC-mZudFIHmx"
      },
      "source": [
        "y_pred = ml.predict(x_test)"
      ],
      "execution_count": 65,
      "outputs": []
    },
    {
      "cell_type": "markdown",
      "metadata": {
        "id": "rWCQgFraax2P"
      },
      "source": [
        "y = β0 + β1 · x1 +  β2 · x2 + ... + βn · xn"
      ]
    },
    {
      "cell_type": "markdown",
      "source": [
        "## Change units to have the weight in grams"
      ],
      "metadata": {
        "id": "_hwLyp-q-qBI"
      }
    },
    {
      "cell_type": "code",
      "source": [
        "m = 5191420.51\n",
        "std_m = 639.702\n",
        "q = -4874.38\n",
        "std_q = 0.3818\n",
        "\n",
        "std_tot = 0.3818\n",
        "MSE_statica = 0.1458\n",
        "\n",
        "y_pred_g = m*(y_pred/1000) + q\n",
        "y_test_g = m*(y_test/1000) + q\n"
      ],
      "metadata": {
        "id": "1MTA1Dvd-wWS"
      },
      "execution_count": 66,
      "outputs": []
    },
    {
      "cell_type": "markdown",
      "metadata": {
        "id": "-vuoCl-GIkG6"
      },
      "source": [
        "## Evaluate the model"
      ]
    },
    {
      "cell_type": "code",
      "source": [
        "from sklearn.metrics import r2_score\n",
        "r2_score = r2_score(y_test,y_pred)\n",
        "\n",
        "from sklearn.metrics import mean_squared_error\n",
        "import math\n",
        "\n",
        "MSE_regressor = (mean_squared_error(y_test_g, y_pred_g)*y_test_g.shape[0])/(y_test_g.shape[0] -2)\n",
        "RMSE_regressor = math.sqrt(MSE_regressor)\n",
        "\n",
        "RMSE_tot = math.sqrt(MSE_regressor + MSE_statica)\n",
        "print(\"RMSE Regressore: \" + str(round(RMSE_regressor,4)) + \"\\t \\t\" + \"RMSE totale: \" + str(round(RMSE_tot,4)) + \"\\t \\t\" + \"R^2 :\" + str(r2_score))"
      ],
      "metadata": {
        "colab": {
          "base_uri": "https://localhost:8080/"
        },
        "id": "owG_NhU5GmZQ",
        "outputId": "be5ad427-4755-48aa-9d09-ab19b353a5e8"
      },
      "execution_count": 78,
      "outputs": [
        {
          "output_type": "stream",
          "name": "stdout",
          "text": [
            "RMSE Regressore: 2.6005\t \tRMSE totale: 2.6284\t \tR^2 :0.9999714043269\n"
          ]
        }
      ]
    },
    {
      "cell_type": "markdown",
      "metadata": {
        "id": "4sOkB98RI6w0"
      },
      "source": [
        "## Plot the results"
      ]
    },
    {
      "cell_type": "markdown",
      "source": [
        "### Reproduce scikit-learn results with linear algebra"
      ],
      "metadata": {
        "id": "cShCSSxNTuVc"
      }
    },
    {
      "cell_type": "code",
      "source": [
        "N = len(x_test)\n",
        "p = x_test.shape[1] + 1\n"
      ],
      "metadata": {
        "id": "6Xnm5rK9Ttdy"
      },
      "execution_count": 68,
      "outputs": []
    },
    {
      "cell_type": "code",
      "source": [
        "X_with_intercept = np.empty(shape=(N, p), dtype=np.float)\n",
        "X_with_intercept[:, 0] = 1\n",
        "X_with_intercept[:, 1:p] = x_test"
      ],
      "metadata": {
        "id": "E-lvGBxyTSED"
      },
      "execution_count": 69,
      "outputs": []
    },
    {
      "cell_type": "code",
      "source": [
        "beta_hat = np.linalg.inv(X_with_intercept.T @ X_with_intercept) @ X_with_intercept.T @ y_test\n"
      ],
      "metadata": {
        "id": "-2JaWPwNVaQT"
      },
      "execution_count": 70,
      "outputs": []
    },
    {
      "cell_type": "code",
      "source": [
        "import statsmodels.api as sm\n",
        "ols = sm.OLS(y_test, X_with_intercept)\n",
        "ols_result = ols.fit()\n",
        "\n",
        "std = ols_result.bse\n",
        "coefficient = print(ols_result.params)\n",
        "norm=0\n",
        "for el in std:\n",
        "  norm+=math.pow(el,2)\n",
        "print(math.sqrt(norm))\n",
        "print(std)"
      ],
      "metadata": {
        "colab": {
          "base_uri": "https://localhost:8080/"
        },
        "id": "pGEYN1APVpjb",
        "outputId": "4444ce6f-8a57-43ab-c9e5-2075dc7c843d"
      },
      "execution_count": 71,
      "outputs": [
        {
          "output_type": "stream",
          "name": "stdout",
          "text": [
            "[-6.39408071e-04  1.79860884e-03  2.13441628e-03 -7.13128011e-04\n",
            "  1.01952414e-03  3.39127537e-03  7.52217329e-03  1.11162564e-02\n",
            "  1.30953869e-02  1.69379390e-02  1.97328259e-02  2.49578810e-02\n",
            "  2.83387146e-02  2.80539711e-02  2.93243130e-02  3.32836321e-02\n",
            "  3.53590469e-02  3.59094598e-02  3.94004430e-02  4.47938123e-02\n",
            "  4.55957000e-02  4.70673753e-02  4.43519509e-02  4.66449300e-02\n",
            "  4.95208611e-02  5.07479770e-02  4.45257716e-02  4.19195975e-02\n",
            "  4.24045173e-02  4.79997662e-02  4.85403757e-02  3.67397997e-02\n",
            "  2.53978414e-02  1.97992732e-02  1.91472705e-02  1.56703907e-02\n",
            " -3.92392569e-06]\n",
            "0.013952548808276493\n",
            "[2.29255857e-04 7.79248233e-04 1.26570645e-03 1.59353474e-03\n",
            " 1.73311054e-03 1.75760785e-03 1.75560303e-03 1.62226854e-03\n",
            " 1.74139091e-03 1.88406904e-03 1.93670236e-03 1.80386194e-03\n",
            " 2.09853040e-03 2.29582951e-03 2.35238895e-03 2.60519801e-03\n",
            " 2.73432581e-03 2.67987387e-03 2.57225202e-03 2.34241905e-03\n",
            " 2.19767112e-03 2.12044426e-03 2.21190126e-03 2.43728259e-03\n",
            " 2.44361719e-03 2.37347351e-03 2.57777641e-03 2.77138127e-03\n",
            " 2.79583088e-03 2.85638075e-03 3.21140923e-03 3.42980830e-03\n",
            " 3.17632975e-03 2.90840963e-03 2.79669646e-03 2.28274620e-03\n",
            " 3.70430851e-07]\n"
          ]
        }
      ]
    },
    {
      "cell_type": "code",
      "source": [
        "print(ols_result.summary())"
      ],
      "metadata": {
        "colab": {
          "base_uri": "https://localhost:8080/"
        },
        "id": "1WRTzzc2vAyy",
        "outputId": "2f83e6e0-d891-4cd3-e97b-c5d8da7cc32d"
      },
      "execution_count": 72,
      "outputs": [
        {
          "output_type": "stream",
          "name": "stdout",
          "text": [
            "                            OLS Regression Results                            \n",
            "==============================================================================\n",
            "Dep. Variable:                      y   R-squared:                       1.000\n",
            "Model:                            OLS   Adj. R-squared:                  1.000\n",
            "Method:                 Least Squares   F-statistic:                 6.971e+05\n",
            "Date:                Sat, 12 Feb 2022   Prob (F-statistic):               0.00\n",
            "Time:                        17:19:41   Log-Likelihood:                 3701.1\n",
            "No. Observations:                 586   AIC:                            -7328.\n",
            "Df Residuals:                     549   BIC:                            -7166.\n",
            "Df Model:                          36                                         \n",
            "Covariance Type:            nonrobust                                         \n",
            "==============================================================================\n",
            "                 coef    std err          t      P>|t|      [0.025      0.975]\n",
            "------------------------------------------------------------------------------\n",
            "const         -0.0006      0.000     -2.789      0.005      -0.001      -0.000\n",
            "x1             0.0018      0.001      2.308      0.021       0.000       0.003\n",
            "x2             0.0021      0.001      1.686      0.092      -0.000       0.005\n",
            "x3            -0.0007      0.002     -0.448      0.655      -0.004       0.002\n",
            "x4             0.0010      0.002      0.588      0.557      -0.002       0.004\n",
            "x5             0.0034      0.002      1.929      0.054   -6.12e-05       0.007\n",
            "x6             0.0075      0.002      4.285      0.000       0.004       0.011\n",
            "x7             0.0111      0.002      6.852      0.000       0.008       0.014\n",
            "x8             0.0131      0.002      7.520      0.000       0.010       0.017\n",
            "x9             0.0169      0.002      8.990      0.000       0.013       0.021\n",
            "x10            0.0197      0.002     10.189      0.000       0.016       0.024\n",
            "x11            0.0250      0.002     13.836      0.000       0.021       0.029\n",
            "x12            0.0283      0.002     13.504      0.000       0.024       0.032\n",
            "x13            0.0281      0.002     12.220      0.000       0.024       0.033\n",
            "x14            0.0293      0.002     12.466      0.000       0.025       0.034\n",
            "x15            0.0333      0.003     12.776      0.000       0.028       0.038\n",
            "x16            0.0354      0.003     12.932      0.000       0.030       0.041\n",
            "x17            0.0359      0.003     13.400      0.000       0.031       0.041\n",
            "x18            0.0394      0.003     15.317      0.000       0.034       0.044\n",
            "x19            0.0448      0.002     19.123      0.000       0.040       0.049\n",
            "x20            0.0456      0.002     20.747      0.000       0.041       0.050\n",
            "x21            0.0471      0.002     22.197      0.000       0.043       0.051\n",
            "x22            0.0444      0.002     20.052      0.000       0.040       0.049\n",
            "x23            0.0466      0.002     19.138      0.000       0.042       0.051\n",
            "x24            0.0495      0.002     20.265      0.000       0.045       0.054\n",
            "x25            0.0507      0.002     21.381      0.000       0.046       0.055\n",
            "x26            0.0445      0.003     17.273      0.000       0.039       0.050\n",
            "x27            0.0419      0.003     15.126      0.000       0.036       0.047\n",
            "x28            0.0424      0.003     15.167      0.000       0.037       0.048\n",
            "x29            0.0480      0.003     16.804      0.000       0.042       0.054\n",
            "x30            0.0485      0.003     15.115      0.000       0.042       0.055\n",
            "x31            0.0367      0.003     10.712      0.000       0.030       0.043\n",
            "x32            0.0254      0.003      7.996      0.000       0.019       0.032\n",
            "x33            0.0198      0.003      6.808      0.000       0.014       0.026\n",
            "x34            0.0191      0.003      6.846      0.000       0.014       0.025\n",
            "x35            0.0157      0.002      6.865      0.000       0.011       0.020\n",
            "x36        -3.924e-06    3.7e-07    -10.593      0.000   -4.65e-06    -3.2e-06\n",
            "==============================================================================\n",
            "Omnibus:                      157.433   Durbin-Watson:                   1.884\n",
            "Prob(Omnibus):                  0.000   Jarque-Bera (JB):             3096.088\n",
            "Skew:                          -0.649   Prob(JB):                         0.00\n",
            "Kurtosis:                      14.186   Cond. No.                     7.13e+04\n",
            "==============================================================================\n",
            "\n",
            "Warnings:\n",
            "[1] Standard Errors assume that the covariance matrix of the errors is correctly specified.\n",
            "[2] The condition number is large, 7.13e+04. This might indicate that there are\n",
            "strong multicollinearity or other numerical problems.\n"
          ]
        }
      ]
    },
    {
      "cell_type": "code",
      "source": [
        "plt.scatter(y_test,y_pred)\n",
        "plt.rcParams.update({'font.size': 14})\n",
        "plt.xlim(0.92,1.25)\n",
        "plt.ylim(0.92,1.25)\n",
        "plt.xlabel('Peso predetto [mV/V]')\n",
        "plt.ylabel('Peso reale [mV/V]')\n",
        "\n",
        "# Save the figure\n",
        "plt.savefig(\"reale-predetto.pdf\")"
      ],
      "metadata": {
        "colab": {
          "base_uri": "https://localhost:8080/",
          "height": 293
        },
        "id": "ZIb8BJ7xpvvF",
        "outputId": "451a4428-7489-4e24-901c-bcf89b38ebea"
      },
      "execution_count": 73,
      "outputs": [
        {
          "output_type": "display_data",
          "data": {
            "image/png": "[encoded data removed]",
            "text/plain": [
              "<Figure size 432x288 with 1 Axes>"
            ]
          },
          "metadata": {
            "needs_background": "light"
          }
        }
      ]
    }
  ]
}