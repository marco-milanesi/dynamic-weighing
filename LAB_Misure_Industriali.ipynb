{
  "nbformat": 4,
  "nbformat_minor": 0,
  "metadata": {
    "colab": {
      "name": "LAB_Misure_Industriali.ipynb",
      "provenance": [],
      "collapsed_sections": [],
      "authorship_tag": "ABX9TyPLqEXmjbglfIyr9OzV/XCx",
      "include_colab_link": true
    },
    "kernelspec": {
      "name": "python3",
      "display_name": "Python 3"
    },
    "language_info": {
      "name": "python"
    }
  },
  "cells": [
    {
      "cell_type": "markdown",
      "metadata": {
        "id": "view-in-github",
        "colab_type": "text"
      },
      "source": [
        "<a href=\"https://colab.research.google.com/github/marco-milanesi/dynamic-weighing/blob/main/LAB_Misure_Industriali.ipynb\" target=\"_parent\"><img src=\"https://colab.research.google.com/assets/colab-badge.svg\" alt=\"Open In Colab\"/></a>"
      ]
    },
    {
      "cell_type": "markdown",
      "metadata": {
        "id": "4ke6yZxGD8E0"
      },
      "source": [
        "# Dynamic weighing"
      ]
    },
    {
      "cell_type": "markdown",
      "metadata": {
        "id": "p1kIJclLWkz1"
      },
      "source": [
        "## Import packages\n"
      ]
    },
    {
      "cell_type": "code",
      "metadata": {
        "id": "wS6cBeUZT43H"
      },
      "source": [
        "import pandas as pd\n",
        "import sklearn\n",
        "import numpy as np\n",
        "from sklearn.neighbors import KNeighborsClassifier"
      ],
      "execution_count": 42,
      "outputs": []
    },
    {
      "cell_type": "markdown",
      "metadata": {
        "id": "FHsgVBbpXVe9"
      },
      "source": [
        "## Loading Data"
      ]
    },
    {
      "cell_type": "code",
      "metadata": {
        "id": "ZlORoNZEXc5g",
        "colab": {
          "base_uri": "https://localhost:8080/",
          "height": 471
        },
        "outputId": "f2cb23be-61eb-47db-edcc-ccd70b2c0ff7"
      },
      "source": [
        "data = pd.read_csv('weight_data.CSV',sep=';')\n",
        "print(\"Loaded: \",len(data))\n",
        "labels = data.values[:,0]\n",
        "samples = data.values[:,1:]\n",
        "data\n",
        "\n"
      ],
      "execution_count": 43,
      "outputs": [
        {
          "output_type": "stream",
          "name": "stdout",
          "text": [
            "Loaded:  199\n"
          ]
        },
        {
          "output_type": "execute_result",
          "data": {
            "text/html": [
              "<div>\n",
              "<style scoped>\n",
              "    .dataframe tbody tr th:only-of-type {\n",
              "        vertical-align: middle;\n",
              "    }\n",
              "\n",
              "    .dataframe tbody tr th {\n",
              "        vertical-align: top;\n",
              "    }\n",
              "\n",
              "    .dataframe thead th {\n",
              "        text-align: right;\n",
              "    }\n",
              "</style>\n",
              "<table border=\"1\" class=\"dataframe\">\n",
              "  <thead>\n",
              "    <tr style=\"text-align: right;\">\n",
              "      <th></th>\n",
              "      <th>Real Weight</th>\n",
              "      <th>t1</th>\n",
              "      <th>t2</th>\n",
              "      <th>t3</th>\n",
              "      <th>t4</th>\n",
              "      <th>t5</th>\n",
              "      <th>t6</th>\n",
              "      <th>t7</th>\n",
              "      <th>t8</th>\n",
              "      <th>t9</th>\n",
              "      <th>t10</th>\n",
              "      <th>t11</th>\n",
              "      <th>t12</th>\n",
              "      <th>t13</th>\n",
              "      <th>t14</th>\n",
              "      <th>t15</th>\n",
              "      <th>t16</th>\n",
              "      <th>t17</th>\n",
              "      <th>t18</th>\n",
              "      <th>t19</th>\n",
              "      <th>t20</th>\n",
              "      <th>t21</th>\n",
              "      <th>t22</th>\n",
              "      <th>t23</th>\n",
              "      <th>t24</th>\n",
              "      <th>t25</th>\n",
              "      <th>t26</th>\n",
              "      <th>t27</th>\n",
              "      <th>t28</th>\n",
              "    </tr>\n",
              "  </thead>\n",
              "  <tbody>\n",
              "    <tr>\n",
              "      <th>0</th>\n",
              "      <td>30</td>\n",
              "      <td>20.216734</td>\n",
              "      <td>20.591473</td>\n",
              "      <td>20.862815</td>\n",
              "      <td>21.082876</td>\n",
              "      <td>21.961170</td>\n",
              "      <td>23.008404</td>\n",
              "      <td>23.845369</td>\n",
              "      <td>25.852810</td>\n",
              "      <td>26.715498</td>\n",
              "      <td>28.738822</td>\n",
              "      <td>30.448866</td>\n",
              "      <td>30.165725</td>\n",
              "      <td>30.183971</td>\n",
              "      <td>28.252478</td>\n",
              "      <td>27.310475</td>\n",
              "      <td>25.953428</td>\n",
              "      <td>24.757809</td>\n",
              "      <td>24.057983</td>\n",
              "      <td>22.055484</td>\n",
              "      <td>20.114541</td>\n",
              "      <td>18.020647</td>\n",
              "      <td>17.390114</td>\n",
              "      <td>16.260420</td>\n",
              "      <td>14.431770</td>\n",
              "      <td>13.011104</td>\n",
              "      <td>11.320964</td>\n",
              "      <td>9.454773</td>\n",
              "      <td>8.205822</td>\n",
              "    </tr>\n",
              "    <tr>\n",
              "      <th>1</th>\n",
              "      <td>30</td>\n",
              "      <td>16.358580</td>\n",
              "      <td>17.948475</td>\n",
              "      <td>18.922227</td>\n",
              "      <td>19.341220</td>\n",
              "      <td>21.115006</td>\n",
              "      <td>22.996339</td>\n",
              "      <td>24.455895</td>\n",
              "      <td>26.089258</td>\n",
              "      <td>26.648218</td>\n",
              "      <td>28.489740</td>\n",
              "      <td>30.408361</td>\n",
              "      <td>30.405284</td>\n",
              "      <td>30.645241</td>\n",
              "      <td>29.286754</td>\n",
              "      <td>27.523205</td>\n",
              "      <td>25.633204</td>\n",
              "      <td>24.104316</td>\n",
              "      <td>23.409304</td>\n",
              "      <td>21.381818</td>\n",
              "      <td>21.141492</td>\n",
              "      <td>21.090736</td>\n",
              "      <td>20.030618</td>\n",
              "      <td>19.561854</td>\n",
              "      <td>17.596822</td>\n",
              "      <td>16.664926</td>\n",
              "      <td>14.639496</td>\n",
              "      <td>13.310592</td>\n",
              "      <td>11.921294</td>\n",
              "    </tr>\n",
              "    <tr>\n",
              "      <th>2</th>\n",
              "      <td>30</td>\n",
              "      <td>18.541974</td>\n",
              "      <td>19.393415</td>\n",
              "      <td>20.715872</td>\n",
              "      <td>20.794711</td>\n",
              "      <td>22.889283</td>\n",
              "      <td>24.044060</td>\n",
              "      <td>26.136841</td>\n",
              "      <td>26.822618</td>\n",
              "      <td>27.214711</td>\n",
              "      <td>28.648734</td>\n",
              "      <td>30.426228</td>\n",
              "      <td>30.811116</td>\n",
              "      <td>30.820215</td>\n",
              "      <td>30.439926</td>\n",
              "      <td>29.654349</td>\n",
              "      <td>28.919307</td>\n",
              "      <td>28.020054</td>\n",
              "      <td>25.840811</td>\n",
              "      <td>24.443338</td>\n",
              "      <td>23.255630</td>\n",
              "      <td>22.971649</td>\n",
              "      <td>21.885108</td>\n",
              "      <td>20.566558</td>\n",
              "      <td>20.156233</td>\n",
              "      <td>19.965342</td>\n",
              "      <td>17.914060</td>\n",
              "      <td>16.444254</td>\n",
              "      <td>15.250845</td>\n",
              "    </tr>\n",
              "    <tr>\n",
              "      <th>3</th>\n",
              "      <td>30</td>\n",
              "      <td>20.787830</td>\n",
              "      <td>21.712560</td>\n",
              "      <td>22.535063</td>\n",
              "      <td>23.615610</td>\n",
              "      <td>23.774196</td>\n",
              "      <td>24.938504</td>\n",
              "      <td>25.094124</td>\n",
              "      <td>26.149732</td>\n",
              "      <td>27.474697</td>\n",
              "      <td>29.129782</td>\n",
              "      <td>30.829622</td>\n",
              "      <td>30.343048</td>\n",
              "      <td>30.246423</td>\n",
              "      <td>29.857620</td>\n",
              "      <td>29.061254</td>\n",
              "      <td>27.445913</td>\n",
              "      <td>25.505077</td>\n",
              "      <td>25.278630</td>\n",
              "      <td>23.310526</td>\n",
              "      <td>21.513120</td>\n",
              "      <td>21.232630</td>\n",
              "      <td>20.735228</td>\n",
              "      <td>19.619537</td>\n",
              "      <td>17.569506</td>\n",
              "      <td>15.922942</td>\n",
              "      <td>14.703486</td>\n",
              "      <td>13.911107</td>\n",
              "      <td>13.233322</td>\n",
              "    </tr>\n",
              "    <tr>\n",
              "      <th>4</th>\n",
              "      <td>30</td>\n",
              "      <td>19.093744</td>\n",
              "      <td>20.634477</td>\n",
              "      <td>22.173730</td>\n",
              "      <td>22.392791</td>\n",
              "      <td>24.472763</td>\n",
              "      <td>25.323968</td>\n",
              "      <td>26.163234</td>\n",
              "      <td>27.975422</td>\n",
              "      <td>28.422492</td>\n",
              "      <td>28.663653</td>\n",
              "      <td>30.809908</td>\n",
              "      <td>30.392548</td>\n",
              "      <td>30.425185</td>\n",
              "      <td>28.969535</td>\n",
              "      <td>27.280572</td>\n",
              "      <td>25.419597</td>\n",
              "      <td>23.974121</td>\n",
              "      <td>23.526355</td>\n",
              "      <td>22.226838</td>\n",
              "      <td>20.443481</td>\n",
              "      <td>19.058634</td>\n",
              "      <td>17.707083</td>\n",
              "      <td>17.314882</td>\n",
              "      <td>17.232952</td>\n",
              "      <td>15.219103</td>\n",
              "      <td>13.907085</td>\n",
              "      <td>12.982010</td>\n",
              "      <td>11.025349</td>\n",
              "    </tr>\n",
              "    <tr>\n",
              "      <th>...</th>\n",
              "      <td>...</td>\n",
              "      <td>...</td>\n",
              "      <td>...</td>\n",
              "      <td>...</td>\n",
              "      <td>...</td>\n",
              "      <td>...</td>\n",
              "      <td>...</td>\n",
              "      <td>...</td>\n",
              "      <td>...</td>\n",
              "      <td>...</td>\n",
              "      <td>...</td>\n",
              "      <td>...</td>\n",
              "      <td>...</td>\n",
              "      <td>...</td>\n",
              "      <td>...</td>\n",
              "      <td>...</td>\n",
              "      <td>...</td>\n",
              "      <td>...</td>\n",
              "      <td>...</td>\n",
              "      <td>...</td>\n",
              "      <td>...</td>\n",
              "      <td>...</td>\n",
              "      <td>...</td>\n",
              "      <td>...</td>\n",
              "      <td>...</td>\n",
              "      <td>...</td>\n",
              "      <td>...</td>\n",
              "      <td>...</td>\n",
              "      <td>...</td>\n",
              "    </tr>\n",
              "    <tr>\n",
              "      <th>194</th>\n",
              "      <td>75</td>\n",
              "      <td>65.469745</td>\n",
              "      <td>66.226849</td>\n",
              "      <td>66.500694</td>\n",
              "      <td>67.950649</td>\n",
              "      <td>70.017205</td>\n",
              "      <td>72.136103</td>\n",
              "      <td>73.023895</td>\n",
              "      <td>74.024775</td>\n",
              "      <td>74.558542</td>\n",
              "      <td>75.504318</td>\n",
              "      <td>75.641807</td>\n",
              "      <td>75.662575</td>\n",
              "      <td>75.874149</td>\n",
              "      <td>74.836788</td>\n",
              "      <td>74.240227</td>\n",
              "      <td>72.767795</td>\n",
              "      <td>71.826029</td>\n",
              "      <td>70.552868</td>\n",
              "      <td>70.490923</td>\n",
              "      <td>69.868137</td>\n",
              "      <td>69.693539</td>\n",
              "      <td>69.000679</td>\n",
              "      <td>67.005969</td>\n",
              "      <td>65.442489</td>\n",
              "      <td>64.641583</td>\n",
              "      <td>63.846277</td>\n",
              "      <td>63.783857</td>\n",
              "      <td>63.573616</td>\n",
              "    </tr>\n",
              "    <tr>\n",
              "      <th>195</th>\n",
              "      <td>75</td>\n",
              "      <td>63.816733</td>\n",
              "      <td>65.954598</td>\n",
              "      <td>65.964267</td>\n",
              "      <td>67.488364</td>\n",
              "      <td>68.382093</td>\n",
              "      <td>69.499717</td>\n",
              "      <td>71.276521</td>\n",
              "      <td>72.145537</td>\n",
              "      <td>72.694650</td>\n",
              "      <td>74.360400</td>\n",
              "      <td>75.925086</td>\n",
              "      <td>75.013339</td>\n",
              "      <td>75.349237</td>\n",
              "      <td>74.593905</td>\n",
              "      <td>72.901164</td>\n",
              "      <td>70.889756</td>\n",
              "      <td>70.762950</td>\n",
              "      <td>69.596962</td>\n",
              "      <td>69.064516</td>\n",
              "      <td>69.035449</td>\n",
              "      <td>68.610923</td>\n",
              "      <td>67.479043</td>\n",
              "      <td>66.771656</td>\n",
              "      <td>66.558410</td>\n",
              "      <td>65.700983</td>\n",
              "      <td>65.266628</td>\n",
              "      <td>64.743208</td>\n",
              "      <td>63.316108</td>\n",
              "    </tr>\n",
              "    <tr>\n",
              "      <th>196</th>\n",
              "      <td>75</td>\n",
              "      <td>65.786215</td>\n",
              "      <td>67.721361</td>\n",
              "      <td>69.824838</td>\n",
              "      <td>70.310168</td>\n",
              "      <td>71.307659</td>\n",
              "      <td>71.326052</td>\n",
              "      <td>72.050010</td>\n",
              "      <td>72.425910</td>\n",
              "      <td>73.954595</td>\n",
              "      <td>74.459107</td>\n",
              "      <td>75.541380</td>\n",
              "      <td>75.575889</td>\n",
              "      <td>75.091932</td>\n",
              "      <td>74.887379</td>\n",
              "      <td>73.002921</td>\n",
              "      <td>71.046006</td>\n",
              "      <td>70.949416</td>\n",
              "      <td>69.092364</td>\n",
              "      <td>67.873424</td>\n",
              "      <td>67.583285</td>\n",
              "      <td>67.507667</td>\n",
              "      <td>66.331702</td>\n",
              "      <td>65.345967</td>\n",
              "      <td>64.932141</td>\n",
              "      <td>63.734362</td>\n",
              "      <td>62.168726</td>\n",
              "      <td>60.683706</td>\n",
              "      <td>58.759285</td>\n",
              "    </tr>\n",
              "    <tr>\n",
              "      <th>197</th>\n",
              "      <td>75</td>\n",
              "      <td>62.688483</td>\n",
              "      <td>64.184743</td>\n",
              "      <td>65.896784</td>\n",
              "      <td>67.294109</td>\n",
              "      <td>67.385624</td>\n",
              "      <td>68.396841</td>\n",
              "      <td>70.167959</td>\n",
              "      <td>71.637006</td>\n",
              "      <td>73.780966</td>\n",
              "      <td>73.942565</td>\n",
              "      <td>75.752993</td>\n",
              "      <td>75.030943</td>\n",
              "      <td>75.166614</td>\n",
              "      <td>73.662947</td>\n",
              "      <td>72.206403</td>\n",
              "      <td>71.847554</td>\n",
              "      <td>70.725120</td>\n",
              "      <td>70.437576</td>\n",
              "      <td>70.340370</td>\n",
              "      <td>69.493374</td>\n",
              "      <td>69.205394</td>\n",
              "      <td>67.770324</td>\n",
              "      <td>67.510636</td>\n",
              "      <td>65.492426</td>\n",
              "      <td>63.440658</td>\n",
              "      <td>61.856313</td>\n",
              "      <td>61.186599</td>\n",
              "      <td>61.010450</td>\n",
              "    </tr>\n",
              "    <tr>\n",
              "      <th>198</th>\n",
              "      <td>75</td>\n",
              "      <td>64.792785</td>\n",
              "      <td>64.889994</td>\n",
              "      <td>65.674063</td>\n",
              "      <td>66.779873</td>\n",
              "      <td>67.111891</td>\n",
              "      <td>68.571658</td>\n",
              "      <td>70.652355</td>\n",
              "      <td>71.094000</td>\n",
              "      <td>71.699479</td>\n",
              "      <td>73.370318</td>\n",
              "      <td>75.386813</td>\n",
              "      <td>75.589278</td>\n",
              "      <td>75.122812</td>\n",
              "      <td>74.776611</td>\n",
              "      <td>73.256016</td>\n",
              "      <td>71.066190</td>\n",
              "      <td>69.141131</td>\n",
              "      <td>67.667080</td>\n",
              "      <td>67.244616</td>\n",
              "      <td>67.164574</td>\n",
              "      <td>65.026473</td>\n",
              "      <td>64.161263</td>\n",
              "      <td>62.406264</td>\n",
              "      <td>61.822468</td>\n",
              "      <td>60.436224</td>\n",
              "      <td>59.494092</td>\n",
              "      <td>59.443431</td>\n",
              "      <td>59.215695</td>\n",
              "    </tr>\n",
              "  </tbody>\n",
              "</table>\n",
              "<p>199 rows × 29 columns</p>\n",
              "</div>"
            ],
            "text/plain": [
              "     Real Weight         t1         t2  ...        t26        t27        t28\n",
              "0             30  20.216734  20.591473  ...  11.320964   9.454773   8.205822\n",
              "1             30  16.358580  17.948475  ...  14.639496  13.310592  11.921294\n",
              "2             30  18.541974  19.393415  ...  17.914060  16.444254  15.250845\n",
              "3             30  20.787830  21.712560  ...  14.703486  13.911107  13.233322\n",
              "4             30  19.093744  20.634477  ...  13.907085  12.982010  11.025349\n",
              "..           ...        ...        ...  ...        ...        ...        ...\n",
              "194           75  65.469745  66.226849  ...  63.846277  63.783857  63.573616\n",
              "195           75  63.816733  65.954598  ...  65.266628  64.743208  63.316108\n",
              "196           75  65.786215  67.721361  ...  62.168726  60.683706  58.759285\n",
              "197           75  62.688483  64.184743  ...  61.856313  61.186599  61.010450\n",
              "198           75  64.792785  64.889994  ...  59.494092  59.443431  59.215695\n",
              "\n",
              "[199 rows x 29 columns]"
            ]
          },
          "metadata": {},
          "execution_count": 43
        }
      ]
    },
    {
      "cell_type": "markdown",
      "metadata": {
        "id": "iMYeMfBumaye"
      },
      "source": [
        "Before training the model I split into train and testing model (with stratification)"
      ]
    },
    {
      "cell_type": "code",
      "metadata": {
        "colab": {
          "base_uri": "https://localhost:8080/"
        },
        "id": "PZeolu4WmTzn",
        "outputId": "0b018407-8bdb-456f-c042-cb7fb40ada28"
      },
      "source": [
        "from collections import Counter\n",
        "print(\"Labels distribution:\",Counter(labels))\n",
        "\n",
        "# train-test split\n",
        "trainSamples, testSamples, trainLabels, testLabels = sklearn.model_selection.train_test_split(samples, labels, random_state=30,stratify=labels,train_size=0.5)\n",
        "print(\"Train labels distribution:\", Counter(trainLabels))\n",
        "print(\"Test labels distribution:\",Counter(testLabels))\n",
        "\n",
        "\n"
      ],
      "execution_count": 44,
      "outputs": [
        {
          "output_type": "stream",
          "name": "stdout",
          "text": [
            "Labels distribution: Counter({70.0: 21, 35.0: 20, 40.0: 20, 45.0: 20, 50.0: 20, 55.0: 20, 60.0: 20, 75.0: 20, 30.0: 19, 65.0: 19})\n",
            "Train labels distribution: Counter({55.0: 10, 60.0: 10, 75.0: 10, 45.0: 10, 35.0: 10, 40.0: 10, 30.0: 10, 70.0: 10, 50.0: 10, 65.0: 9})\n",
            "Test labels distribution: Counter({70.0: 11, 60.0: 10, 75.0: 10, 50.0: 10, 40.0: 10, 45.0: 10, 55.0: 10, 65.0: 10, 35.0: 10, 30.0: 9})\n"
          ]
        }
      ]
    },
    {
      "cell_type": "markdown",
      "metadata": {
        "id": "dH6diAQWxHsI"
      },
      "source": [
        "## Measures calculation\n",
        "\n",
        "| **Evaluation criteria** | **Explanation**                                                                                                                                   | **Formula**           |\n",
        "|-------------------------|---------------------------------------------------------------------------------------------------------------------------------------------------|-----------------------|\n",
        "| Accuracy                | It gives you the overall accuracy of the model, meaning the fraction of the total samples that were correctly classified by the classifier.       | (TP+TN)/(TP+TN+FP+FN) |\n",
        "| Precision               | It tells you what fraction of predictions as a positive class were actually positive.                                                             | TP/(TP+FP)            |\n",
        "| Recall                  | It tells you what fraction of all positive samples were correctly predicted as positive by the classifier. It is also known as True Positive Rate | TP/(TP+FN).           |\n",
        "| F1-score                | It combines precision and recall into a single measure. Mathematically it’s the harmonic mean of precision and recall                             | 2TP/ (2TP + FP + FN)  |\n",
        "\n",
        "\n",
        "\n",
        "---\n",
        "\n",
        "\n",
        "\n",
        "Now, in a perfect world, we’d want a model that has a precision of 1 and a recall of 1. That means a F1-score of 1, i.e. a 100% accuracy which is often not the case for a machine learning model. So what we should try, is to get a higher precision with a higher recall value."
      ]
    },
    {
      "cell_type": "markdown",
      "metadata": {
        "id": "2_YgmRkrga0Y"
      },
      "source": [
        "## KN Neighbors\n"
      ]
    },
    {
      "cell_type": "code",
      "metadata": {
        "colab": {
          "base_uri": "https://localhost:8080/"
        },
        "id": "OWt5ocJwgfFl",
        "outputId": "bed5dc97-6749-43e3-b960-a1dbaf3c1816"
      },
      "source": [
        "model_kn = KNeighborsClassifier() # Create the model\n",
        "model_kn.fit(trainSamples, trainLabels) #train the model"
      ],
      "execution_count": 45,
      "outputs": [
        {
          "output_type": "execute_result",
          "data": {
            "text/plain": [
              "KNeighborsClassifier(algorithm='auto', leaf_size=30, metric='minkowski',\n",
              "                     metric_params=None, n_jobs=None, n_neighbors=5, p=2,\n",
              "                     weights='uniform')"
            ]
          },
          "metadata": {},
          "execution_count": 45
        }
      ]
    },
    {
      "cell_type": "code",
      "metadata": {
        "id": "I3MCG9EJj4wo",
        "colab": {
          "base_uri": "https://localhost:8080/"
        },
        "outputId": "eafe047a-56c9-40e7-93b6-806286d472d4"
      },
      "source": [
        "from sklearn.metrics import classification_report, confusion_matrix, accuracy_score,cohen_kappa_score\n",
        "\n",
        "# testSamples are only for testing/evaluating the model\n",
        "modelResults_kn = model_kn.predict(testSamples)\n",
        "\n",
        "kn_cm = confusion_matrix(testLabels, modelResults_kn)\n",
        "print(classification_report(testLabels, modelResults_kn))\n"
      ],
      "execution_count": 46,
      "outputs": [
        {
          "output_type": "stream",
          "name": "stdout",
          "text": [
            "              precision    recall  f1-score   support\n",
            "\n",
            "        30.0       1.00      1.00      1.00         9\n",
            "        35.0       1.00      1.00      1.00        10\n",
            "        40.0       1.00      1.00      1.00        10\n",
            "        45.0       1.00      1.00      1.00        10\n",
            "        50.0       1.00      1.00      1.00        10\n",
            "        55.0       1.00      1.00      1.00        10\n",
            "        60.0       1.00      1.00      1.00        10\n",
            "        65.0       1.00      1.00      1.00        10\n",
            "        70.0       1.00      1.00      1.00        11\n",
            "        75.0       1.00      1.00      1.00        10\n",
            "\n",
            "    accuracy                           1.00       100\n",
            "   macro avg       1.00      1.00      1.00       100\n",
            "weighted avg       1.00      1.00      1.00       100\n",
            "\n"
          ]
        }
      ]
    },
    {
      "cell_type": "code",
      "metadata": {
        "colab": {
          "base_uri": "https://localhost:8080/",
          "height": 960
        },
        "id": "ukcYK7DerOs0",
        "outputId": "c83aa954-46dd-4808-d508-fc165ab0492f"
      },
      "source": [
        "import seaborn as sns\n",
        "from cf_matrix import make_confusion_matrix\n",
        "sns.set_context('talk')\n",
        "\n",
        "categories = ['0', '1', '2', '3', '4', '5' , '6', '7']\n",
        "make_confusion_matrix(kn_cm, figsize=(15,15),  categories=categories, cbar=False, title='KN Neighbors')"
      ],
      "execution_count": 48,
      "outputs": [
        {
          "output_type": "display_data",
          "data": {
            "image/png": "[encoded data removed]",
            "text/plain": [
              "<Figure size 1080x1080 with 1 Axes>"
            ]
          },
          "metadata": {
            "needs_background": "light"
          }
        }
      ]
    },
    {
      "cell_type": "markdown",
      "metadata": {
        "id": "_sxn5c2Hq3Oo"
      },
      "source": [
        "## Support Vector Machines"
      ]
    },
    {
      "cell_type": "code",
      "metadata": {
        "id": "HsSb1UAjlXPC"
      },
      "source": [
        "from sklearn import svm\n",
        "model_svm = svm.SVC()\n",
        "model_svm.fit(trainSamples, trainLabels)\n",
        "modelResults_svm = model_svm.predict(testSamples)"
      ],
      "execution_count": null,
      "outputs": []
    },
    {
      "cell_type": "markdown",
      "metadata": {
        "id": "T5cZnLLUyax9"
      },
      "source": [
        "## Decision Tree Classifier\n"
      ]
    },
    {
      "cell_type": "code",
      "metadata": {
        "id": "G_AZMi42yh6Q"
      },
      "source": [
        "from sklearn.tree import DecisionTreeClassifier # Import Decision Tree Classifier\n",
        "clf = DecisionTreeClassifier()\n",
        "clf = clf.fit(trainSamples, trainLabels)\n",
        "modelResults_clf = clf.predict(testSamples)"
      ],
      "execution_count": null,
      "outputs": []
    },
    {
      "cell_type": "markdown",
      "metadata": {
        "id": "XwidZoCh3HPW"
      },
      "source": [
        "## Gradient Boosting Classifier\n",
        "\n",
        "\n"
      ]
    },
    {
      "cell_type": "code",
      "metadata": {
        "id": "pF0UHJAp2oTj"
      },
      "source": [
        "from sklearn.ensemble import GradientBoostingClassifier\n",
        "gb_clf2 = GradientBoostingClassifier(n_estimators=20, learning_rate=0.5, max_features=2, max_depth=2, random_state=0)\n",
        "gb_clf2.fit(trainSamples, trainLabels)\n",
        "modelResults_gbc = gb_clf2.predict(testSamples)"
      ],
      "execution_count": null,
      "outputs": []
    },
    {
      "cell_type": "markdown",
      "metadata": {
        "id": "wf_-RbByZAYb"
      },
      "source": [
        "# Algorithm Evaluation\n"
      ]
    },
    {
      "cell_type": "code",
      "metadata": {
        "colab": {
          "base_uri": "https://localhost:8080/",
          "height": 281
        },
        "id": "KHWrGrcHZEWR",
        "outputId": "e0be5360-7802-4533-af5b-5661fb73ce87"
      },
      "source": [
        "import matplotlib.pyplot as plt\n",
        "   \n",
        "data = {'Accuracy': [accuracy_score(testLabels, modelResults_kn) ,accuracy_score(testLabels, modelResults_svm) ,accuracy_score(testLabels, modelResults_clf) ,accuracy_score(testLabels, modelResults_gbc) ],\n",
        "        'Cohen s kappa': [cohen_kappa_score(testLabels, modelResults_kn),cohen_kappa_score(testLabels, modelResults_svm),cohen_kappa_score(testLabels, modelResults_clf),cohen_kappa_score(testLabels, modelResults_gbc)]\n",
        "       }\n",
        "df = pd.DataFrame(data,columns=['Accuracy','Cohen s kappa'], index = ['KN Neighbors','SVM','Decision Tree Classifier','Gradient Boosting Classifier'])\n",
        "df.plot.barh()\n",
        "\n",
        "plt.title('Algorithm Evaluation')\n",
        "plt.ylabel('Algorithm')\n",
        "plt.show()"
      ],
      "execution_count": null,
      "outputs": [
        {
          "output_type": "display_data",
          "data": {
            "image/png": "[encoded data removed]",
            "text/plain": [
              "<Figure size 432x288 with 1 Axes>"
            ]
          },
          "metadata": {
            "needs_background": "light"
          }
        }
      ]
    }
  ]
}