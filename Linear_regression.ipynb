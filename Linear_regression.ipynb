{
  "nbformat": 4,
  "nbformat_minor": 0,
  "metadata": {
    "colab": {
      "name": "Linear_regression.ipynb",
      "provenance": [],
      "collapsed_sections": [],
      "authorship_tag": "ABX9TyN4XQ2dsnxigwzkk0GrIbyT",
      "include_colab_link": true
    },
    "kernelspec": {
      "name": "python3",
      "display_name": "Python 3"
    },
    "language_info": {
      "name": "python"
    }
  },
  "cells": [
    {
      "cell_type": "markdown",
      "metadata": {
        "id": "view-in-github",
        "colab_type": "text"
      },
      "source": [
        "<a href=\"https://colab.research.google.com/github/marco-milanesi/dynamic-weighing/blob/main/Linear_regression.ipynb\" target=\"_parent\"><img src=\"https://colab.research.google.com/assets/colab-badge.svg\" alt=\"Open In Colab\"/></a>"
      ]
    },
    {
      "cell_type": "markdown",
      "metadata": {
        "id": "4ke6yZxGD8E0"
      },
      "source": [
        "# Dynamic weighing"
      ]
    },
    {
      "cell_type": "code",
      "metadata": {
        "colab": {
          "base_uri": "https://localhost:8080/"
        },
        "id": "7141jGUO_BGy",
        "outputId": "e7fdb816-4fa1-4f7d-9baf-cfe12640c3e7"
      },
      "source": [
        "!wget https://raw.githubusercontent.com/marco-milanesi/dynamic-weighing/main/weight_data.CSV"
      ],
      "execution_count": null,
      "outputs": [
        {
          "output_type": "stream",
          "name": "stdout",
          "text": [
            "--2021-11-10 18:28:23--  https://raw.githubusercontent.com/marco-milanesi/dynamic-weighing/main/weight_data.CSV\n",
            "Resolving raw.githubusercontent.com (raw.githubusercontent.com)... 185.199.110.133, 185.199.109.133, 185.199.111.133, ...\n",
            "Connecting to raw.githubusercontent.com (raw.githubusercontent.com)|185.199.110.133|:443... connected.\n",
            "HTTP request sent, awaiting response... 200 OK\n",
            "Length: 67183 (66K) [text/plain]\n",
            "Saving to: ‘weight_data.CSV’\n",
            "\n",
            "\rweight_data.CSV       0%[                    ]       0  --.-KB/s               \rweight_data.CSV     100%[===================>]  65.61K  --.-KB/s    in 0.01s   \n",
            "\n",
            "2021-11-10 18:28:23 (5.71 MB/s) - ‘weight_data.CSV’ saved [67183/67183]\n",
            "\n"
          ]
        }
      ]
    },
    {
      "cell_type": "markdown",
      "metadata": {
        "id": "yDaRDf0eLGBM"
      },
      "source": [
        "# Linear Regression"
      ]
    },
    {
      "cell_type": "markdown",
      "metadata": {
        "id": "p1kIJclLWkz1"
      },
      "source": [
        "## Import packages\n"
      ]
    },
    {
      "cell_type": "code",
      "metadata": {
        "id": "wS6cBeUZT43H"
      },
      "source": [
        "import pandas as pd\n",
        "import sklearn\n",
        "import numpy as np\n",
        "from sklearn.neighbors import KNeighborsClassifier"
      ],
      "execution_count": null,
      "outputs": []
    },
    {
      "cell_type": "markdown",
      "metadata": {
        "id": "FHsgVBbpXVe9"
      },
      "source": [
        "## Loading Data"
      ]
    },
    {
      "cell_type": "code",
      "metadata": {
        "id": "ZlORoNZEXc5g",
        "colab": {
          "base_uri": "https://localhost:8080/",
          "height": 471
        },
        "outputId": "8b382d29-1341-434d-ee58-e938d9885ea8"
      },
      "source": [
        "data = pd.read_csv('weight_data.CSV',sep=';')\n",
        "print(\"Loaded: \",len(data))\n",
        "y = data.values[:,0]\n",
        "x = data.values[:,1:]\n",
        "data"
      ],
      "execution_count": null,
      "outputs": [
        {
          "output_type": "stream",
          "name": "stdout",
          "text": [
            "Loaded:  199\n"
          ]
        },
        {
          "output_type": "execute_result",
          "data": {
            "text/html": [
              "<div>\n",
              "<style scoped>\n",
              "    .dataframe tbody tr th:only-of-type {\n",
              "        vertical-align: middle;\n",
              "    }\n",
              "\n",
              "    .dataframe tbody tr th {\n",
              "        vertical-align: top;\n",
              "    }\n",
              "\n",
              "    .dataframe thead th {\n",
              "        text-align: right;\n",
              "    }\n",
              "</style>\n",
              "<table border=\"1\" class=\"dataframe\">\n",
              "  <thead>\n",
              "    <tr style=\"text-align: right;\">\n",
              "      <th></th>\n",
              "      <th>Real Weight</th>\n",
              "      <th>t1</th>\n",
              "      <th>t2</th>\n",
              "      <th>t3</th>\n",
              "      <th>t4</th>\n",
              "      <th>t5</th>\n",
              "      <th>t6</th>\n",
              "      <th>t7</th>\n",
              "      <th>t8</th>\n",
              "      <th>t9</th>\n",
              "      <th>t10</th>\n",
              "      <th>t11</th>\n",
              "      <th>t12</th>\n",
              "      <th>t13</th>\n",
              "      <th>t14</th>\n",
              "      <th>t15</th>\n",
              "      <th>t16</th>\n",
              "      <th>t17</th>\n",
              "      <th>t18</th>\n",
              "      <th>t19</th>\n",
              "      <th>t20</th>\n",
              "      <th>t21</th>\n",
              "      <th>t22</th>\n",
              "      <th>t23</th>\n",
              "      <th>t24</th>\n",
              "      <th>t25</th>\n",
              "      <th>t26</th>\n",
              "      <th>t27</th>\n",
              "      <th>t28</th>\n",
              "    </tr>\n",
              "  </thead>\n",
              "  <tbody>\n",
              "    <tr>\n",
              "      <th>0</th>\n",
              "      <td>30</td>\n",
              "      <td>20.216734</td>\n",
              "      <td>20.591473</td>\n",
              "      <td>20.862815</td>\n",
              "      <td>21.082876</td>\n",
              "      <td>21.961170</td>\n",
              "      <td>23.008404</td>\n",
              "      <td>23.845369</td>\n",
              "      <td>25.852810</td>\n",
              "      <td>26.715498</td>\n",
              "      <td>28.738822</td>\n",
              "      <td>30.448866</td>\n",
              "      <td>30.165725</td>\n",
              "      <td>30.183971</td>\n",
              "      <td>28.252478</td>\n",
              "      <td>27.310475</td>\n",
              "      <td>25.953428</td>\n",
              "      <td>24.757809</td>\n",
              "      <td>24.057983</td>\n",
              "      <td>22.055484</td>\n",
              "      <td>20.114541</td>\n",
              "      <td>18.020647</td>\n",
              "      <td>17.390114</td>\n",
              "      <td>16.260420</td>\n",
              "      <td>14.431770</td>\n",
              "      <td>13.011104</td>\n",
              "      <td>11.320964</td>\n",
              "      <td>9.454773</td>\n",
              "      <td>8.205822</td>\n",
              "    </tr>\n",
              "    <tr>\n",
              "      <th>1</th>\n",
              "      <td>30</td>\n",
              "      <td>16.358580</td>\n",
              "      <td>17.948475</td>\n",
              "      <td>18.922227</td>\n",
              "      <td>19.341220</td>\n",
              "      <td>21.115006</td>\n",
              "      <td>22.996339</td>\n",
              "      <td>24.455895</td>\n",
              "      <td>26.089258</td>\n",
              "      <td>26.648218</td>\n",
              "      <td>28.489740</td>\n",
              "      <td>30.408361</td>\n",
              "      <td>30.405284</td>\n",
              "      <td>30.645241</td>\n",
              "      <td>29.286754</td>\n",
              "      <td>27.523205</td>\n",
              "      <td>25.633204</td>\n",
              "      <td>24.104316</td>\n",
              "      <td>23.409304</td>\n",
              "      <td>21.381818</td>\n",
              "      <td>21.141492</td>\n",
              "      <td>21.090736</td>\n",
              "      <td>20.030618</td>\n",
              "      <td>19.561854</td>\n",
              "      <td>17.596822</td>\n",
              "      <td>16.664926</td>\n",
              "      <td>14.639496</td>\n",
              "      <td>13.310592</td>\n",
              "      <td>11.921294</td>\n",
              "    </tr>\n",
              "    <tr>\n",
              "      <th>2</th>\n",
              "      <td>30</td>\n",
              "      <td>18.541974</td>\n",
              "      <td>19.393415</td>\n",
              "      <td>20.715872</td>\n",
              "      <td>20.794711</td>\n",
              "      <td>22.889283</td>\n",
              "      <td>24.044060</td>\n",
              "      <td>26.136841</td>\n",
              "      <td>26.822618</td>\n",
              "      <td>27.214711</td>\n",
              "      <td>28.648734</td>\n",
              "      <td>30.426228</td>\n",
              "      <td>30.811116</td>\n",
              "      <td>30.820215</td>\n",
              "      <td>30.439926</td>\n",
              "      <td>29.654349</td>\n",
              "      <td>28.919307</td>\n",
              "      <td>28.020054</td>\n",
              "      <td>25.840811</td>\n",
              "      <td>24.443338</td>\n",
              "      <td>23.255630</td>\n",
              "      <td>22.971649</td>\n",
              "      <td>21.885108</td>\n",
              "      <td>20.566558</td>\n",
              "      <td>20.156233</td>\n",
              "      <td>19.965342</td>\n",
              "      <td>17.914060</td>\n",
              "      <td>16.444254</td>\n",
              "      <td>15.250845</td>\n",
              "    </tr>\n",
              "    <tr>\n",
              "      <th>3</th>\n",
              "      <td>30</td>\n",
              "      <td>20.787830</td>\n",
              "      <td>21.712560</td>\n",
              "      <td>22.535063</td>\n",
              "      <td>23.615610</td>\n",
              "      <td>23.774196</td>\n",
              "      <td>24.938504</td>\n",
              "      <td>25.094124</td>\n",
              "      <td>26.149732</td>\n",
              "      <td>27.474697</td>\n",
              "      <td>29.129782</td>\n",
              "      <td>30.829622</td>\n",
              "      <td>30.343048</td>\n",
              "      <td>30.246423</td>\n",
              "      <td>29.857620</td>\n",
              "      <td>29.061254</td>\n",
              "      <td>27.445913</td>\n",
              "      <td>25.505077</td>\n",
              "      <td>25.278630</td>\n",
              "      <td>23.310526</td>\n",
              "      <td>21.513120</td>\n",
              "      <td>21.232630</td>\n",
              "      <td>20.735228</td>\n",
              "      <td>19.619537</td>\n",
              "      <td>17.569506</td>\n",
              "      <td>15.922942</td>\n",
              "      <td>14.703486</td>\n",
              "      <td>13.911107</td>\n",
              "      <td>13.233322</td>\n",
              "    </tr>\n",
              "    <tr>\n",
              "      <th>4</th>\n",
              "      <td>30</td>\n",
              "      <td>19.093744</td>\n",
              "      <td>20.634477</td>\n",
              "      <td>22.173730</td>\n",
              "      <td>22.392791</td>\n",
              "      <td>24.472763</td>\n",
              "      <td>25.323968</td>\n",
              "      <td>26.163234</td>\n",
              "      <td>27.975422</td>\n",
              "      <td>28.422492</td>\n",
              "      <td>28.663653</td>\n",
              "      <td>30.809908</td>\n",
              "      <td>30.392548</td>\n",
              "      <td>30.425185</td>\n",
              "      <td>28.969535</td>\n",
              "      <td>27.280572</td>\n",
              "      <td>25.419597</td>\n",
              "      <td>23.974121</td>\n",
              "      <td>23.526355</td>\n",
              "      <td>22.226838</td>\n",
              "      <td>20.443481</td>\n",
              "      <td>19.058634</td>\n",
              "      <td>17.707083</td>\n",
              "      <td>17.314882</td>\n",
              "      <td>17.232952</td>\n",
              "      <td>15.219103</td>\n",
              "      <td>13.907085</td>\n",
              "      <td>12.982010</td>\n",
              "      <td>11.025349</td>\n",
              "    </tr>\n",
              "    <tr>\n",
              "      <th>...</th>\n",
              "      <td>...</td>\n",
              "      <td>...</td>\n",
              "      <td>...</td>\n",
              "      <td>...</td>\n",
              "      <td>...</td>\n",
              "      <td>...</td>\n",
              "      <td>...</td>\n",
              "      <td>...</td>\n",
              "      <td>...</td>\n",
              "      <td>...</td>\n",
              "      <td>...</td>\n",
              "      <td>...</td>\n",
              "      <td>...</td>\n",
              "      <td>...</td>\n",
              "      <td>...</td>\n",
              "      <td>...</td>\n",
              "      <td>...</td>\n",
              "      <td>...</td>\n",
              "      <td>...</td>\n",
              "      <td>...</td>\n",
              "      <td>...</td>\n",
              "      <td>...</td>\n",
              "      <td>...</td>\n",
              "      <td>...</td>\n",
              "      <td>...</td>\n",
              "      <td>...</td>\n",
              "      <td>...</td>\n",
              "      <td>...</td>\n",
              "      <td>...</td>\n",
              "    </tr>\n",
              "    <tr>\n",
              "      <th>194</th>\n",
              "      <td>75</td>\n",
              "      <td>65.469745</td>\n",
              "      <td>66.226849</td>\n",
              "      <td>66.500694</td>\n",
              "      <td>67.950649</td>\n",
              "      <td>70.017205</td>\n",
              "      <td>72.136103</td>\n",
              "      <td>73.023895</td>\n",
              "      <td>74.024775</td>\n",
              "      <td>74.558542</td>\n",
              "      <td>75.504318</td>\n",
              "      <td>75.641807</td>\n",
              "      <td>75.662575</td>\n",
              "      <td>75.874149</td>\n",
              "      <td>74.836788</td>\n",
              "      <td>74.240227</td>\n",
              "      <td>72.767795</td>\n",
              "      <td>71.826029</td>\n",
              "      <td>70.552868</td>\n",
              "      <td>70.490923</td>\n",
              "      <td>69.868137</td>\n",
              "      <td>69.693539</td>\n",
              "      <td>69.000679</td>\n",
              "      <td>67.005969</td>\n",
              "      <td>65.442489</td>\n",
              "      <td>64.641583</td>\n",
              "      <td>63.846277</td>\n",
              "      <td>63.783857</td>\n",
              "      <td>63.573616</td>\n",
              "    </tr>\n",
              "    <tr>\n",
              "      <th>195</th>\n",
              "      <td>75</td>\n",
              "      <td>63.816733</td>\n",
              "      <td>65.954598</td>\n",
              "      <td>65.964267</td>\n",
              "      <td>67.488364</td>\n",
              "      <td>68.382093</td>\n",
              "      <td>69.499717</td>\n",
              "      <td>71.276521</td>\n",
              "      <td>72.145537</td>\n",
              "      <td>72.694650</td>\n",
              "      <td>74.360400</td>\n",
              "      <td>75.925086</td>\n",
              "      <td>75.013339</td>\n",
              "      <td>75.349237</td>\n",
              "      <td>74.593905</td>\n",
              "      <td>72.901164</td>\n",
              "      <td>70.889756</td>\n",
              "      <td>70.762950</td>\n",
              "      <td>69.596962</td>\n",
              "      <td>69.064516</td>\n",
              "      <td>69.035449</td>\n",
              "      <td>68.610923</td>\n",
              "      <td>67.479043</td>\n",
              "      <td>66.771656</td>\n",
              "      <td>66.558410</td>\n",
              "      <td>65.700983</td>\n",
              "      <td>65.266628</td>\n",
              "      <td>64.743208</td>\n",
              "      <td>63.316108</td>\n",
              "    </tr>\n",
              "    <tr>\n",
              "      <th>196</th>\n",
              "      <td>75</td>\n",
              "      <td>65.786215</td>\n",
              "      <td>67.721361</td>\n",
              "      <td>69.824838</td>\n",
              "      <td>70.310168</td>\n",
              "      <td>71.307659</td>\n",
              "      <td>71.326052</td>\n",
              "      <td>72.050010</td>\n",
              "      <td>72.425910</td>\n",
              "      <td>73.954595</td>\n",
              "      <td>74.459107</td>\n",
              "      <td>75.541380</td>\n",
              "      <td>75.575889</td>\n",
              "      <td>75.091932</td>\n",
              "      <td>74.887379</td>\n",
              "      <td>73.002921</td>\n",
              "      <td>71.046006</td>\n",
              "      <td>70.949416</td>\n",
              "      <td>69.092364</td>\n",
              "      <td>67.873424</td>\n",
              "      <td>67.583285</td>\n",
              "      <td>67.507667</td>\n",
              "      <td>66.331702</td>\n",
              "      <td>65.345967</td>\n",
              "      <td>64.932141</td>\n",
              "      <td>63.734362</td>\n",
              "      <td>62.168726</td>\n",
              "      <td>60.683706</td>\n",
              "      <td>58.759285</td>\n",
              "    </tr>\n",
              "    <tr>\n",
              "      <th>197</th>\n",
              "      <td>75</td>\n",
              "      <td>62.688483</td>\n",
              "      <td>64.184743</td>\n",
              "      <td>65.896784</td>\n",
              "      <td>67.294109</td>\n",
              "      <td>67.385624</td>\n",
              "      <td>68.396841</td>\n",
              "      <td>70.167959</td>\n",
              "      <td>71.637006</td>\n",
              "      <td>73.780966</td>\n",
              "      <td>73.942565</td>\n",
              "      <td>75.752993</td>\n",
              "      <td>75.030943</td>\n",
              "      <td>75.166614</td>\n",
              "      <td>73.662947</td>\n",
              "      <td>72.206403</td>\n",
              "      <td>71.847554</td>\n",
              "      <td>70.725120</td>\n",
              "      <td>70.437576</td>\n",
              "      <td>70.340370</td>\n",
              "      <td>69.493374</td>\n",
              "      <td>69.205394</td>\n",
              "      <td>67.770324</td>\n",
              "      <td>67.510636</td>\n",
              "      <td>65.492426</td>\n",
              "      <td>63.440658</td>\n",
              "      <td>61.856313</td>\n",
              "      <td>61.186599</td>\n",
              "      <td>61.010450</td>\n",
              "    </tr>\n",
              "    <tr>\n",
              "      <th>198</th>\n",
              "      <td>75</td>\n",
              "      <td>64.792785</td>\n",
              "      <td>64.889994</td>\n",
              "      <td>65.674063</td>\n",
              "      <td>66.779873</td>\n",
              "      <td>67.111891</td>\n",
              "      <td>68.571658</td>\n",
              "      <td>70.652355</td>\n",
              "      <td>71.094000</td>\n",
              "      <td>71.699479</td>\n",
              "      <td>73.370318</td>\n",
              "      <td>75.386813</td>\n",
              "      <td>75.589278</td>\n",
              "      <td>75.122812</td>\n",
              "      <td>74.776611</td>\n",
              "      <td>73.256016</td>\n",
              "      <td>71.066190</td>\n",
              "      <td>69.141131</td>\n",
              "      <td>67.667080</td>\n",
              "      <td>67.244616</td>\n",
              "      <td>67.164574</td>\n",
              "      <td>65.026473</td>\n",
              "      <td>64.161263</td>\n",
              "      <td>62.406264</td>\n",
              "      <td>61.822468</td>\n",
              "      <td>60.436224</td>\n",
              "      <td>59.494092</td>\n",
              "      <td>59.443431</td>\n",
              "      <td>59.215695</td>\n",
              "    </tr>\n",
              "  </tbody>\n",
              "</table>\n",
              "<p>199 rows × 29 columns</p>\n",
              "</div>"
            ],
            "text/plain": [
              "     Real Weight         t1         t2  ...        t26        t27        t28\n",
              "0             30  20.216734  20.591473  ...  11.320964   9.454773   8.205822\n",
              "1             30  16.358580  17.948475  ...  14.639496  13.310592  11.921294\n",
              "2             30  18.541974  19.393415  ...  17.914060  16.444254  15.250845\n",
              "3             30  20.787830  21.712560  ...  14.703486  13.911107  13.233322\n",
              "4             30  19.093744  20.634477  ...  13.907085  12.982010  11.025349\n",
              "..           ...        ...        ...  ...        ...        ...        ...\n",
              "194           75  65.469745  66.226849  ...  63.846277  63.783857  63.573616\n",
              "195           75  63.816733  65.954598  ...  65.266628  64.743208  63.316108\n",
              "196           75  65.786215  67.721361  ...  62.168726  60.683706  58.759285\n",
              "197           75  62.688483  64.184743  ...  61.856313  61.186599  61.010450\n",
              "198           75  64.792785  64.889994  ...  59.494092  59.443431  59.215695\n",
              "\n",
              "[199 rows x 29 columns]"
            ]
          },
          "metadata": {},
          "execution_count": 13
        }
      ]
    },
    {
      "cell_type": "markdown",
      "metadata": {
        "id": "iMYeMfBumaye"
      },
      "source": [
        "Before training the model I split into train and testing model (with stratification)"
      ]
    },
    {
      "cell_type": "code",
      "metadata": {
        "colab": {
          "base_uri": "https://localhost:8080/"
        },
        "id": "PZeolu4WmTzn",
        "outputId": "d84837ec-9b7d-4437-9401-fb36b247926e"
      },
      "source": [
        "from collections import Counter\n",
        "print(\"Labels distribution:\",Counter(y))\n",
        "\n",
        "# train-test split\n",
        "x_train, x_test, y_train, y_test = sklearn.model_selection.train_test_split(samples, labels, random_state=30,stratify=labels,train_size=0.5)\n",
        "print(\"Train labels distribution:\", Counter(y_train))\n",
        "print(\"Test labels distribution:\",Counter(y_test))\n",
        "\n",
        "\n"
      ],
      "execution_count": null,
      "outputs": [
        {
          "output_type": "stream",
          "name": "stdout",
          "text": [
            "Labels distribution: Counter({70.0: 21, 35.0: 20, 40.0: 20, 45.0: 20, 50.0: 20, 55.0: 20, 60.0: 20, 75.0: 20, 30.0: 19, 65.0: 19})\n",
            "Train labels distribution: Counter({55.0: 10, 60.0: 10, 75.0: 10, 45.0: 10, 35.0: 10, 40.0: 10, 30.0: 10, 70.0: 10, 50.0: 10, 65.0: 9})\n",
            "Test labels distribution: Counter({70.0: 11, 60.0: 10, 75.0: 10, 50.0: 10, 40.0: 10, 45.0: 10, 55.0: 10, 65.0: 10, 35.0: 10, 30.0: 9})\n"
          ]
        }
      ]
    },
    {
      "cell_type": "markdown",
      "metadata": {
        "id": "wS4aSbVSH0q0"
      },
      "source": [
        "## Train the model"
      ]
    },
    {
      "cell_type": "code",
      "metadata": {
        "colab": {
          "base_uri": "https://localhost:8080/"
        },
        "id": "o4dhcgg3HxNz",
        "outputId": "2203dfe2-f3d3-4893-dd41-3a4d4bed563a"
      },
      "source": [
        "from sklearn.linear_model import LinearRegression\n",
        "ml = LinearRegression()\n",
        "ml.fit(x_train,y_train)"
      ],
      "execution_count": null,
      "outputs": [
        {
          "output_type": "execute_result",
          "data": {
            "text/plain": [
              "LinearRegression(copy_X=True, fit_intercept=True, n_jobs=None, normalize=False)"
            ]
          },
          "metadata": {},
          "execution_count": 15
        }
      ]
    },
    {
      "cell_type": "markdown",
      "metadata": {
        "id": "Kd_jWhZAIFCJ"
      },
      "source": [
        "## Predict test results"
      ]
    },
    {
      "cell_type": "code",
      "metadata": {
        "colab": {
          "base_uri": "https://localhost:8080/"
        },
        "id": "gC-mZudFIHmx",
        "outputId": "e62daa31-74a6-4e3a-986d-857b7d6625a2"
      },
      "source": [
        "y_pred = ml.predict(x_test)\n",
        "print(y_pred)"
      ],
      "execution_count": null,
      "outputs": [
        {
          "output_type": "stream",
          "name": "stdout",
          "text": [
            "[60.14636279 74.75730604 50.12141768 49.81253833 40.50749378 45.19478044\n",
            " 30.10630524 55.07425749 65.2351635  30.31304127 50.19287061 70.03947747\n",
            " 55.39794755 70.11770141 60.00596638 74.92916133 50.07069161 39.8941613\n",
            " 45.25581064 74.72462661 54.75751985 70.46987959 44.65424343 75.34863815\n",
            " 29.81119424 75.12789783 65.18230115 69.92281393 49.82934225 44.73855268\n",
            " 44.96196012 35.08951955 55.06609065 39.91891489 50.02880188 49.80033503\n",
            " 45.16987683 44.9312463  70.0452506  69.92851358 35.05464605 70.16172494\n",
            " 44.98778153 30.319948   64.99159616 65.18255329 55.53347063 54.8666399\n",
            " 70.24564242 65.02404114 29.9260285  65.03670236 54.90193145 64.91137132\n",
            " 59.94113922 50.27358504 75.12997304 29.95908612 39.99718095 65.43591447\n",
            " 75.0894216  70.03542047 30.10389147 54.74208628 35.30789533 34.81174859\n",
            " 60.15873582 75.08595962 44.82032032 35.3288791  35.16816673 30.23319967\n",
            " 39.89897794 40.08557412 40.47419574 74.91819785 35.22477751 30.27981557\n",
            " 59.59184724 74.88450848 34.93416243 59.75723447 50.35122706 39.97404812\n",
            " 69.90336871 55.01466348 60.07152093 59.77718415 64.79977232 69.95029197\n",
            " 44.85078558 59.72833964 39.66305243 40.30491353 35.32581962 59.93931216\n",
            " 64.55546008 55.2544428  50.0721469  34.82590341]\n"
          ]
        }
      ]
    },
    {
      "cell_type": "code",
      "metadata": {
        "colab": {
          "base_uri": "https://localhost:8080/"
        },
        "id": "fJ5-0EyMKmkY",
        "outputId": "8438df86-30ba-4fa9-edb1-260c976c0f89"
      },
      "source": [
        "ml.coef_"
      ],
      "execution_count": null,
      "outputs": [
        {
          "output_type": "execute_result",
          "data": {
            "text/plain": [
              "array([ 0.01734973, -0.05541532, -0.03772034,  0.08677679,  0.01571772,\n",
              "       -0.01988101, -0.03361816,  0.04588553, -0.08360565,  0.0183223 ,\n",
              "        0.42418744,  0.31679541,  0.28499663,  0.01850673, -0.00940437,\n",
              "        0.05490046, -0.0229629 , -0.00224654, -0.00254712, -0.04960739,\n",
              "        0.03757966, -0.02880566,  0.05416689,  0.01007994, -0.02446067,\n",
              "       -0.02459611, -0.00261039,  0.01155721])"
            ]
          },
          "metadata": {},
          "execution_count": 21
        }
      ]
    },
    {
      "cell_type": "markdown",
      "metadata": {
        "id": "-vuoCl-GIkG6"
      },
      "source": [
        "## Evaluate the model"
      ]
    },
    {
      "cell_type": "code",
      "metadata": {
        "colab": {
          "base_uri": "https://localhost:8080/"
        },
        "id": "GyOHpynrInsf",
        "outputId": "5dac8cd4-e9db-4e16-d343-d810d22c38aa"
      },
      "source": [
        "from sklearn.metrics import r2_score\n",
        "r2_score(y_test,y_pred)"
      ],
      "execution_count": null,
      "outputs": [
        {
          "output_type": "execute_result",
          "data": {
            "text/plain": [
              "0.999771922195373"
            ]
          },
          "metadata": {},
          "execution_count": 18
        }
      ]
    },
    {
      "cell_type": "markdown",
      "metadata": {
        "id": "4sOkB98RI6w0"
      },
      "source": [
        "## Plot the results"
      ]
    },
    {
      "cell_type": "code",
      "metadata": {
        "colab": {
          "base_uri": "https://localhost:8080/",
          "height": 313
        },
        "id": "NPV51eQyI9Cz",
        "outputId": "2ef8b816-c5b9-4d2f-d9b2-4c113dceb644"
      },
      "source": [
        "import matplotlib.pyplot as plt\n",
        "\n",
        "\n",
        "plt.scatter(y_test,y_pred)\n",
        "plt.xlabel('Actual')\n",
        "plt.ylabel('Predicted')\n",
        "plt.title('Actual vs Predicted')\n"
      ],
      "execution_count": null,
      "outputs": [
        {
          "output_type": "execute_result",
          "data": {
            "text/plain": [
              "Text(0.5, 1.0, 'Actual vs Predicted')"
            ]
          },
          "metadata": {},
          "execution_count": 20
        },
        {
          "output_type": "display_data",
          "data": {
            "image/png": "[encoded data removed]",
            "text/plain": [
              "<Figure size 432x288 with 1 Axes>"
            ]
          },
          "metadata": {
            "needs_background": "light"
          }
        }
      ]
    }
  ]
}