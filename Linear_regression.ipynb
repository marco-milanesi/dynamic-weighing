{
  "nbformat": 4,
  "nbformat_minor": 0,
  "metadata": {
    "colab": {
      "name": "Linear_regression.ipynb",
      "provenance": [],
      "collapsed_sections": [],
      "authorship_tag": "ABX9TyMC1goO/TOOVgvO2tKeg5oI",
      "include_colab_link": true
    },
    "kernelspec": {
      "name": "python3",
      "display_name": "Python 3"
    },
    "language_info": {
      "name": "python"
    }
  },
  "cells": [
    {
      "cell_type": "markdown",
      "metadata": {
        "id": "view-in-github",
        "colab_type": "text"
      },
      "source": [
        "<a href=\"https://colab.research.google.com/github/marco-milanesi/dynamic-weighing/blob/main/Linear_regression.ipynb\" target=\"_parent\"><img src=\"https://colab.research.google.com/assets/colab-badge.svg\" alt=\"Open In Colab\"/></a>"
      ]
    },
    {
      "cell_type": "markdown",
      "metadata": {
        "id": "4ke6yZxGD8E0"
      },
      "source": [
        "# Dynamic weighing"
      ]
    },
    {
      "cell_type": "code",
      "metadata": {
        "colab": {
          "base_uri": "https://localhost:8080/"
        },
        "id": "7141jGUO_BGy",
        "outputId": "f0ffce66-1c19-4f9b-fac6-257cd3f157ac"
      },
      "source": [
        "!wget https://raw.githubusercontent.com/marco-milanesi/dynamic-weighing/main/weight_data.CSV"
      ],
      "execution_count": 1,
      "outputs": [
        {
          "output_type": "stream",
          "name": "stdout",
          "text": [
            "--2021-12-02 21:21:48--  https://raw.githubusercontent.com/marco-milanesi/dynamic-weighing/main/weight_data.CSV\n",
            "Resolving raw.githubusercontent.com (raw.githubusercontent.com)... 185.199.108.133, 185.199.109.133, 185.199.110.133, ...\n",
            "Connecting to raw.githubusercontent.com (raw.githubusercontent.com)|185.199.108.133|:443... connected.\n",
            "HTTP request sent, awaiting response... 200 OK\n",
            "Length: 67183 (66K) [text/plain]\n",
            "Saving to: ‘weight_data.CSV’\n",
            "\n",
            "weight_data.CSV     100%[===================>]  65.61K  --.-KB/s    in 0.007s  \n",
            "\n",
            "2021-12-02 21:21:48 (8.86 MB/s) - ‘weight_data.CSV’ saved [67183/67183]\n",
            "\n"
          ]
        }
      ]
    },
    {
      "cell_type": "markdown",
      "metadata": {
        "id": "yDaRDf0eLGBM"
      },
      "source": [
        "# Linear Regression"
      ]
    },
    {
      "cell_type": "markdown",
      "metadata": {
        "id": "p1kIJclLWkz1"
      },
      "source": [
        "## Import packages\n"
      ]
    },
    {
      "cell_type": "code",
      "metadata": {
        "id": "wS6cBeUZT43H"
      },
      "source": [
        "import pandas as pd\n",
        "import sklearn\n",
        "import numpy as np\n",
        "from sklearn.neighbors import KNeighborsClassifier\n",
        "import matplotlib.pyplot as plt"
      ],
      "execution_count": 137,
      "outputs": []
    },
    {
      "cell_type": "markdown",
      "metadata": {
        "id": "FHsgVBbpXVe9"
      },
      "source": [
        "## Loading Data"
      ]
    },
    {
      "cell_type": "code",
      "metadata": {
        "id": "ZlORoNZEXc5g",
        "colab": {
          "base_uri": "https://localhost:8080/",
          "height": 479
        },
        "outputId": "ab9c07a5-bc8b-4cbf-eea3-f587e0e4a931"
      },
      "source": [
        "data = pd.read_csv('weight_data.CSV',sep=';')\n",
        "print(\"Loaded: \",len(data))\n",
        "y = data.values[:,0]\n",
        "x = data.values[:,1:]\n",
        "data"
      ],
      "execution_count": 138,
      "outputs": [
        {
          "output_type": "stream",
          "name": "stdout",
          "text": [
            "Loaded:  199\n"
          ]
        },
        {
          "output_type": "execute_result",
          "data": {
            "text/html": [
              "<div>\n",
              "<style scoped>\n",
              "    .dataframe tbody tr th:only-of-type {\n",
              "        vertical-align: middle;\n",
              "    }\n",
              "\n",
              "    .dataframe tbody tr th {\n",
              "        vertical-align: top;\n",
              "    }\n",
              "\n",
              "    .dataframe thead th {\n",
              "        text-align: right;\n",
              "    }\n",
              "</style>\n",
              "<table border=\"1\" class=\"dataframe\">\n",
              "  <thead>\n",
              "    <tr style=\"text-align: right;\">\n",
              "      <th></th>\n",
              "      <th>Real Weight</th>\n",
              "      <th>t1</th>\n",
              "      <th>t2</th>\n",
              "      <th>t3</th>\n",
              "      <th>t4</th>\n",
              "      <th>t5</th>\n",
              "      <th>t6</th>\n",
              "      <th>t7</th>\n",
              "      <th>t8</th>\n",
              "      <th>t9</th>\n",
              "      <th>t10</th>\n",
              "      <th>t11</th>\n",
              "      <th>t12</th>\n",
              "      <th>t13</th>\n",
              "      <th>t14</th>\n",
              "      <th>t15</th>\n",
              "      <th>t16</th>\n",
              "      <th>t17</th>\n",
              "      <th>t18</th>\n",
              "      <th>t19</th>\n",
              "      <th>t20</th>\n",
              "      <th>t21</th>\n",
              "      <th>t22</th>\n",
              "      <th>t23</th>\n",
              "      <th>t24</th>\n",
              "      <th>t25</th>\n",
              "      <th>t26</th>\n",
              "      <th>t27</th>\n",
              "      <th>t28</th>\n",
              "    </tr>\n",
              "  </thead>\n",
              "  <tbody>\n",
              "    <tr>\n",
              "      <th>0</th>\n",
              "      <td>30</td>\n",
              "      <td>20.216734</td>\n",
              "      <td>20.591473</td>\n",
              "      <td>20.862815</td>\n",
              "      <td>21.082876</td>\n",
              "      <td>21.961170</td>\n",
              "      <td>23.008404</td>\n",
              "      <td>23.845369</td>\n",
              "      <td>25.852810</td>\n",
              "      <td>26.715498</td>\n",
              "      <td>28.738822</td>\n",
              "      <td>30.448866</td>\n",
              "      <td>30.165725</td>\n",
              "      <td>30.183971</td>\n",
              "      <td>28.252478</td>\n",
              "      <td>27.310475</td>\n",
              "      <td>25.953428</td>\n",
              "      <td>24.757809</td>\n",
              "      <td>24.057983</td>\n",
              "      <td>22.055484</td>\n",
              "      <td>20.114541</td>\n",
              "      <td>18.020647</td>\n",
              "      <td>17.390114</td>\n",
              "      <td>16.260420</td>\n",
              "      <td>14.431770</td>\n",
              "      <td>13.011104</td>\n",
              "      <td>11.320964</td>\n",
              "      <td>9.454773</td>\n",
              "      <td>8.205822</td>\n",
              "    </tr>\n",
              "    <tr>\n",
              "      <th>1</th>\n",
              "      <td>30</td>\n",
              "      <td>16.358580</td>\n",
              "      <td>17.948475</td>\n",
              "      <td>18.922227</td>\n",
              "      <td>19.341220</td>\n",
              "      <td>21.115006</td>\n",
              "      <td>22.996339</td>\n",
              "      <td>24.455895</td>\n",
              "      <td>26.089258</td>\n",
              "      <td>26.648218</td>\n",
              "      <td>28.489740</td>\n",
              "      <td>30.408361</td>\n",
              "      <td>30.405284</td>\n",
              "      <td>30.645241</td>\n",
              "      <td>29.286754</td>\n",
              "      <td>27.523205</td>\n",
              "      <td>25.633204</td>\n",
              "      <td>24.104316</td>\n",
              "      <td>23.409304</td>\n",
              "      <td>21.381818</td>\n",
              "      <td>21.141492</td>\n",
              "      <td>21.090736</td>\n",
              "      <td>20.030618</td>\n",
              "      <td>19.561854</td>\n",
              "      <td>17.596822</td>\n",
              "      <td>16.664926</td>\n",
              "      <td>14.639496</td>\n",
              "      <td>13.310592</td>\n",
              "      <td>11.921294</td>\n",
              "    </tr>\n",
              "    <tr>\n",
              "      <th>2</th>\n",
              "      <td>30</td>\n",
              "      <td>18.541974</td>\n",
              "      <td>19.393415</td>\n",
              "      <td>20.715872</td>\n",
              "      <td>20.794711</td>\n",
              "      <td>22.889283</td>\n",
              "      <td>24.044060</td>\n",
              "      <td>26.136841</td>\n",
              "      <td>26.822618</td>\n",
              "      <td>27.214711</td>\n",
              "      <td>28.648734</td>\n",
              "      <td>30.426228</td>\n",
              "      <td>30.811116</td>\n",
              "      <td>30.820215</td>\n",
              "      <td>30.439926</td>\n",
              "      <td>29.654349</td>\n",
              "      <td>28.919307</td>\n",
              "      <td>28.020054</td>\n",
              "      <td>25.840811</td>\n",
              "      <td>24.443338</td>\n",
              "      <td>23.255630</td>\n",
              "      <td>22.971649</td>\n",
              "      <td>21.885108</td>\n",
              "      <td>20.566558</td>\n",
              "      <td>20.156233</td>\n",
              "      <td>19.965342</td>\n",
              "      <td>17.914060</td>\n",
              "      <td>16.444254</td>\n",
              "      <td>15.250845</td>\n",
              "    </tr>\n",
              "    <tr>\n",
              "      <th>3</th>\n",
              "      <td>30</td>\n",
              "      <td>20.787830</td>\n",
              "      <td>21.712560</td>\n",
              "      <td>22.535063</td>\n",
              "      <td>23.615610</td>\n",
              "      <td>23.774196</td>\n",
              "      <td>24.938504</td>\n",
              "      <td>25.094124</td>\n",
              "      <td>26.149732</td>\n",
              "      <td>27.474697</td>\n",
              "      <td>29.129782</td>\n",
              "      <td>30.829622</td>\n",
              "      <td>30.343048</td>\n",
              "      <td>30.246423</td>\n",
              "      <td>29.857620</td>\n",
              "      <td>29.061254</td>\n",
              "      <td>27.445913</td>\n",
              "      <td>25.505077</td>\n",
              "      <td>25.278630</td>\n",
              "      <td>23.310526</td>\n",
              "      <td>21.513120</td>\n",
              "      <td>21.232630</td>\n",
              "      <td>20.735228</td>\n",
              "      <td>19.619537</td>\n",
              "      <td>17.569506</td>\n",
              "      <td>15.922942</td>\n",
              "      <td>14.703486</td>\n",
              "      <td>13.911107</td>\n",
              "      <td>13.233322</td>\n",
              "    </tr>\n",
              "    <tr>\n",
              "      <th>4</th>\n",
              "      <td>30</td>\n",
              "      <td>19.093744</td>\n",
              "      <td>20.634477</td>\n",
              "      <td>22.173730</td>\n",
              "      <td>22.392791</td>\n",
              "      <td>24.472763</td>\n",
              "      <td>25.323968</td>\n",
              "      <td>26.163234</td>\n",
              "      <td>27.975422</td>\n",
              "      <td>28.422492</td>\n",
              "      <td>28.663653</td>\n",
              "      <td>30.809908</td>\n",
              "      <td>30.392548</td>\n",
              "      <td>30.425185</td>\n",
              "      <td>28.969535</td>\n",
              "      <td>27.280572</td>\n",
              "      <td>25.419597</td>\n",
              "      <td>23.974121</td>\n",
              "      <td>23.526355</td>\n",
              "      <td>22.226838</td>\n",
              "      <td>20.443481</td>\n",
              "      <td>19.058634</td>\n",
              "      <td>17.707083</td>\n",
              "      <td>17.314882</td>\n",
              "      <td>17.232952</td>\n",
              "      <td>15.219103</td>\n",
              "      <td>13.907085</td>\n",
              "      <td>12.982010</td>\n",
              "      <td>11.025349</td>\n",
              "    </tr>\n",
              "    <tr>\n",
              "      <th>...</th>\n",
              "      <td>...</td>\n",
              "      <td>...</td>\n",
              "      <td>...</td>\n",
              "      <td>...</td>\n",
              "      <td>...</td>\n",
              "      <td>...</td>\n",
              "      <td>...</td>\n",
              "      <td>...</td>\n",
              "      <td>...</td>\n",
              "      <td>...</td>\n",
              "      <td>...</td>\n",
              "      <td>...</td>\n",
              "      <td>...</td>\n",
              "      <td>...</td>\n",
              "      <td>...</td>\n",
              "      <td>...</td>\n",
              "      <td>...</td>\n",
              "      <td>...</td>\n",
              "      <td>...</td>\n",
              "      <td>...</td>\n",
              "      <td>...</td>\n",
              "      <td>...</td>\n",
              "      <td>...</td>\n",
              "      <td>...</td>\n",
              "      <td>...</td>\n",
              "      <td>...</td>\n",
              "      <td>...</td>\n",
              "      <td>...</td>\n",
              "      <td>...</td>\n",
              "    </tr>\n",
              "    <tr>\n",
              "      <th>194</th>\n",
              "      <td>75</td>\n",
              "      <td>65.469745</td>\n",
              "      <td>66.226849</td>\n",
              "      <td>66.500694</td>\n",
              "      <td>67.950649</td>\n",
              "      <td>70.017205</td>\n",
              "      <td>72.136103</td>\n",
              "      <td>73.023895</td>\n",
              "      <td>74.024775</td>\n",
              "      <td>74.558542</td>\n",
              "      <td>75.504318</td>\n",
              "      <td>75.641807</td>\n",
              "      <td>75.662575</td>\n",
              "      <td>75.874149</td>\n",
              "      <td>74.836788</td>\n",
              "      <td>74.240227</td>\n",
              "      <td>72.767795</td>\n",
              "      <td>71.826029</td>\n",
              "      <td>70.552868</td>\n",
              "      <td>70.490923</td>\n",
              "      <td>69.868137</td>\n",
              "      <td>69.693539</td>\n",
              "      <td>69.000679</td>\n",
              "      <td>67.005969</td>\n",
              "      <td>65.442489</td>\n",
              "      <td>64.641583</td>\n",
              "      <td>63.846277</td>\n",
              "      <td>63.783857</td>\n",
              "      <td>63.573616</td>\n",
              "    </tr>\n",
              "    <tr>\n",
              "      <th>195</th>\n",
              "      <td>75</td>\n",
              "      <td>63.816733</td>\n",
              "      <td>65.954598</td>\n",
              "      <td>65.964267</td>\n",
              "      <td>67.488364</td>\n",
              "      <td>68.382093</td>\n",
              "      <td>69.499717</td>\n",
              "      <td>71.276521</td>\n",
              "      <td>72.145537</td>\n",
              "      <td>72.694650</td>\n",
              "      <td>74.360400</td>\n",
              "      <td>75.925086</td>\n",
              "      <td>75.013339</td>\n",
              "      <td>75.349237</td>\n",
              "      <td>74.593905</td>\n",
              "      <td>72.901164</td>\n",
              "      <td>70.889756</td>\n",
              "      <td>70.762950</td>\n",
              "      <td>69.596962</td>\n",
              "      <td>69.064516</td>\n",
              "      <td>69.035449</td>\n",
              "      <td>68.610923</td>\n",
              "      <td>67.479043</td>\n",
              "      <td>66.771656</td>\n",
              "      <td>66.558410</td>\n",
              "      <td>65.700983</td>\n",
              "      <td>65.266628</td>\n",
              "      <td>64.743208</td>\n",
              "      <td>63.316108</td>\n",
              "    </tr>\n",
              "    <tr>\n",
              "      <th>196</th>\n",
              "      <td>75</td>\n",
              "      <td>65.786215</td>\n",
              "      <td>67.721361</td>\n",
              "      <td>69.824838</td>\n",
              "      <td>70.310168</td>\n",
              "      <td>71.307659</td>\n",
              "      <td>71.326052</td>\n",
              "      <td>72.050010</td>\n",
              "      <td>72.425910</td>\n",
              "      <td>73.954595</td>\n",
              "      <td>74.459107</td>\n",
              "      <td>75.541380</td>\n",
              "      <td>75.575889</td>\n",
              "      <td>75.091932</td>\n",
              "      <td>74.887379</td>\n",
              "      <td>73.002921</td>\n",
              "      <td>71.046006</td>\n",
              "      <td>70.949416</td>\n",
              "      <td>69.092364</td>\n",
              "      <td>67.873424</td>\n",
              "      <td>67.583285</td>\n",
              "      <td>67.507667</td>\n",
              "      <td>66.331702</td>\n",
              "      <td>65.345967</td>\n",
              "      <td>64.932141</td>\n",
              "      <td>63.734362</td>\n",
              "      <td>62.168726</td>\n",
              "      <td>60.683706</td>\n",
              "      <td>58.759285</td>\n",
              "    </tr>\n",
              "    <tr>\n",
              "      <th>197</th>\n",
              "      <td>75</td>\n",
              "      <td>62.688483</td>\n",
              "      <td>64.184743</td>\n",
              "      <td>65.896784</td>\n",
              "      <td>67.294109</td>\n",
              "      <td>67.385624</td>\n",
              "      <td>68.396841</td>\n",
              "      <td>70.167959</td>\n",
              "      <td>71.637006</td>\n",
              "      <td>73.780966</td>\n",
              "      <td>73.942565</td>\n",
              "      <td>75.752993</td>\n",
              "      <td>75.030943</td>\n",
              "      <td>75.166614</td>\n",
              "      <td>73.662947</td>\n",
              "      <td>72.206403</td>\n",
              "      <td>71.847554</td>\n",
              "      <td>70.725120</td>\n",
              "      <td>70.437576</td>\n",
              "      <td>70.340370</td>\n",
              "      <td>69.493374</td>\n",
              "      <td>69.205394</td>\n",
              "      <td>67.770324</td>\n",
              "      <td>67.510636</td>\n",
              "      <td>65.492426</td>\n",
              "      <td>63.440658</td>\n",
              "      <td>61.856313</td>\n",
              "      <td>61.186599</td>\n",
              "      <td>61.010450</td>\n",
              "    </tr>\n",
              "    <tr>\n",
              "      <th>198</th>\n",
              "      <td>75</td>\n",
              "      <td>64.792785</td>\n",
              "      <td>64.889994</td>\n",
              "      <td>65.674063</td>\n",
              "      <td>66.779873</td>\n",
              "      <td>67.111891</td>\n",
              "      <td>68.571658</td>\n",
              "      <td>70.652355</td>\n",
              "      <td>71.094000</td>\n",
              "      <td>71.699479</td>\n",
              "      <td>73.370318</td>\n",
              "      <td>75.386813</td>\n",
              "      <td>75.589278</td>\n",
              "      <td>75.122812</td>\n",
              "      <td>74.776611</td>\n",
              "      <td>73.256016</td>\n",
              "      <td>71.066190</td>\n",
              "      <td>69.141131</td>\n",
              "      <td>67.667080</td>\n",
              "      <td>67.244616</td>\n",
              "      <td>67.164574</td>\n",
              "      <td>65.026473</td>\n",
              "      <td>64.161263</td>\n",
              "      <td>62.406264</td>\n",
              "      <td>61.822468</td>\n",
              "      <td>60.436224</td>\n",
              "      <td>59.494092</td>\n",
              "      <td>59.443431</td>\n",
              "      <td>59.215695</td>\n",
              "    </tr>\n",
              "  </tbody>\n",
              "</table>\n",
              "<p>199 rows × 29 columns</p>\n",
              "</div>"
            ],
            "text/plain": [
              "     Real Weight         t1         t2  ...        t26        t27        t28\n",
              "0             30  20.216734  20.591473  ...  11.320964   9.454773   8.205822\n",
              "1             30  16.358580  17.948475  ...  14.639496  13.310592  11.921294\n",
              "2             30  18.541974  19.393415  ...  17.914060  16.444254  15.250845\n",
              "3             30  20.787830  21.712560  ...  14.703486  13.911107  13.233322\n",
              "4             30  19.093744  20.634477  ...  13.907085  12.982010  11.025349\n",
              "..           ...        ...        ...  ...        ...        ...        ...\n",
              "194           75  65.469745  66.226849  ...  63.846277  63.783857  63.573616\n",
              "195           75  63.816733  65.954598  ...  65.266628  64.743208  63.316108\n",
              "196           75  65.786215  67.721361  ...  62.168726  60.683706  58.759285\n",
              "197           75  62.688483  64.184743  ...  61.856313  61.186599  61.010450\n",
              "198           75  64.792785  64.889994  ...  59.494092  59.443431  59.215695\n",
              "\n",
              "[199 rows x 29 columns]"
            ]
          },
          "metadata": {},
          "execution_count": 138
        }
      ]
    },
    {
      "cell_type": "markdown",
      "metadata": {
        "id": "_482C50pLJHL"
      },
      "source": [
        "# PCA"
      ]
    },
    {
      "cell_type": "code",
      "metadata": {
        "colab": {
          "base_uri": "https://localhost:8080/",
          "height": 678
        },
        "id": "QxgORpC-LIsj",
        "outputId": "79277ba5-055b-4ef9-9ac5-c757edd4769e"
      },
      "source": [
        "from sklearn.decomposition import PCA\n",
        "from sklearn.discriminant_analysis import LinearDiscriminantAnalysis\n",
        "\n",
        "n_components = x.shape[1]\n",
        "\n",
        "pca = PCA(n_components=n_components, random_state=453)\n",
        "x_r = pca.fit(x).transform(x)\n",
        "\n",
        "total_variance = sum(pca.explained_variance_)\n",
        "print(\"Total Variance in our dataset is: \",total_variance)\n",
        "var_95 = total_variance*0.95\n",
        "print(\"The 95% variance we want to have is: \", var_95)\n",
        "print(\"\")\n",
        "\n",
        "a = zip(range(0,n_components),pca.explained_variance_)\n",
        "a = pd.DataFrame(a,columns=[\"PCA Comp\", \"Explained Variance\"])\n",
        "\n",
        "# Trying to hit 95 %\n",
        "print(\"Variance explain with 2 components: \", sum(a[\"Explained Variance\"][0:2]))\n",
        "print(\"Variance explain with 5 components: \", sum(a[\"Explained Variance\"][0:5]))\n",
        "print(\"Variance explain with 10 components: \", sum(a[\"Explained Variance\"][0:10]))\n",
        "print(\"Variance explain with 12 components: \", sum(a[\"Explained Variance\"][0:12]))\n",
        "print(\"Variance explain with 18 components: \", sum(a[\"Explained Variance\"][0:18]))\n",
        "print(\"Variance explain with 20 components: \", sum(a[\"Explained Variance\"][0:20]))\n",
        "print(\"Variance explain with 28 components: \", sum(a[\"Explained Variance\"][0:28]))\n",
        "\n",
        "\n",
        "# Plotting the data\n",
        "plt.figure(1, figsize=(14,8))\n",
        "plt.plot(pca.explained_variance_ratio_,linewidth=2, c='r')\n",
        "plt.xlabel('n_components')\n",
        "plt.ylabel('explained_ratio_')\n",
        "\n",
        "# Plotting line with 95 %\n",
        "plt.axvline(3,linestyle=':', label='n_components - 95% variance',c = 'blue')\n",
        "plt.legend(prop=dict(size=12))\n",
        "plt.show()            \n",
        "            \n",
        "            "
      ],
      "execution_count": 140,
      "outputs": [
        {
          "output_type": "stream",
          "name": "stdout",
          "text": [
            "Total Variance in our dataset is:  5935.689993207136\n",
            "The 95% variance we want to have is:  5638.905493546778\n",
            "\n",
            "Variance explain with 2 components:  5916.892885217763\n",
            "Variance explain with 5 components:  5929.4216968538985\n",
            "Variance explain with 10 components:  5933.173193426368\n",
            "Variance explain with 12 components:  5933.711679924072\n",
            "Variance explain with 18 components:  5934.794241771246\n",
            "Variance explain with 20 components:  5935.039445384799\n",
            "Variance explain with 28 components:  5935.689993207136\n"
          ]
        },
        {
          "output_type": "display_data",
          "data": {
            "image/png": "[encoded data removed]",
            "text/plain": [
              "<Figure size 1008x576 with 1 Axes>"
            ]
          },
          "metadata": {
            "needs_background": "light"
          }
        }
      ]
    },
    {
      "cell_type": "code",
      "metadata": {
        "id": "33op7MxsUbje"
      },
      "source": [
        "# Running PCA again\n",
        "\n",
        "pca = PCA(n_components=3, random_state=453)\n",
        "x_r = pca.fit(x).transform(x)"
      ],
      "execution_count": 141,
      "outputs": []
    },
    {
      "cell_type": "markdown",
      "metadata": {
        "id": "iMYeMfBumaye"
      },
      "source": [
        "## Train test and split"
      ]
    },
    {
      "cell_type": "code",
      "metadata": {
        "colab": {
          "base_uri": "https://localhost:8080/"
        },
        "id": "PZeolu4WmTzn",
        "outputId": "65811af0-5e8f-4ecc-d2a6-5c8f6a043035"
      },
      "source": [
        "from collections import Counter\n",
        "print(\"Labels distribution:\",Counter(y))\n",
        "\n",
        "# train-test split\n",
        "x_train, x_test, y_train, y_test = sklearn.model_selection.train_test_split(x_r, y, random_state=30,train_size=0.5)\n",
        "print(\"Train labels distribution:\", Counter(y_train))\n",
        "print(\"Test labels distribution:\",Counter(y_test))\n",
        "\n",
        "\n"
      ],
      "execution_count": 128,
      "outputs": [
        {
          "output_type": "stream",
          "name": "stdout",
          "text": [
            "Labels distribution: Counter({70.0: 21, 35.0: 20, 40.0: 20, 45.0: 20, 50.0: 20, 55.0: 20, 60.0: 20, 75.0: 20, 30.0: 19, 65.0: 19})\n",
            "Train labels distribution: Counter({60.0: 12, 75.0: 12, 40.0: 12, 30.0: 10, 70.0: 10, 35.0: 10, 45.0: 9, 55.0: 9, 65.0: 9, 50.0: 6})\n",
            "Test labels distribution: Counter({50.0: 14, 70.0: 11, 45.0: 11, 55.0: 11, 65.0: 10, 35.0: 10, 30.0: 9, 60.0: 8, 40.0: 8, 75.0: 8})\n"
          ]
        }
      ]
    },
    {
      "cell_type": "code",
      "metadata": {
        "colab": {
          "base_uri": "https://localhost:8080/"
        },
        "id": "MFvzt1jaIO4E",
        "outputId": "02312d70-75f4-4731-fe10-c9d174411bc4"
      },
      "source": [
        "print(x_train.shape)\n",
        "print(x_test.shape)\n",
        "print(y_train.shape)\n",
        "print(y_test.shape)"
      ],
      "execution_count": 129,
      "outputs": [
        {
          "output_type": "stream",
          "name": "stdout",
          "text": [
            "(99, 3)\n",
            "(100, 3)\n",
            "(99,)\n",
            "(100,)\n"
          ]
        }
      ]
    },
    {
      "cell_type": "markdown",
      "metadata": {
        "id": "wS4aSbVSH0q0"
      },
      "source": [
        "## Train the model"
      ]
    },
    {
      "cell_type": "code",
      "metadata": {
        "colab": {
          "base_uri": "https://localhost:8080/"
        },
        "id": "o4dhcgg3HxNz",
        "outputId": "a1f6adb5-7067-4432-c107-5ff87403b0e6"
      },
      "source": [
        "from sklearn.linear_model import LinearRegression\n",
        "ml = LinearRegression()\n",
        "ml.fit(x_train,y_train)"
      ],
      "execution_count": 130,
      "outputs": [
        {
          "output_type": "execute_result",
          "data": {
            "text/plain": [
              "LinearRegression()"
            ]
          },
          "metadata": {},
          "execution_count": 130
        }
      ]
    },
    {
      "cell_type": "markdown",
      "metadata": {
        "id": "Kd_jWhZAIFCJ"
      },
      "source": [
        "## Predict test results"
      ]
    },
    {
      "cell_type": "code",
      "metadata": {
        "colab": {
          "base_uri": "https://localhost:8080/"
        },
        "id": "gC-mZudFIHmx",
        "outputId": "fc726595-ccd7-4102-eb85-96d910e27622"
      },
      "source": [
        "y_pred = ml.predict(x_test)\n",
        "print(y_pred)"
      ],
      "execution_count": 131,
      "outputs": [
        {
          "output_type": "stream",
          "name": "stdout",
          "text": [
            "[65.06142935 49.99131285 34.75867684 66.4647539  60.30238372 34.19951554\n",
            " 59.49917532 65.67651254 59.80367855 70.08983983 44.23453747 50.03257247\n",
            " 34.91256498 45.13019725 55.88450315 70.16802776 55.55623777 45.04746057\n",
            " 49.76932993 69.87045741 50.02046299 64.97797248 60.07265901 39.7073278\n",
            " 54.29323483 74.24544248 75.96603178 55.78095534 55.10451312 54.77829167\n",
            " 65.73151735 40.05217536 35.50467042 55.66353    39.90126338 34.35786592\n",
            " 29.01486382 64.89464551 75.13912565 60.55029203 60.80359641 44.91691153\n",
            " 50.28812536 64.79375415 40.12758868 29.21539326 29.30866932 70.09830474\n",
            " 76.18543004 31.02077648 51.1992863  29.92519958 64.89215804 74.98342299\n",
            " 45.13694447 50.14696915 30.28781307 59.59941214 34.55168407 70.62280003\n",
            " 30.06083779 31.02141156 74.64293725 49.3273036  40.37210605 49.94257681\n",
            " 56.11020798 45.04262987 64.83750707 34.72898334 69.15506385 45.367074\n",
            " 75.70528039 45.15718311 70.56602535 38.37518247 30.4209891  35.17276803\n",
            " 70.69500762 49.42535829 38.97916374 45.72428187 49.22937133 49.91550216\n",
            " 54.80111155 59.6377262  44.4956377  34.8574672  65.33000741 54.10020038\n",
            " 49.70003    70.96611187 75.04351123 69.38407122 70.20693724 40.31168086\n",
            " 50.16944035 55.16682154 35.44308821 44.63235886]\n"
          ]
        }
      ]
    },
    {
      "cell_type": "code",
      "metadata": {
        "colab": {
          "base_uri": "https://localhost:8080/"
        },
        "id": "fJ5-0EyMKmkY",
        "outputId": "0315bc7b-80a2-4475-cc40-5d8dc5e26b9e"
      },
      "source": [
        "coefficents = ml.coef_\n",
        "coefficents"
      ],
      "execution_count": 132,
      "outputs": [
        {
          "output_type": "execute_result",
          "data": {
            "text/plain": [
              "array([-0.1878143 ,  0.06290693,  0.2263811 ])"
            ]
          },
          "metadata": {},
          "execution_count": 132
        }
      ]
    },
    {
      "cell_type": "markdown",
      "metadata": {
        "id": "rWCQgFraax2P"
      },
      "source": [
        "y = β0 + β1 · x1 +  β2 · x2 + ... + βn · xn"
      ]
    },
    {
      "cell_type": "markdown",
      "metadata": {
        "id": "-vuoCl-GIkG6"
      },
      "source": [
        "## Evaluate the model"
      ]
    },
    {
      "cell_type": "code",
      "metadata": {
        "colab": {
          "base_uri": "https://localhost:8080/"
        },
        "id": "GyOHpynrInsf",
        "outputId": "5e894574-9e66-4778-e096-0f88238b24eb"
      },
      "source": [
        "from sklearn.metrics import r2_score\n",
        "r2_score(y_test,y_pred)"
      ],
      "execution_count": 133,
      "outputs": [
        {
          "output_type": "execute_result",
          "data": {
            "text/plain": [
              "0.9983321059075497"
            ]
          },
          "metadata": {},
          "execution_count": 133
        }
      ]
    },
    {
      "cell_type": "markdown",
      "metadata": {
        "id": "4sOkB98RI6w0"
      },
      "source": [
        "## Plot the results"
      ]
    },
    {
      "cell_type": "code",
      "metadata": {
        "colab": {
          "base_uri": "https://localhost:8080/",
          "height": 281
        },
        "id": "NPV51eQyI9Cz",
        "outputId": "9f61257e-a91e-4a81-94ca-a44160fcc7d2"
      },
      "source": [
        "#plt.scatter(y_test,y_pred)\n",
        "#plt.xlabel('Actual')\n",
        "#plt.ylabel('Predicted')\n",
        "#plt.title('Actual vs Predicted')\n",
        "\n",
        "max_x = np.max(x)\n",
        "min_x = np.min(x)\n",
        "\n",
        "# Calculating line value x and y\n",
        "x = np.linspace(min_x, max_x, 1000)\n",
        "y = coefficents[0] + coefficents[1]*x + coefficents[2]*x\n",
        "\n",
        "plt.plot(x,y, color='#58b970', label='Regression Line')\n",
        "plt.scatter(x,y, c='#ef5423', label='Test Data')\n",
        "\n",
        "plt.xlabel('Actual')\n",
        "plt.ylabel('Predicted')\n",
        "plt.legend()\n",
        "plt.show()\n",
        "\n"
      ],
      "execution_count": 134,
      "outputs": [
        {
          "output_type": "display_data",
          "data": {
            "image/png": "[encoded data removed]",
            "text/plain": [
              "<Figure size 432x288 with 1 Axes>"
            ]
          },
          "metadata": {
            "needs_background": "light"
          }
        }
      ]
    },
    {
      "cell_type": "code",
      "metadata": {
        "colab": {
          "base_uri": "https://localhost:8080/"
        },
        "id": "jXHgmqusYq86",
        "outputId": "8cc66bc8-01c2-4732-c889-4ddb2a5ad084"
      },
      "source": [
        "from sklearn.metrics import mean_squared_error\n",
        "import math\n",
        "print(mean_squared_error(y_test, y_pred))\n",
        "print(math.sqrt(mean_squared_error(y_test, y_pred)))\n"
      ],
      "execution_count": 102,
      "outputs": [
        {
          "output_type": "stream",
          "name": "stdout",
          "text": [
            "0.15361346156859382\n",
            "0.39193553241393386\n"
          ]
        }
      ]
    },
    {
      "cell_type": "code",
      "metadata": {
        "colab": {
          "base_uri": "https://localhost:8080/"
        },
        "id": "0Tv_TBjKZJr4",
        "outputId": "2bdfd458-c709-4d60-a0de-5b7a211b0fdc"
      },
      "source": [
        "#Example on R_Square and Adjusted R Square\n",
        "import statsmodels.api as sm\n",
        "X_addC = sm.add_constant(y_test)\n",
        "result = sm.OLS(y_pred, X_addC).fit()\n",
        "print(result.rsquared, result.rsquared_adj)\n"
      ],
      "execution_count": 107,
      "outputs": [
        {
          "output_type": "stream",
          "name": "stdout",
          "text": [
            "0.9992549784700377 0.999247376209528\n"
          ]
        }
      ]
    }
  ]
}