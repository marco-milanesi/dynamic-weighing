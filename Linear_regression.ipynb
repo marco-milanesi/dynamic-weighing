{
  "nbformat": 4,
  "nbformat_minor": 0,
  "metadata": {
    "colab": {
      "name": "Linear_regression.ipynb",
      "provenance": [],
      "collapsed_sections": [],
      "include_colab_link": true
    },
    "kernelspec": {
      "name": "python3",
      "display_name": "Python 3"
    },
    "language_info": {
      "name": "python"
    }
  },
  "cells": [
    {
      "cell_type": "markdown",
      "metadata": {
        "id": "view-in-github",
        "colab_type": "text"
      },
      "source": [
        "<a href=\"https://colab.research.google.com/github/marco-milanesi/dynamic-weighing/blob/main/Linear_regression.ipynb\" target=\"_parent\"><img src=\"https://colab.research.google.com/assets/colab-badge.svg\" alt=\"Open In Colab\"/></a>"
      ]
    },
    {
      "cell_type": "markdown",
      "metadata": {
        "id": "4ke6yZxGD8E0"
      },
      "source": [
        "# Dynamic weighing"
      ]
    },
    {
      "cell_type": "code",
      "metadata": {
        "colab": {
          "base_uri": "https://localhost:8080/"
        },
        "id": "7141jGUO_BGy",
        "outputId": "3af467ea-c2b1-45eb-9845-82a217605923"
      },
      "source": [
        "!wget https://raw.githubusercontent.com/EdoGitMira/Progetto_Laboratorio_Misure_pesatura_dinamica/main/dataset/with_outlier/dataset_interval_10.csv"
      ],
      "execution_count": 205,
      "outputs": [
        {
          "output_type": "stream",
          "name": "stdout",
          "text": [
            "--2021-12-21 14:28:17--  https://raw.githubusercontent.com/EdoGitMira/Progetto_Laboratorio_Misure_pesatura_dinamica/main/dataset/with_outlier/dataset_interval_10.csv\n",
            "Resolving raw.githubusercontent.com (raw.githubusercontent.com)... 185.199.111.133, 185.199.110.133, 185.199.108.133, ...\n",
            "Connecting to raw.githubusercontent.com (raw.githubusercontent.com)|185.199.111.133|:443... connected.\n",
            "HTTP request sent, awaiting response... 200 OK\n",
            "Length: 1030377 (1006K) [text/plain]\n",
            "Saving to: ‘dataset_interval_10.csv’\n",
            "\n",
            "\rdataset_interval_10   0%[                    ]       0  --.-KB/s               \rdataset_interval_10 100%[===================>]   1006K  --.-KB/s    in 0.03s   \n",
            "\n",
            "2021-12-21 14:28:17 (31.7 MB/s) - ‘dataset_interval_10.csv’ saved [1030377/1030377]\n",
            "\n"
          ]
        }
      ]
    },
    {
      "cell_type": "markdown",
      "metadata": {
        "id": "yDaRDf0eLGBM"
      },
      "source": [
        "# Linear Regression"
      ]
    },
    {
      "cell_type": "markdown",
      "metadata": {
        "id": "p1kIJclLWkz1"
      },
      "source": [
        "## Import packages\n"
      ]
    },
    {
      "cell_type": "code",
      "metadata": {
        "id": "wS6cBeUZT43H"
      },
      "source": [
        "import pandas as pd\n",
        "import sklearn\n",
        "import numpy as np\n",
        "from sklearn.neighbors import KNeighborsClassifier\n",
        "import matplotlib.pyplot as plt"
      ],
      "execution_count": 206,
      "outputs": []
    },
    {
      "cell_type": "markdown",
      "metadata": {
        "id": "FHsgVBbpXVe9"
      },
      "source": [
        "## Loading Data"
      ]
    },
    {
      "cell_type": "code",
      "metadata": {
        "id": "ZlORoNZEXc5g",
        "colab": {
          "base_uri": "https://localhost:8080/",
          "height": 441
        },
        "outputId": "383335a2-df72-4431-a470-cb08d5abd141"
      },
      "source": [
        "data = pd.read_csv('dataset_interval_10.csv',sep=';')\n",
        "print(\"Loaded: \",len(data))\n",
        "y = data.values[:,1]\n",
        "x = data.values[:,3:]\n",
        "data"
      ],
      "execution_count": 207,
      "outputs": [
        {
          "output_type": "stream",
          "name": "stdout",
          "text": [
            "Loaded:  2447\n"
          ]
        },
        {
          "output_type": "execute_result",
          "data": {
            "text/html": [
              "\n",
              "  <div id=\"df-129195e4-45e3-46c7-a52a-360622c210f2\">\n",
              "    <div class=\"colab-df-container\">\n",
              "      <div>\n",
              "<style scoped>\n",
              "    .dataframe tbody tr th:only-of-type {\n",
              "        vertical-align: middle;\n",
              "    }\n",
              "\n",
              "    .dataframe tbody tr th {\n",
              "        vertical-align: top;\n",
              "    }\n",
              "\n",
              "    .dataframe thead th {\n",
              "        text-align: right;\n",
              "    }\n",
              "</style>\n",
              "<table border=\"1\" class=\"dataframe\">\n",
              "  <thead>\n",
              "    <tr style=\"text-align: right;\">\n",
              "      <th></th>\n",
              "      <th>Unnamed: 0</th>\n",
              "      <th>0</th>\n",
              "      <th>1</th>\n",
              "      <th>2</th>\n",
              "      <th>3</th>\n",
              "      <th>4</th>\n",
              "      <th>5</th>\n",
              "      <th>6</th>\n",
              "      <th>7</th>\n",
              "      <th>8</th>\n",
              "      <th>9</th>\n",
              "      <th>10</th>\n",
              "      <th>11</th>\n",
              "      <th>12</th>\n",
              "      <th>13</th>\n",
              "      <th>14</th>\n",
              "      <th>15</th>\n",
              "      <th>16</th>\n",
              "      <th>17</th>\n",
              "      <th>18</th>\n",
              "      <th>19</th>\n",
              "      <th>20</th>\n",
              "      <th>21</th>\n",
              "    </tr>\n",
              "  </thead>\n",
              "  <tbody>\n",
              "    <tr>\n",
              "      <th>0</th>\n",
              "      <td>0</td>\n",
              "      <td>0.940722</td>\n",
              "      <td>80</td>\n",
              "      <td>0.940202</td>\n",
              "      <td>0.016313</td>\n",
              "      <td>0.936978</td>\n",
              "      <td>0.021029</td>\n",
              "      <td>0.940547</td>\n",
              "      <td>0.016083</td>\n",
              "      <td>0.943013</td>\n",
              "      <td>0.025418</td>\n",
              "      <td>0.938309</td>\n",
              "      <td>0.010566</td>\n",
              "      <td>0.941080</td>\n",
              "      <td>0.022807</td>\n",
              "      <td>0.937000</td>\n",
              "      <td>0.013442</td>\n",
              "      <td>0.943749</td>\n",
              "      <td>0.016470</td>\n",
              "      <td>0.940019</td>\n",
              "      <td>0.020011</td>\n",
              "      <td>0.939027</td>\n",
              "      <td>0.011262</td>\n",
              "    </tr>\n",
              "    <tr>\n",
              "      <th>1</th>\n",
              "      <td>1</td>\n",
              "      <td>0.940724</td>\n",
              "      <td>80</td>\n",
              "      <td>0.941354</td>\n",
              "      <td>0.020371</td>\n",
              "      <td>0.937475</td>\n",
              "      <td>0.019451</td>\n",
              "      <td>0.942571</td>\n",
              "      <td>0.016119</td>\n",
              "      <td>0.938958</td>\n",
              "      <td>0.008435</td>\n",
              "      <td>0.940977</td>\n",
              "      <td>0.012758</td>\n",
              "      <td>0.940964</td>\n",
              "      <td>0.021998</td>\n",
              "      <td>0.939789</td>\n",
              "      <td>0.011339</td>\n",
              "      <td>0.938094</td>\n",
              "      <td>0.028397</td>\n",
              "      <td>0.940992</td>\n",
              "      <td>0.021170</td>\n",
              "      <td>0.942236</td>\n",
              "      <td>0.022112</td>\n",
              "    </tr>\n",
              "    <tr>\n",
              "      <th>2</th>\n",
              "      <td>2</td>\n",
              "      <td>0.940726</td>\n",
              "      <td>80</td>\n",
              "      <td>0.944987</td>\n",
              "      <td>0.021547</td>\n",
              "      <td>0.936535</td>\n",
              "      <td>0.018374</td>\n",
              "      <td>0.939822</td>\n",
              "      <td>0.015440</td>\n",
              "      <td>0.939856</td>\n",
              "      <td>0.013733</td>\n",
              "      <td>0.938177</td>\n",
              "      <td>0.020379</td>\n",
              "      <td>0.944478</td>\n",
              "      <td>0.015504</td>\n",
              "      <td>0.936796</td>\n",
              "      <td>0.026083</td>\n",
              "      <td>0.941746</td>\n",
              "      <td>0.012770</td>\n",
              "      <td>0.940943</td>\n",
              "      <td>0.021793</td>\n",
              "      <td>0.941098</td>\n",
              "      <td>0.016208</td>\n",
              "    </tr>\n",
              "    <tr>\n",
              "      <th>3</th>\n",
              "      <td>3</td>\n",
              "      <td>0.940727</td>\n",
              "      <td>80</td>\n",
              "      <td>0.941066</td>\n",
              "      <td>0.015176</td>\n",
              "      <td>0.941129</td>\n",
              "      <td>0.020257</td>\n",
              "      <td>0.939300</td>\n",
              "      <td>0.012861</td>\n",
              "      <td>0.939834</td>\n",
              "      <td>0.022807</td>\n",
              "      <td>0.940014</td>\n",
              "      <td>0.016695</td>\n",
              "      <td>0.937948</td>\n",
              "      <td>0.013028</td>\n",
              "      <td>0.942083</td>\n",
              "      <td>0.010384</td>\n",
              "      <td>0.942534</td>\n",
              "      <td>0.017276</td>\n",
              "      <td>0.940511</td>\n",
              "      <td>0.014552</td>\n",
              "      <td>0.936675</td>\n",
              "      <td>0.019692</td>\n",
              "    </tr>\n",
              "    <tr>\n",
              "      <th>4</th>\n",
              "      <td>4</td>\n",
              "      <td>0.940729</td>\n",
              "      <td>80</td>\n",
              "      <td>0.940949</td>\n",
              "      <td>0.013512</td>\n",
              "      <td>0.940676</td>\n",
              "      <td>0.018013</td>\n",
              "      <td>0.938735</td>\n",
              "      <td>0.009822</td>\n",
              "      <td>0.940648</td>\n",
              "      <td>0.019794</td>\n",
              "      <td>0.937811</td>\n",
              "      <td>0.014198</td>\n",
              "      <td>0.941861</td>\n",
              "      <td>0.013287</td>\n",
              "      <td>0.942442</td>\n",
              "      <td>0.017937</td>\n",
              "      <td>0.937691</td>\n",
              "      <td>0.013646</td>\n",
              "      <td>0.942408</td>\n",
              "      <td>0.020360</td>\n",
              "      <td>0.936740</td>\n",
              "      <td>0.016222</td>\n",
              "    </tr>\n",
              "    <tr>\n",
              "      <th>...</th>\n",
              "      <td>...</td>\n",
              "      <td>...</td>\n",
              "      <td>...</td>\n",
              "      <td>...</td>\n",
              "      <td>...</td>\n",
              "      <td>...</td>\n",
              "      <td>...</td>\n",
              "      <td>...</td>\n",
              "      <td>...</td>\n",
              "      <td>...</td>\n",
              "      <td>...</td>\n",
              "      <td>...</td>\n",
              "      <td>...</td>\n",
              "      <td>...</td>\n",
              "      <td>...</td>\n",
              "      <td>...</td>\n",
              "      <td>...</td>\n",
              "      <td>...</td>\n",
              "      <td>...</td>\n",
              "      <td>...</td>\n",
              "      <td>...</td>\n",
              "      <td>...</td>\n",
              "      <td>...</td>\n",
              "    </tr>\n",
              "    <tr>\n",
              "      <th>2442</th>\n",
              "      <td>2442</td>\n",
              "      <td>1.231898</td>\n",
              "      <td>615</td>\n",
              "      <td>1.231073</td>\n",
              "      <td>0.043474</td>\n",
              "      <td>1.231769</td>\n",
              "      <td>0.032881</td>\n",
              "      <td>1.234961</td>\n",
              "      <td>0.027156</td>\n",
              "      <td>1.230480</td>\n",
              "      <td>0.021939</td>\n",
              "      <td>1.231998</td>\n",
              "      <td>0.017024</td>\n",
              "      <td>1.235081</td>\n",
              "      <td>0.018138</td>\n",
              "      <td>1.230282</td>\n",
              "      <td>0.012353</td>\n",
              "      <td>1.229078</td>\n",
              "      <td>0.021833</td>\n",
              "      <td>1.237579</td>\n",
              "      <td>0.023748</td>\n",
              "      <td>1.234748</td>\n",
              "      <td>0.014821</td>\n",
              "    </tr>\n",
              "    <tr>\n",
              "      <th>2443</th>\n",
              "      <td>2443</td>\n",
              "      <td>1.231903</td>\n",
              "      <td>615</td>\n",
              "      <td>1.245092</td>\n",
              "      <td>0.025002</td>\n",
              "      <td>1.223159</td>\n",
              "      <td>0.009491</td>\n",
              "      <td>1.229727</td>\n",
              "      <td>0.066215</td>\n",
              "      <td>1.249372</td>\n",
              "      <td>0.074724</td>\n",
              "      <td>1.236137</td>\n",
              "      <td>0.039812</td>\n",
              "      <td>1.220874</td>\n",
              "      <td>0.025311</td>\n",
              "      <td>1.231896</td>\n",
              "      <td>0.027310</td>\n",
              "      <td>1.235921</td>\n",
              "      <td>0.020899</td>\n",
              "      <td>1.225354</td>\n",
              "      <td>0.016641</td>\n",
              "      <td>1.230547</td>\n",
              "      <td>0.016530</td>\n",
              "    </tr>\n",
              "    <tr>\n",
              "      <th>2444</th>\n",
              "      <td>2444</td>\n",
              "      <td>1.231909</td>\n",
              "      <td>615</td>\n",
              "      <td>1.235532</td>\n",
              "      <td>0.019034</td>\n",
              "      <td>1.237572</td>\n",
              "      <td>0.014366</td>\n",
              "      <td>1.230789</td>\n",
              "      <td>0.010435</td>\n",
              "      <td>1.231229</td>\n",
              "      <td>0.013403</td>\n",
              "      <td>1.237530</td>\n",
              "      <td>0.007513</td>\n",
              "      <td>1.226860</td>\n",
              "      <td>0.012879</td>\n",
              "      <td>1.234310</td>\n",
              "      <td>0.011361</td>\n",
              "      <td>1.234444</td>\n",
              "      <td>0.011262</td>\n",
              "      <td>1.232254</td>\n",
              "      <td>0.007064</td>\n",
              "      <td>1.237071</td>\n",
              "      <td>0.016666</td>\n",
              "    </tr>\n",
              "    <tr>\n",
              "      <th>2445</th>\n",
              "      <td>2445</td>\n",
              "      <td>1.231914</td>\n",
              "      <td>615</td>\n",
              "      <td>1.228115</td>\n",
              "      <td>0.017775</td>\n",
              "      <td>1.234092</td>\n",
              "      <td>0.011449</td>\n",
              "      <td>1.232797</td>\n",
              "      <td>0.023822</td>\n",
              "      <td>1.229796</td>\n",
              "      <td>0.015587</td>\n",
              "      <td>1.233589</td>\n",
              "      <td>0.015369</td>\n",
              "      <td>1.235448</td>\n",
              "      <td>0.019554</td>\n",
              "      <td>1.232772</td>\n",
              "      <td>0.015915</td>\n",
              "      <td>1.230504</td>\n",
              "      <td>0.015987</td>\n",
              "      <td>1.232582</td>\n",
              "      <td>0.017203</td>\n",
              "      <td>1.233575</td>\n",
              "      <td>0.016226</td>\n",
              "    </tr>\n",
              "    <tr>\n",
              "      <th>2446</th>\n",
              "      <td>2446</td>\n",
              "      <td>1.231919</td>\n",
              "      <td>615</td>\n",
              "      <td>1.227250</td>\n",
              "      <td>0.034599</td>\n",
              "      <td>1.225921</td>\n",
              "      <td>0.024564</td>\n",
              "      <td>1.237285</td>\n",
              "      <td>0.031631</td>\n",
              "      <td>1.233344</td>\n",
              "      <td>0.017394</td>\n",
              "      <td>1.228921</td>\n",
              "      <td>0.030731</td>\n",
              "      <td>1.235730</td>\n",
              "      <td>0.006980</td>\n",
              "      <td>1.234183</td>\n",
              "      <td>0.019892</td>\n",
              "      <td>1.231935</td>\n",
              "      <td>0.007868</td>\n",
              "      <td>1.225686</td>\n",
              "      <td>0.023716</td>\n",
              "      <td>1.237947</td>\n",
              "      <td>0.015123</td>\n",
              "    </tr>\n",
              "  </tbody>\n",
              "</table>\n",
              "<p>2447 rows × 23 columns</p>\n",
              "</div>\n",
              "      <button class=\"colab-df-convert\" onclick=\"convertToInteractive('df-129195e4-45e3-46c7-a52a-360622c210f2')\"\n",
              "              title=\"Convert this dataframe to an interactive table.\"\n",
              "              style=\"display:none;\">\n",
              "        \n",
              "  <svg xmlns=\"http://www.w3.org/2000/svg\" height=\"24px\"viewBox=\"0 0 24 24\"\n",
              "       width=\"24px\">\n",
              "    <path d=\"M0 0h24v24H0V0z\" fill=\"none\"/>\n",
              "    <path d=\"M18.56 5.44l.94 2.06.94-2.06 2.06-.94-2.06-.94-.94-2.06-.94 2.06-2.06.94zm-11 1L8.5 8.5l.94-2.06 2.06-.94-2.06-.94L8.5 2.5l-.94 2.06-2.06.94zm10 10l.94 2.06.94-2.06 2.06-.94-2.06-.94-.94-2.06-.94 2.06-2.06.94z\"/><path d=\"M17.41 7.96l-1.37-1.37c-.4-.4-.92-.59-1.43-.59-.52 0-1.04.2-1.43.59L10.3 9.45l-7.72 7.72c-.78.78-.78 2.05 0 2.83L4 21.41c.39.39.9.59 1.41.59.51 0 1.02-.2 1.41-.59l7.78-7.78 2.81-2.81c.8-.78.8-2.07 0-2.86zM5.41 20L4 18.59l7.72-7.72 1.47 1.35L5.41 20z\"/>\n",
              "  </svg>\n",
              "      </button>\n",
              "      \n",
              "  <style>\n",
              "    .colab-df-container {\n",
              "      display:flex;\n",
              "      flex-wrap:wrap;\n",
              "      gap: 12px;\n",
              "    }\n",
              "\n",
              "    .colab-df-convert {\n",
              "      background-color: #E8F0FE;\n",
              "      border: none;\n",
              "      border-radius: 50%;\n",
              "      cursor: pointer;\n",
              "      display: none;\n",
              "      fill: #1967D2;\n",
              "      height: 32px;\n",
              "      padding: 0 0 0 0;\n",
              "      width: 32px;\n",
              "    }\n",
              "\n",
              "    .colab-df-convert:hover {\n",
              "      background-color: #E2EBFA;\n",
              "      box-shadow: 0px 1px 2px rgba(60, 64, 67, 0.3), 0px 1px 3px 1px rgba(60, 64, 67, 0.15);\n",
              "      fill: #174EA6;\n",
              "    }\n",
              "\n",
              "    [theme=dark] .colab-df-convert {\n",
              "      background-color: #3B4455;\n",
              "      fill: #D2E3FC;\n",
              "    }\n",
              "\n",
              "    [theme=dark] .colab-df-convert:hover {\n",
              "      background-color: #434B5C;\n",
              "      box-shadow: 0px 1px 3px 1px rgba(0, 0, 0, 0.15);\n",
              "      filter: drop-shadow(0px 1px 2px rgba(0, 0, 0, 0.3));\n",
              "      fill: #FFFFFF;\n",
              "    }\n",
              "  </style>\n",
              "\n",
              "      <script>\n",
              "        const buttonEl =\n",
              "          document.querySelector('#df-129195e4-45e3-46c7-a52a-360622c210f2 button.colab-df-convert');\n",
              "        buttonEl.style.display =\n",
              "          google.colab.kernel.accessAllowed ? 'block' : 'none';\n",
              "\n",
              "        async function convertToInteractive(key) {\n",
              "          const element = document.querySelector('#df-129195e4-45e3-46c7-a52a-360622c210f2');\n",
              "          const dataTable =\n",
              "            await google.colab.kernel.invokeFunction('convertToInteractive',\n",
              "                                                     [key], {});\n",
              "          if (!dataTable) return;\n",
              "\n",
              "          const docLinkHtml = 'Like what you see? Visit the ' +\n",
              "            '<a target=\"_blank\" href=https://colab.research.google.com/notebooks/data_table.ipynb>data table notebook</a>'\n",
              "            + ' to learn more about interactive tables.';\n",
              "          element.innerHTML = '';\n",
              "          dataTable['output_type'] = 'display_data';\n",
              "          await google.colab.output.renderOutput(dataTable, element);\n",
              "          const docLink = document.createElement('div');\n",
              "          docLink.innerHTML = docLinkHtml;\n",
              "          element.appendChild(docLink);\n",
              "        }\n",
              "      </script>\n",
              "    </div>\n",
              "  </div>\n",
              "  "
            ],
            "text/plain": [
              "      Unnamed: 0         0    1  ...        19        20        21\n",
              "0              0  0.940722   80  ...  0.020011  0.939027  0.011262\n",
              "1              1  0.940724   80  ...  0.021170  0.942236  0.022112\n",
              "2              2  0.940726   80  ...  0.021793  0.941098  0.016208\n",
              "3              3  0.940727   80  ...  0.014552  0.936675  0.019692\n",
              "4              4  0.940729   80  ...  0.020360  0.936740  0.016222\n",
              "...          ...       ...  ...  ...       ...       ...       ...\n",
              "2442        2442  1.231898  615  ...  0.023748  1.234748  0.014821\n",
              "2443        2443  1.231903  615  ...  0.016641  1.230547  0.016530\n",
              "2444        2444  1.231909  615  ...  0.007064  1.237071  0.016666\n",
              "2445        2445  1.231914  615  ...  0.017203  1.233575  0.016226\n",
              "2446        2446  1.231919  615  ...  0.023716  1.237947  0.015123\n",
              "\n",
              "[2447 rows x 23 columns]"
            ]
          },
          "metadata": {},
          "execution_count": 207
        }
      ]
    },
    {
      "cell_type": "markdown",
      "metadata": {
        "id": "_482C50pLJHL"
      },
      "source": [
        "# PCA"
      ]
    },
    {
      "cell_type": "code",
      "metadata": {
        "colab": {
          "base_uri": "https://localhost:8080/",
          "height": 653
        },
        "id": "QxgORpC-LIsj",
        "outputId": "35511e31-bdac-4d6d-effd-3a1566aa19cc"
      },
      "source": [
        "from sklearn.decomposition import PCA\n",
        "from sklearn.discriminant_analysis import LinearDiscriminantAnalysis\n",
        "\n",
        "n_components = x.shape[1]\n",
        "\n",
        "pca = PCA(n_components=n_components, random_state=453)\n",
        "x_r = pca.fit(x).transform(x)\n",
        "\n",
        "total_variance = sum(pca.explained_variance_)\n",
        "print(\"Total Variance in our dataset is: \",total_variance)\n",
        "var_95 = total_variance*0.95\n",
        "print(\"The 95% variance we want to have is: \", var_95)\n",
        "print(\"\")\n",
        "\n",
        "a = zip(range(0,n_components),pca.explained_variance_)\n",
        "a = pd.DataFrame(a,columns=[\"PCA Comp\", \"Explained Variance\"])\n",
        "\n",
        "# Trying to hit 95 %\n",
        "print(\"Variance explain with 2 components: \", sum(a[\"Explained Variance\"][0:2]))\n",
        "print(\"Variance explain with 5 components: \", sum(a[\"Explained Variance\"][0:5]))\n",
        "print(\"Variance explain with 10 components: \", sum(a[\"Explained Variance\"][0:10]))\n",
        "print(\"Variance explain with 12 components: \", sum(a[\"Explained Variance\"][0:12]))\n",
        "print(\"Variance explain with 18 components: \", sum(a[\"Explained Variance\"][0:18]))\n",
        "print(\"Variance explain with 20 components: \", sum(a[\"Explained Variance\"][0:20]))\n",
        "\n",
        "\n",
        "\n",
        "# Plotting the data\n",
        "plt.figure(1, figsize=(14,8))\n",
        "plt.plot(pca.explained_variance_ratio_,linewidth=2, c='r')\n",
        "plt.xlabel('n_components')\n",
        "plt.ylabel('explained_ratio_')\n",
        "\n",
        "# Plotting line with 95 %\n",
        "plt.axvline(3,linestyle=':', label='n_components - 95% variance',c = 'blue')\n",
        "plt.legend(prop=dict(size=12))\n",
        "plt.show()            \n",
        "            \n",
        "            "
      ],
      "execution_count": 208,
      "outputs": [
        {
          "output_type": "stream",
          "name": "stdout",
          "text": [
            "Total Variance in our dataset is:  0.9498713996692015\n",
            "The 95% variance we want to have is:  0.9023778296857414\n",
            "\n",
            "Variance explain with 2 components:  0.949136471294806\n",
            "Variance explain with 5 components:  0.9494786515168322\n",
            "Variance explain with 10 components:  0.9497208782246281\n",
            "Variance explain with 12 components:  0.9497767338065947\n",
            "Variance explain with 18 components:  0.9498634855522919\n",
            "Variance explain with 20 components:  0.9498713996692015\n"
          ]
        },
        {
          "output_type": "display_data",
          "data": {
            "image/png": "[encoded data removed]",
            "text/plain": [
              "<Figure size 1008x576 with 1 Axes>"
            ]
          },
          "metadata": {
            "needs_background": "light"
          }
        }
      ]
    },
    {
      "cell_type": "code",
      "metadata": {
        "id": "33op7MxsUbje"
      },
      "source": [
        "# Running PCA again\n",
        "\n",
        "pca_new = PCA(n_components=3, random_state=453)\n",
        "x_r = pca_new.fit(x).transform(x)"
      ],
      "execution_count": 209,
      "outputs": []
    },
    {
      "cell_type": "markdown",
      "source": [
        "## Scree plot"
      ],
      "metadata": {
        "id": "Fef1pytWq-px"
      }
    },
    {
      "cell_type": "code",
      "source": [
        "explained_variance = pca_new.explained_variance_ratio_\n",
        "explained_variance"
      ],
      "metadata": {
        "id": "sgzE3OKlq2hV",
        "outputId": "13b47871-dc71-414a-ad83-3148910853e5",
        "colab": {
          "base_uri": "https://localhost:8080/"
        }
      },
      "execution_count": 210,
      "outputs": [
        {
          "output_type": "execute_result",
          "data": {
            "text/plain": [
              "array([9.97811134e-01, 1.41515248e-03, 1.98122085e-04])"
            ]
          },
          "metadata": {},
          "execution_count": 210
        }
      ]
    },
    {
      "cell_type": "code",
      "source": [
        "import numpy as np\n",
        "import plotly.express as px"
      ],
      "metadata": {
        "id": "rQ8-_gr-rODd"
      },
      "execution_count": 211,
      "outputs": []
    },
    {
      "cell_type": "code",
      "source": [
        "explained_variance = np.insert(explained_variance, 0, 0)\n",
        "cumulative_variance = np.cumsum(np.round(explained_variance, decimals=3))\n",
        "pc_df = pd.DataFrame(['','PC1', 'PC2', 'PC3'], columns=['PC'])\n",
        "explained_variance_df = pd.DataFrame(explained_variance, columns=['Explained Variance'])\n",
        "cumulative_variance_df = pd.DataFrame(cumulative_variance, columns=['Cumulative Variance'])\n",
        "\n",
        "df_explained_variance = pd.concat([pc_df, explained_variance_df, cumulative_variance_df], axis=1)\n",
        "df_explained_variance"
      ],
      "metadata": {
        "id": "doeCEUvQrRr0",
        "outputId": "6826a90d-e9c9-46a3-de57-6cb473861b0a",
        "colab": {
          "base_uri": "https://localhost:8080/",
          "height": 175
        }
      },
      "execution_count": 212,
      "outputs": [
        {
          "output_type": "execute_result",
          "data": {
            "text/html": [
              "\n",
              "  <div id=\"df-fec779c3-cbca-4f33-b0c1-f0df6f5c6b97\">\n",
              "    <div class=\"colab-df-container\">\n",
              "      <div>\n",
              "<style scoped>\n",
              "    .dataframe tbody tr th:only-of-type {\n",
              "        vertical-align: middle;\n",
              "    }\n",
              "\n",
              "    .dataframe tbody tr th {\n",
              "        vertical-align: top;\n",
              "    }\n",
              "\n",
              "    .dataframe thead th {\n",
              "        text-align: right;\n",
              "    }\n",
              "</style>\n",
              "<table border=\"1\" class=\"dataframe\">\n",
              "  <thead>\n",
              "    <tr style=\"text-align: right;\">\n",
              "      <th></th>\n",
              "      <th>PC</th>\n",
              "      <th>Explained Variance</th>\n",
              "      <th>Cumulative Variance</th>\n",
              "    </tr>\n",
              "  </thead>\n",
              "  <tbody>\n",
              "    <tr>\n",
              "      <th>0</th>\n",
              "      <td></td>\n",
              "      <td>0.000000</td>\n",
              "      <td>0.000</td>\n",
              "    </tr>\n",
              "    <tr>\n",
              "      <th>1</th>\n",
              "      <td>PC1</td>\n",
              "      <td>0.997811</td>\n",
              "      <td>0.998</td>\n",
              "    </tr>\n",
              "    <tr>\n",
              "      <th>2</th>\n",
              "      <td>PC2</td>\n",
              "      <td>0.001415</td>\n",
              "      <td>0.999</td>\n",
              "    </tr>\n",
              "    <tr>\n",
              "      <th>3</th>\n",
              "      <td>PC3</td>\n",
              "      <td>0.000198</td>\n",
              "      <td>0.999</td>\n",
              "    </tr>\n",
              "  </tbody>\n",
              "</table>\n",
              "</div>\n",
              "      <button class=\"colab-df-convert\" onclick=\"convertToInteractive('df-fec779c3-cbca-4f33-b0c1-f0df6f5c6b97')\"\n",
              "              title=\"Convert this dataframe to an interactive table.\"\n",
              "              style=\"display:none;\">\n",
              "        \n",
              "  <svg xmlns=\"http://www.w3.org/2000/svg\" height=\"24px\"viewBox=\"0 0 24 24\"\n",
              "       width=\"24px\">\n",
              "    <path d=\"M0 0h24v24H0V0z\" fill=\"none\"/>\n",
              "    <path d=\"M18.56 5.44l.94 2.06.94-2.06 2.06-.94-2.06-.94-.94-2.06-.94 2.06-2.06.94zm-11 1L8.5 8.5l.94-2.06 2.06-.94-2.06-.94L8.5 2.5l-.94 2.06-2.06.94zm10 10l.94 2.06.94-2.06 2.06-.94-2.06-.94-.94-2.06-.94 2.06-2.06.94z\"/><path d=\"M17.41 7.96l-1.37-1.37c-.4-.4-.92-.59-1.43-.59-.52 0-1.04.2-1.43.59L10.3 9.45l-7.72 7.72c-.78.78-.78 2.05 0 2.83L4 21.41c.39.39.9.59 1.41.59.51 0 1.02-.2 1.41-.59l7.78-7.78 2.81-2.81c.8-.78.8-2.07 0-2.86zM5.41 20L4 18.59l7.72-7.72 1.47 1.35L5.41 20z\"/>\n",
              "  </svg>\n",
              "      </button>\n",
              "      \n",
              "  <style>\n",
              "    .colab-df-container {\n",
              "      display:flex;\n",
              "      flex-wrap:wrap;\n",
              "      gap: 12px;\n",
              "    }\n",
              "\n",
              "    .colab-df-convert {\n",
              "      background-color: #E8F0FE;\n",
              "      border: none;\n",
              "      border-radius: 50%;\n",
              "      cursor: pointer;\n",
              "      display: none;\n",
              "      fill: #1967D2;\n",
              "      height: 32px;\n",
              "      padding: 0 0 0 0;\n",
              "      width: 32px;\n",
              "    }\n",
              "\n",
              "    .colab-df-convert:hover {\n",
              "      background-color: #E2EBFA;\n",
              "      box-shadow: 0px 1px 2px rgba(60, 64, 67, 0.3), 0px 1px 3px 1px rgba(60, 64, 67, 0.15);\n",
              "      fill: #174EA6;\n",
              "    }\n",
              "\n",
              "    [theme=dark] .colab-df-convert {\n",
              "      background-color: #3B4455;\n",
              "      fill: #D2E3FC;\n",
              "    }\n",
              "\n",
              "    [theme=dark] .colab-df-convert:hover {\n",
              "      background-color: #434B5C;\n",
              "      box-shadow: 0px 1px 3px 1px rgba(0, 0, 0, 0.15);\n",
              "      filter: drop-shadow(0px 1px 2px rgba(0, 0, 0, 0.3));\n",
              "      fill: #FFFFFF;\n",
              "    }\n",
              "  </style>\n",
              "\n",
              "      <script>\n",
              "        const buttonEl =\n",
              "          document.querySelector('#df-fec779c3-cbca-4f33-b0c1-f0df6f5c6b97 button.colab-df-convert');\n",
              "        buttonEl.style.display =\n",
              "          google.colab.kernel.accessAllowed ? 'block' : 'none';\n",
              "\n",
              "        async function convertToInteractive(key) {\n",
              "          const element = document.querySelector('#df-fec779c3-cbca-4f33-b0c1-f0df6f5c6b97');\n",
              "          const dataTable =\n",
              "            await google.colab.kernel.invokeFunction('convertToInteractive',\n",
              "                                                     [key], {});\n",
              "          if (!dataTable) return;\n",
              "\n",
              "          const docLinkHtml = 'Like what you see? Visit the ' +\n",
              "            '<a target=\"_blank\" href=https://colab.research.google.com/notebooks/data_table.ipynb>data table notebook</a>'\n",
              "            + ' to learn more about interactive tables.';\n",
              "          element.innerHTML = '';\n",
              "          dataTable['output_type'] = 'display_data';\n",
              "          await google.colab.output.renderOutput(dataTable, element);\n",
              "          const docLink = document.createElement('div');\n",
              "          docLink.innerHTML = docLinkHtml;\n",
              "          element.appendChild(docLink);\n",
              "        }\n",
              "      </script>\n",
              "    </div>\n",
              "  </div>\n",
              "  "
            ],
            "text/plain": [
              "    PC  Explained Variance  Cumulative Variance\n",
              "0                 0.000000                0.000\n",
              "1  PC1            0.997811                0.998\n",
              "2  PC2            0.001415                0.999\n",
              "3  PC3            0.000198                0.999"
            ]
          },
          "metadata": {},
          "execution_count": 212
        }
      ]
    },
    {
      "cell_type": "code",
      "source": [
        "import plotly.graph_objects as go\n",
        "\n",
        "fig = go.Figure()\n",
        "\n",
        "fig = px.bar(df_explained_variance, \n",
        "             \n",
        "             text='Explained Variance',\n",
        "             width=800)\n",
        "\n",
        "fig.update_traces(texttemplate='%{text:.3f}', textposition='outside')\n",
        "\n",
        "fig.add_trace(\n",
        "    go.Scatter(\n",
        "        x=df_explained_variance['PC'],\n",
        "        y=df_explained_variance['Cumulative Variance'],\n",
        "        marker=dict(size=15, color=\"LightSeaGreen\")\n",
        "    ))\n",
        "\n",
        "fig.add_trace(\n",
        "    go.Bar(\n",
        "        x=df_explained_variance['PC'],\n",
        "        y=df_explained_variance['Explained Variance'],\n",
        "        marker=dict(color=\"RoyalBlue\")\n",
        "    ))\n",
        "\n",
        "fig.show()"
      ],
      "metadata": {
        "id": "PvqQotu3r33i",
        "outputId": "5687dc30-919f-4643-a180-10752245ef63",
        "colab": {
          "base_uri": "https://localhost:8080/",
          "height": 542
        }
      },
      "execution_count": 213,
      "outputs": [
        {
          "output_type": "display_data",
          "data": {
            "text/html": [
              "<html>\n",
              "<head><meta charset=\"utf-8\" /></head>\n",
              "<body>\n",
              "    <div>\n",
              "            <script src=\"https://cdnjs.cloudflare.com/ajax/libs/mathjax/2.7.5/MathJax.js?config=TeX-AMS-MML_SVG\"></script><script type=\"text/javascript\">if (window.MathJax) {MathJax.Hub.Config({SVG: {font: \"STIX-Web\"}});}</script>\n",
              "                <script type=\"text/javascript\">window.PlotlyConfig = {MathJaxConfig: 'local'};</script>\n",
              "        <script src=\"https://cdn.plot.ly/plotly-latest.min.js\"></script>    \n",
              "            <div id=\"25e12d37-302d-449d-a31d-9c5947dcdd0c\" class=\"plotly-graph-div\" style=\"height:525px; width:800px;\"></div>\n",
              "            <script type=\"text/javascript\">\n",
              "                \n",
              "                    window.PLOTLYENV=window.PLOTLYENV || {};\n",
              "                    \n",
              "                if (document.getElementById(\"25e12d37-302d-449d-a31d-9c5947dcdd0c\")) {\n",
              "                    Plotly.newPlot(\n",
              "                        '25e12d37-302d-449d-a31d-9c5947dcdd0c',\n",
              "                        [{\"alignmentgroup\": \"True\", \"hoverlabel\": {\"namelength\": 0}, \"hovertemplate\": \"Explained Variance=%{text}\", \"legendgroup\": \"\", \"marker\": {\"color\": \"#636efa\"}, \"name\": \"\", \"offsetgroup\": \"\", \"orientation\": \"v\", \"showlegend\": false, \"text\": [0.0, 0.9978111339697129, 0.001415152478482603, 0.00019812208517869522], \"textposition\": \"outside\", \"texttemplate\": \"%{text:.3f}\", \"type\": \"bar\", \"xaxis\": \"x\", \"yaxis\": \"y\"}, {\"marker\": {\"color\": \"LightSeaGreen\", \"size\": 15}, \"type\": \"scatter\", \"x\": [\"\", \"PC1\", \"PC2\", \"PC3\"], \"y\": [0.0, 0.998, 0.999, 0.999]}, {\"marker\": {\"color\": \"RoyalBlue\"}, \"type\": \"bar\", \"x\": [\"\", \"PC1\", \"PC2\", \"PC3\"], \"y\": [0.0, 0.9978111339697129, 0.001415152478482603, 0.00019812208517869522]}],\n",
              "                        {\"barmode\": \"relative\", \"legend\": {\"tracegroupgap\": 0}, \"margin\": {\"t\": 60}, \"template\": {\"data\": {\"bar\": [{\"error_x\": {\"color\": \"#2a3f5f\"}, \"error_y\": {\"color\": \"#2a3f5f\"}, \"marker\": {\"line\": {\"color\": \"#E5ECF6\", \"width\": 0.5}}, \"type\": \"bar\"}], \"barpolar\": [{\"marker\": {\"line\": {\"color\": \"#E5ECF6\", \"width\": 0.5}}, \"type\": \"barpolar\"}], \"carpet\": [{\"aaxis\": {\"endlinecolor\": \"#2a3f5f\", \"gridcolor\": \"white\", \"linecolor\": \"white\", \"minorgridcolor\": \"white\", \"startlinecolor\": \"#2a3f5f\"}, \"baxis\": {\"endlinecolor\": \"#2a3f5f\", \"gridcolor\": \"white\", \"linecolor\": \"white\", \"minorgridcolor\": \"white\", \"startlinecolor\": \"#2a3f5f\"}, \"type\": \"carpet\"}], \"choropleth\": [{\"colorbar\": {\"outlinewidth\": 0, \"ticks\": \"\"}, \"type\": \"choropleth\"}], \"contour\": [{\"colorbar\": {\"outlinewidth\": 0, \"ticks\": \"\"}, \"colorscale\": [[0.0, \"#0d0887\"], [0.1111111111111111, \"#46039f\"], [0.2222222222222222, \"#7201a8\"], [0.3333333333333333, \"#9c179e\"], [0.4444444444444444, \"#bd3786\"], [0.5555555555555556, \"#d8576b\"], [0.6666666666666666, \"#ed7953\"], [0.7777777777777778, \"#fb9f3a\"], [0.8888888888888888, \"#fdca26\"], [1.0, \"#f0f921\"]], \"type\": \"contour\"}], \"contourcarpet\": [{\"colorbar\": {\"outlinewidth\": 0, \"ticks\": \"\"}, \"type\": \"contourcarpet\"}], \"heatmap\": [{\"colorbar\": {\"outlinewidth\": 0, \"ticks\": \"\"}, \"colorscale\": [[0.0, \"#0d0887\"], [0.1111111111111111, \"#46039f\"], [0.2222222222222222, \"#7201a8\"], [0.3333333333333333, \"#9c179e\"], [0.4444444444444444, \"#bd3786\"], [0.5555555555555556, \"#d8576b\"], [0.6666666666666666, \"#ed7953\"], [0.7777777777777778, \"#fb9f3a\"], [0.8888888888888888, \"#fdca26\"], [1.0, \"#f0f921\"]], \"type\": \"heatmap\"}], \"heatmapgl\": [{\"colorbar\": {\"outlinewidth\": 0, \"ticks\": \"\"}, \"colorscale\": [[0.0, \"#0d0887\"], [0.1111111111111111, \"#46039f\"], [0.2222222222222222, \"#7201a8\"], [0.3333333333333333, \"#9c179e\"], [0.4444444444444444, \"#bd3786\"], [0.5555555555555556, \"#d8576b\"], [0.6666666666666666, \"#ed7953\"], [0.7777777777777778, \"#fb9f3a\"], [0.8888888888888888, \"#fdca26\"], [1.0, \"#f0f921\"]], \"type\": \"heatmapgl\"}], \"histogram\": [{\"marker\": {\"colorbar\": {\"outlinewidth\": 0, \"ticks\": \"\"}}, \"type\": \"histogram\"}], \"histogram2d\": [{\"colorbar\": {\"outlinewidth\": 0, \"ticks\": \"\"}, \"colorscale\": [[0.0, \"#0d0887\"], [0.1111111111111111, \"#46039f\"], [0.2222222222222222, \"#7201a8\"], [0.3333333333333333, \"#9c179e\"], [0.4444444444444444, \"#bd3786\"], [0.5555555555555556, \"#d8576b\"], [0.6666666666666666, \"#ed7953\"], [0.7777777777777778, \"#fb9f3a\"], [0.8888888888888888, \"#fdca26\"], [1.0, \"#f0f921\"]], \"type\": \"histogram2d\"}], \"histogram2dcontour\": [{\"colorbar\": {\"outlinewidth\": 0, \"ticks\": \"\"}, \"colorscale\": [[0.0, \"#0d0887\"], [0.1111111111111111, \"#46039f\"], [0.2222222222222222, \"#7201a8\"], [0.3333333333333333, \"#9c179e\"], [0.4444444444444444, \"#bd3786\"], [0.5555555555555556, \"#d8576b\"], [0.6666666666666666, \"#ed7953\"], [0.7777777777777778, \"#fb9f3a\"], [0.8888888888888888, \"#fdca26\"], [1.0, \"#f0f921\"]], \"type\": \"histogram2dcontour\"}], \"mesh3d\": [{\"colorbar\": {\"outlinewidth\": 0, \"ticks\": \"\"}, \"type\": \"mesh3d\"}], \"parcoords\": [{\"line\": {\"colorbar\": {\"outlinewidth\": 0, \"ticks\": \"\"}}, \"type\": \"parcoords\"}], \"pie\": [{\"automargin\": true, \"type\": \"pie\"}], \"scatter\": [{\"marker\": {\"colorbar\": {\"outlinewidth\": 0, \"ticks\": \"\"}}, \"type\": \"scatter\"}], \"scatter3d\": [{\"line\": {\"colorbar\": {\"outlinewidth\": 0, \"ticks\": \"\"}}, \"marker\": {\"colorbar\": {\"outlinewidth\": 0, \"ticks\": \"\"}}, \"type\": \"scatter3d\"}], \"scattercarpet\": [{\"marker\": {\"colorbar\": {\"outlinewidth\": 0, \"ticks\": \"\"}}, \"type\": \"scattercarpet\"}], \"scattergeo\": [{\"marker\": {\"colorbar\": {\"outlinewidth\": 0, \"ticks\": \"\"}}, \"type\": \"scattergeo\"}], \"scattergl\": [{\"marker\": {\"colorbar\": {\"outlinewidth\": 0, \"ticks\": \"\"}}, \"type\": \"scattergl\"}], \"scattermapbox\": [{\"marker\": {\"colorbar\": {\"outlinewidth\": 0, \"ticks\": \"\"}}, \"type\": \"scattermapbox\"}], \"scatterpolar\": [{\"marker\": {\"colorbar\": {\"outlinewidth\": 0, \"ticks\": \"\"}}, \"type\": \"scatterpolar\"}], \"scatterpolargl\": [{\"marker\": {\"colorbar\": {\"outlinewidth\": 0, \"ticks\": \"\"}}, \"type\": \"scatterpolargl\"}], \"scatterternary\": [{\"marker\": {\"colorbar\": {\"outlinewidth\": 0, \"ticks\": \"\"}}, \"type\": \"scatterternary\"}], \"surface\": [{\"colorbar\": {\"outlinewidth\": 0, \"ticks\": \"\"}, \"colorscale\": [[0.0, \"#0d0887\"], [0.1111111111111111, \"#46039f\"], [0.2222222222222222, \"#7201a8\"], [0.3333333333333333, \"#9c179e\"], [0.4444444444444444, \"#bd3786\"], [0.5555555555555556, \"#d8576b\"], [0.6666666666666666, \"#ed7953\"], [0.7777777777777778, \"#fb9f3a\"], [0.8888888888888888, \"#fdca26\"], [1.0, \"#f0f921\"]], \"type\": \"surface\"}], \"table\": [{\"cells\": {\"fill\": {\"color\": \"#EBF0F8\"}, \"line\": {\"color\": \"white\"}}, \"header\": {\"fill\": {\"color\": \"#C8D4E3\"}, \"line\": {\"color\": \"white\"}}, \"type\": \"table\"}]}, \"layout\": {\"annotationdefaults\": {\"arrowcolor\": \"#2a3f5f\", \"arrowhead\": 0, \"arrowwidth\": 1}, \"coloraxis\": {\"colorbar\": {\"outlinewidth\": 0, \"ticks\": \"\"}}, \"colorscale\": {\"diverging\": [[0, \"#8e0152\"], [0.1, \"#c51b7d\"], [0.2, \"#de77ae\"], [0.3, \"#f1b6da\"], [0.4, \"#fde0ef\"], [0.5, \"#f7f7f7\"], [0.6, \"#e6f5d0\"], [0.7, \"#b8e186\"], [0.8, \"#7fbc41\"], [0.9, \"#4d9221\"], [1, \"#276419\"]], \"sequential\": [[0.0, \"#0d0887\"], [0.1111111111111111, \"#46039f\"], [0.2222222222222222, \"#7201a8\"], [0.3333333333333333, \"#9c179e\"], [0.4444444444444444, \"#bd3786\"], [0.5555555555555556, \"#d8576b\"], [0.6666666666666666, \"#ed7953\"], [0.7777777777777778, \"#fb9f3a\"], [0.8888888888888888, \"#fdca26\"], [1.0, \"#f0f921\"]], \"sequentialminus\": [[0.0, \"#0d0887\"], [0.1111111111111111, \"#46039f\"], [0.2222222222222222, \"#7201a8\"], [0.3333333333333333, \"#9c179e\"], [0.4444444444444444, \"#bd3786\"], [0.5555555555555556, \"#d8576b\"], [0.6666666666666666, \"#ed7953\"], [0.7777777777777778, \"#fb9f3a\"], [0.8888888888888888, \"#fdca26\"], [1.0, \"#f0f921\"]]}, \"colorway\": [\"#636efa\", \"#EF553B\", \"#00cc96\", \"#ab63fa\", \"#FFA15A\", \"#19d3f3\", \"#FF6692\", \"#B6E880\", \"#FF97FF\", \"#FECB52\"], \"font\": {\"color\": \"#2a3f5f\"}, \"geo\": {\"bgcolor\": \"white\", \"lakecolor\": \"white\", \"landcolor\": \"#E5ECF6\", \"showlakes\": true, \"showland\": true, \"subunitcolor\": \"white\"}, \"hoverlabel\": {\"align\": \"left\"}, \"hovermode\": \"closest\", \"mapbox\": {\"style\": \"light\"}, \"paper_bgcolor\": \"white\", \"plot_bgcolor\": \"#E5ECF6\", \"polar\": {\"angularaxis\": {\"gridcolor\": \"white\", \"linecolor\": \"white\", \"ticks\": \"\"}, \"bgcolor\": \"#E5ECF6\", \"radialaxis\": {\"gridcolor\": \"white\", \"linecolor\": \"white\", \"ticks\": \"\"}}, \"scene\": {\"xaxis\": {\"backgroundcolor\": \"#E5ECF6\", \"gridcolor\": \"white\", \"gridwidth\": 2, \"linecolor\": \"white\", \"showbackground\": true, \"ticks\": \"\", \"zerolinecolor\": \"white\"}, \"yaxis\": {\"backgroundcolor\": \"#E5ECF6\", \"gridcolor\": \"white\", \"gridwidth\": 2, \"linecolor\": \"white\", \"showbackground\": true, \"ticks\": \"\", \"zerolinecolor\": \"white\"}, \"zaxis\": {\"backgroundcolor\": \"#E5ECF6\", \"gridcolor\": \"white\", \"gridwidth\": 2, \"linecolor\": \"white\", \"showbackground\": true, \"ticks\": \"\", \"zerolinecolor\": \"white\"}}, \"shapedefaults\": {\"line\": {\"color\": \"#2a3f5f\"}}, \"ternary\": {\"aaxis\": {\"gridcolor\": \"white\", \"linecolor\": \"white\", \"ticks\": \"\"}, \"baxis\": {\"gridcolor\": \"white\", \"linecolor\": \"white\", \"ticks\": \"\"}, \"bgcolor\": \"#E5ECF6\", \"caxis\": {\"gridcolor\": \"white\", \"linecolor\": \"white\", \"ticks\": \"\"}}, \"title\": {\"x\": 0.05}, \"xaxis\": {\"automargin\": true, \"gridcolor\": \"white\", \"linecolor\": \"white\", \"ticks\": \"\", \"title\": {\"standoff\": 15}, \"zerolinecolor\": \"white\", \"zerolinewidth\": 2}, \"yaxis\": {\"automargin\": true, \"gridcolor\": \"white\", \"linecolor\": \"white\", \"ticks\": \"\", \"title\": {\"standoff\": 15}, \"zerolinecolor\": \"white\", \"zerolinewidth\": 2}}}, \"width\": 800, \"xaxis\": {\"anchor\": \"y\", \"domain\": [0.0, 1.0]}, \"yaxis\": {\"anchor\": \"x\", \"domain\": [0.0, 1.0]}},\n",
              "                        {\"responsive\": true}\n",
              "                    ).then(function(){\n",
              "                            \n",
              "var gd = document.getElementById('25e12d37-302d-449d-a31d-9c5947dcdd0c');\n",
              "var x = new MutationObserver(function (mutations, observer) {{\n",
              "        var display = window.getComputedStyle(gd).display;\n",
              "        if (!display || display === 'none') {{\n",
              "            console.log([gd, 'removed!']);\n",
              "            Plotly.purge(gd);\n",
              "            observer.disconnect();\n",
              "        }}\n",
              "}});\n",
              "\n",
              "// Listen for the removal of the full notebook cells\n",
              "var notebookContainer = gd.closest('#notebook-container');\n",
              "if (notebookContainer) {{\n",
              "    x.observe(notebookContainer, {childList: true});\n",
              "}}\n",
              "\n",
              "// Listen for the clearing of the current output cell\n",
              "var outputEl = gd.closest('.output');\n",
              "if (outputEl) {{\n",
              "    x.observe(outputEl, {childList: true});\n",
              "}}\n",
              "\n",
              "                        })\n",
              "                };\n",
              "                \n",
              "            </script>\n",
              "        </div>\n",
              "</body>\n",
              "</html>"
            ]
          },
          "metadata": {}
        }
      ]
    },
    {
      "cell_type": "markdown",
      "metadata": {
        "id": "iMYeMfBumaye"
      },
      "source": [
        "## Train test and split"
      ]
    },
    {
      "cell_type": "code",
      "metadata": {
        "id": "PZeolu4WmTzn",
        "outputId": "7ac4d7eb-ffd1-4e1a-9d2c-d95aaaea710d",
        "colab": {
          "base_uri": "https://localhost:8080/"
        }
      },
      "source": [
        "from collections import Counter\n",
        "print(\"Labels distribution:\",Counter(y))\n",
        "\n",
        "# train-test split\n",
        "x_train, x_test, y_train, y_test = sklearn.model_selection.train_test_split(x_r, y, random_state=30,train_size=0.5)\n",
        "print(\"Train labels distribution:\", Counter(y_train))\n",
        "print(\"Test labels distribution:\",Counter(y_test))\n",
        "\n",
        "\n"
      ],
      "execution_count": 223,
      "outputs": [
        {
          "output_type": "stream",
          "name": "stdout",
          "text": [
            "Labels distribution: Counter({0.940721614597785: 1, 0.940723572948062: 1, 0.9407255312983388: 1, 0.9407274896486156: 1, 0.9407294479988926: 1, 0.9407314063491696: 1, 0.9407333646994462: 1, 0.9407353230497232: 1, 0.9407372814: 1, 0.940739239750277: 1, 0.9407411981005536: 1, 0.9407431564508304: 1, 0.9407451148011076: 1, 0.9407470731513844: 1, 0.9407490315016612: 1, 0.9407509898519382: 1, 0.9407529482022148: 1, 0.9407549065524916: 1, 0.9407568649027686: 1, 0.9407588232530456: 1, 0.9407607816033224: 1, 0.9407627399535992: 1, 0.940764698303876: 1, 0.9407666566541528: 1, 0.9407686150044297: 1, 0.9407705733547066: 1, 0.9407725317049834: 1, 0.9407744900552604: 1, 0.9407764484055372: 1, 0.9407784067558141: 1, 0.94856761507297: 1, 0.9485682133120688: 1, 0.948568811551168: 1, 0.948569409790267: 1, 0.948570008029366: 1, 0.9485706062684649: 1, 0.948571204507564: 1, 0.948571802746663: 1, 0.9485724009857618: 1, 0.9485729992248609: 1, 0.9485735974639599: 1, 0.9485741957030588: 1, 0.9485747939421579: 1, 0.948575392181257: 1, 0.9485759904203559: 1, 0.9485765886594549: 1, 0.948577186898554: 1, 0.9485777851376529: 1, 0.9485783833767522: 1, 0.9485789816158512: 1, 0.94857957985495: 1, 0.9485801780940488: 1, 0.9485807763331479: 1, 0.9485813745722468: 1, 0.9485819728113459: 1, 0.948582571050445: 1, 0.948583169289544: 1, 0.948583767528643: 1, 0.9485843657677421: 1, 0.9595777235329936: 1, 0.9595712113683124: 1, 0.9595646992036316: 1, 0.9595581870389508: 1, 0.9595516748742696: 1, 0.9595451627095888: 1, 0.9595386505449078: 1, 0.9595321383802268: 1, 0.9595256262155458: 1, 0.959519114050865: 1, 0.959512601886184: 1, 0.9595060897215032: 1, 0.959499577556822: 1, 0.9594930653921412: 1, 0.9594865532274603: 1, 0.9594800410627792: 1, 0.9594735288980984: 1, 0.9594670167334176: 1, 0.9594605045687364: 1, 0.9594539924040556: 1, 0.9594474802393744: 1, 0.9594409680746936: 1, 0.9594344559100124: 1, 0.9594279437453318: 1, 0.9594214315806506: 1, 0.95941491941597: 1, 0.9594084072512888: 1, 0.959401895086608: 1, 0.9593953829219268: 1, 0.9691125300427142: 1, 0.9691139607805896: 1, 0.9691153915184649: 1, 0.9691168222563404: 1, 0.9691182529942158: 1, 0.9691196837320912: 1, 0.9691211144699668: 1, 0.969122545207842: 1, 0.9691239759457176: 1, 0.9691254066835928: 1, 0.9691268374214684: 1, 0.9691282681593438: 1, 0.9691296988972192: 1, 0.9691311296350946: 1, 0.9691325603729699: 1, 0.9691339911108454: 1, 0.9691354218487208: 1, 0.9691368525865964: 1, 0.9691382833244716: 1, 0.9691397140623472: 1, 0.9691411448002224: 1, 0.969142575538098: 1, 0.9691440062759732: 1, 0.9691454370138488: 1, 0.969146867751724: 1, 0.9691482984895996: 1, 0.9691497292274748: 1, 0.9691511599653504: 1, 0.9691525907032258: 1, 0.9789375383221484: 1, 0.9789406705479512: 1, 0.978943802773754: 1, 0.978946934999557: 1, 0.97895006722536: 1, 0.9789531994511628: 1, 0.9789563316769656: 1, 0.9789594639027686: 1, 0.9789625961285712: 1, 0.9789657283543742: 1, 0.9789688605801772: 1, 0.97897199280598: 1, 0.9789751250317827: 1, 0.9789782572575858: 1, 0.9789813894833888: 1, 0.9789845217091916: 1, 0.9789876539349944: 1, 0.9789907861607974: 1, 0.9789939183866: 1, 0.978997050612403: 1, 0.979000182838206: 1, 0.9790033150640088: 1, 0.9790064472898116: 1, 0.9790095795156146: 1, 0.9790127117414176: 1, 0.9790158439672204: 1, 0.9790189761930232: 1, 0.9790221084188259: 1, 0.9790252406446288: 1, 0.979028372870432: 1, 0.9961067774467884: 1, 0.9961069150015504: 1, 0.9961070525563124: 1, 0.9961071901110742: 1, 0.996107327665836: 1, 0.996107465220598: 1, 0.99610760277536: 1, 0.9961077403301218: 1, 0.9961078778848836: 1, 0.9961080154396456: 1, 0.9961081529944076: 1, 0.9961082905491696: 1, 0.9961084281039312: 1, 0.9961085656586932: 1, 0.9961087032134549: 1, 0.996108840768217: 1, 0.9961089783229788: 1, 0.9961091158777408: 1, 0.9961092534325028: 1, 0.9961093909872648: 1, 0.9961095285420266: 1, 0.9961096660967884: 1, 0.9961098036515502: 1, 0.996109941206312: 1, 0.9961100787610742: 1, 0.996110216315836: 1, 0.996110353870598: 1, 0.9961104914253598: 1, 0.9961106289801218: 1, 0.9961107665348836: 1, 1.0111979409723146: 1, 1.0112003814130677: 1, 1.0112028218538205: 1, 1.0112052622945735: 1, 1.0112077027353266: 1, 1.0112101431760798: 1, 1.0112125836168326: 1, 1.0112150240575857: 1, 1.0112174644983387: 1, 1.0112199049390922: 1, 1.011222345379845: 1, 1.011224785820598: 1, 1.0112272262613509: 1, 1.011229666702104: 1, 1.0112321071428572: 1, 1.0112345475836102: 1, 1.0112369880243632: 1, 1.0112394284651165: 1, 1.011241868905869: 1, 1.0112443093466223: 1, 1.0112467497873754: 1, 1.0112491902281284: 1, 1.0112516306688817: 1, 1.0112540711096345: 1, 1.0112565115503875: 1, 1.0112589519911406: 1, 1.0112613924318936: 1, 1.0112638328726469: 1, 1.0112662733133997: 1, 1.011268713754153: 1, 1.035716304900905: 1, 1.0357173198682552: 1, 1.0357183348356056: 1, 1.0357193498029555: 1, 1.035720364770306: 1, 1.0357213797376559: 1, 1.0357223947050065: 1, 1.0357234096723564: 1, 1.0357244246397066: 1, 1.035725439607057: 1, 1.0357264545744072: 1, 1.0357274695417575: 1, 1.0357284845091077: 1, 1.035729499476458: 1, 1.035730514443808: 1, 1.0357315294111582: 1, 1.0357325443785084: 1, 1.0357335593458583: 1, 1.0357345743132091: 1, 1.035735589280559: 1, 1.0357366042479093: 1, 1.0357376192152594: 1, 1.0357386341826096: 1, 1.0357396491499598: 1, 1.03574066411731: 1, 1.0357416790846603: 1, 1.0357426940520105: 1, 1.0357437090193609: 1, 1.0357447239867108: 1, 1.0589036298349943: 1, 1.0589013454839424: 1, 1.0588990611328903: 1, 1.0588967767818382: 1, 1.058894492430786: 1, 1.058892208079734: 1, 1.0588899237286822: 1, 1.05888763937763: 1, 1.058885355026578: 1, 1.058883070675526: 1, 1.058880786324474: 1, 1.058878501973422: 1, 1.0588762176223698: 1, 1.0588739332713175: 1, 1.0588716489202656: 1, 1.0588693645692135: 1, 1.0588670802181614: 1, 1.0588647958671096: 1, 1.0588625115160577: 1, 1.0588602271650058: 1, 1.0588579428139535: 1, 1.0588556584629016: 1, 1.0588533741118495: 1, 1.0588510897607974: 1, 1.0588488054097454: 1, 1.0588465210586937: 1, 1.0588442367076414: 1, 1.0588419523565893: 1, 1.0588396680055372: 1, 1.058837383654485: 1, 1.0836475227674418: 1, 1.083648879139535: 1, 1.083650235511628: 1, 1.0836515918837208: 1, 1.083652948255814: 1, 1.083654304627907: 1, 1.0836556609999999: 1, 1.083657017372093: 1, 1.0836583737441858: 1, 1.0836597301162791: 1, 1.083661086488372: 1, 1.0836624428604649: 1, 1.0836637992325582: 1, 1.0836651556046513: 1, 1.083666511976744: 1, 1.0836678683488372: 1, 1.0836692247209303: 1, 1.0836705810930232: 1, 1.0836719374651165: 1, 1.0836732938372091: 1, 1.0836746502093024: 1, 1.083676006581395: 1, 1.0836773629534884: 1, 1.0836787193255817: 1, 1.0836800756976743: 1, 1.0836814320697674: 1, 1.0836827884418605: 1, 1.0836841448139536: 1, 1.0836855011860462: 1, 1.0836868575581395: 1, 1.105225864562951: 1, 1.1052292362189255: 1, 1.1052326078749: 1, 1.1052359795308742: 1, 1.1052393511868486: 1, 1.105242722842823: 1, 1.1052460944987972: 1, 1.1052494661547716: 1, 1.1052528378107458: 1, 1.1052562094667202: 1, 1.1052595811226944: 1, 1.1052629527786688: 1, 1.1052663244346437: 1, 1.1052696960906174: 1, 1.1052730677465918: 1, 1.105276439402566: 1, 1.1052798110585405: 1, 1.1052831827145149: 1, 1.1052865543704893: 1, 1.1052899260264637: 1, 1.1052932976824377: 1, 1.105296669338412: 1, 1.1053000409943867: 1, 1.105303412650361: 1, 1.105306784306335: 1, 1.1053101559623095: 1, 1.1053135276182835: 1, 1.105316899274258: 1, 1.1053202709302326: 1, 1.1187256268648946: 1, 1.1187255960221487: 1, 1.1187255651794021: 1, 1.1187255343366558: 1, 1.1187255034939092: 1, 1.1187254726511628: 1, 1.1187254418084165: 1, 1.11872541096567: 1, 1.1187253801229238: 1, 1.1187253492801772: 1, 1.1187253184374308: 1, 1.1187252875946845: 1, 1.1187252567519381: 1, 1.1187252259091915: 1, 1.1187251950664452: 1, 1.1187251642236988: 1, 1.1187251333809525: 1, 1.118725102538206: 1, 1.1187250716954595: 1, 1.1187250408527132: 1, 1.1187250100099666: 1, 1.1187249791672205: 1, 1.1187249483244741: 1, 1.1187249174817275: 1, 1.1187248866389812: 1, 1.1187248557962346: 1, 1.1187248249534882: 1, 1.118724794110742: 1, 1.1187247632679955: 1, 1.1187247324252492: 1, 1.1352526293573149: 1, 1.1352579620534995: 1, 1.1352632947496848: 1, 1.13526862744587: 1, 1.1352739601420554: 1, 1.1352792928382405: 1, 1.1352846255344256: 1, 1.1352899582306106: 1, 1.1352952909267957: 1, 1.1353006236229808: 1, 1.135305956319166: 1, 1.1353112890153507: 1, 1.1353166217115358: 1, 1.135321954407721: 1, 1.1353272871039064: 1, 1.1353326198000917: 1, 1.1353379524962766: 1, 1.135343285192462: 1, 1.135348617888647: 1, 1.135353950584832: 1, 1.135359283281017: 1, 1.1353646159772024: 1, 1.1353699486733877: 1, 1.1353752813695726: 1, 1.1353806140657576: 1, 1.1353859467619427: 1, 1.135391279458128: 1, 1.135396612154313: 1, 1.1354019448504982: 1, 1.1515318921354107: 1, 1.1515350633738113: 1, 1.1515382346122125: 1, 1.151541405850613: 1, 1.1515445770890136: 1, 1.1515477483274146: 1, 1.1515509195658151: 1, 1.1515540908042157: 1, 1.1515572620426169: 1, 1.1515604332810174: 1, 1.151563604519418: 1, 1.1515667757578187: 1, 1.1515699469962195: 1, 1.15157311823462: 1, 1.151576289473021: 1, 1.151579460711422: 1, 1.1515826319498226: 1, 1.1515858031882231: 1, 1.151588974426624: 1, 1.1515921456650249: 1, 1.1515953169034254: 1, 1.1515984881418262: 1, 1.1516016593802267: 1, 1.1516048306186275: 1, 1.1516080018570285: 1, 1.1516111730954288: 1, 1.1516143443338298: 1, 1.1516175155722306: 1, 1.1516206868106311: 1, 1.167056489160022: 1, 1.1670568310110745: 1, 1.1670571728621262: 1, 1.1670575147131779: 1, 1.1670578565642304: 1, 1.1670581984152824: 1, 1.1670585402663345: 1, 1.1670588821173866: 1, 1.1670592239684388: 1, 1.1670595658194904: 1, 1.1670599076705426: 1, 1.1670602495215947: 1, 1.1670605913726468: 1, 1.1670609332236983: 1, 1.1670612750747509: 1, 1.1670616169258028: 1, 1.167061958776855: 1, 1.1670623006279068: 1, 1.1670626424789592: 1, 1.1670629843300109: 1, 1.1670633261810632: 1, 1.1670636680321151: 1, 1.1670640098831673: 1, 1.1670643517342194: 1, 1.167064693585271: 1, 1.1670650354363232: 1, 1.1670653772873756: 1, 1.1670657191384275: 1, 1.1670660609894796: 1, 1.1670664028405315: 1, 1.1795063622209303: 1, 1.1795150164352157: 1, 1.1795236706495018: 1, 1.1795323248637872: 1, 1.1795409790780729: 1, 1.1795496332923587: 1, 1.1795582875066444: 1, 1.1795669417209302: 1, 1.179575595935216: 1, 1.1795842501495015: 1, 1.1795929043637874: 1, 1.179601558578073: 1, 1.179610212792359: 1, 1.1796188670066443: 1, 1.17962752122093: 1, 1.1796361754352158: 1, 1.1796448296495017: 1, 1.1796534838637875: 1, 1.1796621380780727: 1, 1.1796707922923588: 1, 1.1796794465066442: 1, 1.1796881007209299: 1, 1.1796967549352158: 1, 1.1797054091495016: 1, 1.1797140633637877: 1, 1.1797227175780731: 1, 1.1797313717923583: 1, 1.1797400260066444: 1, 1.1797486802209298: 1, 1.179757334435216: 1, 1.195252342162791: 1, 1.1952573668172757: 1, 1.1952623914717608: 1, 1.1952674161262458: 1, 1.195272440780731: 1, 1.1952774654352158: 1, 1.195282490089701: 1, 1.1952875147441862: 1, 1.1952925393986713: 1, 1.1952975640531562: 1, 1.1953025887076412: 1, 1.1953076133621259: 1, 1.1953126380166113: 1, 1.1953176626710964: 1, 1.1953226873255811: 1, 1.1953277119800665: 1, 1.1953327366345514: 1, 1.1953377612890366: 1, 1.1953427859435215: 1, 1.1953478105980069: 1, 1.1953528352524918: 1, 1.1953578599069767: 1, 1.195362884561462: 1, 1.195367909215947: 1, 1.195372933870432: 1, 1.1953779585249171: 1, 1.1953829831794018: 1, 1.1953880078338872: 1, 1.195393032488372: 1, 1.1953980571428569: 1, 1.2108449885038761: 1, 1.210852434815061: 1, 1.210859881126246: 1, 1.2108673274374309: 1, 1.210874773748616: 1, 1.2108822200598006: 1, 1.2108896663709856: 1, 1.2108971126821708: 1, 1.2109045589933558: 1, 1.2109120053045404: 1, 1.2109194516157256: 1, 1.2109268979269103: 1, 1.2109343442380955: 1, 1.2109417905492803: 1, 1.210949236860465: 1, 1.2109566831716498: 1, 1.2109641294828353: 1, 1.2109715757940198: 1, 1.2109790221052048: 1, 1.2109864684163898: 1, 1.2109939147275748: 1, 1.2110013610387598: 1, 1.2110088073499448: 1, 1.2110162536611295: 1, 1.2110236999723143: 1, 1.2110311462834995: 1, 1.2110385925946845: 1, 1.211046038905869: 1, 1.2110534852170545: 1, 1.2110609315282392: 1, 1.2235646764721044: 1, 1.2235641828611523: 1, 1.2235636892502002: 1, 1.2235631956392483: 1, 1.2235627020282964: 1, 1.2235622084173448: 1, 1.2235617148063924: 1, 1.22356122119544: 1, 1.2235607275844884: 1, 1.2235602339735363: 1, 1.2235597403625846: 1, 1.2235592467516323: 1, 1.2235587531406804: 1, 1.2235582595297283: 1, 1.2235577659187762: 1, 1.2235572723078243: 1, 1.2235567786968724: 1, 1.2235562850859203: 1, 1.2235557914749686: 1, 1.2235552978640163: 1, 1.2235548042530642: 1, 1.2235543106421125: 1, 1.2235538170311604: 1, 1.2235533234202087: 1, 1.2235528298092566: 1, 1.2235523361983045: 1, 1.2235518425873524: 1, 1.2235513489764005: 1, 1.2235508553654486: 1, 1.2289597006300836: 1, 1.2289607624894032: 1, 1.2289618243487228: 1, 1.2289628862080422: 1, 1.2289639480673618: 1, 1.2289650099266811: 1, 1.2289660717860007: 1, 1.22896713364532: 1, 1.22896819550464: 1, 1.2289692573639597: 1, 1.2289703192232786: 1, 1.2289713810825984: 1, 1.228972442941918: 1, 1.2289735048012371: 1, 1.2289745666605572: 1, 1.2289756285198763: 1, 1.2289766903791957: 1, 1.2289777522385157: 1, 1.2289788140978348: 1, 1.2289798759571544: 1, 1.2289809378164742: 1, 1.2289819996757934: 1, 1.228983061535113: 1, 1.2289841233944323: 1, 1.228985185253752: 1, 1.2289862471130717: 1, 1.2289873089723908: 1, 1.2289883708317104: 1, 1.22898943269103: 1, 0.9408645197817621: 1, 0.940866832696414: 1, 0.9408691456110664: 1, 0.9408714585257191: 1, 0.9408737714403712: 1, 0.9408760843550232: 1, 0.9408783972696758: 1, 0.940880710184328: 1, 0.9408830230989804: 1, 0.9408853360136328: 1, 0.9408876489282851: 1, 0.9408899618429374: 1, 0.9408922747575896: 1, 0.940894587672242: 1, 0.9408969005868943: 1, 0.9408992135015464: 1, 0.9409015264161988: 1, 0.9409038393308512: 1, 0.9409061522455034: 1, 0.9409084651601556: 1, 0.9409107780748082: 1, 0.9409130909894604: 1, 0.9409154039041128: 1, 0.9409177168187649: 1, 0.9409200297334174: 1, 0.9409223426480696: 1, 0.940924655562722: 1, 0.9409269684773742: 1, 0.9409292813920266: 1, 0.9487931666925764: 1, 0.9487911118635582: 1, 0.94878905703454: 1, 0.948787002205522: 1, 0.9487849473765037: 1, 0.9487828925474854: 1, 0.9487808377184672: 1, 0.9487787828894488: 1, 0.9487767280604308: 1, 0.9487746732314124: 1, 0.9487726184023942: 1, 0.948770563573376: 1, 0.948768508744358: 1, 0.9487664539153396: 1, 0.9487643990863216: 1, 0.9487623442573032: 1, 0.9487602894282848: 1, 0.9487582345992668: 1, 0.9487561797702484: 1, 0.9487541249412303: 1, 0.948752070112212: 1, 0.948750015283194: 1, 0.9487479604541758: 1, 0.9487459056251576: 1, 0.9487438507961392: 1, 0.9487417959671212: 1, 0.9487397411381028: 1, 0.9487376863090848: 1, 0.9487356314800665: 1, 0.9605167814208958: 1, 0.960516497062722: 1, 0.9605162127045479: 1, 0.960515928346374: 1, 0.9605156439882002: 1, 0.9605153596300264: 1, 0.9605150752718524: 1, 0.9605147909136784: 1, 0.9605145065555046: 1, 0.9605142221973308: 1, 0.9605139378391568: 1, 0.9605136534809828: 1, 0.960513369122809: 1, 0.9605130847646349: 1, 0.9605128004064613: 1, 0.9605125160482872: 1, 0.9605122316901132: 1, 0.9605119473319396: 1, 0.9605116629737656: 1, 0.960511378615592: 1, 0.9605110942574178: 1, 0.960510809899244: 1, 0.96051052554107: 1, 0.9605102411828962: 1, 0.960509956824722: 1, 0.9605096724665484: 1, 0.9605093881083744: 1, 0.9605091037502004: 1, 0.9605088193920266: 1, 0.9672564106100928: 1, 0.9672615728098868: 1, 0.9672667350096804: 1, 0.9672718972094742: 1, 0.9672770594092679: 1, 0.967282221609062: 1, 0.9672873838088556: 1, 0.9672925460086492: 1, 0.9672977082084432: 1, 0.9673028704082371: 1, 0.9673080326080306: 1, 0.9673131948078244: 1, 0.9673183570076184: 1, 0.967323519207412: 1, 0.9673286814072058: 1, 0.9673338436069996: 1, 0.9673390058067934: 1, 0.9673441680065872: 1, 0.9673493302063808: 1, 0.9673544924061748: 1, 0.9673596546059686: 1, 0.9673648168057624: 1, 0.9673699790055562: 1, 0.9673751412053501: 1, 0.9673803034051438: 1, 0.9673854656049377: 1, 0.9673906278047312: 1, 0.9673957900045252: 1, 0.9674009522043191: 1, 0.9815338381988199: 1, 0.9815288528262116: 1, 0.9815238674536028: 1, 0.9815188820809944: 1, 0.981513896708386: 1, 0.9815089113357772: 1, 0.9815039259631688: 1, 0.9814989405905604: 1, 0.9814939552179516: 1, 0.9814889698453432: 1, 0.9814839844727348: 1, 0.981478999100126: 1, 0.9814740137275176: 1, 0.9814690283549088: 1, 0.9814640429823004: 1, 0.9814590576096918: 1, 0.9814540722370834: 1, 0.9814490868644749: 1, 0.9814441014918662: 1, 0.9814391161192578: 1, 0.9814341307466492: 1, 0.9814291453740404: 1, 0.981424160001432: 1, 0.9814191746288234: 1, 0.9814141892562148: 1, 0.9814092038836064: 1, 0.981404218510998: 1, 0.9813992331383892: 1, 0.9813942477657808: 1, 0.9902699540217664: 1, 0.9902783523475196: 1, 0.9902867506732732: 1, 0.9902951489990264: 1, 0.9903035473247792: 1, 0.9903119456505328: 1, 0.990320343976286: 1, 0.9903287423020392: 1, 0.9903371406277924: 1, 0.9903455389535456: 1, 0.9903539372792988: 1, 0.9903623356050519: 1, 0.9903707339308054: 1, 0.9903791322565588: 1, 0.990387530582312: 1, 0.9903959289080649: 1, 0.9904043272338182: 1, 0.9904127255595716: 1, 0.9904211238853248: 1, 0.9904295222110782: 1, 0.9904379205368312: 1, 0.9904463188625844: 1, 0.9904547171883378: 1, 0.9904631155140908: 1, 0.990471513839844: 1, 0.9904799121655976: 1, 0.9904883104913506: 1, 0.990496708817104: 1, 0.9905051071428572: 1, 1.0063620591533968: 1, 1.0063611196190858: 1, 1.006360180084775: 1, 1.006359240550464: 1, 1.0063583010161532: 1, 1.0063573614818422: 1, 1.0063564219475312: 1, 1.0063554824132204: 1, 1.0063545428789094: 1, 1.0063536033445983: 1, 1.006352663810287: 1, 1.0063517242759767: 1, 1.0063507847416655: 1, 1.0063498452073547: 1, 1.0063489056730441: 1, 1.0063479661387331: 1, 1.006347026604422: 1, 1.006346087070111: 1, 1.0063451475358: 1, 1.0063442080014893: 1, 1.0063432684671785: 1, 1.0063423289328677: 1, 1.0063413893985569: 1, 1.006340449864246: 1, 1.0063395103299348: 1, 1.0063385707956238: 1, 1.0063376312613128: 1, 1.006336691727002: 1, 1.006335752192691: 1, 1.0199578424269675: 1, 1.019963538441975: 1, 1.0199692344569826: 1, 1.01997493047199: 1, 1.0199806264869975: 1, 1.0199863225020047: 1, 1.0199920185170124: 1, 1.0199977145320198: 1, 1.0200034105470273: 1, 1.0200091065620347: 1, 1.020014802577042: 1, 1.0200204985920496: 1, 1.020026194607057: 1, 1.0200318906220645: 1, 1.020037586637072: 1, 1.020043282652079: 1, 1.0200489786670868: 1, 1.0200546746820942: 1, 1.0200603706971016: 1, 1.0200660667121089: 1, 1.0200717627271167: 1, 1.020077458742124: 1, 1.0200831547571314: 1, 1.0200888507721388: 1, 1.0200945467871465: 1, 1.0201002428021535: 1, 1.0201059388171612: 1, 1.0201116348321686: 1, 1.0201173308471758: 1, 1.0543680823295911: 1, 1.0543678242937335: 1, 1.054367566257876: 1, 1.0543673082220184: 1, 1.054367050186161: 1, 1.0543667921503035: 1, 1.054366534114446: 1, 1.0543662760785886: 1, 1.054366018042731: 1, 1.0543657600068737: 1, 1.0543655019710163: 1, 1.0543652439351583: 1, 1.0543649858993012: 1, 1.0543647278634436: 1, 1.0543644698275862: 1, 1.0543642117917291: 1, 1.054363953755871: 1, 1.0543636957200138: 1, 1.0543634376841562: 1, 1.0543631796482986: 1, 1.0543629216124415: 1, 1.0543626635765841: 1, 1.0543624055407264: 1, 1.0543621475048688: 1, 1.0543618894690114: 1, 1.054361631433154: 1, 1.0543613733972963: 1, 1.0543611153614392: 1, 1.0543608573255814: 1, 1.0712109952720814: 1, 1.071214043235193: 1, 1.0712170911983043: 1, 1.0712201391614158: 1, 1.0712231871245272: 1, 1.0712262350876387: 1, 1.0712292830507504: 1, 1.0712323310138618: 1, 1.0712353789769733: 1, 1.0712384269400843: 1, 1.0712414749031962: 1, 1.0712445228663077: 1, 1.0712475708294191: 1, 1.0712506187925308: 1, 1.071253666755642: 1, 1.0712567147187535: 1, 1.0712597626818652: 1, 1.0712628106449766: 1, 1.071265858608088: 1, 1.071268906571199: 1, 1.0712719545343108: 1, 1.0712750024974225: 1, 1.0712780504605341: 1, 1.0712810984236454: 1, 1.0712841463867568: 1, 1.0712871943498683: 1, 1.0712902423129798: 1, 1.0712932902760912: 1, 1.071296338239203: 1, 1.084571799674075: 1, 1.0845709250458242: 1, 1.0845700504175737: 1, 1.084569175789323: 1, 1.084568301161072: 1, 1.0845674265328218: 1, 1.0845665519045709: 1, 1.0845656772763204: 1, 1.0845648026480696: 1, 1.0845639280198192: 1, 1.0845630533915682: 1, 1.0845621787633175: 1, 1.0845613041350668: 1, 1.0845604295068163: 1, 1.0845595548785658: 1, 1.0845586802503149: 1, 1.0845578056220642: 1, 1.0845569309938137: 1, 1.084556056365563: 1, 1.0845551817373122: 1, 1.0845543071090618: 1, 1.0845534324808108: 1, 1.0845525578525606: 1, 1.0845516832243096: 1, 1.0845508085960591: 1, 1.0845499339678082: 1, 1.0845490593395577: 1, 1.084548184711307: 1, 1.0845473100830565: 1, 1.1032089531824951: 1, 1.1032035453517008: 1, 1.1031981375209072: 1, 1.1031927296901134: 1, 1.1031873218593196: 1, 1.1031819140285255: 1, 1.1031765061977317: 1, 1.1031710983669376: 1, 1.1031656905361438: 1, 1.1031602827053502: 1, 1.1031548748745559: 1, 1.1031494670437625: 1, 1.1031440592129682: 1, 1.1031386513821744: 1, 1.1031332435513803: 1, 1.1031278357205867: 1, 1.1031224278897929: 1, 1.1031170200589988: 1, 1.103111612228205: 1, 1.103106204397411: 1, 1.1031007965666169: 1, 1.103095388735823: 1, 1.1030899809050294: 1, 1.1030845730742356: 1, 1.1030791652434415: 1, 1.1030737574126477: 1, 1.1030683495818534: 1, 1.1030629417510596: 1, 1.1030575339202655: 1, 1.1148516613237485: 1, 1.1148503474979954: 1, 1.114849033672242: 1, 1.1148477198464886: 1, 1.1148464060207357: 1, 1.1148450921949822: 1, 1.114843778369229: 1, 1.1148424645434758: 1, 1.1148411507177225: 1, 1.1148398368919692: 1, 1.114838523066216: 1, 1.1148372092404628: 1, 1.1148358954147095: 1, 1.1148345815889564: 1, 1.1148332677632031: 1, 1.1148319539374498: 1, 1.1148306401116963: 1, 1.1148293262859432: 1, 1.11482801246019: 1, 1.1148266986344368: 1, 1.1148253848086835: 1, 1.1148240709829305: 1, 1.1148227571571772: 1, 1.114821443331424: 1, 1.1148201295056706: 1, 1.1148188156799177: 1, 1.1148175018541642: 1, 1.1148161880284109: 1, 1.1148148742026578: 1, 1.131187880338527: 1, 1.1311959631355248: 1, 1.1312040459325237: 1, 1.1312121287295225: 1, 1.1312202115265206: 1, 1.1312282943235192: 1, 1.1312363771205178: 1, 1.1312444599175164: 1, 1.1312525427145148: 1, 1.1312606255115132: 1, 1.1312687083085118: 1, 1.1312767911055104: 1, 1.131284873902509: 1, 1.1312929566995074: 1, 1.131301039496506: 1, 1.1313091222935043: 1, 1.131317205090503: 1, 1.1313252878875015: 1, 1.1313333706845001: 1, 1.1313414534814985: 1, 1.131349536278497: 1, 1.1313576190754957: 1, 1.1313657018724943: 1, 1.1313737846694922: 1, 1.131381867466491: 1, 1.1313899502634897: 1, 1.131398033060488: 1, 1.1314061158574866: 1, 1.131414198654485: 1, 1.1477781957108486: 1, 1.1477750141791727: 1, 1.1477718326474966: 1, 1.1477686511158207: 1, 1.1477654695841446: 1, 1.147762288052469: 1, 1.1477591065207928: 1, 1.1477559249891167: 1, 1.1477527434574408: 1, 1.1477495619257645: 1, 1.1477463803940886: 1, 1.1477431988624125: 1, 1.1477400173307366: 1, 1.1477368357990605: 1, 1.1477336542673844: 1, 1.1477304727357085: 1, 1.1477272912040324: 1, 1.1477241096723567: 1, 1.1477209281406804: 1, 1.1477177466090045: 1, 1.1477145650773284: 1, 1.1477113835456525: 1, 1.1477082020139764: 1, 1.1477050204823005: 1, 1.1477018389506244: 1, 1.1476986574189485: 1, 1.1476954758872726: 1, 1.1476922943555965: 1, 1.1476891128239202: 1, 1.1606091159119027: 1, 1.1606140182191549: 1, 1.1606189205264064: 1, 1.1606238228336578: 1, 1.1606287251409095: 1, 1.1606336274481612: 1, 1.1606385297554132: 1, 1.1606434320626646: 1, 1.1606483343699163: 1, 1.160653236677168: 1, 1.1606581389844195: 1, 1.1606630412916712: 1, 1.160667943598923: 1, 1.1606728459061748: 1, 1.1606777482134265: 1, 1.160682650520678: 1, 1.16068755282793: 1, 1.1606924551351816: 1, 1.1606973574424333: 1, 1.1607022597496848: 1, 1.1607071620569367: 1, 1.1607120643641884: 1, 1.16071696667144: 1, 1.1607218689786918: 1, 1.1607267712859433: 1, 1.1607316735931952: 1, 1.1607365759004469: 1, 1.1607414782076984: 1, 1.16074638051495: 1, 1.1757130221674876: 1, 1.1757150881555738: 1, 1.175717154143659: 1, 1.1757192201317448: 1, 1.1757212861198305: 1, 1.1757233521079162: 1, 1.175725418096002: 1, 1.1757274840840877: 1, 1.1757295500721734: 1, 1.1757316160602589: 1, 1.1757336820483446: 1, 1.1757357480364303: 1, 1.1757378140245158: 1, 1.1757398800126018: 1, 1.1757419460006873: 1, 1.175744011988773: 1, 1.1757460779768587: 1, 1.1757481439649442: 1, 1.17575020995303: 1, 1.1757522759411159: 1, 1.1757543419292016: 1, 1.1757564079172873: 1, 1.1757584739053728: 1, 1.1757605398934583: 1, 1.1757626058815445: 1, 1.17576467186963: 1, 1.1757667378577157: 1, 1.1757688038458014: 1, 1.1757708698338871: 1, 1.2029945397559858: 1, 1.20299671898041: 1, 1.2029988982048343: 1, 1.2030010774292588: 1, 1.2030032566536832: 1, 1.2030054358781073: 1, 1.2030076151025315: 1, 1.2030097943269562: 1, 1.2030119735513802: 1, 1.203014152775805: 1, 1.2030163320002292: 1, 1.2030185112246534: 1, 1.2030206904490777: 1, 1.203022869673502: 1, 1.2030250488979264: 1, 1.2030272281223506: 1, 1.203029407346775: 1, 1.2030315865711994: 1, 1.2030337657956236: 1, 1.2030359450200483: 1, 1.2030381242444723: 1, 1.2030403034688966: 1, 1.2030424826933213: 1, 1.2030446619177453: 1, 1.2030468411421698: 1, 1.2030490203665942: 1, 1.2030511995910185: 1, 1.2030533788154427: 1, 1.2030555580398672: 1, 1.2213845595240005: 1, 1.2213822711244129: 1, 1.2213799827248253: 1, 1.2213776943252377: 1, 1.2213754059256499: 1, 1.2213731175260625: 1, 1.221370829126475: 1, 1.2213685407268873: 1, 1.2213662523272997: 1, 1.2213639639277123: 1, 1.2213616755281245: 1, 1.221359387128537: 1, 1.2213570987289497: 1, 1.221354810329362: 1, 1.221352521929774: 1, 1.221350233530187: 1, 1.2213479451305993: 1, 1.2213456567310117: 1, 1.221343368331424: 1, 1.2213410799318365: 1, 1.2213387915322491: 1, 1.2213365031326608: 1, 1.2213342147330737: 1, 1.2213319263334859: 1, 1.2213296379338985: 1, 1.2213273495343109: 1, 1.2213250611347228: 1, 1.221322772735136: 1, 1.2213204843355479: 1, 1.2291842062378282: 1, 1.2291796571600413: 1, 1.2291751080822546: 1, 1.229170559004468: 1, 1.2291660099266812: 1, 1.2291614608488948: 1, 1.2291569117711076: 1, 1.2291523626933212: 1, 1.2291478136155345: 1, 1.2291432645377478: 1, 1.2291387154599611: 1, 1.2291341663821742: 1, 1.2291296173043875: 1, 1.2291250682266008: 1, 1.2291205191488142: 1, 1.2291159700710281: 1, 1.2291114209932408: 1, 1.2291068719154543: 1, 1.2291023228376676: 1, 1.2290977737598807: 1, 1.2290932246820945: 1, 1.2290886756043071: 1, 1.2290841265265209: 1, 1.2290795774487342: 1, 1.2290750283709473: 1, 1.2290704792931608: 1, 1.2290659302153741: 1, 1.2290613811375874: 1, 1.2290568320598008: 1, 0.940989793872322: 1, 0.9409884010951428: 1, 0.9409870083179632: 1, 0.9409856155407836: 1, 0.940984222763604: 1, 0.9409828299864246: 1, 0.9409814372092452: 1, 0.9409800444320656: 1, 0.940978651654886: 1, 0.9409772588777066: 1, 0.9409758661005271: 1, 0.9409744733233476: 1, 0.9409730805461679: 1, 0.9409716877689884: 1, 0.9409702949918092: 1, 0.9409689022146296: 1, 0.9409675094374498: 1, 0.9409661166602704: 1, 0.9409647238830908: 1, 0.9409633311059116: 1, 0.940961938328732: 1, 0.9409605455515522: 1, 0.9409591527743728: 1, 0.9409577599971932: 1, 0.9409563672200136: 1, 0.9409549744428342: 1, 0.9409535816656548: 1, 0.9409521888884752: 1, 0.9409507961112956: 1, 0.944935494818536: 1, 0.9449360377450452: 1, 0.9449365806715544: 1, 0.944937123598064: 1, 0.9449376665245732: 1, 0.9449382094510826: 1, 0.9449387523775921: 1, 0.9449392953041014: 1, 0.9449398382306108: 1, 0.94494038115712: 1, 0.9449409240836292: 1, 0.9449414670101386: 1, 0.944942009936648: 1, 0.9449425528631572: 1, 0.9449430957896668: 1, 0.9449436387161758: 1, 0.9449441816426852: 1, 0.9449447245691946: 1, 0.9449452674957042: 1, 0.9449458104222132: 1, 0.9449463533487228: 1, 0.944946896275232: 1, 0.9449474392017414: 1, 0.9449479821282506: 1, 0.94494852505476: 1, 0.9449490679812692: 1, 0.9449496109077786: 1, 0.944950153834288: 1, 0.9449506967607972: 1, 0.9527963022799292: 1, 0.9527959186711537: 1, 0.9527955350623782: 1, 0.9527951514536028: 1, 0.9527947678448276: 1, 0.9527943842360524: 1, 0.9527940006272768: 1, 0.9527936170185016: 1, 0.9527932334097264: 1, 0.9527928498009508: 1, 0.9527924661921756: 1, 0.9527920825834002: 1, 0.9527916989746248: 1, 0.9527913153658496: 1, 0.952790931757074: 1, 0.9527905481482988: 1, 0.9527901645395236: 1, 0.9527897809307482: 1, 0.9527893973219728: 1, 0.9527890137131974: 1, 0.9527886301044219: 1, 0.9527882464956466: 1, 0.9527878628868712: 1, 0.952787479278096: 1, 0.9527870956693206: 1, 0.9527867120605452: 1, 0.95278632845177: 1, 0.9527859448429948: 1, 0.9527855612342192: 1, 0.960847853821629: 1, 0.9608429720103676: 1, 0.9608380901991064: 1, 0.9608332083878453: 1, 0.9608283265765838: 1, 0.9608234447653224: 1, 0.9608185629540612: 1, 0.9608136811428: 1, 0.9608087993315384: 1, 0.9608039175202772: 1, 0.960799035709016: 1, 0.9607941538977546: 1, 0.9607892720864932: 1, 0.960784390275232: 1, 0.9607795084639706: 1, 0.9607746266527092: 1, 0.960769744841448: 1, 0.9607648630301868: 1, 0.9607599812189254: 1, 0.960755099407664: 1, 0.9607502175964028: 1, 0.9607453357851417: 1, 0.96074045397388: 1, 0.9607355721626188: 1, 0.9607306903513576: 1, 0.9607258085400964: 1, 0.9607209267288348: 1, 0.9607160449175736: 1, 0.9607111631063122: 1, 0.9691783663439932: 1, 0.9691873259960512: 1, 0.9691962856481092: 1, 0.969205245300167: 1, 0.9692142049522248: 1, 0.9692231646042824: 1, 0.9692321242563404: 1, 0.969241083908398: 1, 0.9692500435604562: 1, 0.969259003212514: 1, 0.9692679628645718: 1, 0.9692769225166296: 1, 0.9692858821686876: 1, 0.9692948418207452: 1, 0.9693038014728032: 1, 0.969312761124861: 1, 0.9693217207769188: 1, 0.9693306804289766: 1, 0.9693396400810343: 1, 0.9693485997330924: 1, 0.9693575593851502: 1, 0.9693665190372079: 1, 0.9693754786892658: 1, 0.9693844383413238: 1, 0.9693933979933814: 1, 0.9694023576454396: 1, 0.9694113172974972: 1, 0.969420276949555: 1, 0.9694292366016128: 1, 0.9805026089175736: 1, 0.98050513557435: 1, 0.980507662231126: 1, 0.9805101888879024: 1, 0.9805127155446788: 1, 0.9805152422014549: 1, 0.9805177688582312: 1, 0.9805202955150076: 1, 0.9805228221717838: 1, 0.98052534882856: 1, 0.9805278754853364: 1, 0.9805304021421124: 1, 0.9805329287988888: 1, 0.9805354554556652: 1, 0.9805379821124414: 1, 0.9805405087692176: 1, 0.980543035425994: 1, 0.9805455620827704: 1, 0.9805480887395462: 1, 0.9805506153963226: 1, 0.9805531420530988: 1, 0.9805556687098752: 1, 0.9805581953666512: 1, 0.9805607220234276: 1, 0.9805632486802038: 1, 0.9805657753369802: 1, 0.9805683019937564: 1, 0.9805708286505328: 1, 0.9805733553073088: 1, 0.992900885098293: 1, 0.992898027837782: 1, 0.9928951705772712: 1, 0.9928923133167604: 1, 0.9928894560562492: 1, 0.9928865987957384: 1, 0.9928837415352276: 1, 0.9928808842747168: 1, 0.9928780270142056: 1, 0.9928751697536946: 1, 0.9928723124931838: 1, 0.9928694552326728: 1, 0.9928665979721618: 1, 0.9928637407116508: 1, 0.99286088345114: 1, 0.992858026190629: 1, 0.9928551689301182: 1, 0.992852311669607: 1, 0.992849454409096: 1, 0.9928465971485853: 1, 0.9928437398880742: 1, 0.9928408826275632: 1, 0.9928380253670523: 1, 0.9928351681065416: 1, 0.9928323108460304: 1, 0.9928294535855196: 1, 0.9928265963250088: 1, 0.9928237390644976: 1, 0.9928208818039868: 1, 1.0055525836046513: 1, 1.0055594435548172: 1, 1.0055663035049835: 1, 1.0055731634551497: 1, 1.0055800234053158: 1, 1.0055868833554815: 1, 1.005593743305648: 1, 1.005600603255814: 1, 1.00560746320598: 1, 1.0056143231561463: 1, 1.0056211831063124: 1, 1.0056280430564786: 1, 1.0056349030066445: 1, 1.0056417629568106: 1, 1.0056486229069768: 1, 1.005655482857143: 1, 1.005662342807309: 1, 1.0056692027574752: 1, 1.005676062707641: 1, 1.0056829226578072: 1, 1.0056897826079736: 1, 1.0056966425581395: 1, 1.0057035025083054: 1, 1.0057103624584718: 1, 1.005717222408638: 1, 1.005724082358804: 1, 1.00573094230897: 1, 1.0057378022591363: 1, 1.0057446622093025: 1, 1.022593880856341: 1, 1.0225984911811206: 1, 1.0226031015059: 1, 1.0226077118306791: 1, 1.022612322155459: 1, 1.0226169324802383: 1, 1.0226215428050178: 1, 1.022626153129797: 1, 1.0226307634545768: 1, 1.0226353737793563: 1, 1.0226399841041358: 1, 1.022644594428915: 1, 1.0226492047536946: 1, 1.022653815078474: 1, 1.0226584254032538: 1, 1.0226630357280333: 1, 1.0226676460528126: 1, 1.022672256377592: 1, 1.0226768667023716: 1, 1.0226814770271508: 1, 1.0226860873519306: 1, 1.0226906976767098: 1, 1.0226953080014891: 1, 1.0226999183262688: 1, 1.0227045286510483: 1, 1.0227091389758276: 1, 1.022713749300607: 1, 1.0227183596253866: 1, 1.0227229699501659: 1, 1.0359650496918795: 1, 1.0359600516579532: 1, 1.0359550536240263: 1, 1.0359500555901: 1, 1.0359450575561733: 1, 1.035940059522247: 1, 1.0359350614883205: 1, 1.0359300634543938: 1, 1.035925065420467: 1, 1.0359200673865407: 1, 1.035915069352614: 1, 1.0359100713186875: 1, 1.0359050732847608: 1, 1.0359000752508345: 1, 1.0358950772169075: 1, 1.035890079182981: 1, 1.0358850811490543: 1, 1.035880083115128: 1, 1.0358750850812013: 1, 1.0358700870472748: 1, 1.0358650890133478: 1, 1.0358600909794218: 1, 1.035855092945495: 1, 1.0358500949115683: 1, 1.0358450968776416: 1, 1.0358400988437149: 1, 1.0358351008097886: 1, 1.035830102775862: 1, 1.0358251047419351: 1, 1.0530856461421698: 1, 1.0530839231979607: 1, 1.053082200253752: 1, 1.0530804773095428: 1, 1.0530787543653342: 1, 1.0530770314211249: 1, 1.053075308476916: 1, 1.0530735855327071: 1, 1.053071862588498: 1, 1.0530701396442892: 1, 1.05306841670008: 1, 1.0530666937558713: 1, 1.0530649708116622: 1, 1.053063247867453: 1, 1.0530615249232442: 1, 1.0530598019790354: 1, 1.0530580790348265: 1, 1.0530563560906174: 1, 1.0530546331464083: 1, 1.0530529102021997: 1, 1.0530511872579906: 1, 1.0530494643137815: 1, 1.053047741369573: 1, 1.0530460184253636: 1, 1.0530442954811547: 1, 1.0530425725369457: 1, 1.0530408495927368: 1, 1.0530391266485275: 1, 1.0530374037043189: 1, 1.069220898885897: 1, 1.0692205646820943: 1, 1.0692202304782903: 1, 1.0692198962744872: 1, 1.0692195620706841: 1, 1.0692192278668804: 1, 1.0692188936630769: 1, 1.0692185594592736: 1, 1.06921822525547: 1, 1.0692178910516668: 1, 1.0692175568478632: 1, 1.0692172226440602: 1, 1.0692168884402564: 1, 1.0692165542364531: 1, 1.0692162200326498: 1, 1.0692158858288463: 1, 1.0692155516250428: 1, 1.0692152174212397: 1, 1.069214883217436: 1, 1.0692145490136329: 1, 1.0692142148098291: 1, 1.0692138806060258: 1, 1.0692135464022223: 1, 1.0692132121984188: 1, 1.0692128779946155: 1, 1.0692125437908122: 1, 1.069212209587009: 1, 1.0692118753832054: 1, 1.069211541179402: 1, 1.0840816852898385: 1, 1.084094326310574: 1, 1.0841069673313093: 1, 1.084119608352045: 1, 1.0841322493727803: 1, 1.0841448903935158: 1, 1.0841575314142513: 1, 1.0841701724349868: 1, 1.0841828134557223: 1, 1.0841954544764578: 1, 1.084208095497193: 1, 1.0842207365179288: 1, 1.084233377538664: 1, 1.0842460185593996: 1, 1.0842586595801351: 1, 1.0842713006008706: 1, 1.084283941621606: 1, 1.0842965826423416: 1, 1.0843092236630774: 1, 1.0843218646838124: 1, 1.0843345057045484: 1, 1.0843471467252837: 1, 1.0843597877460192: 1, 1.0843724287667544: 1, 1.08438506978749: 1, 1.0843977108082257: 1, 1.084410351828961: 1, 1.084422992849697: 1, 1.0844356338704322: 1, 1.1040819110390652: 1, 1.104084132858861: 1, 1.1040863546786572: 1, 1.1040885764984534: 1, 1.1040907983182495: 1, 1.1040930201380457: 1, 1.1040952419578418: 1, 1.1040974637776375: 1, 1.104099685597434: 1, 1.10410190741723: 1, 1.1041041292370262: 1, 1.104106351056822: 1, 1.1041085728766182: 1, 1.1041107946964142: 1, 1.1041130165162103: 1, 1.1041152383360064: 1, 1.1041174601558026: 1, 1.1041196819755987: 1, 1.1041219037953949: 1, 1.1041241256151908: 1, 1.1041263474349872: 1, 1.1041285692547829: 1, 1.104130791074579: 1, 1.1041330128943752: 1, 1.1041352347141709: 1, 1.1041374565339672: 1, 1.1041396783537634: 1, 1.1041419001735593: 1, 1.1041441219933557: 1, 1.117275578801123: 1, 1.1172724344460994: 1, 1.1172692900910757: 1, 1.1172661457360522: 1, 1.117263001381029: 1, 1.1172598570260055: 1, 1.1172567126709818: 1, 1.117253568315958: 1, 1.1172504239609349: 1, 1.1172472796059116: 1, 1.117244135250888: 1, 1.1172409908958645: 1, 1.1172378465408408: 1, 1.1172347021858178: 1, 1.117231557830794: 1, 1.1172284134757704: 1, 1.117225269120747: 1, 1.1172221247657237: 1, 1.1172189804107: 1, 1.1172158360556763: 1, 1.1172126917006528: 1, 1.1172095473456296: 1, 1.117206402990606: 1, 1.1172032586355825: 1, 1.1172001142805592: 1, 1.1171969699255355: 1, 1.1171938255705125: 1, 1.1171906812154886: 1, 1.1171875368604651: 1, 1.1323003528118911: 1, 1.1322996494609925: 1, 1.1322989461100927: 1, 1.1322982427591934: 1, 1.132297539408294: 1, 1.1322968360573948: 1, 1.1322961327064955: 1, 1.1322954293555962: 1, 1.1322947260046972: 1, 1.1322940226537974: 1, 1.1322933193028983: 1, 1.132292615951999: 1, 1.1322919126010995: 1, 1.1322912092502004: 1, 1.1322905058993011: 1, 1.1322898025484018: 1, 1.1322890991975028: 1, 1.1322883958466032: 1, 1.1322876924957042: 1, 1.1322869891448046: 1, 1.1322862857939051: 1, 1.1322855824430058: 1, 1.1322848790921067: 1, 1.1322841757412074: 1, 1.132283472390308: 1, 1.1322827690394088: 1, 1.1322820656885093: 1, 1.1322813623376102: 1, 1.132280658986711: 1, 1.14772679343281: 1, 1.147723444523428: 1, 1.1477200956140452: 1, 1.1477167467046627: 1, 1.14771339779528: 1, 1.1477100488858976: 1, 1.1477066999765149: 1, 1.1477033510671328: 1, 1.14770000215775: 1, 1.1476966532483674: 1, 1.147693304338985: 1, 1.1476899554296025: 1, 1.1476866065202198: 1, 1.1476832576108371: 1, 1.147679908701455: 1, 1.1476765597920724: 1, 1.14767321088269: 1, 1.1476698619733072: 1, 1.147666513063925: 1, 1.1476631641545425: 1, 1.1476598152451598: 1, 1.1476564663357771: 1, 1.1476531174263949: 1, 1.1476497685170124: 1, 1.14764641960763: 1, 1.1476430706982472: 1, 1.1476397217888643: 1, 1.1476363728794825: 1, 1.1476330239700996: 1, 1.1617413209519991: 1, 1.1617476223026693: 1, 1.1617539236533396: 1, 1.1617602250040096: 1, 1.1617665263546797: 1, 1.1617728277053498: 1, 1.1617791290560202: 1, 1.1617854304066904: 1, 1.1617917317573605: 1, 1.1617980331080309: 1, 1.1618043344587008: 1, 1.161810635809371: 1, 1.1618169371600413: 1, 1.1618232385107117: 1, 1.1618295398613816: 1, 1.1618358412120515: 1, 1.1618421425627217: 1, 1.161848443913392: 1, 1.1618547452640624: 1, 1.1618610466147323: 1, 1.1618673479654027: 1, 1.1618736493160726: 1, 1.1618799506667428: 1, 1.1618862520174131: 1, 1.1618925533680833: 1, 1.1618988547187534: 1, 1.1619051560694236: 1, 1.1619114574200942: 1, 1.161917758770764: 1, 1.1755619505390076: 1, 1.1755656173570856: 1, 1.1755692841751633: 1, 1.1755729509932409: 1, 1.1755766178113185: 1, 1.1755802846293963: 1, 1.175583951447474: 1, 1.1755876182655514: 1, 1.1755912850836294: 1, 1.175594951901707: 1, 1.1755986187197844: 1, 1.1756022855378625: 1, 1.17560595235594: 1, 1.1756096191740173: 1, 1.1756132859920951: 1, 1.175616952810173: 1, 1.1756206196282506: 1, 1.1756242864463284: 1, 1.175627953264406: 1, 1.1756316200824837: 1, 1.1756352869005615: 1, 1.1756389537186391: 1, 1.1756426205367168: 1, 1.1756462873547946: 1, 1.175649954172872: 1, 1.1756536209909496: 1, 1.1756572878090277: 1, 1.1756609546271048: 1, 1.1756646214451827: 1, 1.190852712725398: 1, 1.1908573022614275: 1, 1.190861891797457: 1, 1.1908664813334862: 1, 1.1908710708695154: 1, 1.1908756604055446: 1, 1.1908802499415745: 1, 1.1908848394776037: 1, 1.190889429013633: 1, 1.190894018549662: 1, 1.1908986080856916: 1, 1.1909031976217208: 1, 1.19090778715775: 1, 1.1909123766937797: 1, 1.1909169662298091: 1, 1.190921555765838: 1, 1.1909261453018674: 1, 1.1909307348378966: 1, 1.190935324373926: 1, 1.1909399139099552: 1, 1.190944503445985: 1, 1.1909490929820141: 1, 1.1909536825180431: 1, 1.1909582720540726: 1, 1.1909628615901018: 1, 1.1909674511261312: 1, 1.190972040662161: 1, 1.19097663019819: 1, 1.190981219734219: 1, 1.2068889436092336: 1, 1.2068897786968722: 1, 1.2068906137845117: 1, 1.2068914488721505: 1, 1.206892283959789: 1, 1.206893119047428: 1, 1.2068939541350672: 1, 1.2068947892227058: 1, 1.2068956243103446: 1, 1.2068964593979836: 1, 1.2068972944856224: 1, 1.2068981295732617: 1, 1.2068989646609003: 1, 1.2068997997485391: 1, 1.2069006348361784: 1, 1.2069014699238172: 1, 1.2069023050114562: 1, 1.2069031400990948: 1, 1.206903975186734: 1, 1.206904810274373: 1, 1.206905645362012: 1, 1.2069064804496508: 1, 1.2069073155372894: 1, 1.2069081506249286: 1, 1.2069089857125674: 1, 1.2069098208002065: 1, 1.206910655887845: 1, 1.206911490975484: 1, 1.2069123260631232: 1, 1.2196541356398214: 1, 1.2196473159640278: 1, 1.2196404962882346: 1, 1.2196336766124414: 1, 1.219626856936648: 1, 1.2196200372608546: 1, 1.2196132175850611: 1, 1.2196063979092682: 1, 1.2195995782334743: 1, 1.2195927585576811: 1, 1.2195859388818882: 1, 1.2195791192060943: 1, 1.219572299530301: 1, 1.2195654798545081: 1, 1.2195586601787147: 1, 1.219551840502921: 1, 1.219545020827128: 1, 1.2195382011513347: 1, 1.2195313814755415: 1, 1.219524561799748: 1, 1.2195177421239545: 1, 1.2195109224481613: 1, 1.2195041027723679: 1, 1.2194972830965745: 1, 1.2194904634207813: 1, 1.219483643744988: 1, 1.2194768240691949: 1, 1.2194700043934013: 1, 1.2194631847176078: 1, 1.231234276933211: 1, 1.2312371206106083: 1, 1.2312399642880056: 1, 1.2312428079654028: 1, 1.2312456516428: 1, 1.231248495320197: 1, 1.2312513389975939: 1, 1.2312541826749914: 1, 1.2312570263523888: 1, 1.2312598700297857: 1, 1.2312627137071828: 1, 1.23126555738458: 1, 1.2312684010619772: 1, 1.2312712447393743: 1, 1.2312740884167717: 1, 1.231276932094169: 1, 1.2312797757715659: 1, 1.231282619448963: 1, 1.2312854631263603: 1, 1.2312883068037577: 1, 1.2312911504811548: 1, 1.2312939941585517: 1, 1.231296837835949: 1, 1.2312996815133463: 1, 1.2313025251907437: 1, 1.2313053688681408: 1, 1.2313082125455377: 1, 1.2313110562229348: 1, 1.231313899900332: 1, 0.9412671957088432: 1, 0.9412688664467186: 1, 0.941270537184594: 1, 0.9412722079224696: 1, 0.9412738786603448: 1, 0.9412755493982204: 1, 0.9412772201360956: 1, 0.9412788908739712: 1, 0.9412805616118464: 1, 0.941282232349722: 1, 0.9412839030875974: 1, 0.9412855738254728: 1, 0.941287244563348: 1, 0.9412889153012236: 1, 0.9412905860390991: 1, 0.9412922567769744: 1, 0.94129392751485: 1, 0.9412955982527254: 1, 0.9412972689906004: 1, 0.941298939728476: 1, 0.9413006104663516: 1, 0.9413022812042268: 1, 0.9413039519421024: 1, 0.941305622679978: 1, 0.9413072934178532: 1, 0.9413089641557284: 1, 0.9413106348936041: 1, 0.9413123056314794: 1, 0.9413139763693548: 1, 0.9450079895568964: 1, 0.9450153888460512: 1, 0.9450227881352058: 1, 0.9450301874243604: 1, 0.9450375867135151: 1, 0.9450449860026696: 1, 0.9450523852918242: 1, 0.9450597845809788: 1, 0.9450671838701336: 1, 0.945074583159288: 1, 0.9450819824484428: 1, 0.9450893817375974: 1, 0.9450967810267521: 1, 0.9451041803159066: 1, 0.9451115796050612: 1, 0.9451189788942158: 1, 0.9451263781833704: 1, 0.9451337774725251: 1, 0.9451411767616796: 1, 0.9451485760508342: 1, 0.9451559753399891: 1, 0.9451633746291436: 1, 0.945170773918298: 1, 0.9451781732074528: 1, 0.9451855724966072: 1, 0.945192971785762: 1, 0.9452003710749164: 1, 0.9452077703640712: 1, 0.9452151696532258: 1, 0.9672087157224696: 1, 0.9672201253868744: 1, 0.9672315350512792: 1, 0.9672429447156842: 1, 0.9672543543800888: 1, 0.967265764044494: 1, 0.967277173708899: 1, 0.9672885833733036: 1, 0.9672999930377086: 1, 0.9673114027021134: 1, 0.9673228123665184: 1, 0.9673342220309232: 1, 0.9673456316953282: 1, 0.9673570413597329: 1, 0.9673684510241378: 1, 0.9673798606885428: 1, 0.9673912703529478: 1, 0.9674026800173526: 1, 0.9674140896817576: 1, 0.9674254993461624: 1, 0.9674369090105672: 1, 0.9674483186749724: 1, 0.9674597283393768: 1, 0.967471138003782: 1, 0.967482547668187: 1, 0.9674939573325916: 1, 0.9675053669969966: 1, 0.9675167766614016: 1, 0.9675281863258064: 1, 0.9862514148067854: 1, 0.9862372062926028: 1, 0.9862229977784206: 1, 0.9862087892642378: 1, 0.9861945807500556: 1, 0.9861803722358732: 1, 0.9861661637216907: 1, 0.9861519552075084: 1, 0.986137746693326: 1, 0.9861235381791436: 1, 0.9861093296649612: 1, 0.9860951211507786: 1, 0.9860809126365964: 1, 0.9860667041224138: 1, 0.9860524956082314: 1, 0.9860382870940491: 1, 0.9860240785798666: 1, 0.9860098700656842: 1, 0.9859956615515016: 1, 0.9859814530373192: 1, 0.9859672445231368: 1, 0.9859530360089545: 1, 0.985938827494772: 1, 0.9859246189805896: 1, 0.9859104104664071: 1, 0.9858962019522248: 1, 0.9858819934380424: 1, 0.98586778492386: 1, 0.9858535764096774: 1, 1.0024957931729699: 1, 1.002495779974972: 1, 1.0024957667769745: 1, 1.0024957535789767: 1, 1.0024957403809789: 1, 1.0024957271829809: 1, 1.0024957139849833: 1, 1.0024957007869857: 1, 1.0024956875889877: 1, 1.00249567439099: 1, 1.0024956611929925: 1, 1.0024956479949945: 1, 1.0024956347969969: 1, 1.0024956215989989: 1, 1.002495608401001: 1, 1.0024955952030037: 1, 1.0024955820050057: 1, 1.0024955688070076: 1, 1.0024955556090098: 1, 1.0024955424110122: 1, 1.0024955292130144: 1, 1.0024955160150166: 1, 1.0024955028170188: 1, 1.002495489619021: 1, 1.0024954764210234: 1, 1.0024954632230256: 1, 1.0024954500250276: 1, 1.00249543682703: 1, 1.0024954236290322: 1, 1.0167227120550608: 1, 1.016724420029477: 1, 1.0167261280038933: 1, 1.0167278359783092: 1, 1.0167295439527249: 1, 1.0167312519271414: 1, 1.016732959901557: 1, 1.0167346678759732: 1, 1.0167363758503891: 1, 1.0167380838248052: 1, 1.0167397917992214: 1, 1.0167414997736377: 1, 1.0167432077480534: 1, 1.0167449157224695: 1, 1.0167466236968854: 1, 1.0167483316713013: 1, 1.0167500396457174: 1, 1.0167517476201335: 1, 1.0167534555945494: 1, 1.0167551635689656: 1, 1.0167568715433817: 1, 1.0167585795177974: 1, 1.0167602874922137: 1, 1.0167619954666296: 1, 1.0167637034410455: 1, 1.0167654114154616: 1, 1.0167671193898775: 1, 1.016768827364294: 1, 1.0167705353387098: 1, 1.0315364024182423: 1, 1.0315338952074526: 1, 1.031531387996663: 1, 1.0315288807858731: 1, 1.0315263735750837: 1, 1.0315238663642938: 1, 1.0315213591535042: 1, 1.0315188519427143: 1, 1.0315163447319244: 1, 1.0315138375211346: 1, 1.0315113303103447: 1, 1.031508823099555: 1, 1.0315063158887654: 1, 1.0315038086779755: 1, 1.031501301467186: 1, 1.031498794256396: 1, 1.0314962870456064: 1, 1.0314937798348165: 1, 1.0314912726240266: 1, 1.031488765413237: 1, 1.031486258202447: 1, 1.0314837509916577: 1, 1.0314812437808676: 1, 1.031478736570078: 1, 1.0314762293592878: 1, 1.0314737221484984: 1, 1.0314712149377083: 1, 1.0314687077269191: 1, 1.031466200516129: 1, 1.0464332757997776: 1, 1.0464329792447162: 1, 1.046432682689655: 1, 1.046432386134594: 1, 1.0464320895795327: 1, 1.046431793024471: 1, 1.0464314964694106: 1, 1.0464311999143492: 1, 1.046430903359288: 1, 1.0464306068042268: 1, 1.0464303102491657: 1, 1.0464300136941045: 1, 1.0464297171390435: 1, 1.046429420583982: 1, 1.0464291240289207: 1, 1.0464288274738598: 1, 1.0464285309187986: 1, 1.0464282343637374: 1, 1.0464279378086758: 1, 1.046427641253615: 1, 1.0464273446985541: 1, 1.0464270481434923: 1, 1.0464267515884316: 1, 1.0464264550333702: 1, 1.0464261584783092: 1, 1.0464258619232478: 1, 1.0464255653681869: 1, 1.0464252688131257: 1, 1.0464249722580643: 1, 1.0599562421573971: 1, 1.059956216540601: 1, 1.0599561909238042: 1, 1.0599561653070078: 1, 1.0599561396902113: 1, 1.0599561140734148: 1, 1.0599560884566184: 1, 1.059956062839822: 1, 1.0599560372230257: 1, 1.0599560116062292: 1, 1.0599559859894327: 1, 1.0599559603726365: 1, 1.0599559347558398: 1, 1.0599559091390434: 1, 1.0599558835222471: 1, 1.0599558579054504: 1, 1.059955832288654: 1, 1.0599558066718575: 1, 1.0599557810550608: 1, 1.0599557554382646: 1, 1.0599557298214684: 1, 1.059955704204672: 1, 1.0599556785878754: 1, 1.059955652971079: 1, 1.0599556273542825: 1, 1.059955601737486: 1, 1.0599555761206896: 1, 1.0599555505038931: 1, 1.0599555248870969: 1, 1.074651519807008: 1, 1.074653748823693: 1, 1.074655977840378: 1, 1.0746582068570634: 1, 1.0746604358737486: 1, 1.0746626648904338: 1, 1.0746648939071193: 1, 1.0746671229238045: 1, 1.0746693519404895: 1, 1.0746715809571747: 1, 1.0746738099738598: 1, 1.074676038990545: 1, 1.0746782680072302: 1, 1.0746804970239154: 1, 1.0746827260406009: 1, 1.074684955057286: 1, 1.0746871840739711: 1, 1.0746894130906564: 1, 1.0746916421073416: 1, 1.0746938711240266: 1, 1.0746961001407118: 1, 1.074698329157397: 1, 1.074700558174082: 1, 1.0747027871907675: 1, 1.0747050162074527: 1, 1.074707245224138: 1, 1.0747094742408232: 1, 1.0747117032575084: 1, 1.0747139322741934: 1, 1.0892003043926584: 1, 1.0891992450111236: 1, 1.0891981856295885: 1, 1.0891971262480535: 1, 1.0891960668665184: 1, 1.0891950074849834: 1, 1.0891939481034485: 1, 1.089192888721913: 1, 1.0891918293403782: 1, 1.0891907699588432: 1, 1.0891897105773078: 1, 1.0891886511957731: 1, 1.089187591814238: 1, 1.089186532432703: 1, 1.089185473051168: 1, 1.089184413669633: 1, 1.0891833542880978: 1, 1.0891822949065628: 1, 1.0891812355250277: 1, 1.0891801761434927: 1, 1.0891791167619578: 1, 1.0891780573804226: 1, 1.0891769979988877: 1, 1.0891759386173527: 1, 1.0891748792358174: 1, 1.0891738198542824: 1, 1.0891727604727472: 1, 1.0891717010912123: 1, 1.0891706417096774: 1, 1.1035497404632926: 1, 1.1035497952814235: 1, 1.1035498500995549: 1, 1.1035499049176865: 1, 1.1035499597358176: 1, 1.1035500145539483: 1, 1.1035500693720801: 1, 1.1035501241902113: 1, 1.1035501790083424: 1, 1.1035502338264738: 1, 1.103550288644605: 1, 1.1035503434627365: 1, 1.1035503982808677: 1, 1.1035504530989988: 1, 1.10355050791713: 1, 1.103550562735261: 1, 1.1035506175533925: 1, 1.1035506723715236: 1, 1.1035507271896552: 1, 1.1035507820077866: 1, 1.1035508368259177: 1, 1.103550891644049: 1, 1.1035509464621804: 1, 1.1035510012803114: 1, 1.1035510560984427: 1, 1.103551110916574: 1, 1.1035511657347052: 1, 1.1035512205528366: 1, 1.1035512753709678: 1, 1.1185186836006673: 1, 1.1185271573142381: 1, 1.1185356310278085: 1, 1.118544104741379: 1, 1.11855257845495: 1, 1.1185610521685208: 1, 1.1185695258820914: 1, 1.1185779995956615: 1, 1.1185864733092326: 1, 1.1185949470228032: 1, 1.1186034207363738: 1, 1.1186118944499446: 1, 1.118620368163515: 1, 1.1186288418770856: 1, 1.1186373155906564: 1, 1.118645789304227: 1, 1.1186542630177974: 1, 1.118662736731368: 1, 1.1186712104449388: 1, 1.1186796841585094: 1, 1.11868815787208: 1, 1.1186966315856506: 1, 1.1187051052992212: 1, 1.118713579012792: 1, 1.1187220527263628: 1, 1.1187305264399334: 1, 1.1187390001535042: 1, 1.1187474738670744: 1, 1.1187559475806452: 1, 1.1327664031273637: 1, 1.1327649141095664: 1, 1.1327634250917689: 1, 1.1327619360739714: 1, 1.1327604470561736: 1, 1.132758958038376: 1, 1.1327574690205784: 1, 1.132755980002781: 1, 1.1327544909849836: 1, 1.132753001967186: 1, 1.132751512949388: 1, 1.1327500239315906: 1, 1.132748534913793: 1, 1.1327470458959954: 1, 1.132745556878198: 1, 1.1327440678604004: 1, 1.1327425788426029: 1, 1.1327410898248054: 1, 1.1327396008070076: 1, 1.1327381117892104: 1, 1.1327366227714126: 1, 1.1327351337536151: 1, 1.1327336447358176: 1, 1.13273215571802: 1, 1.1327306667002226: 1, 1.132729177682425: 1, 1.1327276886646274: 1, 1.13272619964683: 1, 1.1327247106290323: 1, 1.1470363942936594: 1, 1.1470478221840936: 1, 1.1470592500745271: 1, 1.1470706779649609: 1, 1.147082105855395: 1, 1.1470935337458286: 1, 1.1471049616362623: 1, 1.1471163895266965: 1, 1.1471278174171298: 1, 1.1471392453075642: 1, 1.1471506731979977: 1, 1.1471621010884316: 1, 1.1471735289788654: 1, 1.147184956869299: 1, 1.1471963847597328: 1, 1.1472078126501666: 1, 1.1472192405406008: 1, 1.1472306684310345: 1, 1.1472420963214682: 1, 1.1472535242119022: 1, 1.147264952102336: 1, 1.1472763799927697: 1, 1.1472878078832036: 1, 1.1472992357736371: 1, 1.147310663664071: 1, 1.1473220915545048: 1, 1.1473335194449388: 1, 1.1473449473353727: 1, 1.1473563752258062: 1, 1.1607149149321467: 1, 1.1607161118642937: 1, 1.1607173087964406: 1, 1.1607185057285874: 1, 1.1607197026607343: 1, 1.1607208995928808: 1, 1.1607220965250278: 1, 1.1607232934571747: 1, 1.1607244903893217: 1, 1.1607256873214682: 1, 1.1607268842536151: 1, 1.160728081185762: 1, 1.1607292781179086: 1, 1.1607304750500558: 1, 1.1607316719822025: 1, 1.1607328689143497: 1, 1.1607340658464962: 1, 1.1607352627786427: 1, 1.16073645971079: 1, 1.1607376566429366: 1, 1.160738853575083: 1, 1.1607400505072305: 1, 1.1607412474393772: 1, 1.1607424443715242: 1, 1.160743641303671: 1, 1.1607448382358176: 1, 1.1607460351679646: 1, 1.160747232100111: 1, 1.160748429032258: 1, 1.1752582651551724: 1, 1.1752547501006674: 1, 1.1752512350461624: 1, 1.1752477199916571: 1, 1.1752442049371523: 1, 1.1752406898826475: 1, 1.1752371748281425: 1, 1.1752336597736368: 1, 1.1752301447191325: 1, 1.1752266296646274: 1, 1.1752231146101224: 1, 1.1752195995556174: 1, 1.1752160845011124: 1, 1.1752125694466071: 1, 1.1752090543921023: 1, 1.1752055393375973: 1, 1.1752020242830925: 1, 1.1751985092285877: 1, 1.1751949941740822: 1, 1.1751914791195772: 1, 1.1751879640650724: 1, 1.1751844490105674: 1, 1.1751809339560624: 1, 1.1751774189015571: 1, 1.1751739038470523: 1, 1.175170388792547: 1, 1.1751668737380423: 1, 1.1751633586835373: 1, 1.1751598436290325: 1, 1.1955277469154617: 1, 1.1955136750728588: 1, 1.1954996032302556: 1, 1.195485531387653: 1, 1.1954714595450495: 1, 1.1954573877024472: 1, 1.1954433158598439: 1, 1.1954292440172414: 1, 1.1954151721746384: 1, 1.1954011003320355: 1, 1.1953870284894326: 1, 1.19537295664683: 1, 1.1953588848042267: 1, 1.1953448129616242: 1, 1.1953307411190213: 1, 1.1953166692764183: 1, 1.1953025974338154: 1, 1.1952885255912125: 1, 1.1952744537486095: 1, 1.1952603819060066: 1, 1.195246310063404: 1, 1.1952322382208012: 1, 1.195218166378198: 1, 1.195204094535595: 1, 1.1951900226929923: 1, 1.1951759508503894: 1, 1.1951618790077867: 1, 1.195147807165183: 1, 1.1951337353225808: 1, 1.2043284417185762: 1, 1.204331318179088: 1, 1.2043341946395996: 1, 1.2043370711001111: 1, 1.2043399475606231: 1, 1.204342824021135: 1, 1.204345700481646: 1, 1.2043485769421578: 1, 1.2043514534026696: 1, 1.2043543298631811: 1, 1.2043572063236927: 1, 1.2043600827842051: 1, 1.2043629592447165: 1, 1.204365835705228: 1, 1.2043687121657398: 1, 1.2043715886262516: 1, 1.2043744650867632: 1, 1.2043773415472747: 1, 1.2043802180077865: 1, 1.2043830944682978: 1, 1.2043859709288098: 1, 1.2043888473893214: 1, 1.2043917238498332: 1, 1.204394600310345: 1, 1.2043974767708563: 1, 1.2044003532313683: 1, 1.2044032296918799: 1, 1.2044061061523914: 1, 1.2044089826129032: 1, 1.2207772384160178: 1, 1.2207657568159065: 1, 1.2207542752157952: 1, 1.2207427936156838: 1, 1.220731312015573: 1, 1.2207198304154616: 1, 1.2207083488153505: 1, 1.2206968672152392: 1, 1.2206853856151276: 1, 1.2206739040150167: 1, 1.2206624224149056: 1, 1.220650940814794: 1, 1.220639459214683: 1, 1.2206279776145716: 1, 1.2206164960144603: 1, 1.220605014414349: 1, 1.220593532814238: 1, 1.2205820512141268: 1, 1.2205705696140154: 1, 1.2205590880139046: 1, 1.2205476064137932: 1, 1.2205361248136821: 1, 1.2205246432135708: 1, 1.2205131616134597: 1, 1.220501680013348: 1, 1.2204901984132368: 1, 1.220478716813126: 1, 1.2204672352130144: 1, 1.2204557536129033: 1, 1.2317746066918798: 1, 1.231779760803115: 1, 1.2317849149143494: 1, 1.231790069025584: 1, 1.2317952231368186: 1, 1.2318003772480537: 1, 1.2318055313592882: 1, 1.2318106854705229: 1, 1.2318158395817578: 1, 1.2318209936929922: 1, 1.2318261478042272: 1, 1.2318313019154614: 1, 1.2318364560266963: 1, 1.231841610137931: 1, 1.2318467642491655: 1, 1.2318519183604004: 1, 1.2318570724716351: 1, 1.2318622265828698: 1, 1.2318673806941045: 1, 1.2318725348053392: 1, 1.231877688916574: 1, 1.2318828430278086: 1, 1.2318879971390433: 1, 1.2318931512502782: 1, 1.231898305361513: 1, 1.2319034594727474: 1, 1.2319086135839818: 1, 1.231913767695217: 1, 1.2319189218064517: 1})\n",
            "Train labels distribution: Counter({0.9961069150015504: 1, 1.1757398800126018: 1, 0.9408691456110664: 1, 1.2312598700297857: 1, 0.9674140896817576: 1, 1.1041441219933557: 1, 1.2109045589933558: 1, 1.2290886756043071: 1, 0.948583169289544: 1, 1.071214043235193: 1, 1.1030629417510596: 1, 0.9451337774725251: 1, 1.1041174601558026: 1, 1.204365835705228: 1, 1.204331318179088: 1, 0.9487438507961392: 1, 0.9693754786892658: 1, 0.940721614597785: 1, 0.9605130847646349: 1, 1.1186373155906564: 1, 1.1952744537486095: 1, 1.1472763799927697: 1, 0.9409800444320656: 1, 1.231790069025584: 1, 1.1353326198000917: 1, 0.9527859448429948: 1, 1.0599555505038931: 1, 0.9672087157224696: 1, 1.2205476064137932: 1, 0.9487911118635582: 1, 1.2312541826749914: 1, 0.969205245300167: 1, 1.1353166217115358: 1, 1.016732959901557: 1, 1.0599561396902113: 1, 1.0167312519271414: 1, 0.9860240785798666: 1, 0.9451263781833704: 1, 0.967277173708899: 1, 1.2235622084173448: 1, 1.0836678683488372: 1, 0.9859672445231368: 1, 1.0845473100830565: 1, 1.220605014414349: 1, 1.0746604358737486: 1, 1.0358750850812013: 1, 1.0712902423129798: 1, 0.9527882464956466: 1, 0.9608283265765838: 1, 1.03574066411731: 1, 0.9593953829219268: 1, 1.0315364024182423: 1, 0.9449490679812692: 1, 1.1515699469962195: 1, 1.00249567439099: 1, 1.2043485769421578: 1, 0.9413039519421024: 1, 0.9409675094374498: 1, 1.1670585402663345: 1, 0.9691153915184649: 1, 1.1052932976824377: 1, 1.011241868905869: 1, 1.2235636892502002: 1, 1.221343368331424: 1, 0.9790189761930232: 1, 1.2312996815133463: 1, 0.9409647238830908: 1, 0.9691139607805896: 1, 1.147723444523428: 1, 1.0112272262613509: 1, 0.9902951489990264: 1, 1.1951337353225808: 1, 1.135343285192462: 1, 1.1148306401116963: 1, 1.0112540711096345: 1, 1.0167346678759732: 1, 1.167056489160022: 1, 0.94857957985495: 1, 1.1670664028405315: 1, 0.9691325603729699: 1, 1.2235548042530642: 1, 1.0464252688131257: 1, 1.1187247324252492: 1, 1.210949236860465: 1, 1.2206164960144603: 1, 1.0836719374651165: 1, 1.2206853856151276: 1, 0.9903959289080649: 1, 0.9449425528631572: 1, 1.2069006348361784: 1, 1.0845709250458242: 1, 1.1670616169258028: 1, 0.980543035425994: 1, 1.1755912850836294: 1, 1.0836597301162791: 1, 1.1752442049371523: 1, 1.104099685597434: 1, 0.9805177688582312: 1, 0.9594409680746936: 1, 1.2069014699238172: 1, 1.1185356310278085: 1, 1.1187250100099666: 1, 1.0167671193898775: 1, 1.2110088073499448: 1, 1.1312202115265206: 1, 1.1148266986344368: 1, 0.9608136811428: 1, 1.1756536209909496: 1, 1.1322890991975028: 1, 1.0747027871907675: 1, 1.0712292830507504: 1, 0.9673342220309232: 1, 1.1606581389844195: 1, 0.9692679628645718: 1, 1.0692118753832054: 1, 1.2068906137845117: 1, 1.1172189804107: 1, 0.990387530582312: 1, 1.219572299530301: 1, 0.9412922567769744: 1, 1.035716304900905: 1, 1.0055868833554815: 1, 1.0842460185593996: 1, 1.0063507847416655: 1, 0.9407744900552604: 1, 1.2213776943252377: 1, 1.1052393511868486: 1, 1.005662342807309: 1, 0.9904463188625844: 1, 1.0464267515884316: 1, 1.0112613924318936: 1, 1.1606728459061748: 1, 1.2044089826129032: 1, 1.1476765597920724: 1, 1.2069081506249286: 1, 1.0692138806060258: 1, 1.1322883958466032: 1, 1.0357386341826096: 1, 0.9412688664467186: 1, 1.0167534555945494: 1, 1.2068889436092336: 1, 1.228983061535113: 1, 1.1952322382208012: 1, 1.0746582068570634: 1, 1.1476497685170124: 1, 1.0836705810930232: 1, 1.1515604332810174: 1, 0.9904211238853248: 1, 1.0843977108082257: 1, 1.1035501790083424: 1, 1.0891822949065628: 1, 1.0530425725369457: 1, 1.190972040662161: 1, 1.2109194516157256: 1, 0.9903539372792988: 1, 1.1751949941740822: 1, 1.1471621010884316: 1, 0.9607306903513576: 1, 1.1052730677465918: 1, 0.952787479278096: 1, 0.9691482984895996: 1, 1.005717222408638: 1, 1.0464255653681869: 1, 1.0530580790348265: 1, 1.2213296379338985: 1, 1.0167602874922137: 1, 1.1607197026607343: 1, 0.9805329287988888: 1, 1.1040863546786572: 1, 1.1322996494609925: 1, 0.9605136534809828: 1, 1.2109790221052048: 1, 1.2030076151025315: 1, 0.9449474392017414: 1, 1.0358650890133478: 1, 1.2108971126821708: 1, 1.17560595235594: 1, 1.0112077027353266: 1, 1.1757357480364303: 1, 0.9691254066835928: 1, 1.0112321071428572: 1, 0.9409758661005271: 1, 0.9691125300427142: 1, 1.161810635809371: 1, 1.1030683495818534: 1, 1.0200204985920496: 1, 1.0543642117917291: 1, 1.0836773629534884: 1, 1.0358500949115683: 1, 0.9859246189805896: 1, 1.1148450921949822: 1, 0.9928951705772712: 1, 0.9691397140623472: 1, 1.132297539408294: 1, 0.9605096724665484: 1, 0.9694023576454396: 1, 1.0359000752508345: 1, 1.135359283281017: 1, 1.1041263474349872: 1, 0.9409223426480696: 1, 0.948571204507564: 1, 1.0692178910516668: 1, 1.160728081185762: 1, 1.1040819110390652: 1, 1.1515667757578187: 1, 0.9814640429823004: 1, 0.9861093296649612: 1, 1.195147807165183: 1, 1.2044032296918799: 1, 1.1035508368259177: 1, 1.2069089857125674: 1, 1.2206624224149056: 1, 1.0692142148098291: 1, 1.0226999183262688: 1, 1.2291432645377478: 1, 1.0712353789769733: 1, 1.1670588821173866: 1, 1.0891738198542824: 1, 1.0845665519045709: 1, 1.2030381242444723: 1, 1.2291842062378282: 1, 1.1953327366345514: 1, 0.9413022812042268: 1, 1.2110609315282392: 1, 1.1476986574189485: 1, 1.1041396783537634: 1, 1.160748429032258: 1, 1.1322940226537974: 1, 1.1477066999765149: 1, 1.084571799674075: 1, 1.2291205191488142: 1, 1.1035507271896552: 1, 1.0599562421573971: 1, 1.2195791192060943: 1, 0.9862372062926028: 1, 0.9673596546059686: 1, 0.9451041803159066: 1, 1.2069023050114562: 1, 1.2289873089723908: 1, 1.1908986080856916: 1, 0.944935494818536: 1, 1.0055594435548172: 1, 1.2213570987289497: 1, 1.1477018389506244: 1, 0.9487582345992668: 1, 1.1607120643641884: 1, 1.0530374037043189: 1, 0.9450597845809788: 1, 1.011229666702104: 1, 1.1322813623376102: 1, 1.132751512949388: 1, 1.118662736731368: 1, 0.980507662231126: 1, 1.074684955057286: 1, 1.0226215428050178: 1, 1.0530511872579906: 1, 1.0315263735750837: 1, 1.0315188519427143: 1, 1.131398033060488: 1, 1.0599559859894327: 1, 0.9409716877689884: 1, 1.1617728277053498: 1, 1.2043370711001111: 1, 0.9449409240836292: 1, 1.0845543071090618: 1, 1.0836583737441858: 1, 0.9928465971485853: 1, 1.2069064804496508: 1, 1.135305956319166: 1, 1.2289788140978348: 1, 1.2291751080822546: 1, 1.203022869673502: 1, 0.9805278754853364: 1, 1.0530804773095428: 1, 1.20299671898041: 1, 1.0314762293592878: 1, 1.1954151721746384: 1, 0.959512601886184: 1, 0.9450153888460512: 1, 0.9449441816426852: 1, 1.231913767695217: 1, 1.2109417905492803: 1, 1.1617413209519991: 1, 1.0024955820050057: 1, 1.0746916421073416: 1, 1.2195313814755415: 1, 1.1322933193028983: 1, 1.1954292440172414: 1, 1.2235646764721044: 1, 0.9691296988972192: 1, 1.019963538441975: 1, 0.9449447245691946: 1, 1.1756096191740173: 1, 0.9903287423020392: 1, 1.006335752192691: 1, 0.9449458104222132: 1, 1.1312606255115132: 1, 1.1909123766937797: 1, 0.9595516748742696: 1, 1.1172661457360522: 1, 1.190852712725398: 1, 0.959401895086608: 1, 0.9527878628868712: 1, 1.1477241096723567: 1, 0.9412738786603448: 1, 0.9805455620827704: 1, 1.0843218646838124: 1, 0.9607355721626188: 1, 1.132745556878198: 1, 1.2318622265828698: 1, 1.219483643744988: 1, 0.9814191746288234: 1, 0.9672977082084432: 1, 1.1618799506667428: 1, 0.9805632486802038: 1, 1.1607268842536151: 1, 0.9693396400810343: 1, 1.084233377538664: 1, 1.0712414749031962: 1, 1.0226584254032538: 1, 0.9903119456505328: 1, 0.9814092038836064: 1, 1.1755692841751633: 1, 1.195272440780731: 1, 1.2213479451305993: 1, 1.1187249483244741: 1, 1.0359600516579532: 1, 1.0055525836046513: 1, 1.1757419460006873: 1, 1.1477200956140452: 1, 0.9691339911108454: 1, 1.105316899274258: 1, 1.103550288644605: 1, 1.0167705353387098: 1, 1.1757192201317448: 1, 1.1670575147131779: 1, 1.1955277469154617: 1, 1.135348617888647: 1, 1.0845534324808108: 1, 0.9407372814: 1, 0.945074583159288: 1, 1.2312712447393743: 1, 1.0167380838248052: 1, 1.1515477483274146: 1, 0.9449506967607972: 1, 0.9789657283543742: 1, 1.1670633261810632: 1, 1.0167568715433817: 1, 1.195362884561462: 1, 0.9608332083878453: 1, 1.2235562850859203: 1, 1.059955832288654: 1, 1.0111979409723146: 1, 1.0063479661387331: 1, 1.0024957667769745: 1, 0.960755099407664: 1, 1.1757295500721734: 1, 0.9594670167334176: 1, 1.0712445228663077: 1, 0.9450893817375974: 1, 0.9605093881083744: 1, 1.2289650099266811: 1, 0.9694113172974972: 1, 1.058878501973422: 1, 1.1187248557962346: 1, 1.0227229699501659: 1, 1.1322876924957042: 1, 1.084569175789323: 1, 0.9961095285420266: 1, 1.0063432684671785: 1, 0.9693665190372079: 1, 1.1035506723715236: 1, 1.0712932902760912: 1, 1.1606630412916712: 1, 0.9928437398880742: 1, 1.054363953755871: 1, 0.9692142049522248: 1, 1.160682650520678: 1, 1.1755876182655514: 1, 1.1757522759411159: 1, 1.104084132858861: 1, 1.0358950772169075: 1, 1.058883070675526: 1, 1.05888763937763: 1, 1.1312040459325237: 1, 1.1032035453517008: 1, 0.9451411767616796: 1, 0.9805657753369802: 1, 0.9485747939421579: 1, 0.960769744841448: 1, 1.006352663810287: 1, 1.1954714595450495: 1, 0.9605125160482872: 1, 1.1035512205528366: 1, 1.206905645362012: 1, 1.1954996032302556: 1, 1.046431793024471: 1, 1.2235641828611523: 1, 1.0836746502093024: 1, 1.1752406898826475: 1, 1.1952573668172757: 1, 1.1795929043637874: 1, 1.0543624055407264: 1, 1.2318158395817578: 1, 1.1752090543921023: 1, 0.99610760277536: 1, 1.0530494643137815: 1, 1.1795409790780729: 1, 0.9673803034051438: 1, 0.9485741957030588: 1, 0.9527936170185016: 1, 1.220478716813126: 1, 1.114849033672242: 1, 1.0226492047536946: 1, 1.1322954293555962: 1, 1.1477781957108486: 1, 0.9673228123665184: 1, 1.1618169371600413: 1, 1.2235567786968724: 1, 1.1477167467046627: 1, 0.9605145065555046: 1, 1.006340449864246: 1, 1.2213204843355479: 1, 1.2318467642491655: 1, 1.054366534114446: 1, 1.1030575339202655: 1, 0.9790221084188259: 1, 1.1187249174817275: 1, 1.022653815078474: 1, 0.9605088193920266: 1, 1.1751844490105674: 1, 1.2213365031326608: 1, 1.1476891128239202: 1, 1.2319034594727474: 1, 0.967482547668187: 1, 0.94494852505476: 1, 0.9409269684773742: 1, 0.9409661166602704: 1, 1.2318209936929922: 1, 1.0112345475836102: 1, 0.9409521888884752: 1, 1.1327366227714126: 1, 1.1031224278897929: 1, 1.0692162200326498: 1, 1.0199692344569826: 1, 1.1148161880284109: 1, 0.9485783833767522: 1, 1.1477100488858976: 1, 0.9672429447156842: 1, 1.2289862471130717: 1, 0.9451633746291436: 1, 1.1031278357205867: 1, 1.210852434815061: 1, 0.981478999100126: 1, 1.1670595658194904: 1, 1.1186288418770856: 1, 0.9407549065524916: 1, 1.1670626424789592: 1, 1.1752336597736368: 1, 0.9409038393308512: 1, 1.1322961327064955: 1, 1.2291569117711076: 1, 1.23126555738458: 1, 1.104106351056822: 1, 1.1607340658464962: 1, 1.1953025887076412: 1, 1.031531387996663: 1, 1.1185864733092326: 1, 1.0056692027574752: 1, 0.9527897809307482: 1, 1.0357284845091077: 1, 1.0588465210586937: 1, 1.2043974767708563: 1, 0.978946934999557: 1, 0.9928665979721618: 1, 0.948568811551168: 1, 0.9407686150044297: 1, 1.0358351008097886: 1, 1.2235602339735363: 1, 1.1607218689786918: 1, 1.0588762176223698: 1, 1.1470478221840936: 1, 1.219545020827128: 1, 1.1148345815889564: 1, 1.0056143231561463: 1, 1.0063489056730441: 1, 1.2043830944682978: 1, 1.0227183596253866: 1, 1.0167261280038933: 1, 1.0359500555901: 1, 0.9485777851376529: 1, 1.1618862520174131: 1, 0.9902699540217664: 1, 0.9412839030875974: 1, 1.1953176626710964: 1, 1.1472992357736371: 1, 1.0891812355250277: 1, 1.054366018042731: 1, 1.221350233530187: 1, 1.2043600827842051: 1, 1.1607316719822025: 1, 1.2043917238498332: 1, 1.2029945397559858: 1, 1.1757316160602589: 1, 1.1185610521685208: 1, 1.1172378465408408: 1, 1.1757481439649442: 1, 1.2291614608488948: 1, 1.0167414997736377: 1, 1.083666511976744: 1, 0.9904379205368312: 1, 1.2207657568159065: 1, 0.9595386505449078: 1, 1.2289692573639597: 1, 0.981404218510998: 1, 0.9449382094510826: 1, 1.0057035025083054: 1, 0.9451855724966072: 1, 0.9691239759457176: 1, 1.1041374565339672: 1, 1.0841828134557223: 1, 1.1516175155722306: 1, 1.0357396491499598: 1, 1.1515350633738113: 1, 1.1327619360739714: 1, 1.2205131616134597: 1, 1.2235597403625846: 1, 1.1606385297554132: 1, 1.13273215571802: 1, 1.2291023228376676: 1, 0.9487726184023942: 1, 0.9412671957088432: 1, 0.9904631155140908: 1, 1.0692152174212397: 1, 0.9903707339308054: 1, 1.1476866065202198: 1, 1.1909031976217208: 1, 1.1327544909849836: 1, 1.117225269120747: 1, 1.1909169662298091: 1, 0.952790931757074: 1, 1.1471735289788654: 1, 1.1353806140657576: 1, 1.0359300634543938: 1, 0.960784390275232: 1, 1.1477463803940886: 1, 1.1477033510671328: 1, 0.9805152422014549: 1, 0.9487602894282848: 1, 1.1516080018570285: 1, 1.2290932246820945: 1, 1.1313899502634897: 1, 1.1751914791195772: 1, 1.1953076133621259: 1, 1.1327381117892104: 1, 0.9595777235329936: 1, 0.9407588232530456: 1, 0.9485801780940488: 1, 1.0167517476201335: 1, 1.1471392453075642: 1, 1.0692125437908122: 1, 0.9814690283549088: 1, 0.9408969005868943: 1, 1.1670653772873756: 1, 1.1516111730954288: 1, 1.1352739601420554: 1, 0.9691497292274748: 1, 1.2044061061523914: 1, 1.1322905058993011: 1, 1.089192888721913: 1, 1.006360180084775: 1, 0.9605167814208958: 1, 1.0226860873519306: 1, 1.1619051560694236: 1, 1.1670629843300109: 1, 1.151576289473021: 1, 1.1031981375209072: 1, 1.1041196819755987: 1, 1.0167363758503891: 1, 1.0201173308471758: 1, 0.9805405087692176: 1, 0.9409633311059116: 1, 1.0464285309187986: 1, 1.031488765413237: 1, 1.1327470458959954: 1, 1.2213685407268873: 1, 0.960847853821629: 1, 1.221354810329362: 1, 1.1322898025484018: 1, 1.1796188670066443: 1, 0.9814391161192578: 1, 0.9814341307466492: 1, 1.231282619448963: 1, 1.035830102775862: 1, 1.1171938255705125: 1, 1.0836732938372091: 1, 1.0464303102491657: 1, 1.2318003772480537: 1, 0.9693575593851502: 1, 1.1187250408527132: 1, 0.9449365806715544: 1, 1.1752020242830925: 1, 1.2213639639277123: 1, 1.160738853575083: 1, 0.9790033150640088: 1, 1.103095388735823: 1, 1.0836868575581395: 1, 1.1670660609894796: 1, 1.1327336447358176: 1, 1.1471506731979977: 1, 1.1607316735931952: 1, 0.9961071901110742: 1, 0.9928551689301182: 1, 1.1327664031273637: 1, 1.0845700504175737: 1, 1.0530408495927368: 1, 0.9412755493982204: 1, 0.9672718972094742: 1, 0.9789782572575858: 1, 1.2110385925946845: 1, 1.1185695258820914: 1, 1.083648879139535: 1, 1.0841448903935158: 1, 1.219551840502921: 1, 1.1172158360556763: 1, 1.1313333706845001: 1, 1.206904810274373: 1, 1.0057103624584718: 1, 1.1477718326474966: 1, 0.9485819728113459: 1, 1.0314712149377083: 1, 0.9485759904203559: 1, 1.190894018549662: 1, 0.9605091037502004: 1, 1.2213456567310117: 1, 1.1607149149321467: 1, 1.1617476223026693: 1, 0.992898027837782: 1, 1.2213342147330737: 1, 1.2205246432135708: 1, 1.0712567147187535: 1, 0.9904043272338182: 1, 1.2206279776145716: 1, 1.020014802577042: 1, 1.2108673274374309: 1, 1.1031332435513803: 1, 1.0692158858288463: 1, 1.2196200372608546: 1, 1.147693304338985: 1, 1.0543655019710163: 1, 1.131381867466491: 1, 0.9674939573325916: 1, 0.9605119473319396: 1, 1.1035510012803114: 1, 0.9961093909872648: 1, 0.9805607220234276: 1, 1.058880786324474: 1, 1.2235528298092566: 1, 0.9805531420530988: 1, 0.9673957900045252: 1, 0.9487561797702484: 1, 1.1171969699255355: 1, 1.0836515918837208: 1, 0.9413006104663516: 1, 0.9815338381988199: 1, 1.2235607275844884: 1, 1.0841575314142513: 1, 1.1053000409943867: 1, 1.1606777482134265: 1, 1.1477177466090045: 1, 1.0357223947050065: 1, 1.103550562735261: 1, 1.0840816852898385: 1, 1.0112662733133997: 1, 1.0588967767818382: 1, 1.190861891797457: 1, 1.2043744650867632: 1, 0.9607258085400964: 1, 1.1148424645434758: 1, 1.2235631956392483: 1, 1.0024955028170188: 1, 1.1035500693720801: 1, 0.9527920825834002: 1, 1.0891918293403782: 1, 1.1953166692764183: 1, 0.9594605045687364: 1, 1.2068997997485391: 1, 1.161917758770764: 1, 1.1187249791672205: 1, 0.9449387523775921: 1, 1.1052595811226944: 1, 0.9449360377450452: 1, 0.9789939183866: 1, 1.022626153129797: 1, 1.1795496332923587: 1, 1.0588579428139535: 1, 1.1473220915545048: 1, 0.9673080326080306: 1, 0.9790158439672204: 1, 1.1187250716954595: 1, 0.986137746693326: 1, 1.1041041292370262: 1, 1.071253666755642: 1, 1.054367566257876: 1, 1.0024956347969969: 1, 1.1797227175780731: 1, 1.053075308476916: 1, 1.0199578424269675: 1, 1.2289745666605572: 1, 1.1472878078832036: 1, 1.13526862744587: 1, 0.9409015264161988: 1, 1.1516048306186275: 1, 0.9861235381791436: 1, 0.9691411448002224: 1, 1.1607365759004469: 1, 1.2317746066918798: 1, 1.1795582875066444: 1, 1.2195995782334743: 1, 1.1477591065207928: 1, 1.1352579620534995: 1, 1.1035499597358176: 1, 0.9673441680065872: 1, 1.2043715886262516: 1, 1.002495608401001: 1, 0.9961084281039312: 1, 0.948575392181257: 1, 0.9673338436069996: 1, 0.94494038115712: 1, 1.0226077118306791: 1, 1.0357447239867108: 1, 1.0891791167619578: 1, 1.1515953169034254: 1, 1.0692145490136329: 1, 0.9412722079224696: 1, 1.1172598570260055: 1, 0.98050513557435: 1, 1.0315038086779755: 1, 1.0588625115160577: 1, 0.940989793872322: 1, 1.011222345379845: 1, 1.006347026604422: 1, 0.9408737714403712: 1, 1.0167397917992214: 1, 1.2194700043934013: 1, 1.05306841670008: 1, 0.9450967810267521: 1, 1.0599555248870969: 1, 1.035915069352614: 1, 1.0836814320697674: 1, 1.1313252878875015: 1, 1.1515318921354107: 1, 0.9527886301044219: 1, 1.1795150164352157: 1, 0.9691454370138488: 1, 1.0315113303103447: 1, 1.0199863225020047: 1, 0.9805354554556652: 1, 1.2235538170311604: 1, 1.105296669338412: 1, 1.0842207365179288: 1, 1.1035509464621804: 1, 1.2312740884167717: 1, 1.035720364770306: 1, 0.945192971785762: 1, 1.1031819140285255: 1, 0.940978651654886: 1, 1.069212209587009: 1, 0.9672543543800888: 1, 1.1187251950664452: 1, 1.1322862857939051: 1, 1.0543662760785886: 1, 1.1909628615901018: 1, 1.1052528378107458: 1, 1.0112369880243632: 1, 0.9409591527743728: 1, 1.210859881126246: 1, 0.9607648630301868: 1, 0.9805127155446788: 1, 0.9409107780748082: 1, 1.0836651556046513: 1, 0.9413123056314794: 1, 1.220639459214683: 1, 1.132753001967186: 1, 0.9961091158777408: 1, 1.020037586637072: 1, 1.1476598152451598: 1, 1.0692172226440602: 1, 1.1756022855378625: 1, 1.0747050162074527: 1, 1.2290659302153741: 1, 0.9928408826275632: 1, 1.1031710983669376: 1, 1.084094326310574: 1, 0.948569409790267: 1, 1.1755802846293963: 1, 1.1473449473353727: 1, 0.9815188820809944: 1, 1.1471963847597328: 1, 1.1187051052992212: 1, 0.9487746732314124: 1, 1.059955601737486: 1, 1.0024957139849833: 1, 1.22896819550464: 1, 1.118620368163515: 1, 1.1908573022614275: 1, 0.9691525907032258: 1, 1.0841701724349868: 1, 1.1187253801229238: 1, 1.2312797757715659: 1, 1.1618232385107117: 1, 1.195252342162791: 1, 1.1186796841585094: 1, 1.1472420963214682: 1, 1.151588974426624: 1, 1.2312513389975939: 1, 1.0712841463867568: 1, 0.9605153596300264: 1, 1.0167619954666296: 1, 1.0063451475358: 1, 0.9595712113683124: 1, 1.2291660099266812: 1, 0.9487808377184672: 1, 1.1751633586835373: 1, 1.0112125836168326: 1, 0.9407764484055372: 1, 1.0836692247209303: 1, 1.0599559603726365: 1, 1.2235543106421125: 1, 0.9452077703640712: 1, 0.9805581953666512: 1, 0.9607209267288348: 1, 1.074698329157397: 1, 1.1353112890153507: 1, 0.9961085656586932: 1, 1.104130791074579: 1, 1.1752547501006674: 1, 1.220650940814794: 1, 0.9595451627095888: 1, 1.2110534852170545: 1, 1.2030119735513802: 1, 1.0464273446985541: 1, 0.9450671838701336: 1, 1.2235572723078243: 1, 1.071265858608088: 1, 1.1796967549352158: 1, 1.0464300136941045: 1, 0.95278632845177: 1, 1.0836787193255817: 1, 1.0464264550333702: 1, 1.1952774654352158: 1, 0.9450227881352058: 1, 1.1035497404632926: 1, 1.0227091389758276: 1, 1.020026194607057: 1, 1.002495779974972: 1, 1.0063517242759767: 1, 0.9487664539153396: 1, 0.9815039259631688: 1, 1.0112638328726469: 1, 1.118724794110742: 1, 1.1472078126501666: 1, 1.2313025251907437: 1, 1.2313053688681408: 1, 1.0843092236630774: 1, 1.1172095473456296: 1, 1.195372933870432: 1, 0.9527951514536028: 1, 0.9860809126365964: 1, 1.0199977145320198: 1, 1.0841954544764578: 1, 1.2317952231368186: 1, 1.006346087070111: 1, 1.1187252875946845: 1, 1.005655482857143: 1, 1.1053202709302326: 1, 1.161848443913392: 1, 1.0843724287667544: 1, 1.2068956243103446: 1, 0.9902783523475196: 1, 1.2043687121657398: 1, 0.9815238674536028: 1, 1.1476631641545425: 1, 0.9412972689906004: 1, 1.114838523066216: 1, 1.2207198304154616: 1, 1.1953277119800665: 1, 0.9450079895568964: 1, 1.175170388792547: 1, 0.9407509898519382: 1, 1.1031927296901134: 1, 1.084422992849697: 1, 1.0199806264869975: 1, 0.9672770594092679: 1, 1.2289809378164742: 1, 1.2318519183604004: 1, 1.1172472796059116: 1, 0.959519114050865: 1, 1.0845499339678082: 1, 1.2205361248136821: 1, 1.0712597626818652: 1, 0.9673544924061748: 1, 1.1352526293573149: 1, 1.1052359795308742: 1, 1.117275578801123: 1, 1.1795669417209302: 1, 1.105303412650361: 1, 1.1477400173307366: 1, 0.9487623442573032: 1, 1.031508823099555: 1, 0.9673684510241378: 1, 1.0024954632230256: 1, 1.2235533234202087: 1, 1.2290568320598008: 1, 1.0167637034410455: 1, 1.2043773415472747: 1, 1.0226676460528126: 1, 1.2109939147275748: 1, 0.9861661637216907: 1, 1.1148411507177225: 1, 0.9485706062684649: 1, 0.9961106289801218: 1, 1.1052562094667202: 1, 1.1477336542673844: 1, 1.0464270481434923: 1, 1.2069073155372894: 1, 1.2109864684163898: 1, 1.2213250611347228: 1, 1.1470935337458286: 1, 0.9672201253868744: 1, 0.9452003710749164: 1, 1.2194904634207813: 1, 1.2289660717860007: 1, 1.1752582651551724: 1, 1.1618043344587008: 1, 1.0891981856295885: 1, 1.2318261478042272: 1, 1.1607400505072305: 1, 1.2043284417185762: 1, 1.2235582595297283: 1, 1.147264952102336: 1, 1.0747117032575084: 1, 1.0712871943498683: 1, 1.1352899582306106: 1, 1.1757150881555738: 1, 1.0167227120550608: 1, 0.996109941206312: 1, 1.1954433158598439: 1, 0.9527943842360524: 1, 1.083650235511628: 1, 1.1477304727357085: 1, 1.1953980571428569: 1, 1.0588670802181614: 1, 0.99286088345114: 1, 1.1751598436290325: 1, 1.0024955688070076: 1, 1.211046038905869: 1, 0.9409507961112956: 1, 1.0167432077480534: 1, 1.1312687083085118: 1, 1.1795236706495018: 1, 0.9607453357851417: 1, 0.9407255312983388: 1, 1.2194768240691949: 1, 1.1796881007209299: 1, 0.9605102411828962: 1, 0.9814540722370834: 1, 0.9527870956693206: 1, 1.1035498500995549: 1, 0.9407705733547066: 1, 0.9605128004064613: 1, 1.0692168884402564: 1, 0.9814141892562148: 1, 1.1618673479654027: 1, 1.1476564663357771: 1, 1.2110236999723143: 1, 0.9412955982527254: 1, 1.1752477199916571: 1, 1.0063442080014893: 1, 1.0543657600068737: 1, 1.00573094230897: 1, 1.0063611196190858: 1, 1.1752266296646274: 1, 0.9594344559100124: 1, 1.1148332677632031: 1, 1.1187255343366558: 1, 0.992900885098293: 1, 1.0056897826079736: 1, 1.0588899237286822: 1, 0.940739239750277: 1, 1.195485531387653: 1, 1.1953779585249171: 1, 1.1607328689143497: 1, 1.0712628106449766: 1, 1.0024956611929925: 1, 1.160653236677168: 1, 1.0063573614818422: 1, 0.9409605455515522: 1, 1.083661086488372: 1, 1.1756609546271048: 1, 1.2030032566536832: 1, 1.175627953264406: 1, 0.940723572948062: 1, 1.0530598019790354: 1, 1.2030446619177453: 1, 0.9675053669969966: 1, 1.1313414534814985: 1, 1.2289819996757934: 1, 1.0845639280198192: 1, 1.1797140633637877: 1, 1.01997493047199: 1, 1.1908756604055446: 1, 1.22896713364532: 1, 1.0746671229238045: 1, 1.1327574690205784: 1, 1.117231557830794: 1, 1.0599558835222471: 1, 1.2291796571600413: 1, 1.132758958038376: 1, 1.1515572620426169: 1, 0.9858962019522248: 1, 1.1606336274481612: 1, 1.1954011003320355: 1, 0.9607111631063122: 1, 1.0199920185170124: 1, 1.074651519807008: 1, 0.9408783972696758: 1, 1.1751809339560624: 1, 0.9693306804289766: 1, 1.1477686511158207: 1, 1.1607448382358176: 1, 1.179610212792359: 1, 1.0357426940520105: 1, 1.2030206904490777: 1, 1.2289639480673618: 1, 1.0712810984236454: 1, 1.1314061158574866: 1, 1.16074638051495: 1, 0.9858819934380424: 1, 0.9862514148067854: 1, 1.0357325443785084: 1, 1.219524561799748: 1, 1.175616952810173: 1, 0.9693844383413238: 1, 1.1606434320626646: 1, 1.0599555761206896: 1, 1.0357416790846603: 1, 1.0024957007869857: 1, 0.940984222763604: 1, 1.0588442367076414: 1, 0.9903455389535456: 1, 1.1795842501495015: 1, 1.1516206868106311: 1, 0.948571802746663: 1, 1.059956062839822: 1, 0.9485765886594549: 1, 0.9673648168057624: 1, 1.1670571728621262: 1, 0.9861803722358732: 1, 0.9790064472898116: 1, 1.1186118944499446: 1, 1.1172409908958645: 1, 1.1148148742026578: 1, 1.2318313019154614: 1, 1.0200945467871465: 1, 1.0024956215989989: 1, 1.2235587531406804: 1, 1.020077458742124: 1, 0.9407314063491696: 1, 1.1476954758872726: 1, 1.131301039496506: 1, 1.1618358412120515: 1, 1.1751985092285877: 1, 1.2318725348053392: 1, 1.1040974637776375: 1, 0.9805304021421124: 1, 1.2213845595240005: 1, 1.0543680823295911: 1, 0.969241083908398: 1, 1.1352952909267957: 1, 1.2069031400990948: 1, 0.941298939728476: 1, 0.9594735288980984: 1, 1.0746894130906564: 1, 0.9407294479988926: 1, 1.0063545428789094: 1, 0.9673751412053501: 1, 1.1606924551351816: 1, 1.1185779995956615: 1, 1.0056211831063124: 1, 1.1909582720540726: 1, 1.006359240550464: 1, 0.9691511599653504: 1, 0.9861519552075084: 1, 1.0357366042479093: 1, 0.9485789816158512: 1, 1.0891886511957731: 1, 1.2043888473893214: 1, 1.0588533741118495: 1, 1.1617980331080309: 1, 0.9409177168187649: 1, 1.2289798759571544: 1, 0.9814590576096918: 1, 1.022612322155459: 1, 1.16073645971079: 1, 1.031501301467186: 1, 0.9487828925474854: 1, 1.0845621787633175: 1, 0.9860098700656842: 1, 1.1476531174263949: 1, 0.9595321383802268: 1, 0.9693933979933814: 1, 1.2291523626933212: 1, 1.1607412474393772: 1, 1.1322855824430058: 1, 1.2030511995910185: 1, 0.9408992135015464: 1, 0.9594865532274603: 1, 1.084568301161072: 1, 1.1187252567519381: 1, 0.9594279437453318: 1, 1.035925065420467: 1, 1.1670640098831673: 1, 1.1313576190754957: 1, 1.1796534838637875: 1, 1.1952623914717608: 1, 1.13272619964683: 1, 1.0063385707956238: 1, 1.1797054091495016: 1, 1.0226353737793563: 1, 1.1187255960221487: 1, 0.9905051071428572: 1, 1.1187305264399334: 1, 1.1031656905361438: 1, 0.9605150752718524: 1, 0.9487376863090848: 1, 1.15157311823462: 1, 1.1312363771205178: 1, 1.1148464060207357: 1, 0.9904883104913506: 1, 0.9902867506732732: 1, 0.9594214315806506: 1, 0.996110216315836: 1, 1.1041219037953949: 1, 1.1041419001735593: 1, 0.9487397411381028: 1, 1.2318055313592882: 1, 1.1353859467619427: 1, 1.2043859709288098: 1, 1.132748534913793: 1, 1.0200603706971016: 1, 1.1607414782076984: 1, 0.9859956615515016: 1, 1.0227045286510483: 1, 0.992858026190629: 1, 1.1476966532483674: 1, 0.941282232349722: 1, 1.00560746320598: 1, 0.9790252406446288: 1, 1.14770000215775: 1, 0.9594474802393744: 1, 0.9487541249412303: 1, 1.2195041027723679: 1, 1.1354019448504982: 1, 1.1952674161262458: 1, 1.0844356338704322: 1, 1.1752195995556174: 1, 1.0599558066718575: 1, 1.1040907983182495: 1, 1.1327634250917689: 1, 0.9814889698453432: 1, 1.0530735855327071: 1, 1.0200546746820942: 1, 1.0167500396457174: 1, 1.0359350614883205: 1, 0.9527959186711537: 1, 0.9859530360089545: 1, 1.0543644698275862: 1, 0.948770563573376: 1, 1.0530839231979607: 1, 1.1618988547187534: 1, 0.9672667350096804: 1, 0.969312761124861: 1, 1.1670599076705426: 1, 1.0845656772763204: 1, 0.9409702949918092: 1, 1.0200318906220645: 1, 0.944950153834288: 1, 1.1030845730742356: 1, 0.9409549744428342: 1, 1.089184413669633: 1, 1.0543629216124415: 1, 0.9691354218487208: 1, 1.0530787543653342: 1, 0.9450301874243604: 1, 1.0112199049390922: 1, 1.147679908701455: 1, 0.960511378615592: 1, 0.960509956824722: 1, 1.069214883217436: 1, 1.231898305361513: 1, 1.1752125694466071: 1, 0.9805733553073088: 1, 0.996110353870598: 1, 0.948577186898554: 1, 0.9595581870389508: 1, 1.221322772735136: 1, 1.16068755282793: 1, 0.9961089783229788: 1, 1.0024956479949945: 1, 0.9673131948078244: 1, 0.9673798606885428: 1, 1.0588419523565893: 1, 1.2291250682266008: 1, 1.2290613811375874: 1, 0.990496708817104: 1, 0.9412788908739712: 1, 1.0845569309938137: 1, 1.1031602827053502: 1, 1.2290841265265209: 1, 1.1953880078338872: 1, 1.1670592239684388: 1, 1.2312911504811548: 1})\n",
            "Test labels distribution: Counter({1.231779760803115: 1, 1.083676006581395: 1, 1.0056349030066445: 1, 1.1617791290560202: 1, 1.1618547452640624: 1, 1.0712231871245272: 1, 1.2290795774487342: 1, 1.1757460779768587: 1, 1.1477209281406804: 1, 0.9450449860026696: 1, 1.005593743305648: 1, 1.0746715809571747: 1, 0.9813992331383892: 1, 1.08438506978749: 1, 1.0712170911983043: 1, 0.992849454409096: 1, 1.0845551817373122: 1, 1.1670578565642304: 1, 0.9605162127045479: 1, 1.1471163895266965: 1, 1.160667943598923: 1, 1.1953478105980069: 1, 1.1751774189015571: 1, 0.9961100787610742: 1, 1.118725102538206: 1, 1.1052292362189255: 1, 0.9693217207769188: 1, 1.1172284134757704: 1, 1.058885355026578: 1, 1.1032089531824951: 1, 1.175594951901707: 1, 1.1187251642236988: 1, 1.131187880338527: 1, 1.1515984881418262: 1, 0.969122545207842: 1, 1.0588693645692135: 1, 1.0747139322741934: 1, 1.1031765061977317: 1, 1.1477495619257645: 1, 1.1030737574126477: 1, 0.9527940006272768: 1, 1.1052326078749: 1, 1.2195927585576811: 1, 0.967282221609062: 1, 0.940866832696414: 1, 1.0836556609999999: 1, 1.2289713810825984: 1, 1.0357244246397066: 1, 1.2312570263523888: 1, 1.1617917317573605: 1, 1.1040930201380457: 1, 1.06921822525547: 1, 1.00249543682703: 1, 1.2312854631263603: 1, 0.9904547171883378: 1, 1.022672256377592: 1, 1.1322869891448046: 1, 1.0358251047419351: 1, 1.1516016593802267: 1, 1.1953307411190213: 1, 1.046432682689655: 1, 1.1617539236533396: 1, 1.1353699486733877: 1, 1.1171875368604651: 1, 1.1477145650773284: 1, 1.1327604470561736: 1, 1.1476397217888643: 1, 1.016724420029477: 1, 1.1617665263546797: 1, 1.1035499049176865: 1, 1.0543631796482986: 1, 1.1607185057285874: 1, 1.1148240709829305: 1, 0.9674597283393768: 1, 0.9607502175964028: 1, 0.9860382870940491: 1, 1.0024956875889877: 1, 1.0315288807858731: 1, 1.1172504239609349: 1, 1.0464279378086758: 1, 1.0315138375211346: 1, 1.1670568310110745: 1, 0.9961107665348836: 1, 1.0589013454839424: 1, 1.147310663664071: 1, 1.1148293262859432: 1, 1.2213731175260625: 1, 1.2213319263334859: 1, 1.0359550536240263: 1, 0.9673114027021134: 1, 0.9691368525865964: 1, 1.0845586802503149: 1, 1.2030337657956236: 1, 1.1473335194449388: 1, 1.2318931512502782: 1, 1.1607352627786427: 1, 1.2289883708317104: 1, 1.231296837835949: 1, 1.0588556584629016: 1, 1.1327440678604004: 1, 1.0530615249232442: 1, 0.9408922747575896: 1, 1.2043399475606231: 1, 0.9608039175202772: 1, 1.0692198962744872: 1, 0.9607599812189254: 1, 0.944942009936648: 1, 0.9412772201360956: 1, 0.9413139763693548: 1, 1.0712475708294191: 1, 0.978997050612403: 1, 1.1618610466147323: 1, 0.948583767528643: 1, 1.0746626648904338: 1, 0.9674254993461624: 1, 1.0692165542364531: 1, 1.1607173087964406: 1, 1.074707245224138: 1, 1.19090778715775: 1, 1.035880083115128: 1, 1.1052899260264637: 1, 1.195282490089701: 1, 1.1148201295056706: 1, 0.9693485997330924: 1, 1.1471049616362623: 1, 1.1472535242119022: 1, 1.2030272281223506: 1, 1.147666513063925: 1, 1.1172567126709818: 1, 0.9691182529942158: 1, 1.147184956869299: 1, 1.1041085728766182: 1, 1.2030163320002292: 1, 1.1606140182191549: 1, 1.0543611153614392: 1, 1.1955136750728588: 1, 1.074700558174082: 1, 0.9904799121655976: 1, 1.054367050186161: 1, 1.2043543298631811: 1, 1.031498794256396: 1, 1.0599561653070078: 1, 1.0746871840739711: 1, 1.0464249722580643: 1, 0.9487767280604308: 1, 1.2194631847176078: 1, 1.1352792928382405: 1, 0.9487479604541758: 1, 1.0712384269400843: 1, 0.9961104914253598: 1, 1.0692135464022223: 1, 1.0056417629568106: 1, 1.1606483343699163: 1, 1.0599560116062292: 1, 1.2235627020282964: 1, 1.059955652971079: 1, 0.9805506153963226: 1, 0.9408853360136328: 1, 0.9673912703529478: 1, 1.2110311462834995: 1, 0.9672885833733036: 1, 1.0891992450111236: 1, 1.1670605913726468: 1, 0.9605139378391568: 1, 1.0226630357280333: 1, 1.1035512753709678: 1, 1.0891907699588432: 1, 1.0746648939071193: 1, 0.9789406705479512: 1, 1.1756352869005615: 1, 1.1313657018724943: 1, 1.2235617148063924: 1, 1.0112589519911406: 1, 1.0712262350876387: 1, 1.1471278174171298: 1, 1.0167466236968854: 1, 1.1755619505390076: 1, 1.2030315865711994: 1, 0.9407333646994462: 1, 1.1327500239315906: 1, 0.9859814530373192: 1, 1.1670650354363232: 1, 1.031466200516129: 1, 1.175717154143659: 1, 0.9903623356050519: 1, 1.1035503434627365: 1, 1.1953588848042267: 1, 1.2291387154599611: 1, 1.2109120053045404: 1, 1.179757334435216: 1, 1.1516143443338298: 1, 0.9409200297334174: 1, 0.9451559753399891: 1, 1.1172126917006528: 1, 0.9961092534325028: 1, 1.2043341946395996: 1, 1.0891960668665184: 1, 0.9407568649027686: 1, 1.0063583010161532: 1, 1.0057378022591363: 1, 0.9805556687098752: 1, 1.14771339779528: 1, 1.220593532814238: 1, 1.1313091222935043: 1, 1.2206739040150167: 1, 1.117206402990606: 1, 1.1952875147441862: 1, 1.035940059522247: 1, 0.9904127255595716: 1, 1.0314737221484984: 1, 1.0056486229069768: 1, 1.002495489619021: 1, 1.132283472390308: 1, 0.9409814372092452: 1, 1.0056829226578072: 1, 1.2289777522385157: 1, 1.2312399642880056: 1, 1.0359650496918795: 1, 1.17962752122093: 1, 1.2030250488979264: 1, 1.1752055393375973: 1, 0.9674369090105672: 1, 1.0588647958671096: 1, 0.9487849473765037: 1, 1.19097663019819: 1, 1.117263001381029: 1, 1.1052696960906174: 1, 1.1052629527786688: 1, 1.2289703192232786: 1, 1.1041352347141709: 1, 1.2235577659187762: 1, 0.9408714585257191: 1, 1.1472192405406008: 1, 1.2205705696140154: 1, 1.0357376192152594: 1, 1.0226953080014891: 1, 1.2030490203665942: 1, 1.1187247632679955: 1, 1.0543673082220184: 1, 1.0357315294111582: 1, 1.1756426205367168: 1, 1.2291478136155345: 1, 0.9692231646042824: 1, 1.2196404962882346: 1, 0.9815089113357772: 1, 1.1757274840840877: 1, 0.948750015283194: 1, 1.1607292781179086: 1, 1.0845604295068163: 1, 1.0024955292130144: 1, 0.9449463533487228: 1, 0.9805101888879024: 1, 0.9814441014918662: 1, 0.9605156439882002: 1, 1.059955704204672: 1, 1.1322919126010995: 1, 1.1670609332236983: 1, 1.2318673806941045: 1, 1.046427641253615: 1, 0.97895006722536: 1, 0.9451485760508342: 1, 0.9527928498009508: 1, 1.1952925393986713: 1, 1.0599560372230257: 1, 0.9928351681065416: 1, 1.1312121287295225: 1, 1.0588510897607974: 1, 1.2318828430278086: 1, 0.9675281863258064: 1, 0.9928380253670523: 1, 1.2207083488153505: 1, 0.959499577556822: 1, 1.0845516832243096: 1, 1.131349536278497: 1, 1.0588739332713175: 1, 1.0167295439527249: 1, 0.9449496109077786: 1, 1.046432386134594: 1, 1.0167449157224695: 1, 1.1322989461100927: 1, 1.0530770314211249: 1, 1.1757708698338871: 1, 1.1951900226929923: 1, 1.219626856936648: 1, 1.2289735048012371: 1, 0.9789375383221484: 1, 1.175583951447474: 1, 1.1186542630177974: 1, 1.0692202304782903: 1, 1.0842965826423416: 1, 0.9789625961285712: 1, 1.206903975186734: 1, 0.9412905860390991: 1, 1.074653748823693: 1, 1.1952603819060066: 1, 0.9674483186749724: 1, 1.2068981295732617: 1, 0.9860524956082314: 1, 1.069220898885897: 1, 1.1186034207363738: 1, 1.084556056365563: 1, 0.9451115796050612: 1, 1.0357193498029555: 1, 0.9450375867135151: 1, 1.1756389537186391: 1, 1.1670643517342194: 1, 0.9485843657677421: 1, 0.960515928346374: 1, 1.0588488054097454: 1, 1.1757584739053728: 1, 1.0167278359783092: 1, 1.1756462873547946: 1, 0.9595060897215032: 1, 1.1670636680321151: 1, 0.9409828299864246: 1, 0.9594800410627792: 1, 0.9692948418207452: 1, 1.2313082125455377: 1, 1.2313110562229348: 1, 0.9673570413597329: 1, 1.0599561140734148: 1, 1.0692192278668804: 1, 1.231248495320197: 1, 1.1053135276182835: 1, 1.195218166378198: 1, 0.9805202955150076: 1, 0.9961087032134549: 1, 1.0112491902281284: 1, 1.0057446622093025: 1, 1.1477559249891167: 1, 1.0063423289328677: 1, 1.006336691727002: 1, 1.190889429013633: 1, 1.1953448129616242: 1, 1.1606091159119027: 1, 1.206892283959789: 1, 0.967323519207412: 1, 1.1607208995928808: 1, 1.1476363728794825: 1, 0.9452151696532258: 1, 0.9409292813920266: 1, 1.0200831547571314: 1, 1.1755729509932409: 1, 1.1477368357990605: 1, 1.0112028218538205: 1, 1.1311959631355248: 1, 1.167064693585271: 1, 1.228972442941918: 1, 1.2110162536611295: 1, 1.1618295398613816: 1, 1.0843471467252837: 1, 0.9407490315016612: 1, 1.1751879640650724: 1, 1.0063395103299348: 1, 1.2195859388818882: 1, 1.1796707922923588: 1, 1.2068964593979836: 1, 0.969146867751724: 1, 1.175649954172872: 1, 0.9608234447653224: 1, 0.9673493302063808: 1, 1.1515858031882231: 1, 1.0530442954811547: 1, 1.0530546331464083: 1, 1.0712201391614158: 1, 0.9672873838088556: 1, 1.1752371748281425: 1, 1.083654304627907: 1, 1.022713749300607: 1, 0.9673699790055562: 1, 1.1756646214451827: 1, 1.1172221247657237: 1, 0.9789751250317827: 1, 1.0358400988437149: 1, 1.0543621475048688: 1, 1.220501680013348: 1, 1.14764641960763: 1, 1.083657017372093: 1, 1.114821443331424: 1, 1.2108822200598006: 1, 1.0167585795177974: 1, 1.0464261584783092: 1, 1.195393032488372: 1, 1.2312456516428: 1, 1.074676038990545: 1, 0.9487417959671212: 1, 1.1148358954147095: 1, 1.1031440592129682: 1, 0.9691873259960512: 1, 1.0747094742408232: 1, 0.9805379821124414: 1, 1.0112467497873754: 1, 0.9409730805461679: 1, 1.0692195620706841: 1, 0.9527901645395236: 1, 0.9928237390644976: 1, 1.0063413893985569: 1, 1.0891717010912123: 1, 0.9691211144699668: 1, 1.1607304750500558: 1, 1.0543667921503035: 1, 1.2289756285198763: 1, 1.0314937798348165: 1, 1.035735589280559: 1, 1.0530529102021997: 1, 1.2317849149143494: 1, 1.2213273495343109: 1, 0.9672925460086492: 1, 0.9449392953041014: 1, 0.9409061522455034: 1, 1.2109566831716498: 1, 0.996107465220598: 1, 0.9928837415352276: 1, 0.944946896275232: 1, 0.9408760843550232: 1, 1.1187251333809525: 1, 0.9487643990863216: 1, 1.0226814770271508: 1, 1.11482801246019: 1, 1.2207542752157952: 1, 0.9407607816033224: 1, 1.0112516306688817: 1, 1.2030054358781073: 1, 1.0024955556090098: 1, 1.1185186836006673: 1, 1.1515382346122125: 1, 1.2108449885038761: 1, 0.940880710184328: 1, 1.195367909215947: 1, 1.035729499476458: 1, 0.9409856155407836: 1, 1.1187254726511628: 1, 1.1755766178113185: 1, 0.9594930653921412: 1, 1.2110013610387598: 1, 1.1322982427591934: 1, 1.011268713754153: 1, 1.0588602271650058: 1, 1.1322968360573948: 1, 1.114843778369229: 1, 0.9412805616118464: 1, 1.2213410799318365: 1, 1.105225864562951: 1, 1.0891769979988877: 1, 1.0112565115503875: 1, 0.9487356314800665: 1, 0.9814291453740404: 1, 1.089187591814238: 1, 0.9928751697536946: 1, 1.1353646159772024: 1, 1.0599557298214684: 1, 1.2043802180077865: 1, 1.069211541179402: 1, 1.210874773748616: 1, 0.9928294535855196: 1, 1.1312444599175164: 1, 0.9928808842747168: 1, 0.9814939552179516: 1, 1.0226906976767098: 1, 1.1476698619733072: 1, 1.0464329792447162: 1, 1.071296338239203: 1, 1.0746804970239154: 1, 0.9692769225166296: 1, 1.0112443093466223: 1, 0.9859104104664071: 1, 1.1148227571571772: 1, 1.190944503445985: 1, 1.0359050732847608: 1, 1.1041107946964142: 1, 1.0358700870472748: 1, 0.9673456316953282: 1, 1.1751668737380423: 1, 1.1909307348378966: 1, 1.0024954236290322: 1, 0.996108840768217: 1, 1.0845595548785658: 1, 1.1312929566995074: 1, 1.2213387915322491: 1, 1.2030097943269562: 1, 1.005676062707641: 1, 1.2213616755281245: 1, 1.1797313717923583: 1, 1.0315063158887654: 1, 1.0167654114154616: 1, 1.2235552978640163: 1, 0.9674009522043191: 1, 1.147762288052469: 1, 1.1030899809050294: 1, 1.1670602495215947: 1, 0.9608087993315384: 1, 1.1031494670437625: 1, 0.9693038014728032: 1, 0.9409084651601556: 1, 1.0845525578525606: 1, 1.1041152383360064: 1, 0.9805708286505328: 1, 0.9449376665245732: 1, 1.1607244903893217: 1, 1.1477050204823005: 1, 1.117253568315958: 1, 0.9789876539349944: 1, 0.969259003212514: 1, 1.1953377612890366: 1, 0.9409870083179632: 1, 1.1477272912040324: 1, 1.1322841757412074: 1, 1.1327276886646274: 1, 1.1795063622209303: 1, 1.0543647278634436: 1, 1.1187254418084165: 1, 0.9527905481482988: 1, 1.084208095497193: 1, 0.960516497062722: 1, 0.9928637407116508: 1, 1.0464320895795327: 1, 1.2318570724716351: 1, 0.9928780270142056: 1, 1.2196063979092682: 1, 1.0712780504605341: 1, 1.1035502338264738: 1, 1.022644594428915: 1, 1.190981219734219: 1, 0.9527855612342192: 1, 1.220731312015573: 1, 0.9485729992248609: 1, 1.035725439607057: 1, 1.1172032586355825: 1, 1.0843345057045484: 1, 1.0358600909794218: 1, 1.0464297171390435: 1, 0.9928723124931838: 1, 1.1312282943235192: 1, 1.1327396008070076: 1, 1.1670612750747509: 1, 1.0841322493727803: 1, 1.1477527434574408: 1, 0.9407451148011076: 1, 0.9928865987957384: 1, 1.179575595935216: 1, 1.1187256268648946: 1, 1.0836827884418605: 1, 0.9485682133120688: 1, 1.1908848394776037: 1, 1.0024957271829809: 1, 1.1041330128943752: 1, 1.2289766903791957: 1, 0.979028372870432: 1, 0.9692500435604562: 1, 1.1607232934571747: 1, 1.1171906812154886: 1, 1.0024957535789767: 1, 1.1470363942936594: 1, 1.0200489786670868: 1, 1.0167483316713013: 1, 1.231877688916574: 1, 1.2109715757940198: 1, 0.9527916989746248: 1, 1.221370829126475: 1, 1.1041285692547829: 1, 1.1617854304066904: 1, 0.9449398382306108: 1, 1.1187255651794021: 1, 1.1186712104449388: 1, 1.135353950584832: 1, 1.0692188936630769: 1, 0.9672615728098868: 1, 1.2289628862080422: 1, 1.1953870284894326: 1, 1.1353006236229808: 1, 1.1327306667002226: 1, 0.9409772588777066: 1, 1.118713579012792: 1, 1.2235557914749686: 1, 1.1052494661547716: 1, 1.1052663244346437: 1, 0.9527893973219728: 1, 0.9789594639027686: 1, 1.0357234096723564: 1, 1.22356122119544: 1, 0.9691196837320912: 1, 1.1909261453018674: 1, 1.0024957403809789: 1, 1.1172347021858178: 1, 1.1030791652434415: 1, 1.0315338952074526: 1, 0.9487931666925764: 1, 1.1952975640531562: 1, 0.9605147909136784: 1, 0.945170773918298: 1, 0.9805026089175736: 1, 1.1755656173570856: 1, 1.1322947260046972: 1, 1.229170559004468: 1, 1.1953427859435215: 1, 0.960513369122809: 1, 1.1797400260066444: 1, 0.985938827494772: 1, 1.1185271573142381: 1, 1.1312525427145148: 1, 1.131284873902509: 1, 1.0712750024974225: 1, 1.1035501241902113: 1, 1.1472306684310345: 1, 1.2044003532313683: 1, 1.1148188156799177: 1, 1.1148175018541642: 1, 0.992852311669607: 1, 1.1618421425627217: 1, 1.1752301447191325: 1, 0.940764698303876: 1, 1.22898943269103: 1, 1.231313899900332: 1, 1.2235508553654486: 1, 1.0543678242937335: 1, 1.2109343442380955: 1, 1.0891897105773078: 1, 1.1031873218593196: 1, 0.9451189788942158: 1, 1.022593880856341: 1, 1.14767321088269: 1, 0.9673906278047312: 1, 1.0112052622945735: 1, 1.0599557810550608: 1, 1.231234276933211: 1, 1.1954573877024472: 1, 1.131317205090503: 1, 0.9595256262155458: 1, 1.1757212861198305: 1, 0.948582571050445: 1, 1.0024954500250276: 1, 0.9608429720103676: 1, 1.2196473159640278: 1, 1.0359450575561733: 1, 0.9407353230497232: 1, 0.9407627399535992: 1, 1.1473563752258062: 1, 1.2312371206106083: 1, 1.0543618894690114: 1, 1.0063620591533968: 1, 1.2235592467516323: 1, 1.0712323310138618: 1, 0.9691168222563404: 1, 1.1035511657347052: 1, 1.1477750141791727: 1, 0.94878905703454: 1, 1.0588716489202656: 1, 1.16071696667144: 1, 1.0024955424110122: 1, 1.1909536825180431: 1, 1.2195177421239545: 1, 1.1035506175533925: 1, 1.1477431988624125: 1, 1.0746782680072302: 1, 1.0464258619232478: 1, 0.9605142221973308: 1, 1.2195109224481613: 1, 1.1327247106290323: 1, 1.0359100713186875: 1, 1.2291068719154543: 1, 1.0746738099738598: 1, 0.9789688605801772: 1, 1.0359200673865407: 1, 0.9673028704082371: 1, 1.2196541356398214: 1, 1.175725418096002: 1, 1.1052865543704893: 1, 1.0543652439351583: 1, 1.0845648026480696: 1, 1.0112394284651165: 1, 1.058837383654485: 1, 1.0712719545343108: 1, 1.2290750283709473: 1, 0.940961938328732: 1, 1.0226307634545768: 1, 1.206893119047428: 1, 1.0063498452073547: 1, 0.969420276949555: 1, 0.9449430957896668: 1, 1.1757130221674876: 1, 0.9805228221717838: 1, 0.9691382833244716: 1, 1.1607424443715242: 1, 1.1617602250040096: 1, 1.2205820512141268: 1, 1.1353379524962766: 1, 1.1327410898248054: 1, 1.1312767911055104: 1, 1.0891780573804226: 1, 1.0891706417096774: 1, 0.9928323108460304: 1, 1.2068989646609003: 1, 0.9790127117414176: 1, 0.9408876489282851: 1, 1.005724082358804: 1, 1.1796448296495017: 1, 1.2030359450200483: 1, 1.0024955160150166: 1, 0.9407784067558141: 1, 1.1041130165162103: 1, 0.9692858821686876: 1, 1.1035497952814235: 1, 1.2312939941585517: 1, 0.9409744733233476: 1, 0.996107327665836: 1, 1.0357183348356056: 1, 1.1353272871039064: 1, 1.1607022597496848: 1, 1.1187248249534882: 1, 1.1172724344460994: 1, 1.0746827260406009: 1, 0.9605116629737656: 1, 1.2043629592447165: 1, 1.2290977737598807: 1, 1.1187253184374308: 1, 0.9605110942574178: 1, 0.9487787828894488: 1, 1.1606189205264064: 1, 1.1953829831794018: 1, 0.9814839844727348: 1, 0.9527890137131974: 1, 1.005600603255814: 1, 1.2068914488721505: 1, 0.9928208818039868: 1, 0.9449479821282506: 1, 1.1148372092404628: 1, 1.0599556785878754: 1, 1.1187248866389812: 1, 1.204345700481646: 1, 1.0530391266485275: 1, 1.1796621380780727: 1, 1.1607256873214682: 1, 1.0315213591535042: 1, 1.0358850811490543: 1, 1.151541405850613: 1, 1.1619114574200942: 1, 1.0599560884566184: 1, 0.9605122316901132: 1, 0.9961098036515502: 1, 1.053071862588498: 1, 1.0024957931729699: 1, 0.941287244563348: 1, 1.0315238663642938: 1, 1.0845674265328218: 1, 0.9692321242563404: 1, 1.2207772384160178: 1, 0.96051052554107: 1, 1.1607161118642937: 1, 1.1352632947496848: 1, 1.0315163447319244: 1, 1.147082105855395: 1, 0.967471138003782: 1, 1.2291296173043875: 1, 1.1031386513821744: 1, 0.960799035709016: 1, 0.9691311296350946: 1, 1.0692185594592736: 1, 0.981424160001432: 1, 1.1607267712859433: 1, 1.2289841233944323: 1, 0.9449452674957042: 1, 1.0589036298349943: 1, 1.0891971262480535: 1, 1.089185473051168: 1, 1.0357264545744072: 1, 1.1476832576108371: 1, 1.1470706779649609: 1, 1.2195382011513347: 1, 0.94856761507297: 1, 0.98586778492386: 1, 1.1476922943555965: 1, 1.0056280430564786: 1, 1.1953578599069767: 1, 1.1756572878090277: 1, 0.944937123598064: 1, 0.9450523852918242: 1, 1.1040952419578418: 1, 1.2195654798545081: 1, 0.9608380901991064: 1, 1.2312627137071828: 1, 1.2030533788154427: 1, 0.990320343976286: 1, 1.0530666937558713: 1, 0.9607941538977546: 1, 1.1186966315856506: 1, 0.9903791322565588: 1, 1.031478736570078: 1, 1.118645789304227: 1, 1.0746938711240266: 1, 1.0891759386173527: 1, 1.2312684010619772: 1, 0.9813942477657808: 1, 1.132729177682425: 1, 1.1953226873255811: 1, 1.1031548748745559: 1, 1.0464291240289207: 1, 1.132755980002781: 1, 1.0746961001407118: 1, 1.2030424826933213: 1, 1.11855257845495: 1, 1.2068939541350672: 1, 1.0692128779946155: 1, 1.1185949470228032: 1, 1.0464332757997776: 1, 1.1757605398934583: 1, 0.9608185629540612: 1, 1.2194972830965745: 1, 1.0845490593395577: 1, 0.9408830230989804: 1, 1.0063536033445983: 1, 0.9413072934178532: 1, 1.203014152775805: 1, 1.2196132175850611: 1, 1.2029988982048343: 1, 1.1751739038470523: 1, 0.9862229977784206: 1, 1.1148319539374498: 1, 1.1187559475806452: 1, 1.0891748792358174: 1, 1.1756316200824837: 1, 1.1757626058815445: 1, 1.1797486802209298: 1, 1.1187390001535042: 1, 1.0530856461421698: 1, 0.9805683019937564: 1, 0.9961067774467884: 1, 0.9815288528262116: 1, 0.9789531994511628: 1, 1.1148503474979954: 1, 1.0314912726240266: 1, 0.9485807763331479: 1, 0.9691783663439932: 1, 1.1952885255912125: 1, 1.1322827690394088: 1, 1.084119608352045: 1, 1.1795323248637872: 1, 1.0712109952720814: 1, 0.948768508744358: 1, 1.2312428079654028: 1, 1.1035510560984427: 1, 1.2312883068037577: 1, 1.1757543419292016: 1, 1.0836855011860462: 1, 1.1353752813695726: 1, 1.071268906571199: 1, 0.9961081529944076: 1, 1.0836624428604649: 1, 0.9594084072512888: 1, 1.1606287251409095: 1, 1.053047741369573: 1, 1.160747232100111: 1, 0.9409130909894604: 1, 0.9814740137275176: 1, 1.2069123260631232: 1, 0.9858535764096774: 1, 0.9903371406277924: 1, 0.9527913153658496: 1, 1.1148516613237485: 1, 0.9961078778848836: 1, 1.204394600310345: 1, 1.0464282343637374: 1, 0.9961080154396456: 1, 1.0891833542880978: 1, 0.9862087892642378: 1, 1.1476430706982472: 1, 1.2290704792931608: 1, 1.2068897786968722: 1, 0.9594539924040556: 1, 1.1757688038458014: 1, 1.1148253848086835: 1, 0.98052534882856: 1, 0.9409577599971932: 1, 0.9861945807500556: 1, 1.1470592500745271: 1, 1.1187252259091915: 1, 1.1606238228336578: 1, 0.9814989405905604: 1, 1.10355050791713: 1, 1.2213822711244129: 1, 1.0599559347558398: 1, 1.053063247867453: 1, 1.175744011988773: 1, 1.105306784306335: 1, 1.1187253492801772: 1, 0.9409154039041128: 1, 1.0692155516250428: 1, 0.978943802773754: 1, 1.135391279458128: 1, 1.0692205646820943: 1, 0.9407274896486156: 1, 0.9607160449175736: 1, 1.1515445770890136: 1, 1.0200091065620347: 1, 1.0543634376841562: 1, 1.0712506187925308: 1, 1.1172692900910757: 1, 1.2289618243487228: 1, 0.9595646992036316: 1, 1.0543626635765841: 1, 1.0836637992325582: 1, 0.9449436387161758: 1, 1.2213662523272997: 1, 1.0845508085960591: 1, 1.0024955952030037: 1, 0.9672564106100928: 1, 1.1757564079172873: 1, 1.0692175568478632: 1, 1.1327649141095664: 1, 1.17575020995303: 1, 1.1953528352524918: 1, 1.089186532432703: 1, 1.0063564219475312: 1, 1.103550891644049: 1, 1.0200660667121089: 1, 1.0357213797376559: 1, 1.084410351828961: 1, 1.1148398368919692: 1, 1.179601558578073: 1, 1.1172001142805592: 1, 1.2030555580398672: 1, 0.940924655562722: 1, 1.2206968672152392: 1, 0.9691440062759732: 1, 1.2108896663709856: 1, 1.0599558579054504: 1, 1.2069098208002065: 1, 1.1515509195658151: 1, 0.9485735974639599: 1, 1.1606973574424333: 1, 1.0891727604727472: 1, 1.0843597877460192: 1, 1.0357274695417575: 1, 1.1477113835456525: 1, 0.9789813894833888: 1, 1.1052798110585405: 1, 1.1035507820077866: 1, 1.0024954764210234: 1, 1.011224785820598: 1, 1.2213799827248253: 1, 1.0836475227674418: 1, 1.0836800756976743: 1, 1.0112150240575857: 1, 0.9607892720864932: 1, 1.103111612228205: 1, 1.0845613041350668: 1, 1.1352846255344256: 1, 1.190935324373926: 1, 0.9527947678448276: 1, 0.979000182838206: 1, 1.1031170200589988: 1, 1.0845630533915682: 1, 1.1477654695841446: 1, 1.1908664813334862: 1, 1.035730514443808: 1, 0.97897199280598: 1, 1.1053101559623095: 1, 0.9485813745722468: 1, 0.981513896708386: 1, 1.2318364560266963: 1, 1.221352521929774: 1, 1.053082200253752: 1, 0.948787002205522: 1, 1.1607220965250278: 1, 1.135396612154313: 1, 1.2030185112246534: 1, 1.1035504530989988: 1, 1.204342824021135: 1, 1.0842713006008706: 1, 1.083652948255814: 1, 1.0530649708116622: 1, 1.0314812437808676: 1, 1.1618925533680833: 1, 1.1908802499415745: 1, 1.1757336820483446: 1, 1.0063376312613128: 1, 1.2318879971390433: 1, 1.0530460184253636: 1, 1.046430903359288: 1, 0.941270537184594: 1, 1.1052831827145149: 1, 1.1909674511261312: 1, 1.132280658986711: 1, 1.2204557536129033: 1, 1.2195586601787147: 1, 0.9450819824484428: 1, 1.1031007965666169: 1, 1.0599559091390434: 1, 0.9928923133167604: 1, 0.9860951211507786: 1, 1.1670623006279068: 1, 1.0588990611328903: 1, 1.1618736493160726: 1, 0.9607795084639706: 1, 0.9673390058067934: 1, 1.2205590880139046: 1, 1.0543608573255814: 1, 1.1755986187197844: 1, 1.105276439402566: 1, 1.231841610137931: 1, 1.0692132121984188: 1, 1.031486258202447: 1, 1.117244135250888: 1, 1.1515921456650249: 1, 0.9449414670101386: 1, 1.0845578056220642: 1, 1.0112003814130677: 1, 1.0836841448139536: 1, 1.0167551635689656: 1, 1.203029407346775: 1, 1.1327351337536151: 1, 1.1187220527263628: 1, 1.1148477198464886: 1, 1.1322820656885093: 1, 1.0530563560906174: 1, 1.1909490929820141: 1, 1.0201002428021535: 1, 1.0543636957200138: 1, 0.9789563316769656: 1, 1.2109641294828353: 1, 1.0055800234053158: 1, 1.1477082020139764: 1, 1.0112101431760798: 1, 1.1752231146101224: 1, 1.1607460351679646: 1, 0.9409884010951428: 1, 1.2043572063236927: 1, 1.151579460711422: 1, 1.035855092945495: 1, 1.190921555765838: 1, 1.084283941621606: 1, 1.10410190741723: 1, 0.9485724009857618: 1, 1.0464311999143492: 1, 1.160743641303671: 1, 0.960510809899244: 1, 1.151563604519418: 1, 0.9961070525563124: 1, 1.103551110916574: 1, 1.084548184711307: 1, 0.9961096660967884: 1, 1.0599557554382646: 1, 1.1187255034939092: 1, 0.9805480887395462: 1, 1.1322912092502004: 1, 0.969142575538098: 1, 1.2289597006300836: 1, 0.9672315350512792: 1, 0.948570008029366: 1, 0.9407431564508304: 1, 1.0530701396442892: 1, 0.948752070112212: 1, 1.0200034105470273: 1, 0.9673286814072058: 1, 1.2291159700710281: 1, 1.1670581984152824: 1, 0.9407529482022148: 1, 1.14772679343281: 1, 1.0226399841041358: 1, 1.132292615951999: 1, 1.0543649858993012: 1, 0.9691268374214684: 1, 0.9527867120605452: 1, 0.9928694552326728: 1, 1.1515540908042157: 1, 1.2204901984132368: 1, 0.9694292366016128: 1, 1.167061958776855: 1, 0.9607746266527092: 1, 0.9789907861607974: 1, 1.020043282652079: 1, 1.016768827364294: 1, 1.1327425788426029: 1, 1.0358450968776416: 1, 0.990471513839844: 1, 1.0892003043926584: 1, 0.9412855738254728: 1, 1.0314962870456064: 1, 1.1756132859920951: 1, 0.9408899618429374: 1, 1.135321954407721: 1, 0.9961077403301218: 1, 1.0201059388171612: 1, 0.9691962856481092: 1, 1.195246310063404: 1, 1.1476899554296025: 1, 1.1515826319498226: 1, 1.206910655887845: 1, 1.0891801761434927: 1, 0.9487459056251576: 1, 1.0357437090193609: 1, 0.9407470731513844: 1, 1.058894492430786: 1, 1.0063554824132204: 1, 0.9961082905491696: 1, 1.0200888507721388: 1, 1.1909399139099552: 1, 1.131414198654485: 1, 1.231276932094169: 1, 1.1796794465066442: 1, 0.9413106348936041: 1, 0.9527924661921756: 1, 1.1052460944987972: 1, 0.9451781732074528: 1, 1.2318106854705229: 1, 1.1757378140245158: 1, 1.1670657191384275: 1, 1.0055663035049835: 1, 1.221359387128537: 1, 1.103106204397411: 1, 1.0357345743132091: 1, 1.1313737846694922: 1, 1.1187474738670744: 1, 1.0543613733972963: 1, 0.9904295222110782: 1, 1.1323003528118911: 1, 0.9527932334097264: 1, 0.9860667041224138: 1, 0.9527963022799292: 1, 1.17576467186963: 1, 1.0891939481034485: 1, 1.0464314964694106: 1, 1.1757667378577157: 1, 0.9928265963250088: 1, 0.9674026800173526: 1, 0.9412889153012236: 1, 1.2207427936156838: 1, 1.2319086135839818: 1, 1.2204672352130144: 1, 0.9407666566541528: 1, 1.1040885764984534: 1, 1.2030010774292588: 1, 1.1752512350461624: 1, 1.1951618790077867: 1, 1.2068972944856224: 1, 1.0891950074849834: 1, 0.9675167766614016: 1, 1.0201116348321686: 1, 1.1035503982808677: 1, 1.0225984911811206: 1, 1.2196336766124414: 1, 1.2235523361983045: 1, 0.9413089641557284: 1, 1.0746693519404895: 1, 1.0599561909238042: 1, 1.2235518425873524: 1, 1.0588396680055372: 1, 0.9789845217091916: 1, 1.1908710708695154: 1, 0.967265764044494: 1, 1.2109268979269103: 1, 1.0226169324802383: 1, 0.9527955350623782: 1, 0.9672999930377086: 1, 1.2213754059256499: 1, 1.0842586595801351: 1, 1.2235513489764005: 1, 0.9407411981005536: 1, 1.1476330239700996: 1, 1.1035500145539483: 1, 0.94129392751485: 1, 1.2289607624894032: 1, 1.1757233521079162: 1, 1.2030468411421698: 1, 0.9903035473247792: 1, 1.228985185253752: 1, 1.105242722842823: 1, 1.1951759508503894: 1, 1.1756242864463284: 1, 1.19537295664683: 1, 0.941305622679978: 1, 1.1607071620569367: 1, 1.2068947892227058: 1, 1.1607376566429366: 1, 0.9409535816656548: 1, 1.2319189218064517: 1, 1.1752160845011124: 1, 1.2043514534026696: 1, 1.074655977840378: 1, 1.0056966425581395: 1, 1.0841069673313093: 1, 0.9407725317049834: 1, 1.0464288274738598: 1, 0.95941491941597: 1, 0.9409689022146296: 1, 1.0226031015059: 1, 1.0314837509916577: 1, 0.9673183570076184: 1, 1.11868815787208: 1, 1.1796361754352158: 1, 1.11872541096567: 1, 1.046429420583982: 1, 1.0357173198682552: 1, 1.1953126380166113: 1, 1.1953025974338154: 1, 1.0464306068042268: 1, 1.0055731634551497: 1, 0.9691282681593438: 1, 0.940894587672242: 1, 1.2291341663821742: 1, 1.0226768667023716: 1, 0.9928894560562492: 1, 1.2291114209932408: 1, 0.96074045397388: 1, 0.9790095795156146: 1, 1.0200717627271167: 1, 1.1756206196282506: 1, 1.054361631433154: 1, 1.118544104741379: 1, 1.0112174644983387: 1, 1.2030403034688966: 1, 0.9673854656049377: 1, 1.1322848790921067: 1, 1.1041241256151908: 1, 1.0599556273542825: 1, 1.206911490975484: 1, 0.9408645197817621: 1, 1.0357335593458583: 1, 1.058892208079734: 1, 0.9814490868644749: 1, 1.195204094535595: 1, 0.9409563672200136: 1, 1.0314687077269191: 1, 1.035890079182981: 1, 1.059956216540601: 1})\n"
          ]
        }
      ]
    },
    {
      "cell_type": "code",
      "metadata": {
        "colab": {
          "base_uri": "https://localhost:8080/"
        },
        "id": "MFvzt1jaIO4E",
        "outputId": "70c89e16-4b23-4efc-dc94-b8eec931887b"
      },
      "source": [
        "print(x_train.shape)\n",
        "print(x_test.shape)\n",
        "print(y_train.shape)\n",
        "print(y_test.shape)"
      ],
      "execution_count": 224,
      "outputs": [
        {
          "output_type": "stream",
          "name": "stdout",
          "text": [
            "(1223, 3)\n",
            "(1224, 3)\n",
            "(1223,)\n",
            "(1224,)\n"
          ]
        }
      ]
    },
    {
      "cell_type": "markdown",
      "metadata": {
        "id": "wS4aSbVSH0q0"
      },
      "source": [
        "## Train the model"
      ]
    },
    {
      "cell_type": "code",
      "metadata": {
        "colab": {
          "base_uri": "https://localhost:8080/"
        },
        "id": "o4dhcgg3HxNz",
        "outputId": "448a1723-6ed7-4e29-c80a-ac08e77bfbd2"
      },
      "source": [
        "from sklearn.linear_model import LinearRegression\n",
        "ml = LinearRegression()\n",
        "ml.fit(x_train,y_train)"
      ],
      "execution_count": 225,
      "outputs": [
        {
          "output_type": "execute_result",
          "data": {
            "text/plain": [
              "LinearRegression()"
            ]
          },
          "metadata": {},
          "execution_count": 225
        }
      ]
    },
    {
      "cell_type": "markdown",
      "metadata": {
        "id": "Kd_jWhZAIFCJ"
      },
      "source": [
        "## Predict test results"
      ]
    },
    {
      "cell_type": "code",
      "metadata": {
        "colab": {
          "base_uri": "https://localhost:8080/"
        },
        "id": "gC-mZudFIHmx",
        "outputId": "34813cb8-f9e8-4fc4-b59c-4e4b5e831133"
      },
      "source": [
        "y_pred = ml.predict(x_test)\n",
        "print(y_pred)"
      ],
      "execution_count": 226,
      "outputs": [
        {
          "output_type": "stream",
          "name": "stdout",
          "text": [
            "[1.13919708 1.09911133 1.06895051 ... 1.08623671 0.91441928 1.08658852]\n"
          ]
        }
      ]
    },
    {
      "cell_type": "code",
      "metadata": {
        "colab": {
          "base_uri": "https://localhost:8080/"
        },
        "id": "fJ5-0EyMKmkY",
        "outputId": "db49e6d2-5b00-4fdc-a602-b13ca8631aec"
      },
      "source": [
        "coefficents = ml.coef_\n",
        "coefficents"
      ],
      "execution_count": 227,
      "outputs": [
        {
          "output_type": "execute_result",
          "data": {
            "text/plain": [
              "array([-0.05280322,  0.33215835,  0.19180104])"
            ]
          },
          "metadata": {},
          "execution_count": 227
        }
      ]
    },
    {
      "cell_type": "markdown",
      "metadata": {
        "id": "rWCQgFraax2P"
      },
      "source": [
        "y = β0 + β1 · x1 +  β2 · x2 + ... + βn · xn"
      ]
    },
    {
      "cell_type": "markdown",
      "metadata": {
        "id": "-vuoCl-GIkG6"
      },
      "source": [
        "## Evaluate the model"
      ]
    },
    {
      "cell_type": "code",
      "metadata": {
        "colab": {
          "base_uri": "https://localhost:8080/"
        },
        "id": "GyOHpynrInsf",
        "outputId": "4b09939a-a516-4f51-fc1c-750a189c0879"
      },
      "source": [
        "from sklearn.metrics import r2_score\n",
        "r2_score(y_test,y_pred)"
      ],
      "execution_count": 228,
      "outputs": [
        {
          "output_type": "execute_result",
          "data": {
            "text/plain": [
              "0.24392689383414867"
            ]
          },
          "metadata": {},
          "execution_count": 228
        }
      ]
    },
    {
      "cell_type": "markdown",
      "metadata": {
        "id": "4sOkB98RI6w0"
      },
      "source": [
        "## Plot the results"
      ]
    },
    {
      "cell_type": "code",
      "metadata": {
        "colab": {
          "base_uri": "https://localhost:8080/",
          "height": 312
        },
        "id": "NPV51eQyI9Cz",
        "outputId": "47ff43ab-54c9-45e4-c0cb-89416677d7af"
      },
      "source": [
        "plt.scatter(y_test,y_pred)\n",
        "plt.xlabel('Actual')\n",
        "plt.ylabel('Predicted')\n",
        "plt.title('Actual vs Predicted')"
      ],
      "execution_count": 220,
      "outputs": [
        {
          "output_type": "execute_result",
          "data": {
            "text/plain": [
              "Text(0.5, 1.0, 'Actual vs Predicted')"
            ]
          },
          "metadata": {},
          "execution_count": 220
        },
        {
          "output_type": "display_data",
          "data": {
            "image/png": "[encoded data removed]",
            "text/plain": [
              "<Figure size 432x288 with 1 Axes>"
            ]
          },
          "metadata": {
            "needs_background": "light"
          }
        }
      ]
    },
    {
      "cell_type": "code",
      "source": [
        "y_test"
      ],
      "metadata": {
        "id": "bBiiK6y9ZYWN",
        "outputId": "7ba6ac3c-e608-42c9-ab27-745372f65051",
        "colab": {
          "base_uri": "https://localhost:8080/"
        }
      },
      "execution_count": 229,
      "outputs": [
        {
          "output_type": "execute_result",
          "data": {
            "text/plain": [
              "array([1.23177976, 1.08367601, 1.0056349 , ..., 1.03146871, 1.03589008,\n",
              "       1.05995622])"
            ]
          },
          "metadata": {},
          "execution_count": 229
        }
      ]
    },
    {
      "cell_type": "code",
      "source": [
        "y_pred"
      ],
      "metadata": {
        "id": "1OofgXQYZaAY",
        "outputId": "25d5041f-6c77-4cff-dbfb-4b0102f565af",
        "colab": {
          "base_uri": "https://localhost:8080/"
        }
      },
      "execution_count": 230,
      "outputs": [
        {
          "output_type": "execute_result",
          "data": {
            "text/plain": [
              "array([1.13919708, 1.09911133, 1.06895051, ..., 1.08623671, 0.91441928,\n",
              "       1.08658852])"
            ]
          },
          "metadata": {},
          "execution_count": 230
        }
      ]
    },
    {
      "cell_type": "code",
      "metadata": {
        "colab": {
          "base_uri": "https://localhost:8080/"
        },
        "id": "jXHgmqusYq86",
        "outputId": "d25af8c3-cea7-4835-8d44-e4d191a2c851"
      },
      "source": [
        "from sklearn.metrics import mean_squared_error\n",
        "import math\n",
        "print(mean_squared_error(y_test, y_pred))\n",
        "print(math.sqrt(mean_squared_error(y_test, y_pred)))\n"
      ],
      "execution_count": 221,
      "outputs": [
        {
          "output_type": "stream",
          "name": "stdout",
          "text": [
            "0.006335198745377728\n",
            "0.07959396173942926\n"
          ]
        }
      ]
    },
    {
      "cell_type": "code",
      "metadata": {
        "colab": {
          "base_uri": "https://localhost:8080/"
        },
        "id": "0Tv_TBjKZJr4",
        "outputId": "4d6fad07-c588-4777-be58-6cb5a28cef06"
      },
      "source": [
        "#Example on R_Square and Adjusted R Square\n",
        "import statsmodels.api as sm\n",
        "X_addC = sm.add_constant(y_test)\n",
        "result = sm.OLS(y_pred, X_addC).fit()\n",
        "print(result.rsquared, result.rsquared_adj)\n"
      ],
      "execution_count": 222,
      "outputs": [
        {
          "output_type": "stream",
          "name": "stdout",
          "text": [
            "0.26260019226469533 0.261996755433488\n"
          ]
        }
      ]
    }
  ]
}